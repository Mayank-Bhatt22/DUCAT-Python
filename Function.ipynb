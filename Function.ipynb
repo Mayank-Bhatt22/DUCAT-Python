{
 "cells": [
  {
   "cell_type": "markdown",
   "id": "b3e5960d-2d0d-4efd-b0b1-5a87d4462fa2",
   "metadata": {},
   "source": [
    "# Function in Python "
   ]
  },
  {
   "cell_type": "markdown",
   "id": "bdf33e9b-0b30-434e-bc47-7ac3934c301c",
   "metadata": {},
   "source": [
    "# f formating "
   ]
  },
  {
   "cell_type": "code",
   "execution_count": null,
   "id": "61a3d08c-c8f9-4bb7-8747-ddcfa364fe71",
   "metadata": {},
   "outputs": [],
   "source": [
    "# To write something \n",
    "Name= \"Mayank Bhatt\"\n",
    "age= 19\n",
    "print(\"Person name:\",Name,\"and person age:\",age)"
   ]
  },
  {
   "cell_type": "code",
   "execution_count": null,
   "id": "f7009024-fd91-4961-a31c-5482ac587f51",
   "metadata": {},
   "outputs": [],
   "source": [
    "# use of .format() to write something \n",
    "Name= \"Mayank Bhatt\"\n",
    "age= 19\n",
    "print(\"Person name:{0} and person age:{1}\" .format(Name,age))"
   ]
  },
  {
   "cell_type": "code",
   "execution_count": null,
   "id": "a442b923-5756-454a-8cb7-48fe92f5e2f2",
   "metadata": {},
   "outputs": [],
   "source": [
    "# use of f\"\" to write something \n",
    "Name= \"Mayank Bhatt\"\n",
    "age= 19\n",
    "print(f\"Person name:{Name}and person age:{age}\")"
   ]
  },
  {
   "cell_type": "markdown",
   "id": "d056d3f8-dd1c-40df-a9c8-f56c67a12341",
   "metadata": {},
   "source": [
    "# input() Fuction"
   ]
  },
  {
   "cell_type": "markdown",
   "id": "848d4a7d-2b23-4dc5-be48-ce2fa8805b56",
   "metadata": {},
   "source": [
    "*`input is made in string only`*"
   ]
  },
  {
   "cell_type": "code",
   "execution_count": null,
   "id": "12a76273-b92c-4a6f-8d59-5b2b98105999",
   "metadata": {},
   "outputs": [],
   "source": [
    "A = input()\n",
    "print(A)"
   ]
  },
  {
   "cell_type": "code",
   "execution_count": null,
   "id": "3bd8dd29-085c-4ef1-ba19-37ee9cf53e45",
   "metadata": {},
   "outputs": [],
   "source": [
    "A = input(\"Enter the number: \")\n",
    "print(A)"
   ]
  },
  {
   "cell_type": "code",
   "execution_count": null,
   "id": "a2643ac2-39a3-4f00-892b-7b6392ed9206",
   "metadata": {},
   "outputs": [],
   "source": [
    "x = int(input(\"Enter the 1st number: \"))\n",
    "y = int(input(\"Enter the 2nd number: \"))\n",
    "print(x,type(x))\n",
    "print(f\"Addition of {x} and {y} is {x+y}\")"
   ]
  },
  {
   "cell_type": "code",
   "execution_count": null,
   "id": "a500a8c7-b609-4f1e-b558-e7261065c53a",
   "metadata": {},
   "outputs": [],
   "source": [
    "x = input(\"Enter your name: \")\n",
    "y = input(\"Enter your age: \")\n",
    "z = input(\"Enter your Address: \")\n",
    "\n",
    "print(F\"Welcome! Your Name is {x}. You are {y} year old. and you live in {z}\")"
   ]
  },
  {
   "cell_type": "code",
   "execution_count": null,
   "id": "79c1e09e-7e2d-4592-aee6-65f76e343645",
   "metadata": {},
   "outputs": [],
   "source": []
  }
 ],
 "metadata": {
  "kernelspec": {
   "display_name": "Python 3 (ipykernel)",
   "language": "python",
   "name": "python3"
  },
  "language_info": {
   "codemirror_mode": {
    "name": "ipython",
    "version": 3
   },
   "file_extension": ".py",
   "mimetype": "text/x-python",
   "name": "python",
   "nbconvert_exporter": "python",
   "pygments_lexer": "ipython3",
   "version": "3.12.6"
  }
 },
 "nbformat": 4,
 "nbformat_minor": 5
}

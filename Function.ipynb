{
 "cells": [
  {
   "cell_type": "markdown",
   "id": "03fb7d8a-bd7c-4545-9a65-273962c7267c",
   "metadata": {},
   "source": [
    "# Function"
   ]
  },
  {
   "cell_type": "markdown",
   "id": "5e6e1035-3c19-40ee-ad2d-f8ed10329a8a",
   "metadata": {},
   "source": [
    "**Types of Functions in Python**\n",
    "1. **Built-in Functions:** These are functions that are already defined in Python. Examples include print(), len(), type(), etc.\n",
    "\n",
    "2. **User-defined Functions:** These are functions that you create to perform specific tasks.\n",
    "\n",
    "3. **Anonymous Functions (Lambda Functions):** Defined using the lambda keyword, typically for short, simple operations.\n",
    "\n",
    "4. **Recursive Functions:** Functions that call themselves to solve problems incrementally."
   ]
  },
  {
   "cell_type": "markdown",
   "id": "ad45e5fb-7721-4e80-bc65-25192aa1fae1",
   "metadata": {},
   "source": [
    "# Built-in Functions:\n",
    "1. `print()` = Displays (prints) output on the screen.\n",
    "2. `len()` = Returns the number of items in an object (like string, list, or tuple).\n",
    "3. `max()` = Returns the largest value from a group of numbers or elements.\n",
    "4. `min()` = Returns the smallest value from a group of numbers or elements.\n",
    "5. `sum()` = Adds up all the numbers in an iterable (like a list or tuple).\n",
    "6. `input()` = Takes user input from the keyboard as a string.\n",
    "7. `type()` = Shows the data type of a given object or value.\n",
    "8. `id()` = Returns the unique memory address (identity) of an object.\n",
    "9. `int()` = Converts a value to an integer type (whole number).\n",
    "10. `float()` = Converts a value to a floating-point number (decimal).\n",
    "11. `bool()` = Converts a value to either True or False (boolean type).\n",
    "12. `complex()` = Creates a complex number (with real and imaginary parts).\n",
    "13. `str()` = Converts a value into a string (text) form.\n",
    "14. `list()` = Converts an iterable (like a string or tuple) into a list.\n",
    "15. `tuple()` = Converts an iterable into a tuple (an ordered, immutable sequence).\n",
    "16. `set()` = Converts an iterable into a set (unordered collection with unique elements).\n",
    "17. `dict()` = Creates a dictionary (key–value pairs container).\n",
    "18. `bin()` = Converts an integer into its binary representation (as a string).\n",
    "19. `oct()` = Converts an integer into its octal representation (as a string).\n",
    "20. `hex()` = Converts an integer into its hexadecimal representation (as a string).\n",
    "21. `chr()` = Returns the character (string) that corresponds to a given Unicode number.\n",
    "22. `ord()` = Returns the Unicode number (integer) of a given character.\n",
    "23. `round()` = Rounds a number to the nearest integer or to a specified number of decimal places.\n",
    "24. `help()` = Displays the documentation or help information about an object, function, or module.\n",
    "25. `range()` = Generates a sequence of numbers, commonly used for loops.\n",
    "26. `enumerate()` = Adds a counter (index) to an iterable and returns it as pairs.\n",
    "27. `reversed()` = Returns an iterator that gives the elements of a sequence in reverse order.\n",
    "28. `sorted()` = Returns a new sorted list from the elements of any iterable.\n",
    "29. `abs()` = Returns the absolute (positive) value of a number.\n",
    "30. `divmod()` = Returns a tuple containing the quotient and remainder of division.\n",
    "31. `pow()` = Returns the value of a number raised to a power (optionally modulo another number).\n",
    "32. `eval()` = Executes a string as a Python expression and returns the result.\n",
    "33. `zip()` = Combines two or more iterables element-wise into pairs (or tuples).\n",
    "34. `any()` = Returns True if any element in an iterable is true.\n",
    "35. `all()` = Returns True only if all elements in an iterable are true."
   ]
  },
  {
   "cell_type": "code",
   "execution_count": null,
   "id": "440668ac-c8aa-47d8-9501-3c6a43d65a48",
   "metadata": {},
   "outputs": [],
   "source": [
    "# print()\n",
    "print(\"Hello, World!\")"
   ]
  },
  {
   "cell_type": "code",
   "execution_count": null,
   "id": "442231cf-5452-4c14-bb3a-7850843cba39",
   "metadata": {},
   "outputs": [],
   "source": [
    "# len()\n",
    "name = \"Mayank\"\n",
    "print(len(name))   # Output: 6"
   ]
  },
  {
   "cell_type": "code",
   "execution_count": null,
   "id": "0d82c568-e2a2-4086-8e23-cc8aa65d0194",
   "metadata": {},
   "outputs": [],
   "source": [
    "# max()\n",
    "numbers = [3, 8, 1, 5]\n",
    "print(max(numbers))   # Output: 8"
   ]
  },
  {
   "cell_type": "code",
   "execution_count": null,
   "id": "f41310b8-f0e6-4869-b697-39c6edf44482",
   "metadata": {},
   "outputs": [],
   "source": [
    "# min()\n",
    "numbers = [3, 8, 1, 5]\n",
    "print(min(numbers))   # Output: 1"
   ]
  },
  {
   "cell_type": "code",
   "execution_count": null,
   "id": "05adf39a-6be9-49bd-bd50-c2f9a12731a7",
   "metadata": {},
   "outputs": [],
   "source": [
    "# sum()\n",
    "numbers = [3, 8, 1, 5]\n",
    "print(sum(numbers))   # Output: 17"
   ]
  },
  {
   "cell_type": "code",
   "execution_count": null,
   "id": "392cf16b-8ffe-432f-8067-55785da7d704",
   "metadata": {},
   "outputs": [],
   "source": [
    "# input()\n",
    "name = input(\"Enter your name: \")\n",
    "print(\"Hello,\", name)"
   ]
  },
  {
   "cell_type": "code",
   "execution_count": null,
   "id": "e75bb88a-7b4e-4a9a-b647-f73b73d81cbc",
   "metadata": {},
   "outputs": [],
   "source": [
    "# type()\n",
    "x = 10\n",
    "print(type(x))   # Output: <class 'int'>"
   ]
  },
  {
   "cell_type": "code",
   "execution_count": null,
   "id": "52eb7ac8-42eb-4169-9275-156e44df9f35",
   "metadata": {},
   "outputs": [],
   "source": [
    "# id()\n",
    "a = 5\n",
    "print(id(a))"
   ]
  },
  {
   "cell_type": "code",
   "execution_count": null,
   "id": "b72045b0-2d82-4977-be4c-82c2f90e737a",
   "metadata": {},
   "outputs": [],
   "source": [
    "# int()\n",
    "x = int(\"10\")\n",
    "print(x + 5)   # Output: 15"
   ]
  },
  {
   "cell_type": "code",
   "execution_count": null,
   "id": "f2849d9f-612e-4279-a24e-ff84cd90c74f",
   "metadata": {},
   "outputs": [],
   "source": [
    "# float()\n",
    "x = float(\"3.14\")\n",
    "print(x * 2)   # Output: 6.28"
   ]
  },
  {
   "cell_type": "code",
   "execution_count": null,
   "id": "6ad2aa1a-6013-45ca-a506-5eaf2d4a46a0",
   "metadata": {},
   "outputs": [],
   "source": [
    "# bool()\n",
    "print(bool(5))      # True\n",
    "print(bool(0))      # False"
   ]
  },
  {
   "cell_type": "code",
   "execution_count": null,
   "id": "b0124b86-0d9c-4ae1-9e02-d963c4cd21d0",
   "metadata": {},
   "outputs": [],
   "source": [
    "# complex()\n",
    "z = complex(3, 4)\n",
    "print(z)            # (3+4j)"
   ]
  },
  {
   "cell_type": "code",
   "execution_count": null,
   "id": "746b5dbf-2593-458a-a5b1-69c64e9dcfaa",
   "metadata": {},
   "outputs": [],
   "source": [
    "# str()\n",
    "num = 123\n",
    "print(str(num) + \" is a number\")  # \"123 is a number\""
   ]
  },
  {
   "cell_type": "code",
   "execution_count": null,
   "id": "49754992-6a55-4ce2-a69b-2a975b500458",
   "metadata": {},
   "outputs": [],
   "source": [
    "# list()\n",
    "letters = list(\"abc\")\n",
    "print(letters)      # ['a', 'b', 'c']"
   ]
  },
  {
   "cell_type": "code",
   "execution_count": null,
   "id": "dbf1d754-6ef2-4e5c-85d1-49413297805a",
   "metadata": {},
   "outputs": [],
   "source": [
    "# tuple()\n",
    "numbers = tuple([1, 2, 3])\n",
    "print(numbers)      # (1, 2, 3)"
   ]
  },
  {
   "cell_type": "code",
   "execution_count": null,
   "id": "3778b7d8-f63c-4ed3-809a-46b2e880fdec",
   "metadata": {},
   "outputs": [],
   "source": [
    "# set()\n",
    "nums = set([1, 2, 2, 3])\n",
    "print(nums)         # {1, 2, 3}"
   ]
  },
  {
   "cell_type": "code",
   "execution_count": null,
   "id": "fafe791b-111a-435b-aa9f-ce74fdc4264d",
   "metadata": {},
   "outputs": [],
   "source": [
    "# dict()\n",
    "person = dict(name=\"Mayank\", age=20)\n",
    "print(person)       # {'name': 'Mayank', 'age': 20}"
   ]
  },
  {
   "cell_type": "code",
   "execution_count": null,
   "id": "6c330b5d-56b8-42ce-8995-15ae6c3a794a",
   "metadata": {},
   "outputs": [],
   "source": [
    "# bin()\n",
    "print(bin(10))      # '0b1010'"
   ]
  },
  {
   "cell_type": "code",
   "execution_count": null,
   "id": "8d725ae1-67a9-4ef9-96e7-2f8a7b75ef74",
   "metadata": {},
   "outputs": [],
   "source": [
    "# oct()\n",
    "print(oct(10))      # '0o12'"
   ]
  },
  {
   "cell_type": "code",
   "execution_count": null,
   "id": "4de74768-0ed7-49a7-9c9f-74be30897270",
   "metadata": {},
   "outputs": [],
   "source": [
    "# hex()\n",
    "print(hex(255))     # '0xff'"
   ]
  },
  {
   "cell_type": "code",
   "execution_count": null,
   "id": "eb4424a3-79f7-4ce5-9fe8-a6fd15034e04",
   "metadata": {},
   "outputs": [],
   "source": [
    "# char()\n",
    "print(chr(65))     # Output: 'A'"
   ]
  },
  {
   "cell_type": "code",
   "execution_count": null,
   "id": "bc2e8e93-4328-49e0-84f6-dec382c7375b",
   "metadata": {},
   "outputs": [],
   "source": [
    "# ord()\n",
    "print(ord('A'))    # Output: 65"
   ]
  },
  {
   "cell_type": "code",
   "execution_count": null,
   "id": "b34d67bd-7b32-4940-a089-75be3f172e4a",
   "metadata": {},
   "outputs": [],
   "source": [
    "# round()\n",
    "print(round(3.7))      # Output: 4\n",
    "print(round(3.14159, 2))  # Output: 3.14"
   ]
  },
  {
   "cell_type": "code",
   "execution_count": null,
   "id": "8ca4e2ed-b20c-4401-945a-d0a16c83968a",
   "metadata": {},
   "outputs": [],
   "source": [
    "# help()\n",
    "help(print)        # Shows info about the print() function"
   ]
  },
  {
   "cell_type": "code",
   "execution_count": null,
   "id": "14e42786-a7f5-49b6-86ed-f9328a4dada6",
   "metadata": {},
   "outputs": [],
   "source": [
    "# range()\n",
    "for i in range(3):\n",
    "    print(i)       # Output: 0, 1, 2"
   ]
  },
  {
   "cell_type": "code",
   "execution_count": null,
   "id": "e4df6215-0fdf-4349-8ec3-f8df93b9efe3",
   "metadata": {},
   "outputs": [],
   "source": [
    "# enumerate()\n",
    "for i, val in enumerate(['a', 'b', 'c']):\n",
    "    print(i, val)\n",
    "# Output: 0 a, 1 b, 2 c"
   ]
  },
  {
   "cell_type": "code",
   "execution_count": null,
   "id": "0e713690-ec22-4972-925e-e5e510886c14",
   "metadata": {},
   "outputs": [],
   "source": [
    "# reversed()\n",
    "for x in reversed([1, 2, 3]):\n",
    "    print(x)       # Output: 3, 2, 1"
   ]
  },
  {
   "cell_type": "code",
   "execution_count": null,
   "id": "fe3737cc-dd3d-431a-878d-257fb71800d7",
   "metadata": {},
   "outputs": [],
   "source": [
    "# sorted()\n",
    "print(sorted([5, 1, 3]))   # Output: [1, 3, 5]"
   ]
  },
  {
   "cell_type": "code",
   "execution_count": null,
   "id": "b5d0851d-5ff7-4d14-af98-ba17b8ae3eb1",
   "metadata": {},
   "outputs": [],
   "source": [
    "# abs()\n",
    "print(abs(-7))     # Output: 7"
   ]
  },
  {
   "cell_type": "code",
   "execution_count": null,
   "id": "eb68df6e-aadc-4dcb-abaf-49a06b7be7f7",
   "metadata": {},
   "outputs": [],
   "source": [
    "# divmod()\n",
    "print(divmod(10, 3))   # Output: (3, 1)"
   ]
  },
  {
   "cell_type": "code",
   "execution_count": null,
   "id": "753d9ab2-2978-48ba-8a33-74ebda77145a",
   "metadata": {},
   "outputs": [],
   "source": [
    "# pow()\n",
    "print(pow(2, 3))       # 2³ = 8\n",
    "print(pow(2, 3, 5))    # (2³) % 5 = 3"
   ]
  },
  {
   "cell_type": "code",
   "execution_count": null,
   "id": "42731092-4da0-45cb-808c-6eb4572cde65",
   "metadata": {},
   "outputs": [],
   "source": [
    "# eval()\n",
    "x = 5\n",
    "print(eval(\"x + 10\"))  # Output: 15"
   ]
  },
  {
   "cell_type": "code",
   "execution_count": null,
   "id": "c2e25432-d4e2-48cd-a820-2f49714f06c4",
   "metadata": {},
   "outputs": [],
   "source": [
    "# zip()\n",
    "names = ['A', 'B', 'C']\n",
    "scores = [85, 90, 88]\n",
    "print(list(zip(names, scores)))  # [('A', 85), ('B', 90), ('C', 88)]"
   ]
  },
  {
   "cell_type": "code",
   "execution_count": null,
   "id": "b30d671f-8ca9-4473-8a69-e413ad910501",
   "metadata": {},
   "outputs": [],
   "source": [
    "# any()\n",
    "print(any([0, False, 3]))   # True (because 3 is True)"
   ]
  },
  {
   "cell_type": "code",
   "execution_count": null,
   "id": "2dddd728-85e8-401f-85d8-eb35aa2e43cb",
   "metadata": {},
   "outputs": [],
   "source": [
    "# all()\n",
    "print(all([1, True, 5]))    # True\n",
    "print(all([1, 0, 3]))       # False (because 0 is False)"
   ]
  },
  {
   "cell_type": "markdown",
   "id": "e4d6ef99-079b-41e3-b8f2-04293879aa2e",
   "metadata": {},
   "source": [
    "# Syntex:\n",
    "\n",
    "1. **Def function_name(parameters):** \"\"\"docstring\"\"\" statement(s) # code/logic of a function(body) return values # Function output\n",
    "- def: This keyword is used to start the function definition.\n",
    "- function_name: This is the name of the function.\n",
    "- parameters: These are the inputs to the function (optional).\n",
    "- docstring: This is a string that describes the function (optional).\n",
    "- statement(s): These are the statements that make up the function.\n",
    "\n",
    "2. **Return Statement**\n",
    "- The return statement exits the function and sends a value back to the caller.\n",
    "- You can return any data type (number, string, list, etc.).\n",
    "- A function can have multiple return statements but only one is executed per call."
   ]
  }
 ],
 "metadata": {
  "kernelspec": {
   "display_name": "Python 3 (ipykernel)",
   "language": "python",
   "name": "python3"
  },
  "language_info": {
   "codemirror_mode": {
    "name": "ipython",
    "version": 3
   },
   "file_extension": ".py",
   "mimetype": "text/x-python",
   "name": "python",
   "nbconvert_exporter": "python",
   "pygments_lexer": "ipython3",
   "version": "3.12.6"
  }
 },
 "nbformat": 4,
 "nbformat_minor": 5
}

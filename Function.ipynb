{
 "cells": [
  {
   "cell_type": "markdown",
   "id": "b3e5960d-2d0d-4efd-b0b1-5a87d4462fa2",
   "metadata": {},
   "source": [
    "# Function in Python "
   ]
  },
  {
   "cell_type": "markdown",
   "id": "bdf33e9b-0b30-434e-bc47-7ac3934c301c",
   "metadata": {},
   "source": [
    "# f formating "
   ]
  },
  {
   "cell_type": "code",
   "execution_count": null,
   "id": "61a3d08c-c8f9-4bb7-8747-ddcfa364fe71",
   "metadata": {},
   "outputs": [],
   "source": [
    "# To write something \n",
    "Name= \"Mayank Bhatt\"\n",
    "age= 19\n",
    "print(\"Person name:\",Name,\"and person age:\",age)"
   ]
  },
  {
   "cell_type": "code",
   "execution_count": null,
   "id": "f7009024-fd91-4961-a31c-5482ac587f51",
   "metadata": {},
   "outputs": [],
   "source": [
    "# use of .format() to write something \n",
    "Name= \"Mayank Bhatt\"\n",
    "age= 19\n",
    "print(\"Person name:{0} and person age:{1}\" .format(Name,age))"
   ]
  },
  {
   "cell_type": "code",
   "execution_count": null,
   "id": "a442b923-5756-454a-8cb7-48fe92f5e2f2",
   "metadata": {},
   "outputs": [],
   "source": [
    "# use of f\"\" to write something \n",
    "Name= \"Mayank Bhatt\"\n",
    "age= 19\n",
    "print(f\"Person name:{Name}and person age:{age}\")"
   ]
  },
  {
   "cell_type": "markdown",
   "id": "d056d3f8-dd1c-40df-a9c8-f56c67a12341",
   "metadata": {},
   "source": [
    "# input() Fuction"
   ]
  },
  {
   "cell_type": "markdown",
   "id": "848d4a7d-2b23-4dc5-be48-ce2fa8805b56",
   "metadata": {},
   "source": [
    "*`input is made in string only`*"
   ]
  },
  {
   "cell_type": "code",
   "execution_count": null,
   "id": "12a76273-b92c-4a6f-8d59-5b2b98105999",
   "metadata": {},
   "outputs": [],
   "source": [
    "A = input()\n",
    "print(A)"
   ]
  },
  {
   "cell_type": "code",
   "execution_count": null,
   "id": "3bd8dd29-085c-4ef1-ba19-37ee9cf53e45",
   "metadata": {},
   "outputs": [],
   "source": [
    "A = input(\"Enter the number: \")\n",
    "print(A)"
   ]
  },
  {
   "cell_type": "code",
   "execution_count": null,
   "id": "a2643ac2-39a3-4f00-892b-7b6392ed9206",
   "metadata": {},
   "outputs": [],
   "source": [
    "x = int(input(\"Enter the 1st number: \"))\n",
    "y = int(input(\"Enter the 2nd number: \"))\n",
    "print(x,type(x))\n",
    "print(f\"Addition of {x} and {y} is {x+y}\")"
   ]
  },
  {
   "cell_type": "code",
   "execution_count": null,
   "id": "a500a8c7-b609-4f1e-b558-e7261065c53a",
   "metadata": {},
   "outputs": [],
   "source": [
    "x = input(\"Enter your name: \")\n",
    "y = input(\"Enter your age: \")\n",
    "z = input(\"Enter your Address: \")\n",
    "\n",
    "print(F\"Welcome! Your Name is {x}. You are {y} year old. and you live in {z}\")"
   ]
  },
  {
   "cell_type": "markdown",
   "id": "4d326db6-9d76-4e53-8b25-8b7e81ef3b86",
   "metadata": {},
   "source": [
    "# if True/False"
   ]
  },
  {
   "cell_type": "code",
   "execution_count": 1,
   "id": "79c1e09e-7e2d-4592-aee6-65f76e343645",
   "metadata": {},
   "outputs": [
    {
     "name": "stdout",
     "output_type": "stream",
     "text": [
      "Hello\n"
     ]
    }
   ],
   "source": [
    "if True:\n",
    "    print(\"Hello\")"
   ]
  },
  {
   "cell_type": "code",
   "execution_count": 2,
   "id": "2363a6d5-1412-485a-847f-578de2b4c725",
   "metadata": {},
   "outputs": [],
   "source": [
    "if False:\n",
    "    print(\"Hello\")"
   ]
  },
  {
   "cell_type": "markdown",
   "id": "93d18faa-8acf-44b1-bbc9-d818465ce604",
   "metadata": {},
   "source": [
    "# if, else"
   ]
  },
  {
   "cell_type": "code",
   "execution_count": 3,
   "id": "d45e2e47-6634-4a3d-9b4b-c5a6024fd9f1",
   "metadata": {},
   "outputs": [
    {
     "name": "stdout",
     "output_type": "stream",
     "text": [
      "by\n"
     ]
    }
   ],
   "source": [
    "if False:\n",
    "    print(\"Hello\")\n",
    "else:\n",
    "    print(\"by\")"
   ]
  },
  {
   "cell_type": "markdown",
   "id": "94a1b66f-0085-4884-aa6c-d450a5366a36",
   "metadata": {},
   "source": [
    "# Input and if, else "
   ]
  },
  {
   "cell_type": "code",
   "execution_count": 4,
   "id": "f1b4774e-017e-4183-894b-4be438afdbea",
   "metadata": {},
   "outputs": [
    {
     "name": "stdin",
     "output_type": "stream",
     "text": [
      "Enter any no: 1\n"
     ]
    },
    {
     "name": "stdout",
     "output_type": "stream",
     "text": [
      "Positive Number\n"
     ]
    }
   ],
   "source": [
    "no = int(input(\"Enter any no:\"))\n",
    "\n",
    "if no>0:\n",
    "    print(\"Positive Number\")\n",
    "else:\n",
    "    print(\"Negative Number\")"
   ]
  },
  {
   "cell_type": "markdown",
   "id": "7e13fab1-d96b-41d6-a68e-0bf8d5293b46",
   "metadata": {},
   "source": [
    "# Input and if, elif, else"
   ]
  },
  {
   "cell_type": "code",
   "execution_count": null,
   "id": "f3fba9ac-e034-450f-8c5c-f169533064df",
   "metadata": {},
   "outputs": [],
   "source": [
    "no=int(input(\"Enter any no\"))\n",
    "\n",
    "if no>0:\n",
    "    print(\"Positive\")\n",
    "elif no==0:\n",
    "    print(\"Zero\")\n",
    "else:\n",
    "    print(\"negative\")"
   ]
  },
  {
   "cell_type": "markdown",
   "id": "c336d6ea-271a-41d6-8e6b-a5bfd5320227",
   "metadata": {},
   "source": [
    "# Nested if"
   ]
  },
  {
   "cell_type": "code",
   "execution_count": null,
   "id": "f70840a5-6aae-4193-95f6-474dfcf9777b",
   "metadata": {},
   "outputs": [],
   "source": [
    "# 21. marksheet\n",
    "marks=int(input(\"Enter the marks:\"))\n",
    "if 0<=marks<=100:\n",
    "    if 80<=marks<=100:\n",
    "        print(\"A Grade\")\n",
    "    elif 60<=marks<=79:\n",
    "        print(\"B Grade\")\n",
    "    elif 45<=marks<=59:\n",
    "        print(\"C Grade\")\n",
    "    elif 35<=marks<=45:\n",
    "        print(\"D Grade\")\n",
    "    else:\n",
    "        print(\"Fail\")\n",
    "else:\n",
    "    print(\"Invalid marks\")"
   ]
  },
  {
   "cell_type": "markdown",
   "id": "d1671bbf-46ff-4a92-ad67-9361fe926789",
   "metadata": {},
   "source": [
    "# Slicing \n",
    "[Start=0: end=n-1:step1]"
   ]
  },
  {
   "cell_type": "code",
   "execution_count": 4,
   "id": "9cb9882c-0b1a-485b-9194-8be7d6f902ac",
   "metadata": {},
   "outputs": [
    {
     "data": {
      "text/plain": [
       "'hello'"
      ]
     },
     "execution_count": 4,
     "metadata": {},
     "output_type": "execute_result"
    }
   ],
   "source": [
    "s=\"hello everyone\"\n",
    "s[0:5]"
   ]
  },
  {
   "cell_type": "code",
   "execution_count": 5,
   "id": "4f46a401-495d-43ac-a19e-45f47cb2e938",
   "metadata": {},
   "outputs": [
    {
     "data": {
      "text/plain": [
       "'every'"
      ]
     },
     "execution_count": 5,
     "metadata": {},
     "output_type": "execute_result"
    }
   ],
   "source": [
    "s[6:11]"
   ]
  },
  {
   "cell_type": "code",
   "execution_count": 6,
   "id": "aabd6302-1a26-45e5-8ca1-f0edf1304ddc",
   "metadata": {},
   "outputs": [
    {
     "data": {
      "text/plain": [
       "'hello ev'"
      ]
     },
     "execution_count": 6,
     "metadata": {},
     "output_type": "execute_result"
    }
   ],
   "source": [
    "s[:8]"
   ]
  },
  {
   "cell_type": "code",
   "execution_count": 7,
   "id": "330d6843-7f28-4a62-9481-a00cee0a908e",
   "metadata": {},
   "outputs": [
    {
     "data": {
      "text/plain": [
       "'hloeey'"
      ]
     },
     "execution_count": 7,
     "metadata": {},
     "output_type": "execute_result"
    }
   ],
   "source": [
    "s[:12:2]"
   ]
  },
  {
   "cell_type": "code",
   "execution_count": 8,
   "id": "7b7241e4-62f8-405a-9e77-71c65c5b8c0d",
   "metadata": {},
   "outputs": [
    {
     "data": {
      "text/plain": [
       "'hello everyone'"
      ]
     },
     "execution_count": 8,
     "metadata": {},
     "output_type": "execute_result"
    }
   ],
   "source": [
    "s"
   ]
  },
  {
   "cell_type": "code",
   "execution_count": 10,
   "id": "2348d7b8-6df8-4429-aeb4-d10dfebd4697",
   "metadata": {},
   "outputs": [],
   "source": [
    "text = \"This is a python class\""
   ]
  },
  {
   "cell_type": "code",
   "execution_count": 11,
   "id": "c960aa0c-b5e0-426b-ba0b-ea2f8925da70",
   "metadata": {},
   "outputs": [
    {
     "data": {
      "text/plain": [
       "'is'"
      ]
     },
     "execution_count": 11,
     "metadata": {},
     "output_type": "execute_result"
    }
   ],
   "source": [
    "text[5:7]"
   ]
  },
  {
   "cell_type": "code",
   "execution_count": 12,
   "id": "3a8fd317-da50-4f70-8872-145532595701",
   "metadata": {},
   "outputs": [
    {
     "data": {
      "text/plain": [
       "'Ti sapto ls'"
      ]
     },
     "execution_count": 12,
     "metadata": {},
     "output_type": "execute_result"
    }
   ],
   "source": [
    "text[::2]"
   ]
  },
  {
   "cell_type": "code",
   "execution_count": 13,
   "id": "4d9e4a16-ade4-41b7-a073-65d4cf89c2f8",
   "metadata": {},
   "outputs": [
    {
     "data": {
      "text/plain": [
       "'ssalc nohtyp a si sih'"
      ]
     },
     "execution_count": 13,
     "metadata": {},
     "output_type": "execute_result"
    }
   ],
   "source": [
    "text[21:0:-1]"
   ]
  },
  {
   "cell_type": "code",
   "execution_count": 14,
   "id": "e47acaf5-582f-4f09-a020-cdbf20871519",
   "metadata": {},
   "outputs": [
    {
     "data": {
      "text/plain": [
       "'ssalc nohtyp a si sihT'"
      ]
     },
     "execution_count": 14,
     "metadata": {},
     "output_type": "execute_result"
    }
   ],
   "source": [
    "text[::-1]"
   ]
  },
  {
   "cell_type": "code",
   "execution_count": 15,
   "id": "ec0a0f18-2a75-4509-a954-8b1de9fe93f7",
   "metadata": {},
   "outputs": [
    {
     "data": {
      "text/plain": [
       "'knayaM'"
      ]
     },
     "execution_count": 15,
     "metadata": {},
     "output_type": "execute_result"
    }
   ],
   "source": [
    "name=\"Mayank\"\n",
    "name[::-1]"
   ]
  },
  {
   "cell_type": "markdown",
   "id": "4f48ab19-005e-4ab5-8afb-8df821ffe1a0",
   "metadata": {},
   "source": [
    "# Split & Join"
   ]
  },
  {
   "cell_type": "code",
   "execution_count": 16,
   "id": "4dc85883-749f-4abe-94d7-21bd7fb79bd0",
   "metadata": {},
   "outputs": [],
   "source": [
    "s1=\"hello python\""
   ]
  },
  {
   "cell_type": "code",
   "execution_count": 17,
   "id": "59d3ff6e-43d7-4824-a469-629da8049403",
   "metadata": {},
   "outputs": [
    {
     "data": {
      "text/plain": [
       "['hello', 'python']"
      ]
     },
     "execution_count": 17,
     "metadata": {},
     "output_type": "execute_result"
    }
   ],
   "source": [
    "s1.split()"
   ]
  },
  {
   "cell_type": "code",
   "execution_count": 18,
   "id": "bec7682a-d431-4372-a5ab-49226f5e4f79",
   "metadata": {},
   "outputs": [
    {
     "data": {
      "text/plain": [
       "['hell', ' pyth', 'n']"
      ]
     },
     "execution_count": 18,
     "metadata": {},
     "output_type": "execute_result"
    }
   ],
   "source": [
    "s1.split(sep=\"o\")"
   ]
  },
  {
   "cell_type": "code",
   "execution_count": 19,
   "id": "f3ab2d9e-7701-4cb5-97f5-9ede7e24525e",
   "metadata": {},
   "outputs": [
    {
     "name": "stdout",
     "output_type": "stream",
     "text": [
      "['Maynk', 'Bhatt', 'Dexant', 'Bhatt', 'Satyam', 'Bhatt', 'Rohit', 'Bhatt', 'Amit', 'Bhatt', 'Aryan', 'Bhatt']\n"
     ]
    }
   ],
   "source": [
    "name=\"Maynk,Bhatt,Dexant,Bhatt,Satyam,Bhatt,Rohit,Bhatt,Amit,Bhatt,Aryan,Bhatt\"\n",
    "N=name.split(\",\")\n",
    "print(N)"
   ]
  },
  {
   "cell_type": "code",
   "execution_count": 20,
   "id": "31572a3a-f3b1-4de8-87be-1da615167a2a",
   "metadata": {},
   "outputs": [
    {
     "data": {
      "text/plain": [
       "['Bhattmayankk99711', 'gmail.com']"
      ]
     },
     "execution_count": 20,
     "metadata": {},
     "output_type": "execute_result"
    }
   ],
   "source": [
    "email=\"Bhattmayankk99711@gmail.com\"\n",
    "email.split(\"@\")"
   ]
  },
  {
   "cell_type": "code",
   "execution_count": 21,
   "id": "17707c2a-ee6a-40d6-8b81-73910a0facb7",
   "metadata": {},
   "outputs": [
    {
     "data": {
      "text/plain": [
       "['m', 'a', 'y', 'a', 'n', 'k']"
      ]
     },
     "execution_count": 21,
     "metadata": {},
     "output_type": "execute_result"
    }
   ],
   "source": [
    "m=\"mayank\"\n",
    "list(m)"
   ]
  },
  {
   "cell_type": "code",
   "execution_count": 22,
   "id": "59337409-4778-49c7-a5f5-55d1e336417c",
   "metadata": {},
   "outputs": [
    {
     "name": "stdout",
     "output_type": "stream",
     "text": [
      "['m', 'a', 'y', 'a', 'n', 'k']\n"
     ]
    }
   ],
   "source": [
    "m=\"mayank\"\n",
    "l1=list(m)\n",
    "print(l1)"
   ]
  },
  {
   "cell_type": "code",
   "execution_count": 23,
   "id": "0b6f0aff-6fcb-4064-8333-5077f958413e",
   "metadata": {},
   "outputs": [
    {
     "data": {
      "text/plain": [
       "'mayank'"
      ]
     },
     "execution_count": 23,
     "metadata": {},
     "output_type": "execute_result"
    }
   ],
   "source": [
    "\"\".join(l1)"
   ]
  },
  {
   "cell_type": "code",
   "execution_count": 24,
   "id": "f66b47ab-4df0-4f22-936e-9598a239d0cd",
   "metadata": {},
   "outputs": [
    {
     "data": {
      "text/plain": [
       "'Maynk,Bhatt,Dexant,Bhatt,Satyam,Bhatt,Rohit,Bhatt,Amit,Bhatt,Aryan,Bhatt'"
      ]
     },
     "execution_count": 24,
     "metadata": {},
     "output_type": "execute_result"
    }
   ],
   "source": [
    "l2=[\"Maynk,Bhatt,Dexant,Bhatt,Satyam,Bhatt,Rohit,Bhatt,Amit,Bhatt,Aryan,Bhatt\"]\n",
    "\",\".join(l2)"
   ]
  },
  {
   "cell_type": "markdown",
   "id": "098ac840-b213-442a-bdde-cfda837422f4",
   "metadata": {},
   "source": [
    "# Looping"
   ]
  },
  {
   "cell_type": "code",
   "execution_count": 1,
   "id": "ca826463-4af6-4994-b95d-bf200633c711",
   "metadata": {},
   "outputs": [
    {
     "name": "stdout",
     "output_type": "stream",
     "text": [
      "H\n",
      "e\n",
      "l\n",
      "l\n",
      "o\n",
      ",\n",
      " \n",
      "W\n",
      "o\n",
      "r\n",
      "l\n",
      "d\n"
     ]
    }
   ],
   "source": [
    "name=\"Hello, World\"\n",
    "for i in name:\n",
    "    print(i)"
   ]
  },
  {
   "cell_type": "code",
   "execution_count": 2,
   "id": "2c0e14aa-51e1-42af-b7c6-e4a686ba9f9c",
   "metadata": {},
   "outputs": [
    {
     "name": "stdout",
     "output_type": "stream",
     "text": [
      "Hello:World\n",
      "Mayank:Bhatt\n"
     ]
    }
   ],
   "source": [
    "# Dictionary\n",
    "name={\"Hello\":\"World\",\"Mayank\":\"Bhatt\"}\n",
    "for i in name:\n",
    "    print(i,name[i],sep=\":\")"
   ]
  },
  {
   "cell_type": "code",
   "execution_count": 3,
   "id": "cd15ea6f-cd07-455e-b99c-e9ec7632080d",
   "metadata": {},
   "outputs": [
    {
     "name": "stdout",
     "output_type": "stream",
     "text": [
      "Hello\n",
      "Mayank\n"
     ]
    }
   ],
   "source": [
    "for key,value in name.items():\n",
    "    print(key)"
   ]
  },
  {
   "cell_type": "code",
   "execution_count": 4,
   "id": "8e39478b-4b7e-4906-b987-381cf84aa26c",
   "metadata": {},
   "outputs": [
    {
     "name": "stdout",
     "output_type": "stream",
     "text": [
      "Hello World\n",
      "Mayank Bhatt\n"
     ]
    }
   ],
   "source": [
    "for key,value in name.items():\n",
    "    print(key,value)"
   ]
  },
  {
   "cell_type": "code",
   "execution_count": 5,
   "id": "1d6fb550-9416-4d2e-8643-9d82f1beed22",
   "metadata": {},
   "outputs": [
    {
     "name": "stdout",
     "output_type": "stream",
     "text": [
      "1. mayank\n",
      "2. Bhatt\n"
     ]
    }
   ],
   "source": [
    "a=[\"mayank\",\"Bhatt\"]\n",
    "counter=1\n",
    "for a in a:\n",
    "    print(counter,a,sep=\". \")\n",
    "    counter+=1"
   ]
  },
  {
   "cell_type": "code",
   "execution_count": 6,
   "id": "b6fbfceb-7349-4f1d-a118-7ee3f5a7f4b9",
   "metadata": {},
   "outputs": [
    {
     "name": "stdout",
     "output_type": "stream",
     "text": [
      "1. mayank\n",
      "2. Bhatt\n"
     ]
    }
   ],
   "source": [
    "a=[\"mayank\",\"Bhatt\"]\n",
    "\n",
    "for index, a in enumerate(a,start=1):\n",
    "    print(index,a,sep=\". \")"
   ]
  }
 ],
 "metadata": {
  "kernelspec": {
   "display_name": "Python 3 (ipykernel)",
   "language": "python",
   "name": "python3"
  },
  "language_info": {
   "codemirror_mode": {
    "name": "ipython",
    "version": 3
   },
   "file_extension": ".py",
   "mimetype": "text/x-python",
   "name": "python",
   "nbconvert_exporter": "python",
   "pygments_lexer": "ipython3",
   "version": "3.12.6"
  }
 },
 "nbformat": 4,
 "nbformat_minor": 5
}

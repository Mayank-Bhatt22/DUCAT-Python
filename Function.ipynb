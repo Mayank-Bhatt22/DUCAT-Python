{
 "cells": [
  {
   "cell_type": "markdown",
   "id": "03fb7d8a-bd7c-4545-9a65-273962c7267c",
   "metadata": {},
   "source": [
    "# Function"
   ]
  },
  {
   "cell_type": "markdown",
   "id": "5e6e1035-3c19-40ee-ad2d-f8ed10329a8a",
   "metadata": {},
   "source": [
    "**Types of Functions in Python**\n",
    "1. **Built-in Functions:** These are functions that are already defined in Python. Examples include print(), len(), type(), etc.\n",
    "\n",
    "2. **User-defined Functions:** These are functions that you create to perform specific tasks.\n",
    "\n",
    "3. **Anonymous Functions (Lambda Functions):** Defined using the lambda keyword, typically for short, simple operations.\n",
    "\n",
    "4. **Recursive Functions:** Functions that call themselves to solve problems incrementally."
   ]
  },
  {
   "cell_type": "markdown",
   "id": "ad45e5fb-7721-4e80-bc65-25192aa1fae1",
   "metadata": {},
   "source": [
    "# Built-in Functions:\n",
    "1. `print()` = Displays (prints) output on the screen.\n",
    "2. `len()` = Returns the number of items in an object (like string, list, or tuple).\n",
    "3. `max()` = Returns the largest value from a group of numbers or elements.\n",
    "4. `min()` = Returns the smallest value from a group of numbers or elements.\n",
    "5. `sum()` = Adds up all the numbers in an iterable (like a list or tuple).\n",
    "6. `input()` = Takes user input from the keyboard as a string.\n",
    "7. `type()` = Shows the data type of a given object or value.\n",
    "8. `id()` = Returns the unique memory address (identity) of an object.\n",
    "9. `int()` = Converts a value to an integer type (whole number).\n",
    "10. `float()` = Converts a value to a floating-point number (decimal).\n",
    "11. `bool()` = Converts a value to either True or False (boolean type).\n",
    "12. `complex()` = Creates a complex number (with real and imaginary parts).\n",
    "13. `str()` = Converts a value into a string (text) form.\n",
    "14. `list()` = Converts an iterable (like a string or tuple) into a list.\n",
    "15. `tuple()` = Converts an iterable into a tuple (an ordered, immutable sequence).\n",
    "16. `set()` = Converts an iterable into a set (unordered collection with unique elements).\n",
    "17. `dict()` = Creates a dictionary (key–value pairs container).\n",
    "18. `bin()` = Converts an integer into its binary representation (as a string).\n",
    "19. `oct()` = Converts an integer into its octal representation (as a string).\n",
    "20. `hex()` = Converts an integer into its hexadecimal representation (as a string).\n",
    "21. `chr()` = Returns the character (string) that corresponds to a given Unicode number.\n",
    "22. `ord()` = Returns the Unicode number (integer) of a given character.\n",
    "23. `round()` = Rounds a number to the nearest integer or to a specified number of decimal places.\n",
    "24. `help()` = Displays the documentation or help information about an object, function, or module.\n",
    "25. `range()` = Generates a sequence of numbers, commonly used for loops.\n",
    "26. `enumerate()` = Adds a counter (index) to an iterable and returns it as pairs.\n",
    "27. `reversed()` = Returns an iterator that gives the elements of a sequence in reverse order.\n",
    "28. `sorted()` = Returns a new sorted list from the elements of any iterable.\n",
    "29. `abs()` = Returns the absolute (positive) value of a number.\n",
    "30. `divmod()` = Returns a tuple containing the quotient and remainder of division.\n",
    "31. `pow()` = Returns the value of a number raised to a power (optionally modulo another number).\n",
    "32. `eval()` = Executes a string as a Python expression and returns the result.\n",
    "33. `zip()` = Combines two or more iterables element-wise into pairs (or tuples).\n",
    "34. `any()` = Returns True if any element in an iterable is true.\n",
    "35. `all()` = Returns True only if all elements in an iterable are true."
   ]
  },
  {
   "cell_type": "markdown",
   "id": "e4d6ef99-079b-41e3-b8f2-04293879aa2e",
   "metadata": {},
   "source": [
    "# Syntex:\n",
    "\n",
    "1. **Def function_name(parameters):** \"\"\"docstring\"\"\" statement(s) # code/logic of a function(body) return values # Function output\n",
    "- def: This keyword is used to start the function definition.\n",
    "- function_name: This is the name of the function.\n",
    "- parameters: These are the inputs to the function (optional).\n",
    "- docstring: This is a string that describes the function (optional).\n",
    "- statement(s): These are the statements that make up the function.\n",
    "\n",
    "2. **Return Statement**\n",
    "- The return statement exits the function and sends a value back to the caller.\n",
    "- You can return any data type (number, string, list, etc.).\n",
    "- A function can have multiple return statements but only one is executed per call."
   ]
  }
 ],
 "metadata": {
  "kernelspec": {
   "display_name": "Python 3 (ipykernel)",
   "language": "python",
   "name": "python3"
  },
  "language_info": {
   "codemirror_mode": {
    "name": "ipython",
    "version": 3
   },
   "file_extension": ".py",
   "mimetype": "text/x-python",
   "name": "python",
   "nbconvert_exporter": "python",
   "pygments_lexer": "ipython3",
   "version": "3.12.6"
  }
 },
 "nbformat": 4,
 "nbformat_minor": 5
}

{
 "cells": [
  {
   "cell_type": "markdown",
   "id": "b3e5960d-2d0d-4efd-b0b1-5a87d4462fa2",
   "metadata": {},
   "source": [
    "# Function in Python "
   ]
  },
  {
   "cell_type": "markdown",
   "id": "bdf33e9b-0b30-434e-bc47-7ac3934c301c",
   "metadata": {},
   "source": [
    "# f formating "
   ]
  },
  {
   "cell_type": "code",
   "execution_count": null,
   "id": "61a3d08c-c8f9-4bb7-8747-ddcfa364fe71",
   "metadata": {},
   "outputs": [],
   "source": [
    "# To write something \n",
    "Name= \"Mayank Bhatt\"\n",
    "age= 19\n",
    "print(\"Person name:\",Name,\"and person age:\",age)"
   ]
  },
  {
   "cell_type": "code",
   "execution_count": null,
   "id": "f7009024-fd91-4961-a31c-5482ac587f51",
   "metadata": {},
   "outputs": [],
   "source": [
    "# use of .format() to write something \n",
    "Name= \"Mayank Bhatt\"\n",
    "age= 19\n",
    "print(\"Person name:{0} and person age:{1}\" .format(Name,age))"
   ]
  },
  {
   "cell_type": "code",
   "execution_count": null,
   "id": "a442b923-5756-454a-8cb7-48fe92f5e2f2",
   "metadata": {},
   "outputs": [],
   "source": [
    "# use of f\"\" to write something \n",
    "Name= \"Mayank Bhatt\"\n",
    "age= 19\n",
    "print(f\"Person name:{Name}and person age:{age}\")"
   ]
  },
  {
   "cell_type": "markdown",
   "id": "d056d3f8-dd1c-40df-a9c8-f56c67a12341",
   "metadata": {},
   "source": [
    "# input() Fuction"
   ]
  },
  {
   "cell_type": "markdown",
   "id": "848d4a7d-2b23-4dc5-be48-ce2fa8805b56",
   "metadata": {},
   "source": [
    "*`input is made in string only`*"
   ]
  },
  {
   "cell_type": "code",
   "execution_count": null,
   "id": "12a76273-b92c-4a6f-8d59-5b2b98105999",
   "metadata": {},
   "outputs": [],
   "source": [
    "A = input()\n",
    "print(A)"
   ]
  },
  {
   "cell_type": "code",
   "execution_count": null,
   "id": "3bd8dd29-085c-4ef1-ba19-37ee9cf53e45",
   "metadata": {},
   "outputs": [],
   "source": [
    "A = input(\"Enter the number: \")\n",
    "print(A)"
   ]
  },
  {
   "cell_type": "code",
   "execution_count": null,
   "id": "a2643ac2-39a3-4f00-892b-7b6392ed9206",
   "metadata": {},
   "outputs": [],
   "source": [
    "x = int(input(\"Enter the 1st number: \"))\n",
    "y = int(input(\"Enter the 2nd number: \"))\n",
    "print(x,type(x))\n",
    "print(f\"Addition of {x} and {y} is {x+y}\")"
   ]
  },
  {
   "cell_type": "code",
   "execution_count": null,
   "id": "a500a8c7-b609-4f1e-b558-e7261065c53a",
   "metadata": {},
   "outputs": [],
   "source": [
    "x = input(\"Enter your name: \")\n",
    "y = input(\"Enter your age: \")\n",
    "z = input(\"Enter your Address: \")\n",
    "\n",
    "print(F\"Welcome! Your Name is {x}. You are {y} year old. and you live in {z}\")"
   ]
  },
  {
   "cell_type": "markdown",
   "id": "4d326db6-9d76-4e53-8b25-8b7e81ef3b86",
   "metadata": {},
   "source": [
    "# if True/False"
   ]
  },
  {
   "cell_type": "code",
   "execution_count": 1,
   "id": "79c1e09e-7e2d-4592-aee6-65f76e343645",
   "metadata": {},
   "outputs": [
    {
     "name": "stdout",
     "output_type": "stream",
     "text": [
      "Hello\n"
     ]
    }
   ],
   "source": [
    "if True:\n",
    "    print(\"Hello\")"
   ]
  },
  {
   "cell_type": "code",
   "execution_count": 2,
   "id": "2363a6d5-1412-485a-847f-578de2b4c725",
   "metadata": {},
   "outputs": [],
   "source": [
    "if False:\n",
    "    print(\"Hello\")"
   ]
  },
  {
   "cell_type": "markdown",
   "id": "93d18faa-8acf-44b1-bbc9-d818465ce604",
   "metadata": {},
   "source": [
    "# if, else"
   ]
  },
  {
   "cell_type": "code",
   "execution_count": 3,
   "id": "d45e2e47-6634-4a3d-9b4b-c5a6024fd9f1",
   "metadata": {},
   "outputs": [
    {
     "name": "stdout",
     "output_type": "stream",
     "text": [
      "by\n"
     ]
    }
   ],
   "source": [
    "if False:\n",
    "    print(\"Hello\")\n",
    "else:\n",
    "    print(\"by\")"
   ]
  },
  {
   "cell_type": "markdown",
   "id": "94a1b66f-0085-4884-aa6c-d450a5366a36",
   "metadata": {},
   "source": [
    "# Input and if, else "
   ]
  },
  {
   "cell_type": "code",
   "execution_count": 4,
   "id": "f1b4774e-017e-4183-894b-4be438afdbea",
   "metadata": {},
   "outputs": [
    {
     "name": "stdin",
     "output_type": "stream",
     "text": [
      "Enter any no: 1\n"
     ]
    },
    {
     "name": "stdout",
     "output_type": "stream",
     "text": [
      "Positive Number\n"
     ]
    }
   ],
   "source": [
    "no = int(input(\"Enter any no:\"))\n",
    "\n",
    "if no>0:\n",
    "    print(\"Positive Number\")\n",
    "else:\n",
    "    print(\"Negative Number\")"
   ]
  },
  {
   "cell_type": "markdown",
   "id": "7e13fab1-d96b-41d6-a68e-0bf8d5293b46",
   "metadata": {},
   "source": [
    "# Input and if, elif, else"
   ]
  },
  {
   "cell_type": "code",
   "execution_count": null,
   "id": "f3fba9ac-e034-450f-8c5c-f169533064df",
   "metadata": {},
   "outputs": [],
   "source": [
    "no=int(input(\"Enter any no\"))\n",
    "\n",
    "if no>0:\n",
    "    print(\"Positive\")\n",
    "elif no==0:\n",
    "    print(\"Zero\")\n",
    "else:\n",
    "    print(\"negative\")"
   ]
  },
  {
   "cell_type": "code",
   "execution_count": null,
   "id": "57a18b59-7b39-4e71-8e6a-d57876cbd602",
   "metadata": {},
   "outputs": [],
   "source": []
  }
 ],
 "metadata": {
  "kernelspec": {
   "display_name": "Python 3 (ipykernel)",
   "language": "python",
   "name": "python3"
  },
  "language_info": {
   "codemirror_mode": {
    "name": "ipython",
    "version": 3
   },
   "file_extension": ".py",
   "mimetype": "text/x-python",
   "name": "python",
   "nbconvert_exporter": "python",
   "pygments_lexer": "ipython3",
   "version": "3.12.6"
  }
 },
 "nbformat": 4,
 "nbformat_minor": 5
}

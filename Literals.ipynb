{
 "cells": [
  {
   "cell_type": "markdown",
   "id": "13ff7ff6-2b9a-45f5-ae9d-f451efee26fa",
   "metadata": {},
   "source": [
    "# Literals"
   ]
  },
  {
   "cell_type": "code",
   "execution_count": 1,
   "id": "78ca2dfb-6d36-4e3f-a9cb-8af28060e21f",
   "metadata": {},
   "outputs": [],
   "source": [
    "A =10 #Integer literals\n",
    "S =20 #String literals"
   ]
  },
  {
   "cell_type": "markdown",
   "id": "06a77a57-b4b9-45c3-bccb-d8ac9483f44b",
   "metadata": {},
   "source": [
    "****Number System****\n",
    "1. **Binary number System**  (0,1)     base-2\n",
    "2. **Octal number system** (0,1,2,3,4,5,6,7)    base-8\n",
    "3. **Decimal number System** (0,1,2,3,4,5,6,7,8,9)    base-10\n",
    "4. **Hexdecimal number System** (0,1,2,3,4,5,6,7,8,9,A,B,C,D,E,F)    base-16"
   ]
  },
  {
   "cell_type": "code",
   "execution_count": 2,
   "id": "661cb657-b6d8-4b18-ac34-ac16cf884c2b",
   "metadata": {},
   "outputs": [],
   "source": [
    "Number={0,1,2,3,4,5,6,7,8,9}"
   ]
  },
  {
   "cell_type": "code",
   "execution_count": 3,
   "id": "9e0c933e-2eea-4b26-bc5b-f206abffbbd5",
   "metadata": {},
   "outputs": [
    {
     "data": {
      "text/plain": [
       "'0b100100'"
      ]
     },
     "execution_count": 3,
     "metadata": {},
     "output_type": "execute_result"
    }
   ],
   "source": [
    "# DECIMAL TO BINARY\n",
    "N=36\n",
    "bin(N)"
   ]
  },
  {
   "cell_type": "code",
   "execution_count": 4,
   "id": "45acba52-d5fd-48f4-8a32-c12089b6c96f",
   "metadata": {},
   "outputs": [
    {
     "data": {
      "text/plain": [
       "21"
      ]
     },
     "execution_count": 4,
     "metadata": {},
     "output_type": "execute_result"
    }
   ],
   "source": [
    "# Binary to decimal\n",
    "n='10101'  \n",
    "int(n,2)"
   ]
  },
  {
   "cell_type": "code",
   "execution_count": 5,
   "id": "a6738c24-e6ab-49d4-8a8f-841ba2e01df3",
   "metadata": {},
   "outputs": [
    {
     "data": {
      "text/plain": [
       "27"
      ]
     },
     "execution_count": 5,
     "metadata": {},
     "output_type": "execute_result"
    }
   ],
   "source": [
    "n ='11011'\n",
    "int(n,2)"
   ]
  },
  {
   "cell_type": "code",
   "execution_count": 6,
   "id": "bb851b29-6fbb-4f4e-85b7-d76b21f4b16e",
   "metadata": {},
   "outputs": [
    {
     "data": {
      "text/plain": [
       "'0o712127'"
      ]
     },
     "execution_count": 6,
     "metadata": {},
     "output_type": "execute_result"
    }
   ],
   "source": [
    "# decimal to octal\n",
    "n= 234583\n",
    "oct(n)"
   ]
  },
  {
   "cell_type": "code",
   "execution_count": 7,
   "id": "690c4754-5f27-413e-8d0a-f3b8a611fc2d",
   "metadata": {},
   "outputs": [
    {
     "data": {
      "text/plain": [
       "23483"
      ]
     },
     "execution_count": 7,
     "metadata": {},
     "output_type": "execute_result"
    }
   ],
   "source": [
    "# octual to binary\n",
    "v= '55673'\n",
    "int(v,8)"
   ]
  },
  {
   "cell_type": "code",
   "execution_count": 8,
   "id": "32ca14af-e7e3-43f1-b049-41260089e895",
   "metadata": {},
   "outputs": [
    {
     "data": {
      "text/plain": [
       "342242"
      ]
     },
     "execution_count": 8,
     "metadata": {},
     "output_type": "execute_result"
    }
   ],
   "source": [
    "0o1234342"
   ]
  },
  {
   "cell_type": "code",
   "execution_count": 9,
   "id": "e3f5a6ba-f261-4c29-af13-861946566bd2",
   "metadata": {},
   "outputs": [
    {
     "data": {
      "text/plain": [
       "'0x3957f'"
      ]
     },
     "execution_count": 9,
     "metadata": {},
     "output_type": "execute_result"
    }
   ],
   "source": [
    "# decimal to hexadecimal\n",
    "n= 234879\n",
    "hex(n)"
   ]
  },
  {
   "cell_type": "code",
   "execution_count": 10,
   "id": "2d35d784-3efc-4318-811e-d5c23315ca7e",
   "metadata": {},
   "outputs": [
    {
     "data": {
      "text/plain": [
       "43981"
      ]
     },
     "execution_count": 10,
     "metadata": {},
     "output_type": "execute_result"
    }
   ],
   "source": [
    "# hexadecimal to decimal\n",
    "x='abcd'\n",
    "int(x,16)"
   ]
  },
  {
   "cell_type": "code",
   "execution_count": 11,
   "id": "e4ebed3a-2b42-4aea-adc9-283dfacb5873",
   "metadata": {},
   "outputs": [
    {
     "data": {
      "text/plain": [
       "1193135"
      ]
     },
     "execution_count": 11,
     "metadata": {},
     "output_type": "execute_result"
    }
   ],
   "source": [
    "0x1234af"
   ]
  },
  {
   "cell_type": "code",
   "execution_count": 12,
   "id": "640adb3b-c689-4996-97ca-a90298ac5877",
   "metadata": {},
   "outputs": [
    {
     "name": "stdout",
     "output_type": "stream",
     "text": [
      "0xd68\n"
     ]
    }
   ],
   "source": [
    "pin=hex(3432)\n",
    "print(pin)"
   ]
  }
 ],
 "metadata": {
  "kernelspec": {
   "display_name": "Python 3 (ipykernel)",
   "language": "python",
   "name": "python3"
  },
  "language_info": {
   "codemirror_mode": {
    "name": "ipython",
    "version": 3
   },
   "file_extension": ".py",
   "mimetype": "text/x-python",
   "name": "python",
   "nbconvert_exporter": "python",
   "pygments_lexer": "ipython3",
   "version": "3.12.6"
  }
 },
 "nbformat": 4,
 "nbformat_minor": 5
}

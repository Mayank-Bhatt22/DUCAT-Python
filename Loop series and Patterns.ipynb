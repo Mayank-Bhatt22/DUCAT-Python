{
 "cells": [
  {
   "cell_type": "markdown",
   "id": "3c21b3f4-d3a4-4b3e-b765-fdfc4555ce21",
   "metadata": {},
   "source": [
    "# Loop series and Patterns"
   ]
  },
  {
   "cell_type": "code",
   "execution_count": 1,
   "id": "4918f40f-f0b2-4f19-add2-736eef9ada6d",
   "metadata": {},
   "outputs": [
    {
     "name": "stdout",
     "output_type": "stream",
     "text": [
      "1, 3, 6, 10, 15, 21, 28, 36, 45, 55, "
     ]
    }
   ],
   "source": [
    "# sum od series of natural no.\n",
    "sum = 0 \n",
    "for i in range(1,11):\n",
    "    sum+=i\n",
    "    print(sum,end=\", \")"
   ]
  },
  {
   "cell_type": "code",
   "execution_count": 2,
   "id": "6a1379b7-b653-4887-abbd-81793aa2ab29",
   "metadata": {},
   "outputs": [
    {
     "name": "stdout",
     "output_type": "stream",
     "text": [
      "1, 2, 6, 24, 120, 720, 5040, 40320, 362880, "
     ]
    }
   ],
   "source": [
    "# factorial series\n",
    "f=1\n",
    "for i in range(1,10):\n",
    "    f*=i\n",
    "    print(f,end=\", \")"
   ]
  },
  {
   "cell_type": "code",
   "execution_count": 3,
   "id": "f53b13ee-8223-4926-b26a-495145fea86f",
   "metadata": {},
   "outputs": [
    {
     "name": "stdout",
     "output_type": "stream",
     "text": [
      "0, 1, 1, 2, 3, 5, 8, 13, 21, 34, "
     ]
    }
   ],
   "source": [
    "# 21. Print the Fibonacci sequence up to the 10th term using a for loop.\n",
    "# Fibonacci series:0,1,1,2,3,5,8,13,21,34,55,89\n",
    "# Way no 1\n",
    "a,b=0,1\n",
    "for i in range (10):\n",
    "    print(a,end=\", \")\n",
    "    a,b=b,a+b"
   ]
  },
  {
   "cell_type": "code",
   "execution_count": 9,
   "id": "416004e4-24f7-4165-91a4-acfb989322ce",
   "metadata": {},
   "outputs": [
    {
     "name": "stdout",
     "output_type": "stream",
     "text": [
      "1 4 9 16 25 36 49 64 81 100 "
     ]
    }
   ],
   "source": [
    "# print sq of first 10 number \n",
    "for i in range (1,11):\n",
    "    print(i**2,end=\" \")"
   ]
  },
  {
   "cell_type": "code",
   "execution_count": 11,
   "id": "3bed91e2-1f31-4398-ab19-2594bfcc249d",
   "metadata": {},
   "outputs": [
    {
     "name": "stdout",
     "output_type": "stream",
     "text": [
      "5 10 15 20 25 30 35 40 45 50 "
     ]
    }
   ],
   "source": [
    "# print all values which are miltples of 5 up to 50\n",
    "for i in range (5,51,5):\n",
    "    print(i,end=\" \")"
   ]
  },
  {
   "cell_type": "code",
   "execution_count": 12,
   "id": "a390279b-094f-4252-8cb6-d5615455ce61",
   "metadata": {},
   "outputs": [
    {
     "name": "stdout",
     "output_type": "stream",
     "text": [
      "1, -2, 3, -4, 5, -6, 7, -8, 9, -10, "
     ]
    }
   ],
   "source": [
    "# print alternating series (1,-2,3,-4,5,-6)\n",
    "n=10\n",
    "for i in range (1,n+1):\n",
    "    if i%2==0:\n",
    "        print(-i,end=\", \")\n",
    "    else:\n",
    "        print(i,end=\", \")"
   ]
  },
  {
   "cell_type": "code",
   "execution_count": 15,
   "id": "b10641ec-64d8-4cfe-bc27-e3a4ce8ae200",
   "metadata": {},
   "outputs": [
    {
     "name": "stdout",
     "output_type": "stream",
     "text": [
      "1.0 0.5 0.33 0.25 0.2 0.17 0.14 0.12 0.11 0.1 "
     ]
    }
   ],
   "source": [
    "# print harmonic series (1,1/2,1/3...)\n",
    "n=10\n",
    "for i in range (1,n+1):\n",
    "   print(round(1/i,2),end=\" \")"
   ]
  },
  {
   "cell_type": "code",
   "execution_count": 17,
   "id": "e0e8e9b0-280a-4b6f-8fcc-5d177c221a2a",
   "metadata": {},
   "outputs": [
    {
     "name": "stdout",
     "output_type": "stream",
     "text": [
      "1 11 111 1111 11111 "
     ]
    }
   ],
   "source": [
    "# print the series (1,11,111,1111,11111.....)\n",
    "n=0\n",
    "for i in range(1,6):\n",
    "    n = n*10+ 1\n",
    "    print(n,end=\" \")"
   ]
  },
  {
   "cell_type": "code",
   "execution_count": 18,
   "id": "b3c435d9-32d2-40a0-b12c-b721c4170531",
   "metadata": {},
   "outputs": [
    {
     "name": "stdout",
     "output_type": "stream",
     "text": [
      "0\n",
      "3\n",
      "8\n",
      "15\n",
      "24\n",
      "35\n",
      "48\n",
      "63\n",
      "80\n",
      "99\n"
     ]
    }
   ],
   "source": [
    "# print the series (0,3,8,15,24,35,...)\n",
    "# (n**2-1)\n",
    "for i in range(1,11):\n",
    "    print(i**2-1)\n",
    "    "
   ]
  },
  {
   "cell_type": "code",
   "execution_count": 20,
   "id": "de566441-642d-4559-a58d-2bb2cc61afe4",
   "metadata": {},
   "outputs": [
    {
     "name": "stdout",
     "output_type": "stream",
     "text": [
      "3,9,27,81,243,729,2187,6561,19683,59049,"
     ]
    }
   ],
   "source": [
    "# print the series of powerd of 3 up to 10 term\n",
    "for i in range (1,11):\n",
    "    a=3**i\n",
    "    print(a,end=\",\")"
   ]
  },
  {
   "cell_type": "code",
   "execution_count": 22,
   "id": "7b862e19-3eaf-4ff6-97ce-564bb9de3710",
   "metadata": {},
   "outputs": [],
   "source": [
    "# print prime no\n",
    "# 2,3,5,7,11,13,17,19,23,29,...\n",
    "n = 7\n",
    "for i in range (2,n):\n",
    "    if n%i==0:\n",
    "        print(\"Not prime\")\n",
    "        break\n",
    "else:\n",
    "    (\"prime\")"
   ]
  }
 ],
 "metadata": {
  "kernelspec": {
   "display_name": "Python 3 (ipykernel)",
   "language": "python",
   "name": "python3"
  },
  "language_info": {
   "codemirror_mode": {
    "name": "ipython",
    "version": 3
   },
   "file_extension": ".py",
   "mimetype": "text/x-python",
   "name": "python",
   "nbconvert_exporter": "python",
   "pygments_lexer": "ipython3",
   "version": "3.12.6"
  }
 },
 "nbformat": 4,
 "nbformat_minor": 5
}

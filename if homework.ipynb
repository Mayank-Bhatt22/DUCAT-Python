{
 "cells": [
  {
   "cell_type": "code",
   "execution_count": null,
   "id": "9e2e743d-bb85-4346-8f5e-6094384eb6c3",
   "metadata": {},
   "outputs": [],
   "source": [
    "# 1. Check if a number is Positive\n",
    "\n",
    "num = int(input(\"Enter a number: \"))\n",
    "\n",
    "if num > 0:\n",
    "    print(\"The number is Positive.\")\n",
    "else:\n",
    "    print(\"The number is not Positive.\")\n"
   ]
  },
  {
   "cell_type": "code",
   "execution_count": null,
   "id": "38b07f78-0dd0-464b-9990-a03585a12477",
   "metadata": {},
   "outputs": [],
   "source": [
    "# 2. Check if a number is Negative\n",
    "\n",
    "num = int(input(\"Enter a number: \"))\n",
    "\n",
    "if num < 0:\n",
    "    print(\"The number is Negative.\")\n",
    "else:\n",
    "    print(\"The number is not Negative.\")\n"
   ]
  },
  {
   "cell_type": "code",
   "execution_count": null,
   "id": "5c4a5b39-e540-4d82-b0e1-be025e7ec984",
   "metadata": {},
   "outputs": [],
   "source": [
    "# 3. Check if a number is Zero\n",
    "\n",
    "num = int(input(\"Enter a number: \"))\n",
    "\n",
    "if num == 0:\n",
    "    print(\"The number is Zero.\")\n",
    "else:\n",
    "    print(\"The number is not Zero.\")\n"
   ]
  },
  {
   "cell_type": "code",
   "execution_count": null,
   "id": "f1958ffa-67d5-4289-adf7-a15c1e172f86",
   "metadata": {},
   "outputs": [],
   "source": [
    "# 4. Check if a number is Even\n",
    "\n",
    "num = int(input(\"Enter a number: \"))\n",
    "\n",
    "if num % 2 == 0:\n",
    "    print(\"The number is Even.\")\n",
    "else:\n",
    "    print(\"The number is not Even.\")\n"
   ]
  },
  {
   "cell_type": "code",
   "execution_count": null,
   "id": "e1e0dc17-82ab-49de-9312-31ff97f5c2c3",
   "metadata": {},
   "outputs": [],
   "source": [
    "# 5. Check if a number is Odd\n",
    "\n",
    "num = int(input(\"Enter a number: \"))\n",
    "\n",
    "if num % 2 != 0:\n",
    "    print(\"The number is Odd.\")\n",
    "else:\n",
    "    print(\"The number is not Odd.\")\n"
   ]
  },
  {
   "cell_type": "code",
   "execution_count": null,
   "id": "eae24673-1e82-4525-b190-ec484d305f7b",
   "metadata": {},
   "outputs": [],
   "source": [
    "# 6. Check if a number is divisible by 5\n",
    "\n",
    "num = int(input(\"Enter a number: \"))\n",
    "\n",
    "if num % 5 == 0:\n",
    "    print(\"The number is divisible by 5.\")\n",
    "else:\n",
    "    print(\"The number is not divisible by 5.\")\n"
   ]
  },
  {
   "cell_type": "code",
   "execution_count": null,
   "id": "6f9f5179-c160-4cc6-9bf6-272c145a163d",
   "metadata": {},
   "outputs": [],
   "source": [
    "# 7. Check if a number is divisible by 10\n",
    "\n",
    "num = int(input(\"Enter a number: \"))\n",
    "\n",
    "if num % 10 == 0:\n",
    "    print(\"The number is divisible by 10.\")\n",
    "else:\n",
    "    print(\"The number is not divisible by 10.\")\n"
   ]
  },
  {
   "cell_type": "code",
   "execution_count": null,
   "id": "fa3c315d-fcf3-45c1-8bcd-82dad6c60ea1",
   "metadata": {},
   "outputs": [],
   "source": [
    "# 8. Check if a person is eligible to vote (age >= 18)\n",
    "\n",
    "age = int(input(\"Enter your age: \"))\n",
    "\n",
    "if age >= 18:\n",
    "    print(\"You are eligible to vote.\")\n",
    "else:\n",
    "    print(\"You are not eligible to vote.\")\n"
   ]
  },
  {
   "cell_type": "code",
   "execution_count": null,
   "id": "23d447e2-7c8d-4a18-bf54-579eaee98d44",
   "metadata": {},
   "outputs": [],
   "source": [
    "# 9. Check if a year is a leap year\n",
    "\n",
    "year = int(input(\"Enter a year: \"))\n",
    "\n",
    "if (year % 400 == 0) or (year % 4 == 0 and year % 100 != 0):\n",
    "    print(\"The year is a Leap Year.\")\n",
    "else:\n",
    "    print(\"The year is not a Leap Year.\")\n"
   ]
  },
  {
   "cell_type": "code",
   "execution_count": null,
   "id": "540882f9-6c18-4f5c-ade8-f01815dd2a1a",
   "metadata": {},
   "outputs": [],
   "source": [
    "# 10. Check if a character is a vowel\n",
    "\n",
    "ch = input(\"Enter a character: \")\n",
    "\n",
    "if ch.lower() in ['a', 'e', 'i', 'o', 'u']:\n",
    "    print(\"The character is a Vowel.\")\n",
    "else:\n",
    "    print(\"The character is not a Vowel.\")\n"
   ]
  },
  {
   "cell_type": "code",
   "execution_count": null,
   "id": "35df7376-8ea2-4c03-8e5f-225fc58cf025",
   "metadata": {},
   "outputs": [],
   "source": [
    "# 11. Check if a character is a consonant\n",
    "\n",
    "ch = input(\"Enter a character: \")\n",
    "\n",
    "if ch.isalpha() and ch.lower() not in ['a', 'e', 'i', 'o', 'u']:\n",
    "    print(\"The character is a Consonant.\")\n",
    "else:\n",
    "    print(\"The character is not a Consonant.\")\n"
   ]
  },
  {
   "cell_type": "code",
   "execution_count": null,
   "id": "889d175a-3d54-4b59-bca9-4377751f233b",
   "metadata": {},
   "outputs": [],
   "source": [
    "# 12. Check if a number is a multiple of 3 or 7\n",
    "\n",
    "num = int(input(\"Enter a number: \"))\n",
    "\n",
    "if num % 3 == 0 or num % 7 == 0:\n",
    "    print(\"The number is a multiple of 3 or 7.\")\n",
    "else:\n",
    "    print(\"The number is not a multiple of 3 or 7.\")\n"
   ]
  },
  {
   "cell_type": "code",
   "execution_count": null,
   "id": "a6974ffc-48ca-495b-9e90-eb89decdfffa",
   "metadata": {},
   "outputs": [],
   "source": [
    "# 13. Compare two numbers and print the greater one\n",
    "\n",
    "a = int(input(\"Enter first number: \"))\n",
    "b = int(input(\"Enter second number: \"))\n",
    "\n",
    "if a > b:\n",
    "    print(\"The greater number is:\", a)\n",
    "else:\n",
    "    print(\"The greater number is:\", b)\n"
   ]
  },
  {
   "cell_type": "code",
   "execution_count": null,
   "id": "63058081-88b9-436f-9e15-7cc668c8681c",
   "metadata": {},
   "outputs": [],
   "source": [
    "# 14. Compare two numbers and print the smaller one\n",
    "\n",
    "a = int(input(\"Enter first number: \"))\n",
    "b = int(input(\"Enter second number: \"))\n",
    "\n",
    "if a < b:\n",
    "    print(\"The smaller number is:\", a)\n",
    "else:\n",
    "    print(\"The smaller number is:\", b)\n"
   ]
  },
  {
   "cell_type": "code",
   "execution_count": null,
   "id": "d8b478dc-fcac-4639-afad-83144bbeb9b1",
   "metadata": {},
   "outputs": [],
   "source": [
    "# 15. Check if two numbers are equal\n",
    "\n",
    "a = int(input(\"Enter first number: \"))\n",
    "b = int(input(\"Enter second number: \"))\n",
    "\n",
    "if a == b:\n",
    "    print(\"The numbers are Equal.\")\n",
    "else:\n",
    "    print(\"The numbers are Not Equal.\")\n"
   ]
  },
  {
   "cell_type": "code",
   "execution_count": null,
   "id": "403b97ff-f566-40da-b4c9-ecf4f06b3da3",
   "metadata": {},
   "outputs": [],
   "source": [
    "# 16. Check if a number is in the range 10 to 50\n",
    "\n",
    "num = int(input(\"Enter a number: \"))\n",
    "\n",
    "if 10 <= num <= 50:\n",
    "    print(\"The number is in the range 10 to 50.\")\n",
    "else:\n",
    "    print(\"The number is not in the range 10 to 50.\")\n"
   ]
  },
  {
   "cell_type": "code",
   "execution_count": null,
   "id": "56231730-9c1c-44ff-9194-fbeecc529e20",
   "metadata": {},
   "outputs": [],
   "source": [
    "# 17. Check if a number is outside the range 100 to 200\n",
    "\n",
    "num = int(input(\"Enter a number: \"))\n",
    "\n",
    "if num < 100 or num > 200:\n",
    "    print(\"The number is outside the range 100 to 200.\")\n",
    "else:\n",
    "    print(\"The number is within the range 100 to 200.\")\n"
   ]
  },
  {
   "cell_type": "code",
   "execution_count": null,
   "id": "df8166e0-7258-46b5-a9e1-3b94bc42b066",
   "metadata": {},
   "outputs": [],
   "source": [
    "# 18. Check if a number is divisible by both 2 and 3\n",
    "\n",
    "num = int(input(\"Enter a number: \"))\n",
    "\n",
    "if num % 2 == 0 and num % 3 == 0:\n",
    "    print(\"The number is divisible by both 2 and 3.\")\n",
    "else:\n",
    "    print(\"The number is not divisible by both 2 and 3.\")\n"
   ]
  },
  {
   "cell_type": "code",
   "execution_count": null,
   "id": "81e4ccfe-a09d-499a-92ff-56168a0cbf7a",
   "metadata": {},
   "outputs": [],
   "source": [
    "# 19. Check if a number is divisible by either 4 or 6\n",
    "\n",
    "num = int(input(\"Enter a number: \"))\n",
    "\n",
    "if num % 4 == 0 or num % 6 == 0:\n",
    "    print(\"The number is divisible by either 4 or 6.\")\n",
    "else:\n",
    "    print(\"The number is not divisible by 4 or 6.\")\n"
   ]
  },
  {
   "cell_type": "code",
   "execution_count": null,
   "id": "ebc57f90-3f84-4055-a3c5-b6882ad2fd05",
   "metadata": {},
   "outputs": [],
   "source": [
    "# 20. Check if a person is a teenager (age between 13 and 19)\n",
    "\n",
    "age = int(input(\"Enter age: \"))\n",
    "\n",
    "if 13 <= age <= 19:\n",
    "    print(\"The person is a Teenager.\")\n",
    "else:\n",
    "    print(\"The person is not a Teenager.\")\n"
   ]
  },
  {
   "cell_type": "code",
   "execution_count": 2,
   "id": "660c5996-2c2e-449e-8680-0367999c90e0",
   "metadata": {},
   "outputs": [
    {
     "name": "stdin",
     "output_type": "stream",
     "text": [
      "Enter the marks: 12\n"
     ]
    },
    {
     "name": "stdout",
     "output_type": "stream",
     "text": [
      "Fail\n"
     ]
    }
   ],
   "source": [
    "# 21. Write a program to print grade based on marks (A, B, C, D, F). \n",
    "marks=int(input(\"Enter the marks:\"))\n",
    "if 0<=marks<=100:\n",
    "    if 80<=marks<=100:\n",
    "        print(\"A Grade\")\n",
    "    elif 60<=marks<=79:\n",
    "        print(\"B Grade\")\n",
    "    elif 45<=marks<=59:\n",
    "        print(\"C Grade\")\n",
    "    elif 35<=marks<=45:\n",
    "        print(\"D Grade\")\n",
    "    else:\n",
    "        print(\"Fail\")\n",
    "else:\n",
    "    print(\"Invalid marks\")"
   ]
  },
  {
   "cell_type": "code",
   "execution_count": null,
   "id": "fcbb24ec-d5ae-4a26-8276-e836a9fac782",
   "metadata": {},
   "outputs": [],
   "source": [
    "# 22. Write a program to check if a temperature is cold, moderate, or hot.\n",
    "temp = int(input(\"Enter temperature: \"))\n",
    "\n",
    "if temp < 15:\n",
    "    print(\"Cold\")\n",
    "elif 15 <= temp <= 30:\n",
    "    print(\"Moderate\")\n",
    "else:\n",
    "    print(\"Hot\")\n"
   ]
  },
  {
   "cell_type": "code",
   "execution_count": null,
   "id": "cba6daa4-f2cc-48e2-b94b-cd608ecd5826",
   "metadata": {},
   "outputs": [],
   "source": [
    "# 23. Classify number as positive, negative, or zero\n",
    "num = int(input(\"Enter a number: \"))\n",
    "\n",
    "if num > 0:\n",
    "    print(\"Positive\")\n",
    "elif num < 0:\n",
    "    print(\"Negative\")\n",
    "else:\n",
    "    print(\"Zero\")\n"
   ]
  },
  {
   "cell_type": "code",
   "execution_count": null,
   "id": "68787eef-6047-4806-a2f9-e4285f5109c8",
   "metadata": {},
   "outputs": [],
   "source": [
    "# 24. Check if a number is small, medium, or large\n",
    "num = int(input(\"Enter a number: \"))\n",
    "\n",
    "if num < 10:\n",
    "    print(\"Small\")\n",
    "elif 10 <= num <= 100:\n",
    "    print(\"Medium\")\n",
    "else:\n",
    "    print(\"Large\")\n"
   ]
  },
  {
   "cell_type": "code",
   "execution_count": null,
   "id": "a3373863-276a-41f5-b4a2-a94fbbb4030f",
   "metadata": {},
   "outputs": [],
   "source": [
    "# 25. Traffic signal status\n",
    "signal = input(\"Enter traffic signal (Red/Yellow/Green): \")\n",
    "\n",
    "if signal.lower() == \"red\":\n",
    "    print(\"Stop\")\n",
    "elif signal.lower() == \"yellow\":\n",
    "    print(\"Wait\")\n",
    "elif signal.lower() == \"green\":\n",
    "    print(\"Go\")\n",
    "else:\n",
    "    print(\"Invalid signal\")\n"
   ]
  },
  {
   "cell_type": "code",
   "execution_count": null,
   "id": "2eab2d26-1fb1-401b-b079-7ff6c4b2e4a6",
   "metadata": {},
   "outputs": [],
   "source": [
    "# 26. Print day name for number 1 to 7\n",
    "day = int(input(\"Enter a number (1-7): \"))\n",
    "\n",
    "if day == 1:\n",
    "    print(\"Monday\")\n",
    "elif day == 2:\n",
    "    print(\"Tuesday\")\n",
    "elif day == 3:\n",
    "    print(\"Wednesday\")\n",
    "elif day == 4:\n",
    "    print(\"Thursday\")\n",
    "elif day == 5:\n",
    "    print(\"Friday\")\n",
    "elif day == 6:\n",
    "    print(\"Saturday\")\n",
    "elif day == 7:\n",
    "    print(\"Sunday\")\n",
    "else:\n",
    "    print(\"Invalid day number\")\n"
   ]
  },
  {
   "cell_type": "code",
   "execution_count": null,
   "id": "e7da889f-b81a-4708-b561-c9f11777cc06",
   "metadata": {},
   "outputs": [],
   "source": [
    "# 27. Classify person by age group\n",
    "age = int(input(\"Enter age: \"))\n",
    "\n",
    "if age < 13:\n",
    "    print(\"Child\")\n",
    "elif age < 20:\n",
    "    print(\"Teen\")\n",
    "elif age < 60:\n",
    "    print(\"Adult\")\n",
    "else:\n",
    "    print(\"Senior\")\n"
   ]
  },
  {
   "cell_type": "code",
   "execution_count": null,
   "id": "998a8c6e-a9ef-45e7-a65c-a2722fcdee4d",
   "metadata": {},
   "outputs": [],
   "source": [
    "# 28. Find largest among three numbers\n",
    "a = int(input(\"Enter first number: \"))\n",
    "b = int(input(\"Enter second number: \"))\n",
    "c = int(input(\"Enter third number: \"))\n",
    "\n",
    "if a >= b and a >= c:\n",
    "    largest = a\n",
    "elif b >= a and b >= c:\n",
    "    largest = b\n",
    "else:\n",
    "    largest = c\n",
    "\n",
    "print(\"The largest number is:\", largest)\n"
   ]
  },
  {
   "cell_type": "code",
   "execution_count": null,
   "id": "7528a4a5-beee-48ee-8390-5723ac9f907e",
   "metadata": {},
   "outputs": [],
   "source": [
    "# 29. Find the smallest among three numbers\n",
    "a = int(input(\"Enter first number: \"))\n",
    "b = int(input(\"Enter second number: \"))\n",
    "c = int(input(\"Enter third number: \"))\n",
    "\n",
    "if a <= b and a <= c:\n",
    "    smallest = a\n",
    "elif b <= a and b <= c:\n",
    "    smallest = b\n",
    "else:\n",
    "    smallest = c\n",
    "\n",
    "print(\"The smallest number is:\", smallest)\n"
   ]
  },
  {
   "cell_type": "code",
   "execution_count": null,
   "id": "09fb2f20-2c86-41f6-8939-47ac826ea482",
   "metadata": {},
   "outputs": [],
   "source": [
    "# 30. Check if a triangle is scalene, isosceles, or equilateral\n",
    "a = float(input(\"Enter first side of triangle: \"))\n",
    "b = float(input(\"Enter second side of triangle: \"))\n",
    "c = float(input(\"Enter third side of triangle: \"))\n",
    "\n",
    "if a == b == c:\n",
    "    print(\"The triangle is Equilateral.\")\n",
    "elif a == b or b == c or a == c:\n",
    "    print(\"The triangle is Isosceles.\")\n",
    "else:\n",
    "    print(\"The triangle is Scalene.\")\n"
   ]
  },
  {
   "cell_type": "code",
   "execution_count": 6,
   "id": "1d08113f-1dbe-49fd-a855-8fd821a677a2",
   "metadata": {},
   "outputs": [
    {
     "name": "stdin",
     "output_type": "stream",
     "text": [
      "Enter the number:  10\n"
     ]
    },
    {
     "name": "stdout",
     "output_type": "stream",
     "text": [
      "10 is two-digit number.\n"
     ]
    }
   ],
   "source": [
    "# 31. Write a program to check if a number is a two-digit number. \n",
    "a = int(input(\"Enter the number: \"))\n",
    "\n",
    "if a>9:\n",
    "    print(f\"{a} is two-digit number.\")\n",
    "else:\n",
    "    print(f\"{a} is small then two-digit number.\")"
   ]
  },
  {
   "cell_type": "code",
   "execution_count": 7,
   "id": "17ce79c3-9757-4fe4-95ba-083e7be9e11c",
   "metadata": {},
   "outputs": [
    {
     "name": "stdin",
     "output_type": "stream",
     "text": [
      "Enter the number:  100\n"
     ]
    },
    {
     "name": "stdout",
     "output_type": "stream",
     "text": [
      "100 is three-digit number.\n"
     ]
    }
   ],
   "source": [
    "# 32. Write a program to check if a number has 3 digits. \n",
    "a = int(input(\"Enter the number: \"))\n",
    "\n",
    "if a>99:\n",
    "    print(f\"{a} is three-digit number.\")\n",
    "else:\n",
    "    print(f\"{a} is small then three-digit number.\")"
   ]
  },
  {
   "cell_type": "code",
   "execution_count": 8,
   "id": "80c77983-be15-4ba3-8f80-124535458291",
   "metadata": {},
   "outputs": [
    {
     "name": "stdin",
     "output_type": "stream",
     "text": [
      "Enter first number:  2\n",
      "Enter second number:  2\n"
     ]
    },
    {
     "name": "stdout",
     "output_type": "stream",
     "text": [
      "The sum is even.\n"
     ]
    }
   ],
   "source": [
    "# 33. Write a program to check if the sum of two numbers is even. \n",
    "a = int(input(\"Enter first number: \"))\n",
    "b = int(input(\"Enter second number: \"))\n",
    "\n",
    "total = a + b\n",
    "\n",
    "if total % 2 == 0:\n",
    "    print(\"The sum is even.\")\n",
    "else:\n",
    "    print(\"The sum is odd.\")"
   ]
  },
  {
   "cell_type": "code",
   "execution_count": 9,
   "id": "33cfcd41-83d1-4d87-baf4-80cada51ee5f",
   "metadata": {},
   "outputs": [
    {
     "name": "stdin",
     "output_type": "stream",
     "text": [
      "Enter a number:  100\n"
     ]
    },
    {
     "name": "stdout",
     "output_type": "stream",
     "text": [
      "The last digit is not 5.\n"
     ]
    }
   ],
   "source": [
    "# Program to check if the last digit of a number is 5\n",
    "\n",
    "num = int(input(\"Enter a number: \"))\n",
    "\n",
    "if num % 10 == 5:\n",
    "    print(\"The last digit is 5.\")\n",
    "else:\n",
    "    print(\"The last digit is not 5.\")\n"
   ]
  },
  {
   "cell_type": "code",
   "execution_count": 10,
   "id": "7a3c75d4-f0c2-470e-a3fa-2435ee96f74a",
   "metadata": {},
   "outputs": [
    {
     "name": "stdin",
     "output_type": "stream",
     "text": [
      "Enter a number:  103\n"
     ]
    },
    {
     "name": "stdout",
     "output_type": "stream",
     "text": [
      "The last digit is not 0.\n"
     ]
    }
   ],
   "source": [
    "# 35. Write a program to check if a number ends with 0. \n",
    "num = int(input(\"Enter a number: \"))\n",
    "\n",
    "if num % 10 == 0:\n",
    "    print(\"The last digit is 0.\")\n",
    "else:\n",
    "    print(\"The last digit is not 0.\")"
   ]
  },
  {
   "cell_type": "code",
   "execution_count": null,
   "id": "2067dd3c-4775-4e76-b4e8-1fb55151c93e",
   "metadata": {},
   "outputs": [],
   "source": []
  }
 ],
 "metadata": {
  "kernelspec": {
   "display_name": "Python 3 (ipykernel)",
   "language": "python",
   "name": "python3"
  },
  "language_info": {
   "codemirror_mode": {
    "name": "ipython",
    "version": 3
   },
   "file_extension": ".py",
   "mimetype": "text/x-python",
   "name": "python",
   "nbconvert_exporter": "python",
   "pygments_lexer": "ipython3",
   "version": "3.12.6"
  }
 },
 "nbformat": 4,
 "nbformat_minor": 5
}

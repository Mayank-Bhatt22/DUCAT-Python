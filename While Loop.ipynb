{
 "cells": [
  {
   "cell_type": "markdown",
   "id": "2d0a349e-4531-4425-b709-9a848cc9744d",
   "metadata": {},
   "source": [
    "# While Loop"
   ]
  },
  {
   "cell_type": "code",
   "execution_count": 1,
   "id": "0eb0bf97-fae2-4a01-8688-5d9a0833f972",
   "metadata": {},
   "outputs": [
    {
     "name": "stdout",
     "output_type": "stream",
     "text": [
      "0\n",
      "1\n",
      "2\n",
      "3\n",
      "4\n",
      "5\n",
      "6\n",
      "7\n",
      "8\n",
      "9\n",
      "10\n"
     ]
    }
   ],
   "source": [
    "x=0\n",
    "while x<=10:\n",
    "    print(x)\n",
    "    x+=1"
   ]
  },
  {
   "cell_type": "code",
   "execution_count": 4,
   "id": "54c3b628-6390-4a29-acd6-276a41cbb51a",
   "metadata": {},
   "outputs": [
    {
     "name": "stdout",
     "output_type": "stream",
     "text": [
      "0\n",
      "0.1\n",
      "0.2\n",
      "0.3\n",
      "0.4\n",
      "0.5\n",
      "0.6\n",
      "0.7\n",
      "0.8\n",
      "0.9\n",
      "1.0\n"
     ]
    }
   ],
   "source": [
    "x = 0\n",
    "while x<=1:\n",
    "    print(round(x,2))\n",
    "    x+=0.1"
   ]
  },
  {
   "cell_type": "code",
   "execution_count": 20,
   "id": "d50ad4dc-844a-4966-89a4-959c79840e14",
   "metadata": {},
   "outputs": [
    {
     "name": "stdout",
     "output_type": "stream",
     "text": [
      "1\n",
      "0.9\n",
      "0.8\n",
      "0.7\n",
      "0.6\n",
      "0.5\n",
      "0.4\n",
      "0.3\n",
      "0.2\n",
      "0.1\n",
      "0.0\n"
     ]
    }
   ],
   "source": [
    "x = 1\n",
    "while x>=0:\n",
    "    print(round(x,2))\n",
    "    x-=0.1"
   ]
  },
  {
   "cell_type": "code",
   "execution_count": 11,
   "id": "ec9883e9-ca5e-4c1d-944c-3da5648a1c4a",
   "metadata": {},
   "outputs": [
    {
     "name": "stdout",
     "output_type": "stream",
     "text": [
      "m\n",
      "a\n",
      "y\n",
      "a\n",
      "n\n",
      "k\n"
     ]
    }
   ],
   "source": [
    "s = \"mayank\"\n",
    "i = 0\n",
    "while i<len(s):\n",
    "    print(s[i])\n",
    "    i +=1"
   ]
  },
  {
   "cell_type": "code",
   "execution_count": 21,
   "id": "8091d51b-8199-4330-b362-0cf15a49533c",
   "metadata": {},
   "outputs": [
    {
     "name": "stdout",
     "output_type": "stream",
     "text": [
      "k\n",
      "n\n",
      "a\n",
      "y\n",
      "a\n",
      "m\n"
     ]
    }
   ],
   "source": [
    "s = \"mayank\"\n",
    "i = -1\n",
    "while i>= -len(s):\n",
    "    print(s[i])\n",
    "    i -=1"
   ]
  },
  {
   "cell_type": "code",
   "execution_count": 12,
   "id": "222c9943-6c4e-4c49-a50f-c4280983deea",
   "metadata": {},
   "outputs": [
    {
     "name": "stdout",
     "output_type": "stream",
     "text": [
      "mayank\n",
      "bhatt\n"
     ]
    }
   ],
   "source": [
    "s = (\"mayank\",\"bhatt\")\n",
    "i = 0\n",
    "while i<len(s):\n",
    "    print(s[i])\n",
    "    i +=1"
   ]
  },
  {
   "cell_type": "code",
   "execution_count": 14,
   "id": "1184c7a4-6afa-43f6-bab0-dceedae636d4",
   "metadata": {},
   "outputs": [
    {
     "name": "stdout",
     "output_type": "stream",
     "text": [
      "mayank\n",
      "bhatt\n"
     ]
    }
   ],
   "source": [
    "s = [\"mayank\",\"bhatt\"]\n",
    "i = 0\n",
    "while i<len(s):\n",
    "    print(s[i])\n",
    "    i +=1"
   ]
  },
  {
   "cell_type": "code",
   "execution_count": 25,
   "id": "05706f47-ec39-4c6c-b43b-f5e221427c8c",
   "metadata": {},
   "outputs": [
    {
     "name": "stdout",
     "output_type": "stream",
     "text": [
      "Mayank\n",
      "Bhatt\n"
     ]
    }
   ],
   "source": [
    "s = [\"mayank\",\"bhatt\"]\n",
    "i = 0\n",
    "while i<len(s):\n",
    "    print(s[i].title())\n",
    "    i +=1"
   ]
  },
  {
   "cell_type": "code",
   "execution_count": 28,
   "id": "fe0f784c-9877-40cf-933f-51e3032d9c79",
   "metadata": {},
   "outputs": [
    {
     "name": "stdout",
     "output_type": "stream",
     "text": [
      "['Mayank', 'Bhatt']\n"
     ]
    }
   ],
   "source": [
    "s = [\"mayank\",\"bhatt\"]\n",
    "i = 0\n",
    "a = []\n",
    "while i<len(s):\n",
    "    a.append(s[i].title())\n",
    "    i +=1\n",
    "print(a)"
   ]
  },
  {
   "cell_type": "code",
   "execution_count": 1,
   "id": "fa89ae69-e3a7-417f-84f4-fe865fdab51f",
   "metadata": {},
   "outputs": [
    {
     "name": "stdout",
     "output_type": "stream",
     "text": [
      "3\n"
     ]
    }
   ],
   "source": [
    "# count of no\n",
    "n = 234\n",
    "counter=0\n",
    "while n>0:\n",
    "    counter +=1\n",
    "    n//=10\n",
    "print(counter)"
   ]
  },
  {
   "cell_type": "code",
   "execution_count": 3,
   "id": "e9cd6cb1-eae2-48f6-ba80-e77d30906715",
   "metadata": {},
   "outputs": [
    {
     "name": "stdout",
     "output_type": "stream",
     "text": [
      "12\n"
     ]
    }
   ],
   "source": [
    "# sum of no \n",
    "n = 435\n",
    "Sum = 0\n",
    "while n>0:\n",
    "    Sum += n%10\n",
    "    n//=10\n",
    "print(Sum)"
   ]
  },
  {
   "cell_type": "code",
   "execution_count": 2,
   "id": "58a1b0b0-82bb-48e9-b3fa-2bc62c60f4e0",
   "metadata": {},
   "outputs": [
    {
     "name": "stdout",
     "output_type": "stream",
     "text": [
      "k\n",
      "n\n",
      "a\n",
      "y\n",
      "a\n",
      "m\n"
     ]
    }
   ],
   "source": [
    "# revese\n",
    "s = \"mayank\"\n",
    "i = -1\n",
    "while i>= -len(s):\n",
    "    print(s[i])\n",
    "    i -=1"
   ]
  },
  {
   "cell_type": "code",
   "execution_count": 1,
   "id": "96e48fb5-3872-41b7-a152-b523b5847054",
   "metadata": {},
   "outputs": [
    {
     "name": "stdout",
     "output_type": "stream",
     "text": [
      "Reversed number: 654321\n"
     ]
    }
   ],
   "source": [
    "n = 123456\n",
    "rev = 0\n",
    "while n > 0:\n",
    "    digit = n % 10        \n",
    "    rev = rev * 10 + digit  \n",
    "    n = n // 10           \n",
    "print(\"Reversed number:\", rev)   "
   ]
  },
  {
   "cell_type": "code",
   "execution_count": 4,
   "id": "13722ab5-fb49-48e3-8120-2bccdee44319",
   "metadata": {},
   "outputs": [
    {
     "name": "stdout",
     "output_type": "stream",
     "text": [
      "654021\n"
     ]
    }
   ],
   "source": [
    "n = 120456\n",
    "rev = 0\n",
    "while n > 0:\n",
    "    rev=rev*10 +n%10\n",
    "    n //=10\n",
    "print(rev)"
   ]
  },
  {
   "cell_type": "code",
   "execution_count": 1,
   "id": "ff0076d6-04d6-4f0d-b4b4-7cb9adbb54ba",
   "metadata": {},
   "outputs": [
    {
     "name": "stdin",
     "output_type": "stream",
     "text": [
      "Enter Something... (type exist for Exist):  Exist\n"
     ]
    },
    {
     "name": "stdout",
     "output_type": "stream",
     "text": [
      "Exist\n"
     ]
    },
    {
     "name": "stdin",
     "output_type": "stream",
     "text": [
      "Enter Something... (type exist for Exist):  exits\n"
     ]
    },
    {
     "name": "stdout",
     "output_type": "stream",
     "text": [
      "exits\n"
     ]
    },
    {
     "name": "stdin",
     "output_type": "stream",
     "text": [
      "Enter Something... (type exist for Exist):  exit\n"
     ]
    },
    {
     "name": "stdout",
     "output_type": "stream",
     "text": [
      "exit\n"
     ]
    }
   ],
   "source": [
    "while True:\n",
    "    text = input(\"Enter Something... (type exist for Exist): \")\n",
    "    print(text)\n",
    "    if text.lower()==\"exit\":\n",
    "        break\n",
    "        "
   ]
  },
  {
   "cell_type": "code",
   "execution_count": 2,
   "id": "743d1a92-6652-40a1-8cfb-32ee82ff2dde",
   "metadata": {},
   "outputs": [
    {
     "name": "stdin",
     "output_type": "stream",
     "text": [
      "Guess the no:  50\n"
     ]
    },
    {
     "name": "stdout",
     "output_type": "stream",
     "text": [
      "correct no... \n"
     ]
    }
   ],
   "source": [
    "while True:\n",
    "    n=int(input(\"Guess the no: \"))\n",
    "    if n==50:\n",
    "        print(\"correct no... \")\n",
    "        break\n",
    "    else:\n",
    "        print(\"wrong no Please try another no. \")"
   ]
  },
  {
   "cell_type": "code",
   "execution_count": null,
   "id": "6c73856a-3b0c-404b-975c-db70090a208e",
   "metadata": {},
   "outputs": [],
   "source": []
  }
 ],
 "metadata": {
  "kernelspec": {
   "display_name": "Python 3 (ipykernel)",
   "language": "python",
   "name": "python3"
  },
  "language_info": {
   "codemirror_mode": {
    "name": "ipython",
    "version": 3
   },
   "file_extension": ".py",
   "mimetype": "text/x-python",
   "name": "python",
   "nbconvert_exporter": "python",
   "pygments_lexer": "ipython3",
   "version": "3.12.6"
  }
 },
 "nbformat": 4,
 "nbformat_minor": 5
}

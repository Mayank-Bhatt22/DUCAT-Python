{
 "cells": [
  {
   "cell_type": "markdown",
   "id": "2d0a349e-4531-4425-b709-9a848cc9744d",
   "metadata": {},
   "source": [
    "# While Loop"
   ]
  },
  {
   "cell_type": "code",
   "execution_count": 1,
   "id": "0eb0bf97-fae2-4a01-8688-5d9a0833f972",
   "metadata": {},
   "outputs": [
    {
     "name": "stdout",
     "output_type": "stream",
     "text": [
      "0\n",
      "1\n",
      "2\n",
      "3\n",
      "4\n",
      "5\n",
      "6\n",
      "7\n",
      "8\n",
      "9\n",
      "10\n"
     ]
    }
   ],
   "source": [
    "x=0\n",
    "while x<=10:\n",
    "    print(x)\n",
    "    x+=1"
   ]
  },
  {
   "cell_type": "code",
   "execution_count": null,
   "id": "f692bde3-f0bf-40bd-9f38-2d3120ac8051",
   "metadata": {},
   "outputs": [],
   "source": [
    "for i in range(0,1,0.1):\n",
    "    print(i)"
   ]
  },
  {
   "cell_type": "code",
   "execution_count": 4,
   "id": "54c3b628-6390-4a29-acd6-276a41cbb51a",
   "metadata": {},
   "outputs": [
    {
     "name": "stdout",
     "output_type": "stream",
     "text": [
      "0\n",
      "0.1\n",
      "0.2\n",
      "0.3\n",
      "0.4\n",
      "0.5\n",
      "0.6\n",
      "0.7\n",
      "0.8\n",
      "0.9\n",
      "1.0\n"
     ]
    }
   ],
   "source": [
    "x = 0\n",
    "while x<=1:\n",
    "    print(round(x,2))\n",
    "    x+=0.1"
   ]
  },
  {
   "cell_type": "code",
   "execution_count": 20,
   "id": "d50ad4dc-844a-4966-89a4-959c79840e14",
   "metadata": {},
   "outputs": [
    {
     "name": "stdout",
     "output_type": "stream",
     "text": [
      "1\n",
      "0.9\n",
      "0.8\n",
      "0.7\n",
      "0.6\n",
      "0.5\n",
      "0.4\n",
      "0.3\n",
      "0.2\n",
      "0.1\n",
      "0.0\n"
     ]
    }
   ],
   "source": [
    "x = 1\n",
    "while x>=0:\n",
    "    print(round(x,2))\n",
    "    x-=0.1"
   ]
  },
  {
   "cell_type": "code",
   "execution_count": 11,
   "id": "ec9883e9-ca5e-4c1d-944c-3da5648a1c4a",
   "metadata": {},
   "outputs": [
    {
     "name": "stdout",
     "output_type": "stream",
     "text": [
      "m\n",
      "a\n",
      "y\n",
      "a\n",
      "n\n",
      "k\n"
     ]
    }
   ],
   "source": [
    "s = \"mayank\"\n",
    "i = 0\n",
    "while i<len(s):\n",
    "    print(s[i])\n",
    "    i +=1"
   ]
  },
  {
   "cell_type": "code",
   "execution_count": 21,
   "id": "8091d51b-8199-4330-b362-0cf15a49533c",
   "metadata": {},
   "outputs": [
    {
     "name": "stdout",
     "output_type": "stream",
     "text": [
      "k\n",
      "n\n",
      "a\n",
      "y\n",
      "a\n",
      "m\n"
     ]
    }
   ],
   "source": [
    "s = \"mayank\"\n",
    "i = -1\n",
    "while i>= -len(s):\n",
    "    print(s[i])\n",
    "    i -=1"
   ]
  },
  {
   "cell_type": "code",
   "execution_count": 12,
   "id": "222c9943-6c4e-4c49-a50f-c4280983deea",
   "metadata": {},
   "outputs": [
    {
     "name": "stdout",
     "output_type": "stream",
     "text": [
      "mayank\n",
      "bhatt\n"
     ]
    }
   ],
   "source": [
    "s = (\"mayank\",\"bhatt\")\n",
    "i = 0\n",
    "while i<len(s):\n",
    "    print(s[i])\n",
    "    i +=1"
   ]
  },
  {
   "cell_type": "code",
   "execution_count": 14,
   "id": "1184c7a4-6afa-43f6-bab0-dceedae636d4",
   "metadata": {},
   "outputs": [
    {
     "name": "stdout",
     "output_type": "stream",
     "text": [
      "mayank\n",
      "bhatt\n"
     ]
    }
   ],
   "source": [
    "s = [\"mayank\",\"bhatt\"]\n",
    "i = 0\n",
    "while i<len(s):\n",
    "    print(s[i])\n",
    "    i +=1"
   ]
  },
  {
   "cell_type": "code",
   "execution_count": 25,
   "id": "05706f47-ec39-4c6c-b43b-f5e221427c8c",
   "metadata": {},
   "outputs": [
    {
     "name": "stdout",
     "output_type": "stream",
     "text": [
      "Mayank\n",
      "Bhatt\n"
     ]
    }
   ],
   "source": [
    "s = [\"mayank\",\"bhatt\"]\n",
    "i = 0\n",
    "while i<len(s):\n",
    "    print(s[i].title())\n",
    "    i +=1"
   ]
  },
  {
   "cell_type": "code",
   "execution_count": 28,
   "id": "fe0f784c-9877-40cf-933f-51e3032d9c79",
   "metadata": {},
   "outputs": [
    {
     "name": "stdout",
     "output_type": "stream",
     "text": [
      "['Mayank', 'Bhatt']\n"
     ]
    }
   ],
   "source": [
    "s = [\"mayank\",\"bhatt\"]\n",
    "i = 0\n",
    "a = []\n",
    "while i<len(s):\n",
    "    a.append(s[i].title())\n",
    "    i +=1\n",
    "print(a)"
   ]
  },
  {
   "cell_type": "code",
   "execution_count": 15,
   "id": "ff606416-7b1c-4a25-b73d-77871765b8ed",
   "metadata": {},
   "outputs": [
    {
     "ename": "KeyError",
     "evalue": "0",
     "output_type": "error",
     "traceback": [
      "\u001b[1;31m---------------------------------------------------------------------------\u001b[0m",
      "\u001b[1;31mKeyError\u001b[0m                                  Traceback (most recent call last)",
      "Cell \u001b[1;32mIn[15], line 4\u001b[0m\n\u001b[0;32m      2\u001b[0m i \u001b[38;5;241m=\u001b[39m \u001b[38;5;241m0\u001b[39m\n\u001b[0;32m      3\u001b[0m \u001b[38;5;28;01mwhile\u001b[39;00m i\u001b[38;5;241m<\u001b[39m\u001b[38;5;28mlen\u001b[39m(s):\n\u001b[1;32m----> 4\u001b[0m     \u001b[38;5;28mprint\u001b[39m(\u001b[43ms\u001b[49m\u001b[43m[\u001b[49m\u001b[43mi\u001b[49m\u001b[43m]\u001b[49m)\n\u001b[0;32m      5\u001b[0m     i \u001b[38;5;241m+\u001b[39m\u001b[38;5;241m=\u001b[39m\u001b[38;5;241m1\u001b[39m\n",
      "\u001b[1;31mKeyError\u001b[0m: 0"
     ]
    }
   ],
   "source": [
    "s = {\"mayank\":\"bhatt\"}\n",
    "i = 0\n",
    "while i<len(s):\n",
    "    print(s[i])\n",
    "    i +=1"
   ]
  }
 ],
 "metadata": {
  "kernelspec": {
   "display_name": "Python 3 (ipykernel)",
   "language": "python",
   "name": "python3"
  },
  "language_info": {
   "codemirror_mode": {
    "name": "ipython",
    "version": 3
   },
   "file_extension": ".py",
   "mimetype": "text/x-python",
   "name": "python",
   "nbconvert_exporter": "python",
   "pygments_lexer": "ipython3",
   "version": "3.12.6"
  }
 },
 "nbformat": 4,
 "nbformat_minor": 5
}

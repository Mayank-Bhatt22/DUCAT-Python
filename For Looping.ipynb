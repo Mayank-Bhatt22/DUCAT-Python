{
 "cells": [
  {
   "cell_type": "markdown",
   "id": "f50b0ba8-4772-4fb0-a743-c0f60eb8c257",
   "metadata": {},
   "source": [
    "# Friday 12/09/2025"
   ]
  },
  {
   "cell_type": "code",
   "execution_count": 1,
   "id": "94c49a3d-e9e1-40fa-96fe-f701e03eb39b",
   "metadata": {},
   "outputs": [
    {
     "name": "stdout",
     "output_type": "stream",
     "text": [
      "M\n"
     ]
    }
   ],
   "source": [
    "name=\"Mayank\"\n",
    "print(name[0])"
   ]
  },
  {
   "cell_type": "code",
   "execution_count": 2,
   "id": "93f8dcf4-937c-4f20-aa18-81a45daac001",
   "metadata": {},
   "outputs": [
    {
     "name": "stdout",
     "output_type": "stream",
     "text": [
      "M\n",
      "a\n",
      "y\n",
      "a\n",
      "n\n",
      "k\n"
     ]
    }
   ],
   "source": [
    "# for loop\n",
    "for i in name:\n",
    "    print(i)"
   ]
  },
  {
   "cell_type": "code",
   "execution_count": 15,
   "id": "98047b5a-8003-42a3-b823-8a93804a0c4a",
   "metadata": {},
   "outputs": [
    {
     "name": "stdout",
     "output_type": "stream",
     "text": [
      "H\n",
      "e\n",
      "l\n",
      "l\n",
      "o\n",
      ",\n",
      " \n",
      "W\n",
      "o\n",
      "r\n",
      "l\n",
      "d\n"
     ]
    }
   ],
   "source": [
    "# string\n",
    "name=\"Hello, World\"\n",
    "for i in name:\n",
    "    print(i)"
   ]
  },
  {
   "cell_type": "code",
   "execution_count": 9,
   "id": "339b1a3f-64f4-49e1-aea8-739aab808b70",
   "metadata": {},
   "outputs": [
    {
     "name": "stdout",
     "output_type": "stream",
     "text": [
      "Hello\n",
      "World\n"
     ]
    }
   ],
   "source": [
    "# List\n",
    "name=[\"Hello\",\"World\"]\n",
    "for i in name:\n",
    "    print(i)"
   ]
  },
  {
   "cell_type": "code",
   "execution_count": 14,
   "id": "13eb66b4-32a8-42eb-be06-a38bc05c7cd3",
   "metadata": {},
   "outputs": [
    {
     "name": "stdout",
     "output_type": "stream",
     "text": [
      "Hello\n",
      "World\n"
     ]
    }
   ],
   "source": [
    "# Tuple\n",
    "name=(\"Hello\",\"World\")\n",
    "for i in name:\n",
    "    print(i)"
   ]
  },
  {
   "cell_type": "code",
   "execution_count": 8,
   "id": "d396c95c-9d5e-469b-8179-3f6d80530930",
   "metadata": {},
   "outputs": [
    {
     "name": "stdout",
     "output_type": "stream",
     "text": [
      "World\n",
      "Hello\n"
     ]
    }
   ],
   "source": [
    "# Set\n",
    "name={\"Hello\",\"World\"}\n",
    "for i in name:\n",
    "    print(i)"
   ]
  },
  {
   "cell_type": "code",
   "execution_count": 13,
   "id": "208c5ffd-eaac-456b-9c9d-ec7f20a8baca",
   "metadata": {},
   "outputs": [
    {
     "name": "stdout",
     "output_type": "stream",
     "text": [
      "Hello\n",
      "Mayank\n"
     ]
    }
   ],
   "source": [
    "# Dictionary\n",
    "name={\"Hello\":\"World\",\"Mayank\":\"Bhatt\"}\n",
    "for i in name:\n",
    "    print(i)"
   ]
  },
  {
   "cell_type": "code",
   "execution_count": 16,
   "id": "cbb24fd9-01e7-4422-b082-c149600c9b68",
   "metadata": {},
   "outputs": [
    {
     "name": "stdout",
     "output_type": "stream",
     "text": [
      "Hello:World\n",
      "Mayank:Bhatt\n"
     ]
    }
   ],
   "source": [
    "# Dictionary\n",
    "name={\"Hello\":\"World\",\"Mayank\":\"Bhatt\"}\n",
    "for i in name:\n",
    "    print(i,name[i],sep=\":\")"
   ]
  },
  {
   "cell_type": "code",
   "execution_count": 18,
   "id": "5563c246-e0be-4090-80f4-94a2c9f23cb2",
   "metadata": {},
   "outputs": [
    {
     "data": {
      "text/plain": [
       "dict_values(['World', 'Bhatt'])"
      ]
     },
     "execution_count": 18,
     "metadata": {},
     "output_type": "execute_result"
    }
   ],
   "source": [
    "name.values()"
   ]
  },
  {
   "cell_type": "code",
   "execution_count": 19,
   "id": "cc957973-226e-40c2-b6b7-10d7da40b3a1",
   "metadata": {},
   "outputs": [
    {
     "data": {
      "text/plain": [
       "dict_keys(['Hello', 'Mayank'])"
      ]
     },
     "execution_count": 19,
     "metadata": {},
     "output_type": "execute_result"
    }
   ],
   "source": [
    "name.keys()"
   ]
  },
  {
   "cell_type": "code",
   "execution_count": 21,
   "id": "ef884cd4-f572-4516-9e22-34709070d4e7",
   "metadata": {},
   "outputs": [
    {
     "data": {
      "text/plain": [
       "dict_items([('Hello', 'World'), ('Mayank', 'Bhatt')])"
      ]
     },
     "execution_count": 21,
     "metadata": {},
     "output_type": "execute_result"
    }
   ],
   "source": [
    "name.items()"
   ]
  },
  {
   "cell_type": "code",
   "execution_count": 23,
   "id": "08b9e671-3042-4115-90df-f3775129c41d",
   "metadata": {},
   "outputs": [
    {
     "name": "stdout",
     "output_type": "stream",
     "text": [
      "Hello\n",
      "Mayank\n"
     ]
    }
   ],
   "source": [
    "for key,value in name.items():\n",
    "    print(key)"
   ]
  },
  {
   "cell_type": "code",
   "execution_count": 22,
   "id": "72b1c6bf-22c2-48f7-a88f-f0b42d45c848",
   "metadata": {},
   "outputs": [
    {
     "name": "stdout",
     "output_type": "stream",
     "text": [
      "Hello World\n",
      "Mayank Bhatt\n"
     ]
    }
   ],
   "source": [
    "for key,value in name.items():\n",
    "    print(key,value)"
   ]
  },
  {
   "cell_type": "code",
   "execution_count": 24,
   "id": "8868de75-73af-4fae-af53-e26a059accab",
   "metadata": {},
   "outputs": [
    {
     "name": "stdout",
     "output_type": "stream",
     "text": [
      "1. mayank\n",
      "2. Bhatt\n"
     ]
    }
   ],
   "source": [
    "a=[\"mayank\",\"Bhatt\"]\n",
    "counter=1\n",
    "for a in a:\n",
    "    print(counter,a,sep=\". \")\n",
    "    counter+=1"
   ]
  },
  {
   "cell_type": "code",
   "execution_count": 26,
   "id": "b108ac8b-20e2-4fa6-b815-f5f5137465d7",
   "metadata": {},
   "outputs": [
    {
     "name": "stdout",
     "output_type": "stream",
     "text": [
      "1. mayank\n",
      "2. Bhatt\n"
     ]
    }
   ],
   "source": [
    "a=[\"mayank\",\"Bhatt\"]\n",
    "\n",
    "for index, a in enumerate(a,start=1):\n",
    "    print(index,a,sep=\". \")"
   ]
  },
  {
   "cell_type": "markdown",
   "id": "a5509796-d5c2-4bb5-8be2-ca91b4fd6e3a",
   "metadata": {},
   "source": [
    "# Thursday 18/09/2025"
   ]
  },
  {
   "cell_type": "markdown",
   "id": "06d0b80f-028f-4ed7-b0b9-e5809e5309a8",
   "metadata": {},
   "source": [
    "# Range() function\n",
    "- Range(start=0,end=n-1,step=1)"
   ]
  },
  {
   "cell_type": "code",
   "execution_count": 1,
   "id": "621e97f6-baad-425c-8a11-5cbae3529792",
   "metadata": {},
   "outputs": [
    {
     "data": {
      "text/plain": [
       "range(0, 10)"
      ]
     },
     "execution_count": 1,
     "metadata": {},
     "output_type": "execute_result"
    }
   ],
   "source": [
    "range(10)"
   ]
  },
  {
   "cell_type": "code",
   "execution_count": 2,
   "id": "ae4257c0-4986-4d08-9206-12a2b97acd59",
   "metadata": {},
   "outputs": [
    {
     "name": "stdout",
     "output_type": "stream",
     "text": [
      "0\n",
      "1\n",
      "2\n",
      "3\n",
      "4\n",
      "5\n",
      "6\n",
      "7\n",
      "8\n",
      "9\n"
     ]
    }
   ],
   "source": [
    "for i in range(10):\n",
    "    print(i)"
   ]
  },
  {
   "cell_type": "code",
   "execution_count": 3,
   "id": "9e85274b-43a2-4c51-a43e-b9235c08b9e1",
   "metadata": {},
   "outputs": [
    {
     "name": "stdout",
     "output_type": "stream",
     "text": [
      "5\n",
      "8\n",
      "11\n",
      "14\n",
      "17\n"
     ]
    }
   ],
   "source": [
    "for i in range(5,20,3):\n",
    "    print(i)"
   ]
  },
  {
   "cell_type": "code",
   "execution_count": 60,
   "id": "ca947f43-09ce-4851-b418-855ff33c734a",
   "metadata": {},
   "outputs": [
    {
     "data": {
      "text/plain": [
       "97"
      ]
     },
     "execution_count": 60,
     "metadata": {},
     "output_type": "execute_result"
    }
   ],
   "source": [
    "ord(\"a\")"
   ]
  },
  {
   "cell_type": "code",
   "execution_count": 62,
   "id": "360c6323-fb1d-4f29-a9d5-6eb7f95f312a",
   "metadata": {},
   "outputs": [
    {
     "data": {
      "text/plain": [
       "'A'"
      ]
     },
     "execution_count": 62,
     "metadata": {},
     "output_type": "execute_result"
    }
   ],
   "source": [
    "chr(65)"
   ]
  },
  {
   "cell_type": "markdown",
   "id": "db5f07ae-5e4f-43e1-8d19-8c2aee20a318",
   "metadata": {},
   "source": [
    "# List"
   ]
  },
  {
   "cell_type": "code",
   "execution_count": 2,
   "id": "28474c15-1ac3-481c-bdab-1168df12d85b",
   "metadata": {},
   "outputs": [
    {
     "name": "stdout",
     "output_type": "stream",
     "text": [
      "1,2,3,4,5,6,7,8,9,10,"
     ]
    }
   ],
   "source": [
    "L1=[1,2,3,4,5,6,7,8,9,10]\n",
    "for i in L1:\n",
    "    print(i,end = ',')"
   ]
  },
  {
   "cell_type": "code",
   "execution_count": 3,
   "id": "da9b3dd5-163c-4526-913d-6658367c729c",
   "metadata": {},
   "outputs": [
    {
     "data": {
      "text/plain": [
       "10"
      ]
     },
     "execution_count": 3,
     "metadata": {},
     "output_type": "execute_result"
    }
   ],
   "source": [
    "len(L1)"
   ]
  },
  {
   "cell_type": "code",
   "execution_count": 4,
   "id": "79efe012-3bac-47d4-ac89-6255c920b09d",
   "metadata": {},
   "outputs": [
    {
     "name": "stdout",
     "output_type": "stream",
     "text": [
      "55\n"
     ]
    }
   ],
   "source": [
    "print(sum(L1))"
   ]
  },
  {
   "cell_type": "code",
   "execution_count": 5,
   "id": "37d7ac0e-9dc5-432d-ad7a-4926c0e91f0b",
   "metadata": {},
   "outputs": [
    {
     "data": {
      "text/plain": [
       "1"
      ]
     },
     "execution_count": 5,
     "metadata": {},
     "output_type": "execute_result"
    }
   ],
   "source": [
    "min(L1)"
   ]
  },
  {
   "cell_type": "code",
   "execution_count": 6,
   "id": "2079314f-3955-4297-971e-c2c0b3eda9c2",
   "metadata": {},
   "outputs": [
    {
     "data": {
      "text/plain": [
       "10"
      ]
     },
     "execution_count": 6,
     "metadata": {},
     "output_type": "execute_result"
    }
   ],
   "source": [
    "max(L1)"
   ]
  },
  {
   "cell_type": "code",
   "execution_count": 7,
   "id": "0015030e-5654-41f8-852a-3432c5dde717",
   "metadata": {},
   "outputs": [
    {
     "data": {
      "text/plain": [
       "[1, 2, 3, 4, 5, 6, 7, 8, 9, 10]"
      ]
     },
     "execution_count": 7,
     "metadata": {},
     "output_type": "execute_result"
    }
   ],
   "source": [
    "sorted(L1)"
   ]
  },
  {
   "cell_type": "code",
   "execution_count": 9,
   "id": "831ccbdd-3e10-43fa-aad4-0d6c92b77bd8",
   "metadata": {},
   "outputs": [
    {
     "data": {
      "text/plain": [
       "[10, 9, 8, 7, 6, 5, 4, 3, 2, 1]"
      ]
     },
     "execution_count": 9,
     "metadata": {},
     "output_type": "execute_result"
    }
   ],
   "source": [
    "list(reversed(L1))"
   ]
  },
  {
   "cell_type": "code",
   "execution_count": 11,
   "id": "cdbead38-1afd-4cb8-b825-8e1abfe7e0f0",
   "metadata": {},
   "outputs": [
    {
     "data": {
      "text/plain": [
       "[(0, 1),\n",
       " (1, 2),\n",
       " (2, 3),\n",
       " (3, 4),\n",
       " (4, 5),\n",
       " (5, 6),\n",
       " (6, 7),\n",
       " (7, 8),\n",
       " (8, 9),\n",
       " (9, 10)]"
      ]
     },
     "execution_count": 11,
     "metadata": {},
     "output_type": "execute_result"
    }
   ],
   "source": [
    "list(enumerate(L1))"
   ]
  },
  {
   "cell_type": "code",
   "execution_count": 14,
   "id": "023024f5-e697-4249-9740-37d804893ba0",
   "metadata": {},
   "outputs": [
    {
     "name": "stdout",
     "output_type": "stream",
     "text": [
      "1 : 1\n",
      "2 : 2\n",
      "3 : 3\n",
      "4 : 4\n",
      "5 : 5\n",
      "6 : 6\n",
      "7 : 7\n",
      "8 : 8\n",
      "9 : 9\n",
      "10 : 10\n"
     ]
    }
   ],
   "source": [
    "for index,value in enumerate(L1,start=1):\n",
    "    print(index,value,sep=\" : \")"
   ]
  },
  {
   "cell_type": "code",
   "execution_count": 24,
   "id": "d8b72571-ba72-42a9-8b17-0e7f723bc966",
   "metadata": {},
   "outputs": [
    {
     "data": {
      "text/plain": [
       "[1, 2, 3, 12, 5, 6, 7, 8, 9, 10, 11, 11, 11, 11, 11, 11, 11, 11]"
      ]
     },
     "execution_count": 24,
     "metadata": {},
     "output_type": "execute_result"
    }
   ],
   "source": [
    "L1.append(11)\n",
    "L1"
   ]
  },
  {
   "cell_type": "code",
   "execution_count": 25,
   "id": "321ec1b8-623e-462a-8ad7-50d5f4edf286",
   "metadata": {},
   "outputs": [
    {
     "data": {
      "text/plain": [
       "[1, 2, 3, 12, 5, 6, 7, 8, 9, 10, 11, 11, 11, 11, 11, 11, 11, 11]"
      ]
     },
     "execution_count": 25,
     "metadata": {},
     "output_type": "execute_result"
    }
   ],
   "source": [
    "L1[3]=12\n",
    "L1"
   ]
  },
  {
   "cell_type": "code",
   "execution_count": 26,
   "id": "b4f33bee-1cc5-426b-a304-1347ab6c70cd",
   "metadata": {},
   "outputs": [
    {
     "data": {
      "text/plain": [
       "[1, 2, 3, 12, 5, 6, 7, 8, 9, 10, 11, 11, 11, 11, 11, 11, 11, 11, [20, 22, 23]]"
      ]
     },
     "execution_count": 26,
     "metadata": {},
     "output_type": "execute_result"
    }
   ],
   "source": [
    "L1.append([20,22,23])\n",
    "L1"
   ]
  },
  {
   "cell_type": "code",
   "execution_count": 28,
   "id": "2792deec-1793-4aba-a893-ce7fff5a6319",
   "metadata": {},
   "outputs": [
    {
     "name": "stdout",
     "output_type": "stream",
     "text": [
      "[1, 2, 3, 12, 5, 6, 7, 8, 9, 10, 11, 11, 11, 11, 11, 11, 11, 11, [20, 22, 23], 24, 25, 26, 24, 25, 26]"
     ]
    }
   ],
   "source": [
    "\n",
    "L1.extend([24,25,26])\n",
    "print(L1,end='')"
   ]
  },
  {
   "cell_type": "markdown",
   "id": "318b84bd-ffee-4647-9b7f-e9c64036a2a4",
   "metadata": {},
   "source": [
    "# Transfer Statement\n",
    "1. pass\n",
    "2. continue\n",
    "3. break"
   ]
  },
  {
   "cell_type": "code",
   "execution_count": 2,
   "id": "45633b3e-3888-464d-bb36-d0575f137130",
   "metadata": {},
   "outputs": [
    {
     "name": "stdout",
     "output_type": "stream",
     "text": [
      "10\n"
     ]
    }
   ],
   "source": [
    "# pass\n",
    "for i in range(10):\n",
    "    pass\n",
    "a=10\n",
    "print(a)"
   ]
  },
  {
   "cell_type": "code",
   "execution_count": 5,
   "id": "d0ad6395-8d73-4cb5-adb1-d613909ebf9d",
   "metadata": {},
   "outputs": [
    {
     "name": "stdout",
     "output_type": "stream",
     "text": [
      "5\n"
     ]
    }
   ],
   "source": [
    "# break \n",
    "for i in range(10):\n",
    "    if i == 5:\n",
    "        break\n",
    "    print(i)"
   ]
  },
  {
   "cell_type": "code",
   "execution_count": 6,
   "id": "68783a43-2102-4ba2-aed7-cd5c31452583",
   "metadata": {},
   "outputs": [
    {
     "name": "stdout",
     "output_type": "stream",
     "text": [
      "0\n",
      "1\n",
      "2\n",
      "3\n",
      "4\n",
      "6\n",
      "7\n",
      "8\n",
      "9\n"
     ]
    }
   ],
   "source": [
    "# continue\n",
    "for i in range(10):\n",
    "    if i==5:\n",
    "        continue\n",
    "    print(i)\n"
   ]
  },
  {
   "cell_type": "code",
   "execution_count": 1,
   "id": "b90a07b7-3004-4a7d-b1e1-af94883d7f5c",
   "metadata": {},
   "outputs": [
    {
     "name": "stdout",
     "output_type": "stream",
     "text": [
      "0 1 2 3 4 \n",
      "0 1 2 3 4 \n",
      "0 1 2 3 4 \n",
      "0 1 2 3 4 \n",
      "0 1 2 3 4 \n"
     ]
    }
   ],
   "source": [
    "# to print a box\n",
    "for col in range(5):\n",
    "    # print(col)\n",
    "    for row in range(5):\n",
    "        print(row,end=\" \")\n",
    "    print()"
   ]
  },
  {
   "cell_type": "code",
   "execution_count": 1,
   "id": "d6863563-5472-47bd-8da7-70d4cba5ef65",
   "metadata": {},
   "outputs": [
    {
     "name": "stdout",
     "output_type": "stream",
     "text": [
      "6\n"
     ]
    }
   ],
   "source": [
    "n = 123453\n",
    "a = []\n",
    "for i in str(n):\n",
    "    a.append(int(i))\n",
    "print(len(a))"
   ]
  },
  {
   "cell_type": "code",
   "execution_count": 2,
   "id": "3671763f-70f6-4529-9992-0da00652a949",
   "metadata": {},
   "outputs": [
    {
     "name": "stdin",
     "output_type": "stream",
     "text": [
      "Enter the no: 3445\n"
     ]
    },
    {
     "name": "stdout",
     "output_type": "stream",
     "text": [
      "4\n"
     ]
    }
   ],
   "source": [
    "n = int(input(\"Enter the no:\"))\n",
    "counter=0\n",
    "while n>0:\n",
    "    counter +=1\n",
    "    n//=10\n",
    "print(counter)"
   ]
  },
  {
   "cell_type": "code",
   "execution_count": null,
   "id": "55fa01e4-e36e-420a-ae66-02f442d3fb68",
   "metadata": {},
   "outputs": [],
   "source": []
  }
 ],
 "metadata": {
  "kernelspec": {
   "display_name": "Python 3 (ipykernel)",
   "language": "python",
   "name": "python3"
  },
  "language_info": {
   "codemirror_mode": {
    "name": "ipython",
    "version": 3
   },
   "file_extension": ".py",
   "mimetype": "text/x-python",
   "name": "python",
   "nbconvert_exporter": "python",
   "pygments_lexer": "ipython3",
   "version": "3.12.6"
  }
 },
 "nbformat": 4,
 "nbformat_minor": 5
}

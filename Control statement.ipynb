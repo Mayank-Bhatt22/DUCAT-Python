{
 "cells": [
  {
   "cell_type": "markdown",
   "id": "8c1b17da-37bb-48a5-b1eb-377bd9c0f176",
   "metadata": {},
   "source": [
    "# Tuseday 09/09/2024"
   ]
  },
  {
   "cell_type": "code",
   "execution_count": 1,
   "id": "0bc72191-7219-43d6-abe0-f7206ff538d6",
   "metadata": {},
   "outputs": [
    {
     "name": "stdout",
     "output_type": "stream",
     "text": [
      "Line-1\n",
      "Line-2\n",
      "Line-3\n",
      "Line-4\n",
      "Line-5\n",
      "Line-6\n",
      "Line-7\n",
      "Line-8\n",
      "Line-9\n",
      "Line-10\n",
      "Line-11\n"
     ]
    }
   ],
   "source": [
    "print(\"Line-1\")\n",
    "print(\"Line-2\")\n",
    "print(\"Line-3\")\n",
    "print(\"Line-4\")\n",
    "print(\"Line-5\")\n",
    "print(\"Line-6\")\n",
    "print(\"Line-7\")\n",
    "print(\"Line-8\")\n",
    "print(\"Line-9\")\n",
    "print(\"Line-10\")\n",
    "print(\"Line-11\")"
   ]
  },
  {
   "cell_type": "code",
   "execution_count": 2,
   "id": "757b96bb-1ddf-4e6e-a50a-897aac388043",
   "metadata": {},
   "outputs": [
    {
     "name": "stdout",
     "output_type": "stream",
     "text": [
      "Hello\n"
     ]
    }
   ],
   "source": [
    "if True:\n",
    "    print(\"Hello\")"
   ]
  },
  {
   "cell_type": "code",
   "execution_count": 3,
   "id": "2855c6dc-246c-4683-a4a3-d41776362f3f",
   "metadata": {},
   "outputs": [],
   "source": [
    "if False:\n",
    "    print(\"Hello\")"
   ]
  },
  {
   "cell_type": "code",
   "execution_count": 4,
   "id": "efaa5c51-9a0f-4db3-b588-0a4041f9d3cd",
   "metadata": {},
   "outputs": [
    {
     "name": "stdout",
     "output_type": "stream",
     "text": [
      "by\n"
     ]
    }
   ],
   "source": [
    "if False:\n",
    "    print(\"Hello\")\n",
    "else:\n",
    "    print(\"by\")"
   ]
  },
  {
   "cell_type": "code",
   "execution_count": 5,
   "id": "7d49be0c-29ad-474a-bd8c-6b6d4049f056",
   "metadata": {},
   "outputs": [
    {
     "name": "stdin",
     "output_type": "stream",
     "text": [
      "Enter any no: -12\n"
     ]
    },
    {
     "name": "stdout",
     "output_type": "stream",
     "text": [
      "Negative\n"
     ]
    }
   ],
   "source": [
    "# no is positive\n",
    "no = int(input(\"Enter any no:\"))\n",
    "if no>0:\n",
    "    print(\"Positive Number\")\n",
    "else:\n",
    "    print(\"Negative Number\")"
   ]
  },
  {
   "cell_type": "code",
   "execution_count": 1,
   "id": "4c7e887f-02de-4a1a-9105-ac9cea46a6d4",
   "metadata": {},
   "outputs": [
    {
     "name": "stdin",
     "output_type": "stream",
     "text": [
      "Enter any no 0\n"
     ]
    },
    {
     "name": "stdout",
     "output_type": "stream",
     "text": [
      "Zero\n"
     ]
    }
   ],
   "source": [
    "no=int(input(\"Enter any no\"))\n",
    "if no>0:\n",
    "    print(\"Positive\")\n",
    "elif no==0:\n",
    "    print(\"Zero\")\n",
    "else:\n",
    "    print(\"negative\")"
   ]
  },
  {
   "cell_type": "code",
   "execution_count": 15,
   "id": "bb8b0fb1-201f-4a0f-aa5b-e3bb3938c240",
   "metadata": {},
   "outputs": [
    {
     "name": "stdin",
     "output_type": "stream",
     "text": [
      "Enter any no: 11\n"
     ]
    },
    {
     "name": "stdout",
     "output_type": "stream",
     "text": [
      "Odd number\n"
     ]
    }
   ],
   "source": [
    "# odd even\n",
    "no = int(input(\"Enter any no:\"))\n",
    "\n",
    "if no%2==0:\n",
    "    print(\"Even number\")\n",
    "\n",
    "else:\n",
    "    print(\"Odd number\")\n",
    "    "
   ]
  },
  {
   "cell_type": "code",
   "execution_count": 19,
   "id": "7dbd9eac-982f-420d-9842-d1cb3d9f768e",
   "metadata": {},
   "outputs": [
    {
     "name": "stdin",
     "output_type": "stream",
     "text": [
      "Enter any no: 11\n"
     ]
    },
    {
     "name": "stdout",
     "output_type": "stream",
     "text": [
      "Isn't multiple of 3 and 5\n"
     ]
    }
   ],
   "source": [
    "\n",
    "no = int(input(\"Enter any no:\"))\n",
    "\n",
    "if no%3 ==0 and no%5 ==0:\n",
    "    print(\"Multiple of 3 and 5\")\n",
    "else:\n",
    "    print(\"Isn't multiple of 3 and 5\")\n",
    "    "
   ]
  },
  {
   "cell_type": "markdown",
   "id": "a33bfec4-e94e-4c8a-97c4-71a30d430cc7",
   "metadata": {},
   "source": [
    "# Wednesday 10/09/2025"
   ]
  },
  {
   "cell_type": "code",
   "execution_count": 1,
   "id": "e1e9a0ba-c5bc-4aa2-9bc6-43ea69d60bb5",
   "metadata": {},
   "outputs": [
    {
     "data": {
      "text/plain": [
       "'MAYANK'"
      ]
     },
     "execution_count": 1,
     "metadata": {},
     "output_type": "execute_result"
    }
   ],
   "source": [
    "name=\"MaYaNk\"\n",
    "name.upper()"
   ]
  },
  {
   "cell_type": "code",
   "execution_count": 2,
   "id": "15115350-5e58-407f-b5af-1fe967b59cbc",
   "metadata": {},
   "outputs": [
    {
     "data": {
      "text/plain": [
       "'mayank'"
      ]
     },
     "execution_count": 2,
     "metadata": {},
     "output_type": "execute_result"
    }
   ],
   "source": [
    "name=\"MaYaNk\"\n",
    "name.lower()"
   ]
  },
  {
   "cell_type": "code",
   "execution_count": null,
   "id": "a1cbd8ba-655c-40da-98c3-b6b17de0df06",
   "metadata": {},
   "outputs": [],
   "source": [
    "# 14. Password Validator: Create a program that asks the user for a password and checks if it meets certain criteria (e.g., length, characters).\n",
    "password=input(\"Enter your password:\")\n",
    "if len(password)>=8 and len(password)<=16:\n",
    "    print(\"Valid password\")\n",
    "else:\n",
    "    print(\"Invalid password\")"
   ]
  },
  {
   "cell_type": "code",
   "execution_count": 3,
   "id": "debac630-4734-4512-a8e2-ef934a92e1bf",
   "metadata": {},
   "outputs": [],
   "source": [
    "password = \"123456789\""
   ]
  },
  {
   "cell_type": "code",
   "execution_count": 4,
   "id": "f1c1e42a-ba95-4faa-9d29-78bc9eb3f0d7",
   "metadata": {},
   "outputs": [
    {
     "data": {
      "text/plain": [
       "True"
      ]
     },
     "execution_count": 4,
     "metadata": {},
     "output_type": "execute_result"
    }
   ],
   "source": [
    "# both abcd and 1234\n",
    "password.isalnum() "
   ]
  },
  {
   "cell_type": "code",
   "execution_count": 5,
   "id": "47b9a9db-d4c5-4125-84e3-e470c787a84e",
   "metadata": {},
   "outputs": [
    {
     "data": {
      "text/plain": [
       "False"
      ]
     },
     "execution_count": 5,
     "metadata": {},
     "output_type": "execute_result"
    }
   ],
   "source": [
    "# only abcd\n",
    "password.isalpha()"
   ]
  },
  {
   "cell_type": "code",
   "execution_count": 6,
   "id": "cfa49a7a-675e-4ab6-83be-27c57d8017ed",
   "metadata": {},
   "outputs": [
    {
     "data": {
      "text/plain": [
       "True"
      ]
     },
     "execution_count": 6,
     "metadata": {},
     "output_type": "execute_result"
    }
   ],
   "source": [
    "# only 1234\n",
    "password.isdigit()"
   ]
  },
  {
   "cell_type": "markdown",
   "id": "0773e749-6687-4c42-a184-3bce20c9ee2f",
   "metadata": {},
   "source": [
    "# Nested if"
   ]
  },
  {
   "cell_type": "code",
   "execution_count": null,
   "id": "80cb52c7-ee9d-4299-91b3-a3f7ea3013ea",
   "metadata": {},
   "outputs": [],
   "source": [
    "# 21. marksheet\n",
    "marks=int(input(\"Enter the marks:\"))\n",
    "if 0<=marks<=100:\n",
    "    if 80<=marks<=100:\n",
    "        print(\"A Grade\")\n",
    "    elif 60<=marks<=79:\n",
    "        print(\"B Grade\")\n",
    "    elif 45<=marks<=59:\n",
    "        print(\"C Grade\")\n",
    "    elif 35<=marks<=45:\n",
    "        print(\"D Grade\")\n",
    "    else:\n",
    "        print(\"Fail\")\n",
    "else:\n",
    "    print(\"Invalid marks\")"
   ]
  },
  {
   "cell_type": "code",
   "execution_count": 9,
   "id": "30abfe34-d057-4181-8ffe-dd58b34d4543",
   "metadata": {},
   "outputs": [
    {
     "name": "stdin",
     "output_type": "stream",
     "text": [
      "Enter the first no: 22\n",
      "Enter the second no: 22\n",
      "Enter the third no: 22\n"
     ]
    },
    {
     "name": "stdout",
     "output_type": "stream",
     "text": [
      "All are same\n"
     ]
    }
   ],
   "source": [
    "# 28.\n",
    "n1=int(input(\"Enter the first no:\"))\n",
    "n2=int(input(\"Enter the second no:\"))\n",
    "n3=int(input(\"Enter the third no:\"))\n",
    "\n",
    "if n1>n2 and n1>n3:\n",
    "    print(f\"{n1} is greater\")\n",
    "elif n2>n1 and n2>n3:\n",
    "    print(f\"{n2} is greater\")\n",
    "elif n3>n1 and n3>n2:\n",
    "    print(f\"{n3} is greater\")\n",
    "else:\n",
    "    print(\"All are same\")"
   ]
  },
  {
   "cell_type": "markdown",
   "id": "716996d8-4d79-4372-b0dd-e4ce74e01bae",
   "metadata": {},
   "source": [
    "# Slicing \n",
    "[Start=0: end=n-1:step1]"
   ]
  },
  {
   "cell_type": "code",
   "execution_count": 2,
   "id": "9ae69d79-a40d-4e53-a704-300beee01b1b",
   "metadata": {},
   "outputs": [
    {
     "data": {
      "text/plain": [
       "'hello'"
      ]
     },
     "execution_count": 2,
     "metadata": {},
     "output_type": "execute_result"
    }
   ],
   "source": [
    "s=\"hello everyone\"\n",
    "s[0:5]"
   ]
  },
  {
   "cell_type": "code",
   "execution_count": null,
   "id": "323fb63f-36fb-468e-96a8-2ec8f3c775d2",
   "metadata": {},
   "outputs": [],
   "source": [
    "s[6:11]"
   ]
  },
  {
   "cell_type": "code",
   "execution_count": 4,
   "id": "df2c5809-d95f-4e95-b84d-853a90d7760c",
   "metadata": {},
   "outputs": [
    {
     "data": {
      "text/plain": [
       "'hello ev'"
      ]
     },
     "execution_count": 4,
     "metadata": {},
     "output_type": "execute_result"
    }
   ],
   "source": [
    "s[:8]"
   ]
  },
  {
   "cell_type": "code",
   "execution_count": 3,
   "id": "12d0223f-08fd-43ad-8b7f-0de186e8f028",
   "metadata": {},
   "outputs": [
    {
     "data": {
      "text/plain": [
       "'hloeey'"
      ]
     },
     "execution_count": 3,
     "metadata": {},
     "output_type": "execute_result"
    }
   ],
   "source": [
    "s[:12:2]"
   ]
  },
  {
   "cell_type": "code",
   "execution_count": 5,
   "id": "cecb49d5-e933-498c-aa9e-1813fd5e7d86",
   "metadata": {},
   "outputs": [
    {
     "data": {
      "text/plain": [
       "'hello everyone'"
      ]
     },
     "execution_count": 5,
     "metadata": {},
     "output_type": "execute_result"
    }
   ],
   "source": [
    "s"
   ]
  },
  {
   "cell_type": "markdown",
   "id": "9d03a425-4062-4173-9f6b-18dd2e72c40f",
   "metadata": {},
   "source": [
    "# Wednesday 11/09/2025"
   ]
  },
  {
   "cell_type": "code",
   "execution_count": 7,
   "id": "44f6a80f-f284-4372-830f-176330b574ec",
   "metadata": {},
   "outputs": [],
   "source": [
    "text = \"This is a python class\""
   ]
  },
  {
   "cell_type": "code",
   "execution_count": 8,
   "id": "f70f526d-9d96-4e62-b25c-a96bd7cb6892",
   "metadata": {},
   "outputs": [
    {
     "data": {
      "text/plain": [
       "'is'"
      ]
     },
     "execution_count": 8,
     "metadata": {},
     "output_type": "execute_result"
    }
   ],
   "source": [
    "text[5:7]"
   ]
  },
  {
   "cell_type": "code",
   "execution_count": 9,
   "id": "12e8fa37-7715-4a2b-83f4-4166df5452a9",
   "metadata": {},
   "outputs": [
    {
     "data": {
      "text/plain": [
       "'Ti sapto ls'"
      ]
     },
     "execution_count": 9,
     "metadata": {},
     "output_type": "execute_result"
    }
   ],
   "source": [
    "text[::2]"
   ]
  },
  {
   "cell_type": "code",
   "execution_count": 11,
   "id": "e000c682-45d4-4bb3-a673-5f706f520765",
   "metadata": {},
   "outputs": [
    {
     "data": {
      "text/plain": [
       "'ssalc nohtyp a si sih'"
      ]
     },
     "execution_count": 11,
     "metadata": {},
     "output_type": "execute_result"
    }
   ],
   "source": [
    "text[21:0:-1]"
   ]
  },
  {
   "cell_type": "code",
   "execution_count": 12,
   "id": "e94cf4a3-04cb-4917-81ef-b92b4352e93b",
   "metadata": {},
   "outputs": [
    {
     "data": {
      "text/plain": [
       "'ssalc nohtyp a si sihT'"
      ]
     },
     "execution_count": 12,
     "metadata": {},
     "output_type": "execute_result"
    }
   ],
   "source": [
    "text[::-1]"
   ]
  },
  {
   "cell_type": "code",
   "execution_count": 13,
   "id": "6428aaa0-429b-4ec7-ab0f-deeec341aa0d",
   "metadata": {},
   "outputs": [
    {
     "data": {
      "text/plain": [
       "'knayaM'"
      ]
     },
     "execution_count": 13,
     "metadata": {},
     "output_type": "execute_result"
    }
   ],
   "source": [
    "name=\"Mayank\"\n",
    "name[::-1]"
   ]
  },
  {
   "cell_type": "markdown",
   "id": "761eef87-fda8-49e2-b9ae-71aca8d698db",
   "metadata": {},
   "source": [
    "# Split & Join"
   ]
  },
  {
   "cell_type": "code",
   "execution_count": 22,
   "id": "873e723e-e05d-4902-9a54-ed83382c60e8",
   "metadata": {},
   "outputs": [],
   "source": [
    "s1=\"hello python\""
   ]
  },
  {
   "cell_type": "code",
   "execution_count": 23,
   "id": "6f3ca661-18ba-4999-bd7c-ae3c753870d9",
   "metadata": {},
   "outputs": [
    {
     "data": {
      "text/plain": [
       "['hello', 'python']"
      ]
     },
     "execution_count": 23,
     "metadata": {},
     "output_type": "execute_result"
    }
   ],
   "source": [
    "s1.split()"
   ]
  },
  {
   "cell_type": "code",
   "execution_count": 24,
   "id": "fde83dd0-7f4f-4751-bbde-cab1cb74f961",
   "metadata": {},
   "outputs": [
    {
     "data": {
      "text/plain": [
       "['hell', ' pyth', 'n']"
      ]
     },
     "execution_count": 24,
     "metadata": {},
     "output_type": "execute_result"
    }
   ],
   "source": [
    "s1.split(sep=\"o\")"
   ]
  },
  {
   "cell_type": "code",
   "execution_count": 26,
   "id": "d9621f5c-af0a-4e95-b583-8629b0482766",
   "metadata": {},
   "outputs": [
    {
     "name": "stdout",
     "output_type": "stream",
     "text": [
      "['Maynk', 'Bhatt', 'Dexant', 'Bhatt', 'Satyam', 'Bhatt', 'Rohit', 'Bhatt', 'Amit', 'Bhatt', 'Aryan', 'Bhatt']\n"
     ]
    }
   ],
   "source": [
    "name=\"Maynk,Bhatt,Dexant,Bhatt,Satyam,Bhatt,Rohit,Bhatt,Amit,Bhatt,Aryan,Bhatt\"\n",
    "N=name.split(\",\")\n",
    "print(N)"
   ]
  },
  {
   "cell_type": "code",
   "execution_count": 30,
   "id": "70cfd0b8-06b7-4c01-99b7-0a4de7db4709",
   "metadata": {},
   "outputs": [
    {
     "data": {
      "text/plain": [
       "['Bhattmayankk99711', 'gmail.com']"
      ]
     },
     "execution_count": 30,
     "metadata": {},
     "output_type": "execute_result"
    }
   ],
   "source": [
    "email=\"Bhattmayankk99711@gmail.com\"\n",
    "email.split(\"@\")"
   ]
  },
  {
   "cell_type": "code",
   "execution_count": 28,
   "id": "d3f747d8-f0ae-4936-beeb-e4994e648063",
   "metadata": {},
   "outputs": [
    {
     "data": {
      "text/plain": [
       "['m', 'a', 'y', 'a', 'n', 'k']"
      ]
     },
     "execution_count": 28,
     "metadata": {},
     "output_type": "execute_result"
    }
   ],
   "source": [
    "m=\"mayank\"\n",
    "list(m)"
   ]
  },
  {
   "cell_type": "code",
   "execution_count": 32,
   "id": "d8f19331-6317-4948-931f-290ec484d51d",
   "metadata": {},
   "outputs": [
    {
     "name": "stdout",
     "output_type": "stream",
     "text": [
      "['m', 'a', 'y', 'a', 'n', 'k']\n"
     ]
    }
   ],
   "source": [
    "m=\"mayank\"\n",
    "l1=list(m)\n",
    "print(l1)"
   ]
  },
  {
   "cell_type": "code",
   "execution_count": 33,
   "id": "e504021b-f16d-4d97-a23f-648f9091d261",
   "metadata": {},
   "outputs": [
    {
     "data": {
      "text/plain": [
       "'mayank'"
      ]
     },
     "execution_count": 33,
     "metadata": {},
     "output_type": "execute_result"
    }
   ],
   "source": [
    "\"\".join(l1)"
   ]
  },
  {
   "cell_type": "code",
   "execution_count": 36,
   "id": "00395132-71de-4284-830a-e39fff5e26a6",
   "metadata": {},
   "outputs": [
    {
     "data": {
      "text/plain": [
       "'Maynk,Bhatt,Dexant,Bhatt,Satyam,Bhatt,Rohit,Bhatt,Amit,Bhatt,Aryan,Bhatt'"
      ]
     },
     "execution_count": 36,
     "metadata": {},
     "output_type": "execute_result"
    }
   ],
   "source": [
    "l2=[\"Maynk,Bhatt,Dexant,Bhatt,Satyam,Bhatt,Rohit,Bhatt,Amit,Bhatt,Aryan,Bhatt\"]\n",
    "\",\".join(l2)"
   ]
  }
 ],
 "metadata": {
  "kernelspec": {
   "display_name": "Python 3 (ipykernel)",
   "language": "python",
   "name": "python3"
  },
  "language_info": {
   "codemirror_mode": {
    "name": "ipython",
    "version": 3
   },
   "file_extension": ".py",
   "mimetype": "text/x-python",
   "name": "python",
   "nbconvert_exporter": "python",
   "pygments_lexer": "ipython3",
   "version": "3.12.6"
  }
 },
 "nbformat": 4,
 "nbformat_minor": 5
}

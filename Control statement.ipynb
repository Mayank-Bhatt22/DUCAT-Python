{
 "cells": [
  {
   "cell_type": "markdown",
   "id": "8c1b17da-37bb-48a5-b1eb-377bd9c0f176",
   "metadata": {},
   "source": [
    "# Tuseday 09/09/2024"
   ]
  },
  {
   "cell_type": "code",
   "execution_count": 1,
   "id": "0bc72191-7219-43d6-abe0-f7206ff538d6",
   "metadata": {},
   "outputs": [
    {
     "name": "stdout",
     "output_type": "stream",
     "text": [
      "Line-1\n",
      "Line-2\n",
      "Line-3\n",
      "Line-4\n",
      "Line-5\n",
      "Line-6\n",
      "Line-7\n",
      "Line-8\n",
      "Line-9\n",
      "Line-10\n",
      "Line-11\n"
     ]
    }
   ],
   "source": [
    "print(\"Line-1\")\n",
    "print(\"Line-2\")\n",
    "print(\"Line-3\")\n",
    "print(\"Line-4\")\n",
    "print(\"Line-5\")\n",
    "print(\"Line-6\")\n",
    "print(\"Line-7\")\n",
    "print(\"Line-8\")\n",
    "print(\"Line-9\")\n",
    "print(\"Line-10\")\n",
    "print(\"Line-11\")"
   ]
  },
  {
   "cell_type": "code",
   "execution_count": 2,
   "id": "757b96bb-1ddf-4e6e-a50a-897aac388043",
   "metadata": {},
   "outputs": [
    {
     "name": "stdout",
     "output_type": "stream",
     "text": [
      "Hello\n"
     ]
    }
   ],
   "source": [
    "if True:\n",
    "    print(\"Hello\")"
   ]
  },
  {
   "cell_type": "code",
   "execution_count": 3,
   "id": "2855c6dc-246c-4683-a4a3-d41776362f3f",
   "metadata": {},
   "outputs": [],
   "source": [
    "if False:\n",
    "    print(\"Hello\")"
   ]
  },
  {
   "cell_type": "code",
   "execution_count": 4,
   "id": "efaa5c51-9a0f-4db3-b588-0a4041f9d3cd",
   "metadata": {},
   "outputs": [
    {
     "name": "stdout",
     "output_type": "stream",
     "text": [
      "by\n"
     ]
    }
   ],
   "source": [
    "if False:\n",
    "    print(\"Hello\")\n",
    "else:\n",
    "    print(\"by\")"
   ]
  },
  {
   "cell_type": "code",
   "execution_count": 5,
   "id": "7d49be0c-29ad-474a-bd8c-6b6d4049f056",
   "metadata": {},
   "outputs": [
    {
     "name": "stdin",
     "output_type": "stream",
     "text": [
      "Enter any no: -12\n"
     ]
    },
    {
     "name": "stdout",
     "output_type": "stream",
     "text": [
      "Negative\n"
     ]
    }
   ],
   "source": [
    "# no is positive\n",
    "no = int(input(\"Enter any no:\"))\n",
    "if no>0:\n",
    "    print(\"Positive Number\")\n",
    "else:\n",
    "    print(\"Negative Number\")"
   ]
  },
  {
   "cell_type": "code",
   "execution_count": 1,
   "id": "4c7e887f-02de-4a1a-9105-ac9cea46a6d4",
   "metadata": {},
   "outputs": [
    {
     "name": "stdin",
     "output_type": "stream",
     "text": [
      "Enter any no 0\n"
     ]
    },
    {
     "name": "stdout",
     "output_type": "stream",
     "text": [
      "Zero\n"
     ]
    }
   ],
   "source": [
    "no=int(input(\"Enter any no\"))\n",
    "if no>0:\n",
    "    print(\"Positive\")\n",
    "elif no==0:\n",
    "    print(\"Zero\")\n",
    "else:\n",
    "    print(\"negative\")"
   ]
  },
  {
   "cell_type": "code",
   "execution_count": 15,
   "id": "bb8b0fb1-201f-4a0f-aa5b-e3bb3938c240",
   "metadata": {},
   "outputs": [
    {
     "name": "stdin",
     "output_type": "stream",
     "text": [
      "Enter any no: 11\n"
     ]
    },
    {
     "name": "stdout",
     "output_type": "stream",
     "text": [
      "Odd number\n"
     ]
    }
   ],
   "source": [
    "# odd even\n",
    "no = int(input(\"Enter any no:\"))\n",
    "\n",
    "if no%2==0:\n",
    "    print(\"Even number\")\n",
    "\n",
    "else:\n",
    "    print(\"Odd number\")\n",
    "    "
   ]
  },
  {
   "cell_type": "code",
   "execution_count": 19,
   "id": "7dbd9eac-982f-420d-9842-d1cb3d9f768e",
   "metadata": {},
   "outputs": [
    {
     "name": "stdin",
     "output_type": "stream",
     "text": [
      "Enter any no: 11\n"
     ]
    },
    {
     "name": "stdout",
     "output_type": "stream",
     "text": [
      "Isn't multiple of 3 and 5\n"
     ]
    }
   ],
   "source": [
    "\n",
    "no = int(input(\"Enter any no:\"))\n",
    "\n",
    "if no%3 ==0 and no%5 ==0:\n",
    "    print(\"Multiple of 3 and 5\")\n",
    "else:\n",
    "    print(\"Isn't multiple of 3 and 5\")\n",
    "    "
   ]
  },
  {
   "cell_type": "code",
   "execution_count": null,
   "id": "06d6320a-4531-4a2a-b72f-987ca989e3ba",
   "metadata": {},
   "outputs": [],
   "source": []
  }
 ],
 "metadata": {
  "kernelspec": {
   "display_name": "Python 3 (ipykernel)",
   "language": "python",
   "name": "python3"
  },
  "language_info": {
   "codemirror_mode": {
    "name": "ipython",
    "version": 3
   },
   "file_extension": ".py",
   "mimetype": "text/x-python",
   "name": "python",
   "nbconvert_exporter": "python",
   "pygments_lexer": "ipython3",
   "version": "3.12.6"
  }
 },
 "nbformat": 4,
 "nbformat_minor": 5
}

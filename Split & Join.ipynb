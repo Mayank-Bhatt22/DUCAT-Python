{
 "cells": [
  {
   "cell_type": "code",
   "execution_count": 3,
   "id": "1948a30c-ed77-4d93-ae42-57df76eda5cd",
   "metadata": {},
   "outputs": [
    {
     "data": {
      "text/plain": [
       "'hel'"
      ]
     },
     "execution_count": 3,
     "metadata": {},
     "output_type": "execute_result"
    }
   ],
   "source": [
    "# 1. Extract the first 3 characters from the string \"Hello World\".\n",
    "a=\"hello world\"\n",
    "a[:3]"
   ]
  },
  {
   "cell_type": "code",
   "execution_count": 6,
   "id": "eb240370-ed99-40a6-9650-d70df5b8ea30",
   "metadata": {},
   "outputs": [
    {
     "data": {
      "text/plain": [
       "'on'"
      ]
     },
     "execution_count": 6,
     "metadata": {},
     "output_type": "execute_result"
    }
   ],
   "source": [
    "# 2. Extract the last 2 characters from the string \"Python\".\n",
    "a=\"Python\"\n",
    "a[4:]"
   ]
  },
  {
   "cell_type": "code",
   "execution_count": 8,
   "id": "e6d28221-7e57-4b4e-8718-eeb416e6e828",
   "metadata": {},
   "outputs": [
    {
     "data": {
      "text/plain": [
       "'world'"
      ]
     },
     "execution_count": 8,
     "metadata": {},
     "output_type": "execute_result"
    }
   ],
   "source": [
    "# 3. Extract the substring \"World\" from the string \"Hello World\".\n",
    "a=\"Hello world\"\n",
    "a[6:]"
   ]
  },
  {
   "cell_type": "code",
   "execution_count": 9,
   "id": "9bbd0107-c552-4036-a878-b269e7cbeb86",
   "metadata": {},
   "outputs": [
    {
     "data": {
      "text/plain": [
       "'olleH'"
      ]
     },
     "execution_count": 9,
     "metadata": {},
     "output_type": "execute_result"
    }
   ],
   "source": [
    "# 4. Reverse the string \"Hello\".\n",
    "a=\"Hello\"\n",
    "a[::-1]"
   ]
  },
  {
   "cell_type": "code",
   "execution_count": 10,
   "id": "0ff32dcf-723a-4e0e-8c89-5d36ef902f1e",
   "metadata": {},
   "outputs": [
    {
     "data": {
      "text/plain": [
       "'aceg'"
      ]
     },
     "execution_count": 10,
     "metadata": {},
     "output_type": "execute_result"
    }
   ],
   "source": [
    "# 5. Extract every other character from the string \"abcdefg\".\n",
    "a= \"abcdefg\"\n",
    "a[::2]"
   ]
  },
  {
   "cell_type": "code",
   "execution_count": 13,
   "id": "b957b233-5834-444a-b81c-3b9403831b94",
   "metadata": {},
   "outputs": [
    {
     "data": {
      "text/plain": [
       "'Hello World'"
      ]
     },
     "execution_count": 13,
     "metadata": {},
     "output_type": "execute_result"
    }
   ],
   "source": [
    "# 6. Join the list [\"Hello\", \"World\"] into a single string with a space separator.\n",
    "a=[\"Hello\",\"World\"]\n",
    "\" \".join(a)"
   ]
  },
  {
   "cell_type": "code",
   "execution_count": 15,
   "id": "36b7cd27-4248-4c5c-98e4-50b71142644c",
   "metadata": {},
   "outputs": [
    {
     "data": {
      "text/plain": [
       "'a,b,c'"
      ]
     },
     "execution_count": 15,
     "metadata": {},
     "output_type": "execute_result"
    }
   ],
   "source": [
    "# 7. Join the list [\"a\", \"b\", \"c\"] into a single string with a comma separator.\n",
    "a= [\"a\", \"b\", \"c\"]\n",
    "\",\".join(a)"
   ]
  },
  {
   "cell_type": "code",
   "execution_count": 16,
   "id": "0042b31f-58ba-457f-b704-6a3ec3d992ae",
   "metadata": {},
   "outputs": [
    {
     "data": {
      "text/plain": [
       "'1-2-3'"
      ]
     },
     "execution_count": 16,
     "metadata": {},
     "output_type": "execute_result"
    }
   ],
   "source": [
    "# 8. Join the list [\"1\", \"2\", \"3\"] into a single string with a hyphen separator.\n",
    "a= [\"1\", \"2\", \"3\"]\n",
    "\"-\".join(a)"
   ]
  },
  {
   "cell_type": "code",
   "execution_count": null,
   "id": "5074b663-d6d5-4959-8446-fd4688b3bab2",
   "metadata": {},
   "outputs": [],
   "source": [
    "# 9. Join the list [\"Hello\", \"World\"] into a single string with a newline separator.\n",
    "# \\n ?"
   ]
  },
  {
   "cell_type": "code",
   "execution_count": 17,
   "id": "96b80ebd-1c66-4b1d-8bfd-777c7a50e819",
   "metadata": {},
   "outputs": [
    {
     "data": {
      "text/plain": [
       "'abc'"
      ]
     },
     "execution_count": 17,
     "metadata": {},
     "output_type": "execute_result"
    }
   ],
   "source": [
    "# 10. Join the list [\"a\", \"b\", \"c\"] into a single string without any separator.\n",
    "a= [\"a\", \"b\", \"c\"]\n",
    "\"\".join(a)"
   ]
  },
  {
   "cell_type": "code",
   "execution_count": 18,
   "id": "49f95e6f-c5ef-48eb-bb45-ec2887b6bc43",
   "metadata": {},
   "outputs": [
    {
     "data": {
      "text/plain": [
       "['H', 'e', 'l', 'l', 'o', ' ', 'w', 'o', 'r', 'l', 'd']"
      ]
     },
     "execution_count": 18,
     "metadata": {},
     "output_type": "execute_result"
    }
   ],
   "source": [
    "# 11. Split the string \"Hello World\" into a list of words.\n",
    "a=\"Hello world\"\n",
    "list(a)"
   ]
  },
  {
   "cell_type": "code",
   "execution_count": 21,
   "id": "14b92730-b305-4dd4-9d76-0533243782c6",
   "metadata": {},
   "outputs": [
    {
     "data": {
      "text/plain": [
       "['a', 'b', 'c']"
      ]
     },
     "execution_count": 21,
     "metadata": {},
     "output_type": "execute_result"
    }
   ],
   "source": [
    "# 12. Split the string \"a,b,c\" into a list of characters using a comma separator.\n",
    "a = \"a,b,c\"\n",
    "a.split(\",\")"
   ]
  },
  {
   "cell_type": "code",
   "execution_count": 22,
   "id": "37c8a828-3e0e-447e-8e62-1575ae63a8a8",
   "metadata": {},
   "outputs": [
    {
     "data": {
      "text/plain": [
       "['1', '2', '3']"
      ]
     },
     "execution_count": 22,
     "metadata": {},
     "output_type": "execute_result"
    }
   ],
   "source": [
    "# 13. Split the string \"1-2-3\" into a list of numbers using a hyphen separator.\n",
    "a = \"1-2-3\"\n",
    "a.split(\"-\")"
   ]
  },
  {
   "cell_type": "code",
   "execution_count": 23,
   "id": "9c909725-76b2-4b95-b1bc-d51174a8cdf6",
   "metadata": {},
   "outputs": [
    {
     "data": {
      "text/plain": [
       "['a', 'b', 'c', 'd', 'e', 'f', 'g']"
      ]
     },
     "execution_count": 23,
     "metadata": {},
     "output_type": "execute_result"
    }
   ],
   "source": [
    "# 14. Split the string \"Hello\\nWorld\" into a list of lines.\n"
   ]
  },
  {
   "cell_type": "code",
   "execution_count": 24,
   "id": "e19f3e7f-a6ec-4d61-8539-cf86b210ffe2",
   "metadata": {},
   "outputs": [
    {
     "data": {
      "text/plain": [
       "['a', 'b', 'c', 'd', 'e', 'f', 'g']"
      ]
     },
     "execution_count": 24,
     "metadata": {},
     "output_type": "execute_result"
    }
   ],
   "source": [
    "# 15. Split the string \"abcdefg\" into a list of individual characters.\n",
    "a = \"abcdefg\"\n",
    "list(a)"
   ]
  },
  {
   "cell_type": "code",
   "execution_count": null,
   "id": "e4d323a9-fce3-4df6-831d-40eff302fb51",
   "metadata": {},
   "outputs": [],
   "source": [
    "# 16. Slice the string \"Hello World\" to extract the first word, then join it with the string \"Universe\" using a space separator.\n"
   ]
  },
  {
   "cell_type": "code",
   "execution_count": 28,
   "id": "a223bd67-bdf7-4523-87fe-286eeb1215a6",
   "metadata": {},
   "outputs": [
    {
     "name": "stdout",
     "output_type": "stream",
     "text": [
      "a-b-c\n"
     ]
    }
   ],
   "source": [
    "# 17. Split the string \"a,b,c\" into a list, then join it back into a string using a hyphen separator.\n",
    "a = \"a,b,c\"\n",
    "a1 = a.split(\",\")\n",
    "a2 = \"-\".join(a1)\n",
    "print(a2)"
   ]
  },
  {
   "cell_type": "code",
   "execution_count": 29,
   "id": "628741f7-6e11-4986-83bf-ffc0d057c1d6",
   "metadata": {},
   "outputs": [
    {
     "name": "stdout",
     "output_type": "stream",
     "text": [
      "ac\n"
     ]
    }
   ],
   "source": [
    "# 18. Slice the string \"abcdefg\" to extract every other character, then join the resulting characters into a string.\n"
   ]
  },
  {
   "cell_type": "code",
   "execution_count": 30,
   "id": "5ddde42e-fb9a-4ffb-9b2e-c93c497c7576",
   "metadata": {},
   "outputs": [
    {
     "name": "stdout",
     "output_type": "stream",
     "text": [
      "Hello World\n"
     ]
    }
   ],
   "source": [
    "# 19. Split the string \"Hello World\" into a list of words, then join the list back into a string using a space separator.\n",
    "a = \"Hello World\"\n",
    "a1 = a.split()\n",
    "a2 = \" \".join(a1)\n",
    "print(a2)"
   ]
  },
  {
   "cell_type": "code",
   "execution_count": null,
   "id": "59e4f78a-609c-4dfa-a6bf-32792ed8f55e",
   "metadata": {},
   "outputs": [],
   "source": [
    "# 20. Slice the string \"Hello\" to extract the last 2 characters, then join it with the string \"World\" using a space separator.\n"
   ]
  },
  {
   "cell_type": "code",
   "execution_count": null,
   "id": "fc53eee8-c772-4ea8-949a-b3ebe05a922f",
   "metadata": {},
   "outputs": [],
   "source": [
    "9,14,16,18,20"
   ]
  }
 ],
 "metadata": {
  "kernelspec": {
   "display_name": "Python 3 (ipykernel)",
   "language": "python",
   "name": "python3"
  },
  "language_info": {
   "codemirror_mode": {
    "name": "ipython",
    "version": 3
   },
   "file_extension": ".py",
   "mimetype": "text/x-python",
   "name": "python",
   "nbconvert_exporter": "python",
   "pygments_lexer": "ipython3",
   "version": "3.12.6"
  }
 },
 "nbformat": 4,
 "nbformat_minor": 5
}

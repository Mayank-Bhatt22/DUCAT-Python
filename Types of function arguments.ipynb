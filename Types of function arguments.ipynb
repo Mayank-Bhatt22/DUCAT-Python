{
 "cells": [
  {
   "cell_type": "markdown",
   "id": "c83f23c7-b912-4542-9074-5a050857fce6",
   "metadata": {},
   "source": [
    "# Types of function arguments.\n",
    "\n",
    "*1. Default Arguments :* When a parameter is given a default value, it's optional to pass that argument when calling the function. \n",
    "\n",
    "*2.Positional Arguments :* These are the most common type. Values are passed to the function in the same order as parameters are defined.\n",
    "\n",
    "*3. Keyword Arguments:* In keyword arguments, we pass values by specifying the parameter name. The order doesn’t matter\n",
    "\n",
    "*4. Variable-length Arguments* These allow functions to accept any number of arguments.\n",
    "\n",
    "##### *args (Non-keyword Variable-length)\n",
    "Used to pass a variable number of positional arguments. It collects them into a tuple.\n",
    "\n",
    "##### `**kwargs (Keyword Variable-length)\n",
    "Used to pass a variable number of keyword arguments. It collects them into a dictionary."
   ]
  },
  {
   "cell_type": "code",
   "execution_count": 6,
   "id": "038dba62-13db-412b-9fbc-a96a1176a2b9",
   "metadata": {},
   "outputs": [],
   "source": [
    "# defalut argument\n",
    "def div(a=0,b=1):\n",
    "    return a/2"
   ]
  },
  {
   "cell_type": "code",
   "execution_count": 7,
   "id": "52cfa335-5194-4c44-9fd9-cde4d13d4720",
   "metadata": {},
   "outputs": [
    {
     "data": {
      "text/plain": [
       "1.0"
      ]
     },
     "execution_count": 7,
     "metadata": {},
     "output_type": "execute_result"
    }
   ],
   "source": [
    "div(2)"
   ]
  },
  {
   "cell_type": "code",
   "execution_count": 10,
   "id": "2157742e-cc38-47f6-a32b-e02cbc82333a",
   "metadata": {},
   "outputs": [],
   "source": [
    "# positional Argument\n",
    "def func(a=0,b=0,c=0,d=0):\n",
    "    return (a+b,c-d)"
   ]
  },
  {
   "cell_type": "code",
   "execution_count": 11,
   "id": "ecb063a0-a321-40e8-a793-66e7e5b8791a",
   "metadata": {},
   "outputs": [
    {
     "data": {
      "text/plain": [
       "(3, 0)"
      ]
     },
     "execution_count": 11,
     "metadata": {},
     "output_type": "execute_result"
    }
   ],
   "source": [
    "func(1,2)"
   ]
  },
  {
   "cell_type": "code",
   "execution_count": 12,
   "id": "01b0a0d4-58ca-49bc-a180-4898b55b05d0",
   "metadata": {},
   "outputs": [
    {
     "data": {
      "text/plain": [
       "(0, 6)"
      ]
     },
     "execution_count": 12,
     "metadata": {},
     "output_type": "execute_result"
    }
   ],
   "source": [
    "# Keyword Arguments\n",
    "func(c=10,d=4)"
   ]
  }
 ],
 "metadata": {
  "kernelspec": {
   "display_name": "Python 3 (ipykernel)",
   "language": "python",
   "name": "python3"
  },
  "language_info": {
   "codemirror_mode": {
    "name": "ipython",
    "version": 3
   },
   "file_extension": ".py",
   "mimetype": "text/x-python",
   "name": "python",
   "nbconvert_exporter": "python",
   "pygments_lexer": "ipython3",
   "version": "3.12.6"
  }
 },
 "nbformat": 4,
 "nbformat_minor": 5
}

{
 "cells": [
  {
   "cell_type": "code",
   "execution_count": null,
   "id": "5ee1966a-26eb-4281-8759-827dac662741",
   "metadata": {},
   "outputs": [],
   "source": []
  },
  {
   "cell_type": "code",
   "execution_count": 1,
   "id": "b2660051-79be-4481-a4f1-a502e70bc350",
   "metadata": {},
   "outputs": [
    {
     "name": "stdout",
     "output_type": "stream",
     "text": [
      "0\n",
      "1\n",
      "2\n",
      "3\n",
      "4\n",
      "5\n",
      "6\n",
      "7\n",
      "8\n",
      "9\n",
      "10\n"
     ]
    }
   ],
   "source": [
    "# 1. Print numbers from 1 to 10 using a for loop.\n",
    "for i in range(11):\n",
    "    print(i)"
   ]
  },
  {
   "cell_type": "code",
   "execution_count": 2,
   "id": "d86e1344-feb0-4357-bd2d-9911647ec4e3",
   "metadata": {},
   "outputs": [
    {
     "name": "stdout",
     "output_type": "stream",
     "text": [
      " 1 ka sq hai =  1\n",
      " 2 ka sq hai =  4\n",
      " 3 ka sq hai =  9\n",
      " 4 ka sq hai =  16\n",
      " 5 ka sq hai =  25\n",
      " 6 ka sq hai =  36\n",
      " 7 ka sq hai =  49\n",
      " 8 ka sq hai =  64\n",
      " 9 ka sq hai =  81\n",
      " 10 ka sq hai =  100\n"
     ]
    }
   ],
   "source": [
    "# 2. Print the squares of numbers from 1 to 10 using a for loop.\n",
    "for i in range(1,11):\n",
    "    print(f\" {i} ka sq hai = \",i**2)"
   ]
  },
  {
   "cell_type": "code",
   "execution_count": 3,
   "id": "b4ef96fb-2c41-45fa-aead-b70a271cc1d4",
   "metadata": {},
   "outputs": [
    {
     "name": "stdout",
     "output_type": "stream",
     "text": [
      " 1 ka cubes hai =  1\n",
      " 2 ka cubes hai =  8\n",
      " 3 ka cubes hai =  27\n",
      " 4 ka cubes hai =  64\n",
      " 5 ka cubes hai =  125\n",
      " 6 ka cubes hai =  216\n",
      " 7 ka cubes hai =  343\n",
      " 8 ka cubes hai =  512\n",
      " 9 ka cubes hai =  729\n",
      " 10 ka cubes hai =  1000\n"
     ]
    }
   ],
   "source": [
    "# 3. Print the cubes of numbers from 1 to 10 using a for loop.\n",
    "for i in range(1,11):\n",
    "    print(f\" {i} ka cubes hai = \",i**3)"
   ]
  },
  {
   "cell_type": "code",
   "execution_count": null,
   "id": "b5854958-561f-4af4-a6db-5712b79f4a0c",
   "metadata": {},
   "outputs": [],
   "source": []
  },
  {
   "cell_type": "code",
   "execution_count": 4,
   "id": "568dc5cc-2943-48de-9528-296da1d687ab",
   "metadata": {},
   "outputs": [
    {
     "name": "stdout",
     "output_type": "stream",
     "text": [
      "55\n"
     ]
    }
   ],
   "source": [
    "# 4. Print the sum of numbers from 1 to 10 using a for loop.\n",
    "n = 10 \n",
    "Sum = 0\n",
    "for i in range(1,n+1):\n",
    "    Sum +=i\n",
    "print(Sum)"
   ]
  },
  {
   "cell_type": "code",
   "execution_count": 5,
   "id": "47000165-e130-4fd7-8c57-1a9737e8df10",
   "metadata": {},
   "outputs": [
    {
     "name": "stdout",
     "output_type": "stream",
     "text": [
      "The product of numbers from 1 to 5 is: 120\n"
     ]
    }
   ],
   "source": [
    "# 5. Print the product of numbers from 1 to 5 using a for loop.\n",
    "product = 1\n",
    "for i in range(1, 6):\n",
    "    product *= i\n",
    "print(\"The product of numbers from 1 to 5 is:\", product)"
   ]
  },
  {
   "cell_type": "code",
   "execution_count": 6,
   "id": "d03460ca-5b9c-43c4-a084-852c0920be63",
   "metadata": {},
   "outputs": [
    {
     "name": "stdout",
     "output_type": "stream",
     "text": [
      "10\n",
      "9\n",
      "8\n",
      "7\n",
      "6\n",
      "5\n",
      "4\n",
      "3\n",
      "2\n",
      "1\n"
     ]
    }
   ],
   "source": [
    "# 6. Print the numbers from 10 to 1 in reverse order using a for loop.\n",
    "for i in range(10,0,-1):\n",
    "    print(i)"
   ]
  },
  {
   "cell_type": "code",
   "execution_count": 7,
   "id": "6971b632-3d27-4531-90c3-0e507024b7d4",
   "metadata": {},
   "outputs": [
    {
     "name": "stdout",
     "output_type": "stream",
     "text": [
      "0\n",
      "2\n",
      "4\n",
      "6\n",
      "8\n",
      "10\n"
     ]
    }
   ],
   "source": [
    "# 7. Print the even numbers from 1 to 10 using a for loop.\n",
    "for i in range (0,11,2):\n",
    "    print(i)"
   ]
  },
  {
   "cell_type": "code",
   "execution_count": 8,
   "id": "c166e2fa-3cca-4bdd-a140-c6d600975df7",
   "metadata": {},
   "outputs": [
    {
     "name": "stdout",
     "output_type": "stream",
     "text": [
      "1\n",
      "3\n",
      "5\n",
      "7\n",
      "9\n"
     ]
    }
   ],
   "source": [
    "# 8. Print the odd numbers from 1 to 10 using a for loop.\n",
    "for i in range (11):\n",
    "    if i%2!=0:\n",
    "        print(i)"
   ]
  },
  {
   "cell_type": "code",
   "execution_count": null,
   "id": "442d16fa-6f49-4a17-863b-dd771cf0d276",
   "metadata": {},
   "outputs": [],
   "source": []
  },
  {
   "cell_type": "code",
   "execution_count": 9,
   "id": "c7090eaa-c76a-42f0-a52b-3ce8e23566f1",
   "metadata": {},
   "outputs": [
    {
     "name": "stdout",
     "output_type": "stream",
     "text": [
      "3\n",
      "6\n",
      "9\n"
     ]
    }
   ],
   "source": [
    "# 9. Print the numbers from 1 to 10 that are divisible by 3 using a for loop.\n",
    "for i in range(1, 11):\n",
    "    if i % 3 == 0:\n",
    "        print(i)"
   ]
  },
  {
   "cell_type": "code",
   "execution_count": 10,
   "id": "0202154e-b63f-448e-9db2-0545b4566089",
   "metadata": {},
   "outputs": [
    {
     "name": "stdout",
     "output_type": "stream",
     "text": [
      "1\n",
      "5\n",
      "7\n"
     ]
    }
   ],
   "source": [
    "# 10. Print the numbers from 1 to 10 that are not divisible by 2 or 3 using a for loop.\n",
    "for i in range (11):\n",
    "    if i%2!=0 and i%3!=0:\n",
    "        print(i)   "
   ]
  },
  {
   "cell_type": "code",
   "execution_count": 11,
   "id": "d5a2f7a2-e158-493e-922e-a48e9e3b87b6",
   "metadata": {},
   "outputs": [
    {
     "name": "stdout",
     "output_type": "stream",
     "text": [
      "15\n"
     ]
    }
   ],
   "source": [
    "# 11. Count how many numbers from 1 to 100 are divisible by 7.\n",
    "count=0\n",
    "for i in range (100):\n",
    "    if i%7==0:\n",
    "        count +=1\n",
    "print(count)"
   ]
  },
  {
   "cell_type": "code",
   "execution_count": 12,
   "id": "56d93041-f05f-47df-8544-d987af595b38",
   "metadata": {},
   "outputs": [
    {
     "name": "stdout",
     "output_type": "stream",
     "text": [
      "0\n",
      "12\n",
      "24\n",
      "36\n",
      "48\n",
      "60\n",
      "72\n",
      "84\n",
      "96\n"
     ]
    }
   ],
   "source": [
    "# 12. Print numbers from 100 to 1 that are divisible by both 3 and 4.\n",
    "for i in range (101):\n",
    "    if i%3==0 and i%4==0:\n",
    "        print(i)"
   ]
  },
  {
   "cell_type": "code",
   "execution_count": 13,
   "id": "6d411e06-f7a1-4985-a6be-b4faf28d18be",
   "metadata": {},
   "outputs": [
    {
     "name": "stdout",
     "output_type": "stream",
     "text": [
      "Factorial of  5 is:  120\n"
     ]
    }
   ],
   "source": [
    "# 13. Print the factorial of a number (e.g., 5!) using a loop.\n",
    "a = 1\n",
    "num = 5\n",
    "for i in range (1,num+1):\n",
    "    a *= i\n",
    "print(\"Factorial of \",num,\"is: \",a)"
   ]
  },
  {
   "cell_type": "code",
   "execution_count": null,
   "id": "afa14540-b821-40e8-9975-87f6f9d34522",
   "metadata": {},
   "outputs": [],
   "source": []
  },
  {
   "cell_type": "code",
   "execution_count": 14,
   "id": "d48c28f0-74fe-4092-9a54-e50940a7f321",
   "metadata": {},
   "outputs": [
    {
     "name": "stdout",
     "output_type": "stream",
     "text": [
      "The sum of all even numbers from 1 to 50 is: 650\n"
     ]
    }
   ],
   "source": [
    "# 14. Print the sum of all even numbers from 1 to 50.\n",
    "total = 0\n",
    "for i in range(1, 51):\n",
    "    if i % 2 == 0:\n",
    "        total += i\n",
    "print(\"The sum of all even numbers from 1 to 50 is:\", total)"
   ]
  },
  {
   "cell_type": "code",
   "execution_count": null,
   "id": "a12d19b0-d1a0-4867-8a95-e11b9522783e",
   "metadata": {},
   "outputs": [],
   "source": [
    "# 15. Print the difference between the sum of odd and even numbers from 1 to 20.\n"
   ]
  },
  {
   "cell_type": "code",
   "execution_count": 15,
   "id": "ad8e1ba3-009b-44ac-9a75-e2e91894cc71",
   "metadata": {},
   "outputs": [
    {
     "name": "stdout",
     "output_type": "stream",
     "text": [
      "The product of numbers from 1 to 6 is: 720\n"
     ]
    }
   ],
   "source": [
    "# 16. Print the product of all numbers from 1 to 6.\n",
    "product = 1\n",
    "for i in range(1, 7): \n",
    "    product *= i\n",
    "print(\"The product of numbers from 1 to 6 is:\", product)"
   ]
  },
  {
   "cell_type": "code",
   "execution_count": 16,
   "id": "f7d88a0e-96b2-4731-a3ad-723e5f27c69e",
   "metadata": {},
   "outputs": [
    {
     "name": "stdout",
     "output_type": "stream",
     "text": [
      "A,B,C,D,E,F,G,H,I,J,K,L,M,N,O,P,Q,R,S,T,U,V,W,X,Y,Z,"
     ]
    }
   ],
   "source": [
    "# 17. Print the ASCII values of characters 'A' to 'Z'.\n",
    "for i in range (65,91):\n",
    "    print(chr(i),end=\",\")"
   ]
  },
  {
   "cell_type": "code",
   "execution_count": 17,
   "id": "21839e3f-cad3-4264-965d-f16e5c337b1d",
   "metadata": {},
   "outputs": [
    {
     "name": "stdout",
     "output_type": "stream",
     "text": [
      "1^2 = 1\n",
      "3^2 = 9\n",
      "5^2 = 25\n",
      "7^2 = 49\n",
      "9^2 = 81\n",
      "11^2 = 121\n",
      "13^2 = 169\n",
      "15^2 = 225\n"
     ]
    }
   ],
   "source": [
    "# 18. Program to print the squares of odd numbers from 1 to 15\n",
    "for i in range(1, 16):   \n",
    "    if i % 2 != 0:      \n",
    "        print(f\"{i}^2 = {i*i}\")"
   ]
  },
  {
   "cell_type": "code",
   "execution_count": null,
   "id": "5e8a37ad-5461-405f-aaae-c35aa64ce1ae",
   "metadata": {},
   "outputs": [],
   "source": []
  },
  {
   "cell_type": "code",
   "execution_count": 18,
   "id": "ff613b3f-2ffb-436c-934e-58b671f98451",
   "metadata": {},
   "outputs": [
    {
     "name": "stdin",
     "output_type": "stream",
     "text": [
      "Enter a number:  7\n"
     ]
    },
    {
     "name": "stdout",
     "output_type": "stream",
     "text": [
      "The first 10 multiples of 7 are:\n",
      "7\n",
      "14\n",
      "21\n",
      "28\n",
      "35\n",
      "42\n",
      "49\n",
      "56\n",
      "63\n",
      "70\n"
     ]
    }
   ],
   "source": [
    "# 19. Print the first 10 multiples of any number (e.g., 7).\n",
    "num = int(input(\"Enter a number: \"))\n",
    "print(f\"The first 10 multiples of {num} are:\")\n",
    "for i in range(1, 11):\n",
    "    print(num * i)"
   ]
  },
  {
   "cell_type": "code",
   "execution_count": 19,
   "id": "4a816cb4-ed37-4f6a-9406-28cafcab7f7e",
   "metadata": {},
   "outputs": [
    {
     "name": "stdout",
     "output_type": "stream",
     "text": [
      "Sum = 3367\n"
     ]
    }
   ],
   "source": [
    "# 20. Sum of numbers from 1 to 100 that are not divisible by 3\n",
    "total = 0\n",
    "for i in range(1, 101):\n",
    "    if i % 3 != 0:\n",
    "        total += i\n",
    "print(\"Sum =\", total)"
   ]
  },
  {
   "cell_type": "code",
   "execution_count": 20,
   "id": "b4854db7-3241-49a9-9f5b-1553a769e3a9",
   "metadata": {},
   "outputs": [
    {
     "name": "stdout",
     "output_type": "stream",
     "text": [
      "7 17 27 37 47 57 67 77 87 97 "
     ]
    }
   ],
   "source": [
    "# 21. Numbers between 1 and 100 ending with 7\n",
    "for i in range(1, 101):\n",
    "    if i % 10 == 7:\n",
    "        print(i, end=\" \")"
   ]
  },
  {
   "cell_type": "code",
   "execution_count": 22,
   "id": "1df7a8d6-b0ef-41b6-a746-7ae21bb405d6",
   "metadata": {},
   "outputs": [],
   "source": [
    "# 22. Count how many numbers 1–100 have a digit 5\n"
   ]
  },
  {
   "cell_type": "code",
   "execution_count": 24,
   "id": "63e021f3-80f0-4cd9-b0ad-815728558ad8",
   "metadata": {},
   "outputs": [],
   "source": [
    "# 23. Reverse of a number using for-loop over string\n"
   ]
  },
  {
   "cell_type": "code",
   "execution_count": 26,
   "id": "1c7ac3af-9d60-4501-b9ff-a19cb4607af3",
   "metadata": {},
   "outputs": [
    {
     "name": "stdout",
     "output_type": "stream",
     "text": [
      "1 6 11 16 21 26 31 36 41 46 "
     ]
    }
   ],
   "source": [
    "# 24. Numbers from 1 to 50 skipping every 5th\n",
    "for i in range(1, 51,5):\n",
    "    print(i, end=\" \")"
   ]
  },
  {
   "cell_type": "code",
   "execution_count": 27,
   "id": "d6cb050e-7605-4d2c-8f81-35c468548b58",
   "metadata": {},
   "outputs": [
    {
     "name": "stdout",
     "output_type": "stream",
     "text": [
      "Total digits used: 31\n"
     ]
    }
   ],
   "source": [
    "# 25. Total count of digits used from 1 to 20\n",
    "count = 0\n",
    "for i in range(1, 21):\n",
    "    count += len(str(i))\n",
    "print(\"Total digits used:\", count)"
   ]
  }
 ],
 "metadata": {
  "kernelspec": {
   "display_name": "Python 3 (ipykernel)",
   "language": "python",
   "name": "python3"
  },
  "language_info": {
   "codemirror_mode": {
    "name": "ipython",
    "version": 3
   },
   "file_extension": ".py",
   "mimetype": "text/x-python",
   "name": "python",
   "nbconvert_exporter": "python",
   "pygments_lexer": "ipython3",
   "version": "3.12.6"
  }
 },
 "nbformat": 4,
 "nbformat_minor": 5
}

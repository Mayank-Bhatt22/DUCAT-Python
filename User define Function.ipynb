{
 "cells": [
  {
   "cell_type": "markdown",
   "id": "bc16685a-33c2-45b3-ae4c-01ce326198a5",
   "metadata": {},
   "source": [
    "# User define Function\n",
    "- **def(Keyword)**"
   ]
  },
  {
   "cell_type": "code",
   "execution_count": 1,
   "id": "d728b637-e738-4b8c-bedd-97f077b8072a",
   "metadata": {},
   "outputs": [
    {
     "name": "stdout",
     "output_type": "stream",
     "text": [
      "\n",
      "Here is a list of the Python keywords.  Enter any keyword to get more help.\n",
      "\n",
      "False               class               from                or\n",
      "None                continue            global              pass\n",
      "True                def                 if                  raise\n",
      "and                 del                 import              return\n",
      "as                  elif                in                  try\n",
      "assert              else                is                  while\n",
      "async               except              lambda              with\n",
      "await               finally             nonlocal            yield\n",
      "break               for                 not                 \n",
      "\n"
     ]
    }
   ],
   "source": [
    "help(\"keywords\")"
   ]
  },
  {
   "cell_type": "code",
   "execution_count": 2,
   "id": "d630ac6b-d9cd-4a54-ac4a-c79e40b84241",
   "metadata": {},
   "outputs": [],
   "source": [
    "def hello(): # Non paramatric Function\n",
    "    print(\"Hello Function\")"
   ]
  },
  {
   "cell_type": "code",
   "execution_count": 3,
   "id": "f4f06657-7264-4250-bce4-5793602b97ad",
   "metadata": {},
   "outputs": [
    {
     "name": "stdout",
     "output_type": "stream",
     "text": [
      "Hello Function\n"
     ]
    }
   ],
   "source": [
    "hello()"
   ]
  },
  {
   "cell_type": "code",
   "execution_count": 3,
   "id": "0fd068c7-fac1-4b46-8d54-87eed83347b9",
   "metadata": {},
   "outputs": [],
   "source": [
    "def hello(name):     # Paramatric Function\n",
    "    print(f\"Hello {name}\")"
   ]
  },
  {
   "cell_type": "code",
   "execution_count": 5,
   "id": "47dac5da-0b4b-4b17-a815-5215f6e59306",
   "metadata": {},
   "outputs": [
    {
     "name": "stdout",
     "output_type": "stream",
     "text": [
      "Hello Mayank\n"
     ]
    }
   ],
   "source": [
    "hello(\"Mayank\")"
   ]
  },
  {
   "cell_type": "code",
   "execution_count": 1,
   "id": "815aedb2-76a7-493e-8e26-e5cc7cfa864d",
   "metadata": {},
   "outputs": [],
   "source": [
    "def add(a,b):\n",
    "    return a+b"
   ]
  },
  {
   "cell_type": "code",
   "execution_count": 3,
   "id": "b410004d-a9f2-47e4-bd9e-a68962112fef",
   "metadata": {},
   "outputs": [
    {
     "data": {
      "text/plain": [
       "3"
      ]
     },
     "execution_count": 3,
     "metadata": {},
     "output_type": "execute_result"
    }
   ],
   "source": [
    "add(1,2)"
   ]
  },
  {
   "cell_type": "code",
   "execution_count": 13,
   "id": "2ab07e6f-2f7e-401e-bdbb-2dd658900b98",
   "metadata": {},
   "outputs": [
    {
     "name": "stdout",
     "output_type": "stream",
     "text": [
      "11\n"
     ]
    }
   ],
   "source": [
    "x = add(3,4) + 4\n",
    "print(x)"
   ]
  },
  {
   "cell_type": "code",
   "execution_count": 11,
   "id": "07bef224-5827-47a8-bd17-3f81d867861b",
   "metadata": {},
   "outputs": [],
   "source": [
    "def add1(a,b):\n",
    "    print(a+b)"
   ]
  },
  {
   "cell_type": "code",
   "execution_count": 12,
   "id": "d23ee49f-4bd1-4f77-a5ad-e50dafdd8145",
   "metadata": {},
   "outputs": [
    {
     "name": "stdout",
     "output_type": "stream",
     "text": [
      "7\n"
     ]
    }
   ],
   "source": [
    "add1(3,4)"
   ]
  },
  {
   "cell_type": "code",
   "execution_count": null,
   "id": "89fb1e7e-3584-4fb8-b872-83a33a3a4683",
   "metadata": {},
   "outputs": [],
   "source": [
    "# x = add1(3,4) + 4\n",
    "# print(x) \n",
    "# it will not work"
   ]
  },
  {
   "cell_type": "code",
   "execution_count": 4,
   "id": "e7992fd7-7e4f-4854-a7c8-4b82cf3b31bc",
   "metadata": {},
   "outputs": [],
   "source": [
    "x = [1,2,3,4,5,4,3,2,13,6]\n",
    "def Sum(x):\n",
    "    s=0\n",
    "    for i in x:\n",
    "        s +=i\n",
    "    return s"
   ]
  },
  {
   "cell_type": "code",
   "execution_count": 5,
   "id": "4334a5ae-1112-4667-8a34-74c8a78f764e",
   "metadata": {},
   "outputs": [
    {
     "data": {
      "text/plain": [
       "43"
      ]
     },
     "execution_count": 5,
     "metadata": {},
     "output_type": "execute_result"
    }
   ],
   "source": [
    "Sum(x)"
   ]
  },
  {
   "cell_type": "code",
   "execution_count": 6,
   "id": "67fff47b-b7b2-4e8d-b3bc-f6e3fe427007",
   "metadata": {},
   "outputs": [],
   "source": [
    "def reverse(string):\n",
    "    return string[::-1]"
   ]
  },
  {
   "cell_type": "code",
   "execution_count": 9,
   "id": "0d6a0aac-16b3-406a-ba6b-b0dc18996674",
   "metadata": {},
   "outputs": [
    {
     "data": {
      "text/plain": [
       "'gnirtS'"
      ]
     },
     "execution_count": 9,
     "metadata": {},
     "output_type": "execute_result"
    }
   ],
   "source": [
    "reverse(\"String\")"
   ]
  },
  {
   "cell_type": "code",
   "execution_count": 10,
   "id": "f34baf85-1501-45fc-9373-9c55ad03af4d",
   "metadata": {},
   "outputs": [],
   "source": [
    "def reverse(string):\n",
    "    rev =\" \"\n",
    "    for i in string:\n",
    "        rev=i+rev\n",
    "    return rev"
   ]
  },
  {
   "cell_type": "code",
   "execution_count": 11,
   "id": "5adfd4bd-5140-4716-a53a-736ad4887590",
   "metadata": {},
   "outputs": [],
   "source": [
    "s = \"land\""
   ]
  },
  {
   "cell_type": "code",
   "execution_count": 12,
   "id": "8c292331-2469-4d95-8732-8aad348776bc",
   "metadata": {},
   "outputs": [
    {
     "data": {
      "text/plain": [
       "'dnal '"
      ]
     },
     "execution_count": 12,
     "metadata": {},
     "output_type": "execute_result"
    }
   ],
   "source": [
    "reverse(s)"
   ]
  },
  {
   "cell_type": "code",
   "execution_count": 15,
   "id": "a0c56d42-b39b-4a78-9533-2ef7448e4412",
   "metadata": {},
   "outputs": [],
   "source": [
    "x = [1,2,3,4,5,4,3,2,13,6]\n",
    "def Sum(x):\n",
    "    '''\n",
    "    this is a sum function which are add all elemnet of a list'''\n",
    "    s=0\n",
    "    for i in x:\n",
    "        s +=i\n",
    "    return s"
   ]
  },
  {
   "cell_type": "code",
   "execution_count": 14,
   "id": "7d405932-e571-4cab-81dd-7e5c72f7e790",
   "metadata": {},
   "outputs": [
    {
     "data": {
      "text/plain": [
       "43"
      ]
     },
     "execution_count": 14,
     "metadata": {},
     "output_type": "execute_result"
    }
   ],
   "source": [
    "Sum(x)"
   ]
  },
  {
   "cell_type": "code",
   "execution_count": null,
   "id": "6c1dbaae-ff69-4675-a362-e4075dea9bc4",
   "metadata": {},
   "outputs": [],
   "source": [
    "# ctrl+tab to see message "
   ]
  },
  {
   "cell_type": "code",
   "execution_count": 10,
   "id": "e75c537a-eecb-443d-9117-90fd5289fcf8",
   "metadata": {},
   "outputs": [],
   "source": [
    "def rev(data):\n",
    "    ''' To reverse\n",
    "    '''\n",
    "    if isinstance(data, (int, float, dict, complex, bool)):\n",
    "        return \"Can't be reversed...\"\n",
    "    \n",
    "    elif isinstance(data, str):\n",
    "        r = \"\"\n",
    "        for i in data:\n",
    "            r = i + r\n",
    "        return r\n",
    "    \n",
    "    elif isinstance(data, list):\n",
    "        return data[::-1]\n",
    "    \n",
    "    elif isinstance(data, tuple):\n",
    "        return data[::-1]\n",
    "    \n",
    "    elif isinstance(data, set):\n",
    "        return set(reversed(list(data)))  # convert to list, reverse, then back to set\n",
    "    \n",
    "    else:\n",
    "        return \"Unsupported data type\"\n"
   ]
  },
  {
   "cell_type": "code",
   "execution_count": 6,
   "id": "9b60f187-b8d3-47af-b421-750e5fa54572",
   "metadata": {},
   "outputs": [
    {
     "data": {
      "text/plain": [
       "[5, 4, 3, 2]"
      ]
     },
     "execution_count": 6,
     "metadata": {},
     "output_type": "execute_result"
    }
   ],
   "source": [
    "rev([2,3,4,5])"
   ]
  },
  {
   "cell_type": "code",
   "execution_count": 7,
   "id": "7bda121e-9527-41e0-ab10-44fa5eac2872",
   "metadata": {},
   "outputs": [
    {
     "data": {
      "text/plain": [
       "'olleh'"
      ]
     },
     "execution_count": 7,
     "metadata": {},
     "output_type": "execute_result"
    }
   ],
   "source": [
    "rev(\"hello\")"
   ]
  },
  {
   "cell_type": "code",
   "execution_count": 9,
   "id": "8fd1d99c-9c40-4064-af4b-1b481f1087b3",
   "metadata": {},
   "outputs": [
    {
     "data": {
      "text/plain": [
       "(None, 'Hello', 4.5, 5, 4, 3, 2, 1)"
      ]
     },
     "execution_count": 9,
     "metadata": {},
     "output_type": "execute_result"
    }
   ],
   "source": [
    "rev((1,2,3,4,5,4.5,\"Hello\",None))"
   ]
  },
  {
   "cell_type": "code",
   "execution_count": 11,
   "id": "13aeb16a-4faf-4eeb-b5f9-6b50dc114dca",
   "metadata": {},
   "outputs": [],
   "source": [
    "def rev(data):\n",
    "    ''' To reverse\n",
    "    '''\n",
    "    if isinstance(data, (int, float, dict, complex, bool)):\n",
    "        return \"Can't be reversed...\"\n",
    "    \n",
    "    elif isinstance(data, str):\n",
    "        r = \"\"\n",
    "        for i in data:\n",
    "            r = i + r\n",
    "        return r\n",
    "    \n",
    "    elif isinstance(data) in (list,tuple):\n",
    "        return data[::-1]\n",
    "    \n",
    "    elif isinstance(data, set):\n",
    "        return set(reversed(list(data)))  # convert to list, reverse, then back to set\n",
    "    \n",
    "    else:\n",
    "        return \"Unsupported data type\"\n"
   ]
  },
  {
   "cell_type": "code",
   "execution_count": 19,
   "id": "7ff39fbe-a313-403a-9810-361fa89fcb8e",
   "metadata": {},
   "outputs": [],
   "source": [
    "def rev(data):\n",
    "    ''' To reverse\n",
    "    '''\n",
    "    if isinstance(data, (int, float, dict, complex, bool)):\n",
    "        return \"Can't be reversed...\"\n",
    "    \n",
    "    elif isinstance(data, str):\n",
    "        r = \"\"\n",
    "        for i in data:\n",
    "            r = i + r\n",
    "        return r\n",
    "    \n",
    "    elif (data) in (list,tuple):\n",
    "        L2=[]\n",
    "        for i in range(1,len(data)+1):\n",
    "            L2.append(data[-i])\n",
    "\n",
    "        if type(data)==tuple:\n",
    "            return tuple(L2)\n",
    "        else:\n",
    "            return L2\n",
    "        \n",
    "    elif isinstance(data, set):\n",
    "        return set(reversed(list(data)))  # convert to list, reverse, then back to set\n",
    "    \n",
    "    else:\n",
    "        return \"Unsupported data type\""
   ]
  },
  {
   "cell_type": "code",
   "execution_count": 20,
   "id": "7211d4be-5d84-400e-95c6-ab2dfa05431a",
   "metadata": {},
   "outputs": [
    {
     "data": {
      "text/plain": [
       "'Unsupported data type'"
      ]
     },
     "execution_count": 20,
     "metadata": {},
     "output_type": "execute_result"
    }
   ],
   "source": [
    "rev((1,2,3,4,5))"
   ]
  },
  {
   "cell_type": "code",
   "execution_count": 13,
   "id": "98670c9d-d0a8-45d6-bd8b-a346193bd0c4",
   "metadata": {},
   "outputs": [],
   "source": [
    "L = [3,4,5,6,7]\n",
    "L1 = []\n",
    "for i in range(1,len(L)+1):\n",
    "    L1.append(L[-i])"
   ]
  },
  {
   "cell_type": "code",
   "execution_count": null,
   "id": "cba65a67-e7b8-4eb2-9cde-9dd3531c906d",
   "metadata": {},
   "outputs": [],
   "source": []
  }
 ],
 "metadata": {
  "kernelspec": {
   "display_name": "Python 3 (ipykernel)",
   "language": "python",
   "name": "python3"
  },
  "language_info": {
   "codemirror_mode": {
    "name": "ipython",
    "version": 3
   },
   "file_extension": ".py",
   "mimetype": "text/x-python",
   "name": "python",
   "nbconvert_exporter": "python",
   "pygments_lexer": "ipython3",
   "version": "3.12.6"
  }
 },
 "nbformat": 4,
 "nbformat_minor": 5
}

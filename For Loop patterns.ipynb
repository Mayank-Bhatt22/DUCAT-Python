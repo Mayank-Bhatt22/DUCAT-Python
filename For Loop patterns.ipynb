{
 "cells": [
  {
   "cell_type": "code",
   "execution_count": null,
   "id": "a1827aed-4e74-4560-9569-5b7b3f40d431",
   "metadata": {},
   "outputs": [],
   "source": [
    "# Patterns"
   ]
  },
  {
   "cell_type": "code",
   "execution_count": 2,
   "id": "ecedfd8b-7fed-48cd-9746-9caab483ef00",
   "metadata": {},
   "outputs": [
    {
     "name": "stdout",
     "output_type": "stream",
     "text": [
      "* * * * * \n",
      "* * * * * \n",
      "* * * * * \n",
      "* * * * * \n",
      "* * * * * \n"
     ]
    }
   ],
   "source": [
    "# square\n",
    "for col in range(5):    # length\n",
    "    for row in range(5):    # Breadth\n",
    "        print(\"*\",end=\" \")\n",
    "    print()"
   ]
  },
  {
   "cell_type": "code",
   "execution_count": 3,
   "id": "42307d03-68ea-4dfb-97da-4065b3f69c6f",
   "metadata": {},
   "outputs": [
    {
     "name": "stdout",
     "output_type": "stream",
     "text": [
      "* \n",
      "* * \n",
      "* * * \n",
      "* * * * \n",
      "* * * * * \n"
     ]
    }
   ],
   "source": [
    "# right angle trangle\n",
    "n=5\n",
    "for col in range (1,n+1):    # Length\n",
    "    for row in range (col):   # Breadth\n",
    "        print(\"*\",end=\" \")\n",
    "    print()"
   ]
  },
  {
   "cell_type": "code",
   "execution_count": 6,
   "id": "7c64b0fa-77eb-45c2-b252-1007efede337",
   "metadata": {},
   "outputs": [
    {
     "name": "stdout",
     "output_type": "stream",
     "text": [
      "* * * * * \n",
      "* * * * \n",
      "* * * \n",
      "* * \n",
      "* \n",
      "* * * * * \n",
      "* * * * \n",
      "* * * \n",
      "* * \n",
      "* \n",
      "\n"
     ]
    }
   ],
   "source": [
    "# reverse right angle trangle\n",
    "# way 1\n",
    "n=5\n",
    "for Length in range(n, 0, -1):  \n",
    "    for Breadth in range(Length):\n",
    "        print(\"*\", end=\" \")\n",
    "    print() \n",
    "\n",
    "# way 2\n",
    "n=5\n",
    "for length in range(0, n+1):  \n",
    "    for breadth in range(n-length):\n",
    "        print(\"*\", end=\" \")\n",
    "    print() "
   ]
  },
  {
   "cell_type": "code",
   "execution_count": 2,
   "id": "746eb7b0-9ed0-4b08-879a-e08c7d66bf63",
   "metadata": {},
   "outputs": [
    {
     "name": "stdout",
     "output_type": "stream",
     "text": [
      "1\n",
      "21\n",
      "321\n",
      "4321\n",
      "54321\n"
     ]
    }
   ],
   "source": [
    "r=\"\"\n",
    "for i in \"12345\":\n",
    "    r=i+r\n",
    "    print(r)"
   ]
  },
  {
   "cell_type": "code",
   "execution_count": 7,
   "id": "796eac6e-b259-4fb0-8eb5-92e2c3a4c071",
   "metadata": {},
   "outputs": [
    {
     "name": "stdout",
     "output_type": "stream",
     "text": [
      "0 \n",
      "0 1 \n",
      "0 1 2 \n",
      "0 1 2 3 \n",
      "0 1 2 3 4 \n"
     ]
    }
   ],
   "source": [
    "# right angle trangle by number\n",
    "n = 5\n",
    "for length in range (1,n+1):\n",
    "    for breadth in range (length): \n",
    "        print(breadth,end=\" \")\n",
    "    print()"
   ]
  },
  {
   "cell_type": "code",
   "execution_count": 10,
   "id": "0d5908f6-320c-4bde-bfee-42b43eb58535",
   "metadata": {},
   "outputs": [
    {
     "name": "stdout",
     "output_type": "stream",
     "text": [
      "1 \n",
      "1 2 \n",
      "1 2 3 \n",
      "1 2 3 4 \n",
      "1 2 3 4 5 \n"
     ]
    }
   ],
   "source": [
    "# right angle trangle by number start with 1\n",
    "n = 5\n",
    "for length in range (1,n+1):\n",
    "    for breadth in range (1,length+1): \n",
    "        print(breadth,end=\" \")\n",
    "    print()"
   ]
  },
  {
   "cell_type": "code",
   "execution_count": 9,
   "id": "8a65b19c-f7b6-4bf1-a50c-0d4b746fc21a",
   "metadata": {},
   "outputs": [
    {
     "name": "stdout",
     "output_type": "stream",
     "text": [
      "0 \n",
      "1 2 \n",
      "3 4 5 \n",
      "6 7 8 9 \n"
     ]
    }
   ],
   "source": [
    "# right angle trangle by number \n",
    "a = 0\n",
    "n = 4\n",
    "for col in range (1,n+1):\n",
    "    for row in range (col): \n",
    "        print(a,end=\" \")\n",
    "        a+=1\n",
    "    print()"
   ]
  },
  {
   "cell_type": "code",
   "execution_count": 11,
   "id": "31c1f6d2-5352-4c69-9b22-39abcf8a11c0",
   "metadata": {},
   "outputs": [
    {
     "name": "stdout",
     "output_type": "stream",
     "text": [
      "A \n",
      "B C \n",
      "D E F \n",
      "G H I J \n"
     ]
    }
   ],
   "source": [
    "# right angle trangle by ABCD\n",
    "a = 65\n",
    "n = 4\n",
    "for col in range (1,n+1):\n",
    "    for row in range (col): \n",
    "        print(chr(a),end=\" \")\n",
    "        a+=1\n",
    "    print()"
   ]
  },
  {
   "cell_type": "code",
   "execution_count": 12,
   "id": "8ec93f80-57ee-4f77-864a-510a4403c82e",
   "metadata": {},
   "outputs": [
    {
     "name": "stdout",
     "output_type": "stream",
     "text": [
      "a \n",
      "b c \n",
      "d e f \n",
      "g h i j \n"
     ]
    }
   ],
   "source": [
    "# right angle trangle by abcd\n",
    "a = 97\n",
    "n = 4\n",
    "for col in range (1,n+1):\n",
    "    for row in range (col): \n",
    "        print(chr(a),end=\" \")\n",
    "        a+=1\n",
    "    print()"
   ]
  },
  {
   "cell_type": "code",
   "execution_count": 4,
   "id": "7842d916-680c-4ce3-a22e-9b7883866d38",
   "metadata": {},
   "outputs": [
    {
     "name": "stdout",
     "output_type": "stream",
     "text": [
      "* * * * * \n",
      "*       * \n",
      "*       * \n",
      "*       * \n",
      "* * * * * \n"
     ]
    }
   ],
   "source": [
    "# hollow square\n",
    "n = 5  \n",
    "for length in range(n):\n",
    "    for breadth in range(n):\n",
    "        if length == 0 or length == n - 1 or breadth == 0 or breadth == n - 1:\n",
    "            print(\"*\", end=\" \")\n",
    "        else:\n",
    "            print(\" \", end=\" \")\n",
    "    print() "
   ]
  },
  {
   "cell_type": "code",
   "execution_count": 53,
   "id": "f521f28c-55f4-443c-adec-ab4f0221dd0e",
   "metadata": {},
   "outputs": [
    {
     "name": "stdout",
     "output_type": "stream",
     "text": [
      "* \n",
      "* * * \n",
      "* * * * * \n",
      "* * * * * * * \n",
      "* * * * * * * * * \n"
     ]
    }
   ],
   "source": [
    "# pyramid pattern\n",
    "n = 5\n",
    "for length in range(n):\n",
    "    for breadth in range(2 * length + 1):\n",
    "        print(\"*\", end=\" \")\n",
    "    print()"
   ]
  },
  {
   "cell_type": "code",
   "execution_count": 62,
   "id": "da3f2a0f-acd2-4edc-896c-c9284034af06",
   "metadata": {},
   "outputs": [
    {
     "name": "stdout",
     "output_type": "stream",
     "text": [
      "            \n",
      "          * \n",
      "        * * * \n",
      "      * * * * * \n",
      "    * * * * * * * \n",
      "  * * * * * * * * * \n"
     ]
    }
   ],
   "source": [
    "n = 5\n",
    "# length\n",
    "for i in range(n+1):\n",
    "    #space\n",
    "    for j in range(n-i,-1,-1):\n",
    "        print(\" \",end=\" \")\n",
    "    #breadth\n",
    "    for k in range(2*i-1):\n",
    "        print(\"*\",end=\" \")\n",
    "    print()\n"
   ]
  },
  {
   "cell_type": "code",
   "execution_count": 20,
   "id": "f39cab2f-5ede-4179-828a-2ce9b615dc63",
   "metadata": {},
   "outputs": [
    {
     "name": "stdout",
     "output_type": "stream",
     "text": [
      "            \n",
      "          * \n",
      "        * * * \n",
      "      * * * * * \n",
      "    * * * * * * * \n",
      "  * * * * * * * * * \n",
      "    * * * * * * * \n",
      "      * * * * * \n",
      "        * * * \n",
      "          * \n"
     ]
    }
   ],
   "source": [
    "n = 5\n",
    "# length\n",
    "for i in range(n+1):\n",
    "    #space\n",
    "    for j in range(n-i,-1,-1):\n",
    "        print(\" \",end=\" \")\n",
    "    #breadth\n",
    "    for k in range(2*i-1):\n",
    "        print(\"*\",end=\" \")\n",
    "    print()\n",
    "\n",
    "N = 4\n",
    "for i in range(N,0,-1):\n",
    "    #space\n",
    "    for j in range(N-i,-2,-1):\n",
    "        print(\" \",end=\" \")\n",
    "    #breadth\n",
    "    for k in range(2*i-1):\n",
    "        print(\"*\",end=\" \")\n",
    "    print()\n",
    "\n"
   ]
  },
  {
   "cell_type": "code",
   "execution_count": 11,
   "id": "ab1e77bf-b71c-4b92-a12d-fe9218e5052c",
   "metadata": {},
   "outputs": [
    {
     "name": "stdout",
     "output_type": "stream",
     "text": [
      "        * \n",
      "      * * * \n",
      "    * * * * * \n",
      "  * * * * * * * \n",
      "* * * * * * * * * \n",
      "  * * * * * * * \n",
      "    * * * * * \n",
      "      * * * \n",
      "        * \n"
     ]
    }
   ],
   "source": [
    "n = 5\n",
    "\n",
    "# Upper part of diamond\n",
    "for i in range(1, n + 1):\n",
    "    # spaces\n",
    "    for j in range(n - i):\n",
    "        print(\" \", end=\" \")\n",
    "    # stars\n",
    "    for k in range(2 * i - 1):\n",
    "        print(\"*\", end=\" \")\n",
    "    print()\n",
    "\n",
    "# Lower part of diamond\n",
    "for i in range(n - 1, 0, -1):\n",
    "    # spaces\n",
    "    for j in range(n - i):\n",
    "        print(\" \", end=\" \")\n",
    "    # stars\n",
    "    for k in range(2 * i - 1):\n",
    "        print(\"*\", end=\" \")\n",
    "    print()\n"
   ]
  },
  {
   "cell_type": "code",
   "execution_count": 32,
   "id": "1e6efdeb-5234-491e-9e91-90ee82dd4eb0",
   "metadata": {},
   "outputs": [
    {
     "name": "stdout",
     "output_type": "stream",
     "text": [
      "* * * * * \n",
      "*         \n",
      "*         \n",
      "*         \n",
      "* * * * * \n"
     ]
    }
   ],
   "source": [
    "# print c\n",
    "n = 5  \n",
    "for length in range(n):\n",
    "    for breadth in range(n):\n",
    "        if length == 0 or length == n - 1 or breadth == 0:\n",
    "            print(\"*\", end=\" \")\n",
    "        else:\n",
    "            print(\" \", end=\" \")\n",
    "    print()"
   ]
  },
  {
   "cell_type": "code",
   "execution_count": 2,
   "id": "4f423ef3-4450-4ea1-bc55-1344c21d9dd0",
   "metadata": {},
   "outputs": [
    {
     "name": "stdout",
     "output_type": "stream",
     "text": [
      "* * * * * \n",
      "*         \n",
      "* * * * * \n",
      "*         \n",
      "* * * * * \n"
     ]
    }
   ],
   "source": [
    "# print E\n",
    "n = 5\n",
    "for length in range(n):\n",
    "    for breadth in range(n):\n",
    "        if length == 0 or length == n - 1 or length == 2 or breadth == 0 :\n",
    "            print(\"*\", end=\" \")\n",
    "        else:\n",
    "            print(\" \", end=\" \")\n",
    "    print()"
   ]
  },
  {
   "cell_type": "code",
   "execution_count": 4,
   "id": "1a9f6161-382b-441f-8cd8-ca4175b9db14",
   "metadata": {},
   "outputs": [
    {
     "name": "stdout",
     "output_type": "stream",
     "text": [
      "* * * * * \n",
      "*         \n",
      "* * * * * \n",
      "*         \n",
      "* * * * * \n"
     ]
    }
   ],
   "source": [
    "# print E\n",
    "n = 5  \n",
    "for length in range(n):\n",
    "    for breadth in range(n):\n",
    "        if length == 0 or length == n - 1 or length == round(n/2) or breadth == 0 :\n",
    "            print(\"*\", end=\" \")\n",
    "        else:\n",
    "            print(\" \", end=\" \")\n",
    "    print()"
   ]
  },
  {
   "cell_type": "code",
   "execution_count": 7,
   "id": "22a5f99a-4d5b-4d49-ac99-c0918fc45b43",
   "metadata": {},
   "outputs": [
    {
     "name": "stdout",
     "output_type": "stream",
     "text": [
      "* * * * * \n",
      "*         \n",
      "* * * * * \n",
      "*         \n",
      "* * * * * \n"
     ]
    }
   ],
   "source": [
    "n = 5\n",
    "for length in range(n):\n",
    "    for breadth in range(n):\n",
    "        if length == 0 or length == n - 1 or length == n//2 or breadth == 0:\n",
    "            print(\"*\", end=\" \")\n",
    "        else:\n",
    "            print(\" \", end=\" \")\n",
    "    print()\n"
   ]
  },
  {
   "cell_type": "code",
   "execution_count": null,
   "id": "0b662fe0-a50a-4b34-bf46-d94a043e1c07",
   "metadata": {},
   "outputs": [],
   "source": []
  }
 ],
 "metadata": {
  "kernelspec": {
   "display_name": "Python 3 (ipykernel)",
   "language": "python",
   "name": "python3"
  },
  "language_info": {
   "codemirror_mode": {
    "name": "ipython",
    "version": 3
   },
   "file_extension": ".py",
   "mimetype": "text/x-python",
   "name": "python",
   "nbconvert_exporter": "python",
   "pygments_lexer": "ipython3",
   "version": "3.12.6"
  }
 },
 "nbformat": 4,
 "nbformat_minor": 5
}

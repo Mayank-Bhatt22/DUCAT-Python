{
 "cells": [
  {
   "cell_type": "markdown",
   "id": "f50b0ba8-4772-4fb0-a743-c0f60eb8c257",
   "metadata": {},
   "source": [
    "# Friday 12/09/2025"
   ]
  },
  {
   "cell_type": "code",
   "execution_count": 1,
   "id": "94c49a3d-e9e1-40fa-96fe-f701e03eb39b",
   "metadata": {},
   "outputs": [
    {
     "name": "stdout",
     "output_type": "stream",
     "text": [
      "M\n"
     ]
    }
   ],
   "source": [
    "name=\"Mayank\"\n",
    "print(name[0])"
   ]
  },
  {
   "cell_type": "code",
   "execution_count": 2,
   "id": "93f8dcf4-937c-4f20-aa18-81a45daac001",
   "metadata": {},
   "outputs": [
    {
     "name": "stdout",
     "output_type": "stream",
     "text": [
      "M\n",
      "a\n",
      "y\n",
      "a\n",
      "n\n",
      "k\n"
     ]
    }
   ],
   "source": [
    "# for loop\n",
    "for i in name:\n",
    "    print(i)"
   ]
  },
  {
   "cell_type": "code",
   "execution_count": 15,
   "id": "98047b5a-8003-42a3-b823-8a93804a0c4a",
   "metadata": {},
   "outputs": [
    {
     "name": "stdout",
     "output_type": "stream",
     "text": [
      "H\n",
      "e\n",
      "l\n",
      "l\n",
      "o\n",
      ",\n",
      " \n",
      "W\n",
      "o\n",
      "r\n",
      "l\n",
      "d\n"
     ]
    }
   ],
   "source": [
    "# string\n",
    "name=\"Hello, World\"\n",
    "for i in name:\n",
    "    print(i)"
   ]
  },
  {
   "cell_type": "code",
   "execution_count": 9,
   "id": "339b1a3f-64f4-49e1-aea8-739aab808b70",
   "metadata": {},
   "outputs": [
    {
     "name": "stdout",
     "output_type": "stream",
     "text": [
      "Hello\n",
      "World\n"
     ]
    }
   ],
   "source": [
    "# List\n",
    "name=[\"Hello\",\"World\"]\n",
    "for i in name:\n",
    "    print(i)"
   ]
  },
  {
   "cell_type": "code",
   "execution_count": 14,
   "id": "13eb66b4-32a8-42eb-be06-a38bc05c7cd3",
   "metadata": {},
   "outputs": [
    {
     "name": "stdout",
     "output_type": "stream",
     "text": [
      "Hello\n",
      "World\n"
     ]
    }
   ],
   "source": [
    "# Tuple\n",
    "name=(\"Hello\",\"World\")\n",
    "for i in name:\n",
    "    print(i)"
   ]
  },
  {
   "cell_type": "code",
   "execution_count": 8,
   "id": "d396c95c-9d5e-469b-8179-3f6d80530930",
   "metadata": {},
   "outputs": [
    {
     "name": "stdout",
     "output_type": "stream",
     "text": [
      "World\n",
      "Hello\n"
     ]
    }
   ],
   "source": [
    "# Set\n",
    "name={\"Hello\",\"World\"}\n",
    "for i in name:\n",
    "    print(i)"
   ]
  },
  {
   "cell_type": "code",
   "execution_count": 13,
   "id": "208c5ffd-eaac-456b-9c9d-ec7f20a8baca",
   "metadata": {},
   "outputs": [
    {
     "name": "stdout",
     "output_type": "stream",
     "text": [
      "Hello\n",
      "Mayank\n"
     ]
    }
   ],
   "source": [
    "# Dictionary\n",
    "name={\"Hello\":\"World\",\"Mayank\":\"Bhatt\"}\n",
    "for i in name:\n",
    "    print(i)"
   ]
  },
  {
   "cell_type": "code",
   "execution_count": 16,
   "id": "cbb24fd9-01e7-4422-b082-c149600c9b68",
   "metadata": {},
   "outputs": [
    {
     "name": "stdout",
     "output_type": "stream",
     "text": [
      "Hello:World\n",
      "Mayank:Bhatt\n"
     ]
    }
   ],
   "source": [
    "# Dictionary\n",
    "name={\"Hello\":\"World\",\"Mayank\":\"Bhatt\"}\n",
    "for i in name:\n",
    "    print(i,name[i],sep=\":\")"
   ]
  },
  {
   "cell_type": "code",
   "execution_count": 18,
   "id": "5563c246-e0be-4090-80f4-94a2c9f23cb2",
   "metadata": {},
   "outputs": [
    {
     "data": {
      "text/plain": [
       "dict_values(['World', 'Bhatt'])"
      ]
     },
     "execution_count": 18,
     "metadata": {},
     "output_type": "execute_result"
    }
   ],
   "source": [
    "name.values()"
   ]
  },
  {
   "cell_type": "code",
   "execution_count": 19,
   "id": "cc957973-226e-40c2-b6b7-10d7da40b3a1",
   "metadata": {},
   "outputs": [
    {
     "data": {
      "text/plain": [
       "dict_keys(['Hello', 'Mayank'])"
      ]
     },
     "execution_count": 19,
     "metadata": {},
     "output_type": "execute_result"
    }
   ],
   "source": [
    "name.keys()"
   ]
  },
  {
   "cell_type": "code",
   "execution_count": 21,
   "id": "ef884cd4-f572-4516-9e22-34709070d4e7",
   "metadata": {},
   "outputs": [
    {
     "data": {
      "text/plain": [
       "dict_items([('Hello', 'World'), ('Mayank', 'Bhatt')])"
      ]
     },
     "execution_count": 21,
     "metadata": {},
     "output_type": "execute_result"
    }
   ],
   "source": [
    "name.items()"
   ]
  },
  {
   "cell_type": "code",
   "execution_count": 23,
   "id": "08b9e671-3042-4115-90df-f3775129c41d",
   "metadata": {},
   "outputs": [
    {
     "name": "stdout",
     "output_type": "stream",
     "text": [
      "Hello\n",
      "Mayank\n"
     ]
    }
   ],
   "source": [
    "for key,value in name.items():\n",
    "    print(key)"
   ]
  },
  {
   "cell_type": "code",
   "execution_count": 22,
   "id": "72b1c6bf-22c2-48f7-a88f-f0b42d45c848",
   "metadata": {},
   "outputs": [
    {
     "name": "stdout",
     "output_type": "stream",
     "text": [
      "Hello World\n",
      "Mayank Bhatt\n"
     ]
    }
   ],
   "source": [
    "for key,value in name.items():\n",
    "    print(key,value)"
   ]
  },
  {
   "cell_type": "code",
   "execution_count": 24,
   "id": "8868de75-73af-4fae-af53-e26a059accab",
   "metadata": {},
   "outputs": [
    {
     "name": "stdout",
     "output_type": "stream",
     "text": [
      "1. mayank\n",
      "2. Bhatt\n"
     ]
    }
   ],
   "source": [
    "a=[\"mayank\",\"Bhatt\"]\n",
    "counter=1\n",
    "for a in a:\n",
    "    print(counter,a,sep=\". \")\n",
    "    counter+=1"
   ]
  },
  {
   "cell_type": "code",
   "execution_count": 26,
   "id": "b108ac8b-20e2-4fa6-b815-f5f5137465d7",
   "metadata": {},
   "outputs": [
    {
     "name": "stdout",
     "output_type": "stream",
     "text": [
      "1. mayank\n",
      "2. Bhatt\n"
     ]
    }
   ],
   "source": [
    "a=[\"mayank\",\"Bhatt\"]\n",
    "\n",
    "for index, a in enumerate(a,start=1):\n",
    "    print(index,a,sep=\". \")"
   ]
  }
 ],
 "metadata": {
  "kernelspec": {
   "display_name": "Python 3 (ipykernel)",
   "language": "python",
   "name": "python3"
  },
  "language_info": {
   "codemirror_mode": {
    "name": "ipython",
    "version": 3
   },
   "file_extension": ".py",
   "mimetype": "text/x-python",
   "name": "python",
   "nbconvert_exporter": "python",
   "pygments_lexer": "ipython3",
   "version": "3.12.6"
  }
 },
 "nbformat": 4,
 "nbformat_minor": 5
}

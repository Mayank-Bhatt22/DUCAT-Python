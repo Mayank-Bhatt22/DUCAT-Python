{
 "cells": [
  {
   "cell_type": "markdown",
   "id": "f50b0ba8-4772-4fb0-a743-c0f60eb8c257",
   "metadata": {},
   "source": [
    "# Friday 12/09/2025"
   ]
  },
  {
   "cell_type": "code",
   "execution_count": 1,
   "id": "94c49a3d-e9e1-40fa-96fe-f701e03eb39b",
   "metadata": {},
   "outputs": [
    {
     "name": "stdout",
     "output_type": "stream",
     "text": [
      "M\n"
     ]
    }
   ],
   "source": [
    "name=\"Mayank\"\n",
    "print(name[0])"
   ]
  },
  {
   "cell_type": "code",
   "execution_count": 2,
   "id": "93f8dcf4-937c-4f20-aa18-81a45daac001",
   "metadata": {},
   "outputs": [
    {
     "name": "stdout",
     "output_type": "stream",
     "text": [
      "M\n",
      "a\n",
      "y\n",
      "a\n",
      "n\n",
      "k\n"
     ]
    }
   ],
   "source": [
    "# for loop\n",
    "for i in name:\n",
    "    print(i)"
   ]
  },
  {
   "cell_type": "code",
   "execution_count": 15,
   "id": "98047b5a-8003-42a3-b823-8a93804a0c4a",
   "metadata": {},
   "outputs": [
    {
     "name": "stdout",
     "output_type": "stream",
     "text": [
      "H\n",
      "e\n",
      "l\n",
      "l\n",
      "o\n",
      ",\n",
      " \n",
      "W\n",
      "o\n",
      "r\n",
      "l\n",
      "d\n"
     ]
    }
   ],
   "source": [
    "# string\n",
    "name=\"Hello, World\"\n",
    "for i in name:\n",
    "    print(i)"
   ]
  },
  {
   "cell_type": "code",
   "execution_count": 9,
   "id": "339b1a3f-64f4-49e1-aea8-739aab808b70",
   "metadata": {},
   "outputs": [
    {
     "name": "stdout",
     "output_type": "stream",
     "text": [
      "Hello\n",
      "World\n"
     ]
    }
   ],
   "source": [
    "# List\n",
    "name=[\"Hello\",\"World\"]\n",
    "for i in name:\n",
    "    print(i)"
   ]
  },
  {
   "cell_type": "code",
   "execution_count": 14,
   "id": "13eb66b4-32a8-42eb-be06-a38bc05c7cd3",
   "metadata": {},
   "outputs": [
    {
     "name": "stdout",
     "output_type": "stream",
     "text": [
      "Hello\n",
      "World\n"
     ]
    }
   ],
   "source": [
    "# Tuple\n",
    "name=(\"Hello\",\"World\")\n",
    "for i in name:\n",
    "    print(i)"
   ]
  },
  {
   "cell_type": "code",
   "execution_count": 8,
   "id": "d396c95c-9d5e-469b-8179-3f6d80530930",
   "metadata": {},
   "outputs": [
    {
     "name": "stdout",
     "output_type": "stream",
     "text": [
      "World\n",
      "Hello\n"
     ]
    }
   ],
   "source": [
    "# Set\n",
    "name={\"Hello\",\"World\"}\n",
    "for i in name:\n",
    "    print(i)"
   ]
  },
  {
   "cell_type": "code",
   "execution_count": 13,
   "id": "208c5ffd-eaac-456b-9c9d-ec7f20a8baca",
   "metadata": {},
   "outputs": [
    {
     "name": "stdout",
     "output_type": "stream",
     "text": [
      "Hello\n",
      "Mayank\n"
     ]
    }
   ],
   "source": [
    "# Dictionary\n",
    "name={\"Hello\":\"World\",\"Mayank\":\"Bhatt\"}\n",
    "for i in name:\n",
    "    print(i)"
   ]
  },
  {
   "cell_type": "code",
   "execution_count": 16,
   "id": "cbb24fd9-01e7-4422-b082-c149600c9b68",
   "metadata": {},
   "outputs": [
    {
     "name": "stdout",
     "output_type": "stream",
     "text": [
      "Hello:World\n",
      "Mayank:Bhatt\n"
     ]
    }
   ],
   "source": [
    "# Dictionary\n",
    "name={\"Hello\":\"World\",\"Mayank\":\"Bhatt\"}\n",
    "for i in name:\n",
    "    print(i,name[i],sep=\":\")"
   ]
  },
  {
   "cell_type": "code",
   "execution_count": 18,
   "id": "5563c246-e0be-4090-80f4-94a2c9f23cb2",
   "metadata": {},
   "outputs": [
    {
     "data": {
      "text/plain": [
       "dict_values(['World', 'Bhatt'])"
      ]
     },
     "execution_count": 18,
     "metadata": {},
     "output_type": "execute_result"
    }
   ],
   "source": [
    "name.values()"
   ]
  },
  {
   "cell_type": "code",
   "execution_count": 19,
   "id": "cc957973-226e-40c2-b6b7-10d7da40b3a1",
   "metadata": {},
   "outputs": [
    {
     "data": {
      "text/plain": [
       "dict_keys(['Hello', 'Mayank'])"
      ]
     },
     "execution_count": 19,
     "metadata": {},
     "output_type": "execute_result"
    }
   ],
   "source": [
    "name.keys()"
   ]
  },
  {
   "cell_type": "code",
   "execution_count": 21,
   "id": "ef884cd4-f572-4516-9e22-34709070d4e7",
   "metadata": {},
   "outputs": [
    {
     "data": {
      "text/plain": [
       "dict_items([('Hello', 'World'), ('Mayank', 'Bhatt')])"
      ]
     },
     "execution_count": 21,
     "metadata": {},
     "output_type": "execute_result"
    }
   ],
   "source": [
    "name.items()"
   ]
  },
  {
   "cell_type": "code",
   "execution_count": 23,
   "id": "08b9e671-3042-4115-90df-f3775129c41d",
   "metadata": {},
   "outputs": [
    {
     "name": "stdout",
     "output_type": "stream",
     "text": [
      "Hello\n",
      "Mayank\n"
     ]
    }
   ],
   "source": [
    "for key,value in name.items():\n",
    "    print(key)"
   ]
  },
  {
   "cell_type": "code",
   "execution_count": 22,
   "id": "72b1c6bf-22c2-48f7-a88f-f0b42d45c848",
   "metadata": {},
   "outputs": [
    {
     "name": "stdout",
     "output_type": "stream",
     "text": [
      "Hello World\n",
      "Mayank Bhatt\n"
     ]
    }
   ],
   "source": [
    "for key,value in name.items():\n",
    "    print(key,value)"
   ]
  },
  {
   "cell_type": "code",
   "execution_count": 24,
   "id": "8868de75-73af-4fae-af53-e26a059accab",
   "metadata": {},
   "outputs": [
    {
     "name": "stdout",
     "output_type": "stream",
     "text": [
      "1. mayank\n",
      "2. Bhatt\n"
     ]
    }
   ],
   "source": [
    "a=[\"mayank\",\"Bhatt\"]\n",
    "counter=1\n",
    "for a in a:\n",
    "    print(counter,a,sep=\". \")\n",
    "    counter+=1"
   ]
  },
  {
   "cell_type": "code",
   "execution_count": 26,
   "id": "b108ac8b-20e2-4fa6-b815-f5f5137465d7",
   "metadata": {},
   "outputs": [
    {
     "name": "stdout",
     "output_type": "stream",
     "text": [
      "1. mayank\n",
      "2. Bhatt\n"
     ]
    }
   ],
   "source": [
    "a=[\"mayank\",\"Bhatt\"]\n",
    "\n",
    "for index, a in enumerate(a,start=1):\n",
    "    print(index,a,sep=\". \")"
   ]
  },
  {
   "cell_type": "markdown",
   "id": "a5509796-d5c2-4bb5-8be2-ca91b4fd6e3a",
   "metadata": {},
   "source": [
    "# Thursday 18/09/2025"
   ]
  },
  {
   "cell_type": "markdown",
   "id": "06d0b80f-028f-4ed7-b0b9-e5809e5309a8",
   "metadata": {},
   "source": [
    "# Range() function\n",
    "- Range(start=0,end=n-1,step=1)"
   ]
  },
  {
   "cell_type": "code",
   "execution_count": 1,
   "id": "621e97f6-baad-425c-8a11-5cbae3529792",
   "metadata": {},
   "outputs": [
    {
     "data": {
      "text/plain": [
       "range(0, 10)"
      ]
     },
     "execution_count": 1,
     "metadata": {},
     "output_type": "execute_result"
    }
   ],
   "source": [
    "range(10)"
   ]
  },
  {
   "cell_type": "code",
   "execution_count": 2,
   "id": "ae4257c0-4986-4d08-9206-12a2b97acd59",
   "metadata": {},
   "outputs": [
    {
     "name": "stdout",
     "output_type": "stream",
     "text": [
      "0\n",
      "1\n",
      "2\n",
      "3\n",
      "4\n",
      "5\n",
      "6\n",
      "7\n",
      "8\n",
      "9\n"
     ]
    }
   ],
   "source": [
    "for i in range(10):\n",
    "    print(i)"
   ]
  },
  {
   "cell_type": "code",
   "execution_count": 3,
   "id": "9e85274b-43a2-4c51-a43e-b9235c08b9e1",
   "metadata": {},
   "outputs": [
    {
     "name": "stdout",
     "output_type": "stream",
     "text": [
      "5\n",
      "8\n",
      "11\n",
      "14\n",
      "17\n"
     ]
    }
   ],
   "source": [
    "for i in range(5,20,3):\n",
    "    print(i)"
   ]
  },
  {
   "cell_type": "code",
   "execution_count": 8,
   "id": "9ced05c3-14b1-4bb1-ba48-508c01494b1c",
   "metadata": {},
   "outputs": [
    {
     "name": "stdout",
     "output_type": "stream",
     "text": [
      " 1 ka sq hai =  1\n",
      " 2 ka sq hai =  4\n",
      " 3 ka sq hai =  9\n",
      " 4 ka sq hai =  16\n",
      " 5 ka sq hai =  25\n",
      " 6 ka sq hai =  36\n",
      " 7 ka sq hai =  49\n",
      " 8 ka sq hai =  64\n",
      " 9 ka sq hai =  81\n",
      " 10 ka sq hai =  100\n"
     ]
    }
   ],
   "source": [
    "for i in range(1,11):\n",
    "    print(f\" {i} ka sq hai = \",i**2)"
   ]
  },
  {
   "cell_type": "code",
   "execution_count": 9,
   "id": "7f6d178c-54a1-40b4-a22e-1941cb7e3983",
   "metadata": {},
   "outputs": [
    {
     "name": "stdout",
     "output_type": "stream",
     "text": [
      "1 : 1\n",
      "2 : 4\n",
      "3 : 9\n",
      "4 : 16\n",
      "5 : 25\n",
      "6 : 36\n",
      "7 : 49\n",
      "8 : 64\n",
      "9 : 81\n",
      "10 : 100\n"
     ]
    }
   ],
   "source": [
    "for i in range(1,11):\n",
    "    print(i,i*i,sep=\" : \")"
   ]
  },
  {
   "cell_type": "code",
   "execution_count": 13,
   "id": "6ed381e3-d47a-4756-a670-856454330588",
   "metadata": {},
   "outputs": [
    {
     "name": "stdout",
     "output_type": "stream",
     "text": [
      "55\n"
     ]
    }
   ],
   "source": [
    "# 4. Print the sum of numbers from 1 to 10 using a for loop.\n",
    "n = 10 \n",
    "Sum = 0\n",
    "for i in range(1,n+1):\n",
    "    Sum +=i\n",
    "print(Sum)"
   ]
  },
  {
   "cell_type": "code",
   "execution_count": 17,
   "id": "d75d07cc-5b9a-4397-88c2-99a83b44fb39",
   "metadata": {},
   "outputs": [
    {
     "name": "stdout",
     "output_type": "stream",
     "text": [
      "1\n",
      "3\n",
      "6\n",
      "10\n",
      "15\n",
      "21\n",
      "28\n",
      "36\n",
      "45\n",
      "55\n"
     ]
    }
   ],
   "source": [
    "# 4. Print the sum of numbers from 1 to 10 using a for loop.\n",
    "n = 10 \n",
    "Sum = 0\n",
    "for i in range(1,n+1):\n",
    "    Sum +=i\n",
    "    print(Sum)"
   ]
  },
  {
   "cell_type": "code",
   "execution_count": 16,
   "id": "7ce91358-0d66-447e-ad4d-db05b40dbe2d",
   "metadata": {},
   "outputs": [
    {
     "name": "stdout",
     "output_type": "stream",
     "text": [
      "1, 3, 6, 10, 15, 21, 28, 36, 45, 55, "
     ]
    }
   ],
   "source": [
    "# 4. Print the sum of numbers from 1 to 10 using a for loop.\n",
    "n = 10 \n",
    "Sum = 0\n",
    "for i in range(1,n+1):\n",
    "    Sum +=i\n",
    "    print(Sum, end=\", \")"
   ]
  },
  {
   "cell_type": "code",
   "execution_count": 25,
   "id": "a4a27991-25e7-4d33-b843-0692aee45787",
   "metadata": {},
   "outputs": [
    {
     "name": "stdout",
     "output_type": "stream",
     "text": [
      "10\n",
      "9\n",
      "8\n",
      "7\n",
      "6\n",
      "5\n",
      "4\n",
      "3\n",
      "2\n",
      "1\n"
     ]
    }
   ],
   "source": [
    "# 6. Print the numbers from 10 to 1 in reverse order using a for loop.\n",
    "for i in range(10,0,-1):\n",
    "    print(i)"
   ]
  },
  {
   "cell_type": "code",
   "execution_count": 31,
   "id": "c8fb162c-7902-4ca7-88d3-8eab07e6d666",
   "metadata": {},
   "outputs": [
    {
     "name": "stdout",
     "output_type": "stream",
     "text": [
      "0\n",
      "2\n",
      "4\n",
      "6\n",
      "8\n",
      "10\n"
     ]
    }
   ],
   "source": [
    "# 7. Print the even numbers from 1 to 10 using a for loop.\n",
    "for i in range (0,11,2):\n",
    "    print(i)"
   ]
  },
  {
   "cell_type": "code",
   "execution_count": 32,
   "id": "058ac628-ffbc-44bf-b0a9-f3153045cc05",
   "metadata": {},
   "outputs": [
    {
     "name": "stdout",
     "output_type": "stream",
     "text": [
      "0\n",
      "2\n",
      "4\n",
      "6\n",
      "8\n",
      "10\n"
     ]
    }
   ],
   "source": [
    "for i in range(11):\n",
    "    if i%2==0:\n",
    "        print(i)"
   ]
  },
  {
   "cell_type": "code",
   "execution_count": 36,
   "id": "e1e2719e-1163-4468-a72e-2c178cbfc683",
   "metadata": {},
   "outputs": [
    {
     "name": "stdout",
     "output_type": "stream",
     "text": [
      "1\n",
      "3\n",
      "5\n",
      "7\n",
      "9\n"
     ]
    }
   ],
   "source": [
    "for i in range (1,11,2):\n",
    "    print(i)"
   ]
  },
  {
   "cell_type": "code",
   "execution_count": 37,
   "id": "ebb5113c-1332-4ba4-b991-3b4da268120e",
   "metadata": {},
   "outputs": [
    {
     "name": "stdout",
     "output_type": "stream",
     "text": [
      "1\n",
      "3\n",
      "5\n",
      "7\n",
      "9\n"
     ]
    }
   ],
   "source": [
    "for i in range (11):\n",
    "    if i%2!=0:\n",
    "        print(i)"
   ]
  },
  {
   "cell_type": "code",
   "execution_count": 38,
   "id": "1fed3165-e06e-432a-928d-0ccfa11df221",
   "metadata": {},
   "outputs": [
    {
     "name": "stdout",
     "output_type": "stream",
     "text": [
      "1\n",
      "5\n",
      "7\n"
     ]
    }
   ],
   "source": [
    "for i in range (11):\n",
    "    if i%2!=0 and i%3!=0:\n",
    "        print(i)   "
   ]
  },
  {
   "cell_type": "code",
   "execution_count": 46,
   "id": "f0bdfdd5-354c-49f8-b766-64ac1da4838e",
   "metadata": {},
   "outputs": [
    {
     "name": "stdout",
     "output_type": "stream",
     "text": [
      "15\n"
     ]
    }
   ],
   "source": [
    "count=0\n",
    "for i in range (100):\n",
    "    if i%7==0:\n",
    "        count +=1\n",
    "print(count)"
   ]
  },
  {
   "cell_type": "code",
   "execution_count": 47,
   "id": "3d767ba0-6a5f-431a-8a79-28711e792b90",
   "metadata": {},
   "outputs": [
    {
     "name": "stdout",
     "output_type": "stream",
     "text": [
      "0\n",
      "12\n",
      "24\n",
      "36\n",
      "48\n",
      "60\n",
      "72\n",
      "84\n",
      "96\n"
     ]
    }
   ],
   "source": [
    "for i in range (101):\n",
    "    if i%3==0 and i%4==0:\n",
    "        print(i)"
   ]
  },
  {
   "cell_type": "code",
   "execution_count": 54,
   "id": "9967bbbd-b942-4a00-a876-fc34059fc513",
   "metadata": {},
   "outputs": [
    {
     "name": "stdout",
     "output_type": "stream",
     "text": [
      "Factorial of  5 is:  120\n"
     ]
    }
   ],
   "source": [
    "a = 1\n",
    "num = 5\n",
    "for i in range (1,num+1):\n",
    "    a *= i\n",
    "print(\"Factorial of \",num,\"is: \",a)"
   ]
  },
  {
   "cell_type": "code",
   "execution_count": 59,
   "id": "5432611b-8b2e-4bbe-9f3f-a83d6a4d39fd",
   "metadata": {},
   "outputs": [
    {
     "name": "stdout",
     "output_type": "stream",
     "text": [
      "A,B,C,D,E,F,G,H,I,J,K,L,M,N,O,P,Q,R,S,T,U,V,W,X,Y,Z,"
     ]
    }
   ],
   "source": [
    "for i in range (65,91):\n",
    "    print(chr(i),end=\",\")"
   ]
  },
  {
   "cell_type": "code",
   "execution_count": 60,
   "id": "ca947f43-09ce-4851-b418-855ff33c734a",
   "metadata": {},
   "outputs": [
    {
     "data": {
      "text/plain": [
       "97"
      ]
     },
     "execution_count": 60,
     "metadata": {},
     "output_type": "execute_result"
    }
   ],
   "source": [
    "ord(\"a\")"
   ]
  },
  {
   "cell_type": "code",
   "execution_count": 62,
   "id": "360c6323-fb1d-4f29-a9d5-6eb7f95f312a",
   "metadata": {},
   "outputs": [
    {
     "data": {
      "text/plain": [
       "'A'"
      ]
     },
     "execution_count": 62,
     "metadata": {},
     "output_type": "execute_result"
    }
   ],
   "source": [
    "chr(65)"
   ]
  }
 ],
 "metadata": {
  "kernelspec": {
   "display_name": "Python 3 (ipykernel)",
   "language": "python",
   "name": "python3"
  },
  "language_info": {
   "codemirror_mode": {
    "name": "ipython",
    "version": 3
   },
   "file_extension": ".py",
   "mimetype": "text/x-python",
   "name": "python",
   "nbconvert_exporter": "python",
   "pygments_lexer": "ipython3",
   "version": "3.12.6"
  }
 },
 "nbformat": 4,
 "nbformat_minor": 5
}

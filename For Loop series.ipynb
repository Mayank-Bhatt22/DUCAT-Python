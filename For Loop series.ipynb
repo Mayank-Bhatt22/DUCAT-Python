{
 "cells": [
  {
   "cell_type": "markdown",
   "id": "3c21b3f4-d3a4-4b3e-b765-fdfc4555ce21",
   "metadata": {},
   "source": [
    "# Loop series"
   ]
  },
  {
   "cell_type": "code",
   "execution_count": 1,
   "id": "4918f40f-f0b2-4f19-add2-736eef9ada6d",
   "metadata": {},
   "outputs": [
    {
     "name": "stdout",
     "output_type": "stream",
     "text": [
      "1, 3, 6, 10, 15, 21, 28, 36, 45, 55, "
     ]
    }
   ],
   "source": [
    "# sum od series of natural no.\n",
    "sum = 0 \n",
    "for i in range(1,11):\n",
    "    sum+=i\n",
    "    print(sum,end=\", \")"
   ]
  },
  {
   "cell_type": "code",
   "execution_count": 2,
   "id": "6a1379b7-b653-4887-abbd-81793aa2ab29",
   "metadata": {},
   "outputs": [
    {
     "name": "stdout",
     "output_type": "stream",
     "text": [
      "1, 2, 6, 24, 120, 720, 5040, 40320, 362880, "
     ]
    }
   ],
   "source": [
    "# factorial series\n",
    "f=1\n",
    "for i in range(1,10):\n",
    "    f*=i\n",
    "    print(f,end=\", \")"
   ]
  },
  {
   "cell_type": "code",
   "execution_count": 3,
   "id": "f53b13ee-8223-4926-b26a-495145fea86f",
   "metadata": {},
   "outputs": [
    {
     "name": "stdout",
     "output_type": "stream",
     "text": [
      "0, 1, 1, 2, 3, 5, 8, 13, 21, 34, "
     ]
    }
   ],
   "source": [
    "# 21. Print the Fibonacci sequence up to the 10th term using a for loop.\n",
    "# Fibonacci series:0,1,1,2,3,5,8,13,21,34,55,89\n",
    "# Way no 1\n",
    "a,b=0,1\n",
    "for i in range (10):\n",
    "    print(a,end=\", \")\n",
    "    a,b=b,a+b"
   ]
  },
  {
   "cell_type": "code",
   "execution_count": 9,
   "id": "416004e4-24f7-4165-91a4-acfb989322ce",
   "metadata": {},
   "outputs": [
    {
     "name": "stdout",
     "output_type": "stream",
     "text": [
      "1 4 9 16 25 36 49 64 81 100 "
     ]
    }
   ],
   "source": [
    "# print sq of first 10 number \n",
    "for i in range (1,11):\n",
    "    print(i**2,end=\" \")"
   ]
  },
  {
   "cell_type": "code",
   "execution_count": 11,
   "id": "3bed91e2-1f31-4398-ab19-2594bfcc249d",
   "metadata": {},
   "outputs": [
    {
     "name": "stdout",
     "output_type": "stream",
     "text": [
      "5 10 15 20 25 30 35 40 45 50 "
     ]
    }
   ],
   "source": [
    "# print all values which are miltples of 5 up to 50\n",
    "for i in range (5,51,5):\n",
    "    print(i,end=\" \")"
   ]
  },
  {
   "cell_type": "code",
   "execution_count": 12,
   "id": "a390279b-094f-4252-8cb6-d5615455ce61",
   "metadata": {},
   "outputs": [
    {
     "name": "stdout",
     "output_type": "stream",
     "text": [
      "1, -2, 3, -4, 5, -6, 7, -8, 9, -10, "
     ]
    }
   ],
   "source": [
    "# print alternating series (1,-2,3,-4,5,-6)\n",
    "n=10\n",
    "for i in range (1,n+1):\n",
    "    if i%2==0:\n",
    "        print(-i,end=\", \")\n",
    "    else:\n",
    "        print(i,end=\", \")"
   ]
  },
  {
   "cell_type": "code",
   "execution_count": 15,
   "id": "b10641ec-64d8-4cfe-bc27-e3a4ce8ae200",
   "metadata": {},
   "outputs": [
    {
     "name": "stdout",
     "output_type": "stream",
     "text": [
      "1.0 0.5 0.33 0.25 0.2 0.17 0.14 0.12 0.11 0.1 "
     ]
    }
   ],
   "source": [
    "# print harmonic series (1,1/2,1/3...)\n",
    "n=10\n",
    "for i in range (1,n+1):\n",
    "   print(round(1/i,2),end=\" \")"
   ]
  },
  {
   "cell_type": "code",
   "execution_count": 17,
   "id": "e0e8e9b0-280a-4b6f-8fcc-5d177c221a2a",
   "metadata": {},
   "outputs": [
    {
     "name": "stdout",
     "output_type": "stream",
     "text": [
      "1 11 111 1111 11111 "
     ]
    }
   ],
   "source": [
    "# print the series (1,11,111,1111,11111.....)\n",
    "n=0\n",
    "for i in range(1,6):\n",
    "    n = n*10+ 1\n",
    "    print(n,end=\" \")"
   ]
  },
  {
   "cell_type": "code",
   "execution_count": 10,
   "id": "b3c435d9-32d2-40a0-b12c-b721c4170531",
   "metadata": {},
   "outputs": [
    {
     "name": "stdout",
     "output_type": "stream",
     "text": [
      "0\n",
      "3\n",
      "8\n",
      "15\n",
      "24\n",
      "35\n",
      "48\n",
      "63\n",
      "80\n",
      "99\n"
     ]
    }
   ],
   "source": [
    "# print the series (0,3,8,15,24,35,...)\n",
    "# (n**2-1)\n",
    "for i in range(1,11):\n",
    "    print(i**2-1)"
   ]
  },
  {
   "cell_type": "code",
   "execution_count": 9,
   "id": "de566441-642d-4559-a58d-2bb2cc61afe4",
   "metadata": {},
   "outputs": [
    {
     "name": "stdout",
     "output_type": "stream",
     "text": [
      "3,9,27,81,243,729,2187,6561,19683,59049,"
     ]
    }
   ],
   "source": [
    "# print the series of powerd of 3 up to 10 term\n",
    "for i in range (1,11):\n",
    "    a=3**i\n",
    "    print(a,end=\",\")"
   ]
  },
  {
   "cell_type": "code",
   "execution_count": 10,
   "id": "b443d55e-ef8f-4527-a9ff-c02eae832925",
   "metadata": {},
   "outputs": [
    {
     "name": "stdout",
     "output_type": "stream",
     "text": [
      "0 1 2 3 4 \n",
      "0 1 2 3 4 \n",
      "0 1 2 3 4 \n",
      "0 1 2 3 4 \n",
      "0 1 2 3 4 \n"
     ]
    }
   ],
   "source": [
    "# to print a box\n",
    "for col in range(5):\n",
    "    # print(col)\n",
    "    for row in range(5):\n",
    "        print(row,end=\" \")\n",
    "    print()"
   ]
  },
  {
   "cell_type": "code",
   "execution_count": 12,
   "id": "dca40e9e-4a82-4669-9719-2b6bc32600b3",
   "metadata": {},
   "outputs": [
    {
     "name": "stdout",
     "output_type": "stream",
     "text": [
      "[1, 2, 3]\n",
      "[4, 5, 6]\n",
      "[7, 8, 9]\n"
     ]
    }
   ],
   "source": [
    "# box of list\n",
    "L1=[[1,2,3],[4,5,6],[7,8,9]]\n",
    "for i in L1:\n",
    "    print(i)"
   ]
  },
  {
   "cell_type": "code",
   "execution_count": 14,
   "id": "be770297-1e0c-4825-ab6b-5e0fe45c1cf0",
   "metadata": {},
   "outputs": [
    {
     "name": "stdout",
     "output_type": "stream",
     "text": [
      "1\n",
      "2\n",
      "3\n",
      "4\n",
      "5\n",
      "6\n",
      "7\n",
      "8\n",
      "9\n"
     ]
    }
   ],
   "source": [
    "# list to simple number\n",
    "L1=[[1,2,3],[4,5,6],[7,8,9]]\n",
    "for i in L1:\n",
    "    for j in i:\n",
    "        print(j)"
   ]
  },
  {
   "cell_type": "code",
   "execution_count": 18,
   "id": "76e0ca33-548f-463f-8297-891ede79bf29",
   "metadata": {},
   "outputs": [
    {
     "name": "stdout",
     "output_type": "stream",
     "text": [
      "[1, 2, 3, 4, 5, 6, 7, 8, 9]\n"
     ]
    }
   ],
   "source": [
    "# nexted list to one list\n",
    "new_list = []\n",
    "L1=[[1,2,3],[4,5,6],[7,8,9]]\n",
    "for i in L1:\n",
    "    for j in i:\n",
    "        new_list.append(j)\n",
    "print(new_list)"
   ]
  },
  {
   "cell_type": "code",
   "execution_count": 21,
   "id": "587cf4a4-f8d1-4ff9-927c-1cde926bf25d",
   "metadata": {},
   "outputs": [
    {
     "name": "stdout",
     "output_type": "stream",
     "text": [
      "[2, 3, 5, 7, 11, 13, 17, 19, 23, 29]\n"
     ]
    }
   ],
   "source": [
    "# first 10 prime numbers \n",
    "x = []\n",
    "for a in range(2, 101): \n",
    "    for i in range(2, a):\n",
    "        if a % i == 0:\n",
    "            break\n",
    "    else:\n",
    "        x.append(a)\n",
    "        if len(x) == 10:\n",
    "            break\n",
    "print(x)"
   ]
  },
  {
   "cell_type": "code",
   "execution_count": 19,
   "id": "4a07ecca-001e-4eec-a876-e2b33a35ae40",
   "metadata": {},
   "outputs": [
    {
     "name": "stdout",
     "output_type": "stream",
     "text": [
      "45\n"
     ]
    }
   ],
   "source": [
    "# sum if all no in list\n",
    "new_list = []\n",
    "L1=[[1,2,3],[4,5,6],[7,8,9]]\n",
    "for i in L1:\n",
    "    for j in i:\n",
    "        new_list.append(j)\n",
    "print(sum(new_list))"
   ]
  },
  {
   "cell_type": "code",
   "execution_count": 24,
   "id": "8078dd75-dcda-4688-9869-45c11b96f1fd",
   "metadata": {},
   "outputs": [
    {
     "name": "stdout",
     "output_type": "stream",
     "text": [
      "45\n"
     ]
    }
   ],
   "source": [
    "# sum if all no in list\n",
    "total =0\n",
    "new_list=[]\n",
    "for i in L1:\n",
    "    for j in i:\n",
    "        total +=j\n",
    "print(total)"
   ]
  },
  {
   "cell_type": "code",
   "execution_count": 23,
   "id": "065493fc-c495-4878-a03c-e90dd775fa7f",
   "metadata": {},
   "outputs": [
    {
     "name": "stdout",
     "output_type": "stream",
     "text": [
      "9\n",
      "1\n"
     ]
    }
   ],
   "source": [
    "# print min and max from list\n",
    "new_list = []\n",
    "L1=[[1,2,3],[4,5,6],[7,8,9]]\n",
    "for i in L1:\n",
    "    for j in i:\n",
    "        new_list.append(j)\n",
    "print(max(new_list))\n",
    "print(min(new_list))"
   ]
  },
  {
   "cell_type": "code",
   "execution_count": 29,
   "id": "6766c209-d773-46cc-b636-c7f8bb3e9fc1",
   "metadata": {},
   "outputs": [
    {
     "name": "stdout",
     "output_type": "stream",
     "text": [
      "9\n"
     ]
    }
   ],
   "source": [
    "# Max value from list\n",
    "L1=[[1,2,3],[4,5,6],[7,8,9]]\n",
    "max_value = L1[0][0]\n",
    "for row in L1:\n",
    "    for col in row:\n",
    "        if max_value<col:\n",
    "            max_value=col\n",
    "print(max_value)   "
   ]
  },
  {
   "cell_type": "code",
   "execution_count": 2,
   "id": "b58a78b3-d475-4530-949e-f5a7ebfd0e8a",
   "metadata": {},
   "outputs": [
    {
     "name": "stdout",
     "output_type": "stream",
     "text": [
      "1\n"
     ]
    }
   ],
   "source": [
    "# Min value from list\n",
    "L1=[[1,2,3],[4,5,6],[7,8,9]]\n",
    "min_value = L1[0][0]\n",
    "for row in L1:\n",
    "    for col in row:\n",
    "        if min_value>col:\n",
    "            min_value=col\n",
    "print(min_value)   "
   ]
  },
  {
   "cell_type": "code",
   "execution_count": 32,
   "id": "ed7d7879-e450-4935-92e1-e0cea30b6423",
   "metadata": {},
   "outputs": [
    {
     "name": "stdin",
     "output_type": "stream",
     "text": [
      "Enter the no:  3\n"
     ]
    },
    {
     "name": "stdout",
     "output_type": "stream",
     "text": [
      "3 x 1 =3\n",
      "3 x 2 =6\n",
      "3 x 3 =9\n",
      "3 x 4 =12\n",
      "3 x 5 =15\n",
      "3 x 6 =18\n",
      "3 x 7 =21\n",
      "3 x 8 =24\n",
      "3 x 9 =27\n",
      "3 x 10 =30\n"
     ]
    }
   ],
   "source": [
    "# print the table \n",
    "n = int(input(\"Enter the no: \"))\n",
    "for i in range(1,11):\n",
    "    print(f\"{n} x {i} ={n*i}\")"
   ]
  },
  {
   "cell_type": "code",
   "execution_count": 52,
   "id": "1a499360-fd1a-4c9a-8fe7-614b58964bdf",
   "metadata": {},
   "outputs": [
    {
     "name": "stdout",
     "output_type": "stream",
     "text": [
      "1x1=1\t2x1=2\t3x1=3\t4x1=4\t5x1=5\t6x1=6\t7x1=7\t8x1=8\t9x1=9\t10x1=10\t\n",
      "1x2=2\t2x2=4\t3x2=6\t4x2=8\t5x2=10\t6x2=12\t7x2=14\t8x2=16\t9x2=18\t10x2=20\t\n",
      "1x3=3\t2x3=6\t3x3=9\t4x3=12\t5x3=15\t6x3=18\t7x3=21\t8x3=24\t9x3=27\t10x3=30\t\n",
      "1x4=4\t2x4=8\t3x4=12\t4x4=16\t5x4=20\t6x4=24\t7x4=28\t8x4=32\t9x4=36\t10x4=40\t\n",
      "1x5=5\t2x5=10\t3x5=15\t4x5=20\t5x5=25\t6x5=30\t7x5=35\t8x5=40\t9x5=45\t10x5=50\t\n",
      "1x6=6\t2x6=12\t3x6=18\t4x6=24\t5x6=30\t6x6=36\t7x6=42\t8x6=48\t9x6=54\t10x6=60\t\n",
      "1x7=7\t2x7=14\t3x7=21\t4x7=28\t5x7=35\t6x7=42\t7x7=49\t8x7=56\t9x7=63\t10x7=70\t\n",
      "1x8=8\t2x8=16\t3x8=24\t4x8=32\t5x8=40\t6x8=48\t7x8=56\t8x8=64\t9x8=72\t10x8=80\t\n",
      "1x9=9\t2x9=18\t3x9=27\t4x9=36\t5x9=45\t6x9=54\t7x9=63\t8x9=72\t9x9=81\t10x9=90\t\n",
      "1x10=10\t2x10=20\t3x10=30\t4x10=40\t5x10=50\t6x10=60\t7x10=70\t8x10=80\t9x10=90\t10x10=100\t\n"
     ]
    }
   ],
   "source": [
    "# print tie table from 1 to 10\n",
    "for n in range(1,11):\n",
    "    for i in range(1,11):\n",
    "        print(f\"{i}x{n}={n*i}\",end=\"\\t\")\n",
    "    print()"
   ]
  }
 ],
 "metadata": {
  "kernelspec": {
   "display_name": "Python 3 (ipykernel)",
   "language": "python",
   "name": "python3"
  },
  "language_info": {
   "codemirror_mode": {
    "name": "ipython",
    "version": 3
   },
   "file_extension": ".py",
   "mimetype": "text/x-python",
   "name": "python",
   "nbconvert_exporter": "python",
   "pygments_lexer": "ipython3",
   "version": "3.12.6"
  }
 },
 "nbformat": 4,
 "nbformat_minor": 5
}

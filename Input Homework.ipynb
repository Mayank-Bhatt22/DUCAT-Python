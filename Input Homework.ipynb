{
 "cells": [
  {
   "cell_type": "code",
   "execution_count": 1,
   "id": "612327ff-5248-4099-bdff-dab473092de1",
   "metadata": {},
   "outputs": [
    {
     "name": "stdin",
     "output_type": "stream",
     "text": [
      "Enter your account balance:  29654340987654\n"
     ]
    },
    {
     "name": "stdout",
     "output_type": "stream",
     "text": [
      "Your current account balance is: ₹ 29654340987654.0\n"
     ]
    }
   ],
   "source": [
    "# 1. Bank Account: Create a program that asks the user for their account balance and prints the balance with a message.\n",
    "balance = float(input(\"Enter your account balance: \"))\n",
    "\n",
    "print(\"Your current account balance is: ₹\", balance)"
   ]
  },
  {
   "cell_type": "code",
   "execution_count": 3,
   "id": "83cf1f33-e883-40d2-9304-cac6f7538e33",
   "metadata": {},
   "outputs": [
    {
     "name": "stdin",
     "output_type": "stream",
     "text": [
      "Enter the price of item: 120\n",
      "Quantity: 2\n"
     ]
    },
    {
     "name": "stdout",
     "output_type": "stream",
     "text": [
      "Your toatal is 240.0\n"
     ]
    }
   ],
   "source": [
    "# 2. Shopping: Ask the user for the price of an item and the quantity they want to buy. Calculate and print the total cost.\n",
    "price = float(input(\"Enter the price of item:\"))\n",
    "quantity= float(input(\"Quantity:\"))\n",
    "\n",
    "print(f'Your toatal is {price*quantity}')"
   ]
  },
  {
   "cell_type": "code",
   "execution_count": 4,
   "id": "7df5e063-c68e-4a69-8ff4-6d525d6536ce",
   "metadata": {},
   "outputs": [
    {
     "name": "stdin",
     "output_type": "stream",
     "text": [
      "Enter temperature in celsius to change in fahrenheit: 45\n"
     ]
    },
    {
     "name": "stdout",
     "output_type": "stream",
     "text": [
      "Temperature in Fahrenheit: 113.0\n"
     ]
    }
   ],
   "source": [
    "# 3. Weather: Create a program that asks the user for the temperature in Celsius and converts it to Fahrenheit.\n",
    "celsius = float(input(\"Enter temperature in celsius to change in fahrenheit:\"))\n",
    "\n",
    "fahrenheit = (celsius * 9/5) + 32\n",
    "\n",
    "print(\"Temperature in Fahrenheit:\", fahrenheit)"
   ]
  },
  {
   "cell_type": "code",
   "execution_count": 5,
   "id": "b0fb9798-97dc-4ed0-8738-548de8f48180",
   "metadata": {},
   "outputs": [
    {
     "name": "stdin",
     "output_type": "stream",
     "text": [
      "Enter your name: Mayank Bhatt\n",
      "Enter your grade: D\n"
     ]
    },
    {
     "name": "stdout",
     "output_type": "stream",
     "text": [
      "So, Your name is Mayank Bhatt and your grade is D\n"
     ]
    }
   ],
   "source": [
    "# 4. Student Grades: Ask the user for their name and grade (A-F). Print a message with their name and grade.\n",
    "name = input(\"Enter your name:\")\n",
    "grade = input(\"Enter your grade:\")\n",
    "\n",
    "print(f\"So, Your name is {name} and your grade is {grade}\")"
   ]
  },
  {
   "cell_type": "code",
   "execution_count": 6,
   "id": "57febb72-6718-47ae-ae12-ed47ae07f0a8",
   "metadata": {},
   "outputs": [
    {
     "name": "stdin",
     "output_type": "stream",
     "text": [
      "Enter hours:  1\n",
      "Enter minutes:  18\n"
     ]
    },
    {
     "name": "stdout",
     "output_type": "stream",
     "text": [
      "Total time in minutes: 78\n"
     ]
    }
   ],
   "source": [
    "# 5. Time Converter: Create a program that asks the user for a time in hours and minutes and converts it to just minutes.\n",
    "hours = int(input(\"Enter hours: \"))\n",
    "minutes = int(input(\"Enter minutes: \"))\n",
    "\n",
    "total_minutes = (hours * 60) + minutes\n",
    "\n",
    "print(\"Total time in minutes:\", total_minutes)"
   ]
  },
  {
   "cell_type": "code",
   "execution_count": 7,
   "id": "b9c974cc-fef4-44ad-8b18-d037eaf42e86",
   "metadata": {},
   "outputs": [
    {
     "name": "stdin",
     "output_type": "stream",
     "text": [
      "Enter distance in kilometers:  400\n"
     ]
    },
    {
     "name": "stdout",
     "output_type": "stream",
     "text": [
      "Distance in kilometers: 400.0\n",
      "Distance in miles: 248.54840000000002\n"
     ]
    }
   ],
   "source": [
    "# 6. Distance Calculator: Ask the user for the distance between two cities in kilometers and miles. Print the distance in both units.\n",
    "km = float(input(\"Enter distance in kilometers: \"))\n",
    "\n",
    "miles = km * 0.621371\n",
    "\n",
    "print(\"Distance in kilometers:\", km)\n",
    "print(\"Distance in miles:\", miles)"
   ]
  },
  {
   "cell_type": "code",
   "execution_count": 8,
   "id": "58a75cb0-9ace-4732-95d1-cabc6517ae55",
   "metadata": {},
   "outputs": [
    {
     "name": "stdin",
     "output_type": "stream",
     "text": [
      "Enter the total bill amount:  200\n"
     ]
    },
    {
     "name": "stdout",
     "output_type": "stream",
     "text": [
      "The 15% tip is: 30.0\n",
      "Total amount to be paid (bill + tip): 230.0\n"
     ]
    }
   ],
   "source": [
    "# 7. Tip Calculator: Create a program that asks the user for the total bill amount and calculates a 15% tip.\n",
    "bill = float(input(\"Enter the total bill amount: \"))\n",
    "\n",
    "tip = bill * 0.15\n",
    "\n",
    "print(\"The 15% tip is:\", tip)\n",
    "print(\"Total amount to be paid (bill + tip):\", bill + tip)"
   ]
  },
  {
   "cell_type": "code",
   "execution_count": 10,
   "id": "c486990d-2b9a-466f-80a0-b3430f27d836",
   "metadata": {},
   "outputs": [
    {
     "name": "stdin",
     "output_type": "stream",
     "text": [
      "Enter your birth year: 2005\n",
      "Enter current year: 2025\n"
     ]
    },
    {
     "name": "stdout",
     "output_type": "stream",
     "text": [
      "So, you are 20\n"
     ]
    }
   ],
   "source": [
    "# 8. Age Calculator: Ask the user for their birth year and calculate their age.\n",
    "birthyear = int(input(\"Enter your birth year:\"))\n",
    "currentyear = int(input(\"Enter current year:\"))\n",
    "\n",
    "print(f\"So, you are {currentyear-birthyear} year old.\")"
   ]
  },
  {
   "cell_type": "code",
   "execution_count": 11,
   "id": "3a9c04eb-87d4-4707-aba0-c37708f3f571",
   "metadata": {},
   "outputs": [
    {
     "name": "stdin",
     "output_type": "stream",
     "text": [
      "Enter amount in USD:  12\n"
     ]
    },
    {
     "name": "stdout",
     "output_type": "stream",
     "text": [
      "Amount in USD: 12.0\n",
      "Amount in EUR: 11.040000000000001\n"
     ]
    }
   ],
   "source": [
    "# 9. Currency Converter: Create a program that asks the user for an amount in USD and converts it to EUR (use a fixed exchange rate).\n",
    "usd = float(input(\"Enter amount in USD: \"))\n",
    "eur = usd * 0.92\n",
    "\n",
    "print(\"Amount in USD:\", usd)\n",
    "print(\"Amount in EUR:\", eur)"
   ]
  },
  {
   "cell_type": "code",
   "execution_count": 12,
   "id": "fc0f38e1-9031-45de-aae1-bab3858882bb",
   "metadata": {},
   "outputs": [
    {
     "name": "stdin",
     "output_type": "stream",
     "text": [
      "Enter your weight in kg:  70\n",
      "Enter your height in meters:  0.14224\n"
     ]
    },
    {
     "name": "stdout",
     "output_type": "stream",
     "text": [
      "Your BMI is: 3459.828348228125\n"
     ]
    }
   ],
   "source": [
    "# 10. BMI Calculator: Ask the user for their weight and height. Calculate and print their BMI.\n",
    "weight = float(input(\"Enter your weight in kg: \"))\n",
    "height = float(input(\"Enter your height in meters: \"))\n",
    "\n",
    "bmi = weight / (height ** 2)\n",
    "\n",
    "print(\"Your BMI is:\", bmi)"
   ]
  },
  {
   "cell_type": "code",
   "execution_count": 6,
   "id": "9f8431dc-df2a-41e8-9dea-0066eb3243e8",
   "metadata": {},
   "outputs": [
    {
     "name": "stdout",
     "output_type": "stream",
     "text": [
      "Welcome to the Quiz! Let's start.\n",
      "\n"
     ]
    },
    {
     "name": "stdin",
     "output_type": "stream",
     "text": [
      "Q1. What is 2 + 2 ?  4\n"
     ]
    },
    {
     "name": "stdout",
     "output_type": "stream",
     "text": [
      "Correct!\n"
     ]
    },
    {
     "name": "stdin",
     "output_type": "stream",
     "text": [
      "Q2. What is 5 * 6?  30\n"
     ]
    },
    {
     "name": "stdout",
     "output_type": "stream",
     "text": [
      "Correct!\n"
     ]
    },
    {
     "name": "stdin",
     "output_type": "stream",
     "text": [
      "Q3. What is 10% of 100  10\n"
     ]
    },
    {
     "name": "stdout",
     "output_type": "stream",
     "text": [
      "Correct!\n",
      "\n",
      "Quiz Completed!\n",
      "Your final score is 3 out of 3.\n"
     ]
    }
   ],
   "source": [
    "# 11. Quiz: Create a program that asks the user a series of questions and keeps track of their score.\n",
    "score = 0 \n",
    "total_questions = 3\n",
    "print(\"Welcome to the Quiz! Let's start.\\n\")\n",
    "\n",
    "answer = input(\"Q1. What is 2 + 2 ? \")\n",
    "if answer == \"4\":\n",
    "    print(\"Correct!\")\n",
    "    score += 1\n",
    "else:\n",
    "    print(\"Wrong! The correct answer is 4.\")\n",
    "\n",
    "answer = input(\"Q2. What is 5 * 6? \")\n",
    "if answer == \"30\":\n",
    "    print(\"Correct!\")\n",
    "    score += 1\n",
    "else:\n",
    "    print(\"Wrong! The correct answer is 30.\")\n",
    "\n",
    "answer = input(\"Q3. What is 10% of 100 \")\n",
    "if answer == \"10\":\n",
    "    print(\"Correct!\")\n",
    "    score += 1\n",
    "else:\n",
    "    print(\"Wrong! The correct answer is 10.\")\n",
    "\n",
    "print(\"\\nQuiz Completed!\")\n",
    "print(f\"Your final score is {score} out of {total_questions}.\")"
   ]
  },
  {
   "cell_type": "code",
   "execution_count": null,
   "id": "a2f98bb6-469e-4ff6-a63f-5f6ad15867c1",
   "metadata": {},
   "outputs": [],
   "source": [
    "# 12. Temperature Average: Ask the user for three temperatures and calculate the average.\n",
    "t1 = float(input(\"Enter first temperature: \"))\n",
    "t2 = float(input(\"Enter second temperature: \"))\n",
    "t3 = float(input(\"Enter third temperature: \"))\n",
    "\n",
    "average = (t1 + t2 + t3) / 3\n",
    "\n",
    "print(\"The average temperature is:\", average)"
   ]
  },
  {
   "cell_type": "code",
   "execution_count": 1,
   "id": "c42f4d32-0cc9-4e31-bf0d-357cbe6275b6",
   "metadata": {},
   "outputs": [
    {
     "name": "stdin",
     "output_type": "stream",
     "text": [
      "Enter a string:  5\n",
      "Enter the number of times to repeat:  5\n"
     ]
    },
    {
     "name": "stdout",
     "output_type": "stream",
     "text": [
      "Repeated string is: 55555\n"
     ]
    }
   ],
   "source": [
    "# 13. String Repeater: Ask the user for a string and a number. Repeat the string that many times.\n",
    "text = input(\"Enter a string: \")\n",
    "num = int(input(\"Enter the number of times to repeat: \"))\n",
    "\n",
    "result = text * num\n",
    "\n",
    "print(\"Repeated string is:\", result)"
   ]
  },
  {
   "cell_type": "code",
   "execution_count": 1,
   "id": "0d53f6f6-f509-42c3-988c-f0395122eef1",
   "metadata": {},
   "outputs": [
    {
     "name": "stdin",
     "output_type": "stream",
     "text": [
      "Enter your password: abcd123\n"
     ]
    },
    {
     "name": "stdout",
     "output_type": "stream",
     "text": [
      "Invalid password\n"
     ]
    }
   ],
   "source": [
    "# 14. Password Validator: Create a program that asks the user for a password and checks if it meets certain criteria (e.g., length, characters).\n",
    "password=input(\"Enter your password:\")\n",
    "if len(password)>=8 and len(password)<=16:\n",
    "    print(\"Valid password\")\n",
    "else:\n",
    "    print(\"Invalid password\")"
   ]
  },
  {
   "cell_type": "code",
   "execution_count": 2,
   "id": "317e471d-9663-4487-a23d-4bce5c2fdb0b",
   "metadata": {},
   "outputs": [
    {
     "name": "stdin",
     "output_type": "stream",
     "text": [
      "Enter the total bill amount: 1200\n",
      "Enter the number of prople: 15\n"
     ]
    },
    {
     "name": "stdout",
     "output_type": "stream",
     "text": [
      "So the bill for each person is 80.0\n"
     ]
    }
   ],
   "source": [
    "# 15. Bill Splitter: Ask the user for the total bill amount and the number of people. Calculate and print the amount each person owes.\n",
    "totalbill = float(input(\"Enter the total bill amount:\"))\n",
    "people = int(input(\"Enter the number of prople:\"))\n",
    "\n",
    "bill = totalbill/people\n",
    "\n",
    "print(f\"So the bill for each person is {bill}\")"
   ]
  },
  {
   "cell_type": "code",
   "execution_count": 10,
   "id": "4f546abc-48b1-439d-90ea-a674fcee6bc3",
   "metadata": {},
   "outputs": [
    {
     "name": "stdin",
     "output_type": "stream",
     "text": [
      "Your score out of 100:  34\n"
     ]
    },
    {
     "name": "stdout",
     "output_type": "stream",
     "text": [
      "You Failed\n"
     ]
    }
   ],
   "source": [
    "# 16. Grade Converter: Create a program that asks the user for a grade percentage and converts it to a letter grade.\n",
    "Grade = int(input(\"Your score out of 100: \"))\n",
    "if Grade >= 90:\n",
    "    print(\"Grade = A\")\n",
    "elif Grade >= 70:\n",
    "    print(\"Grade = B\")\n",
    "elif Grade >= 50:\n",
    "    print(\"Grade = C\")\n",
    "elif Grade >= 35:\n",
    "    print(\"Grade = D\")\n",
    "else:\n",
    "    print(\"You Failed\")"
   ]
  },
  {
   "cell_type": "code",
   "execution_count": 4,
   "id": "3f6dad23-b1e9-4380-891e-ae037b524cd5",
   "metadata": {},
   "outputs": [
    {
     "name": "stdin",
     "output_type": "stream",
     "text": [
      "Enter the length of rectangle: 12\n",
      "Enter the width of rectangle: 14\n"
     ]
    },
    {
     "name": "stdout",
     "output_type": "stream",
     "text": [
      "Area of rectangle is 168.0\n"
     ]
    }
   ],
   "source": [
    "# 17. Area Calculator: Ask the user for the length and width of a rectangle. Calculate and print the area.\n",
    "length = float(input(\"Enter the length of rectangle:\"))\n",
    "width = float(input(\"Enter the width of rectangle:\"))\n",
    "\n",
    "area = length*width\n",
    "\n",
    "print(f\"Area of rectangle is {area}\")"
   ]
  },
  {
   "cell_type": "code",
   "execution_count": 5,
   "id": "9a818bfb-bc49-4a45-a7f3-818c85ff6587",
   "metadata": {},
   "outputs": [
    {
     "name": "stdin",
     "output_type": "stream",
     "text": [
      "Enter distance traveled (in km):  205\n",
      "Enter time taken (in hours):  12\n"
     ]
    },
    {
     "name": "stdout",
     "output_type": "stream",
     "text": [
      "The speed is: 17.083333333333332 km/h\n"
     ]
    }
   ],
   "source": [
    "# 18. Speed Calculator: Create a program that asks the user for the distance traveled and the time taken. Calculate and print the speed.\n",
    "distance = float(input(\"Enter distance traveled (in km): \"))\n",
    "time = float(input(\"Enter time taken (in hours): \"))\n",
    "\n",
    "speed = distance / time\n",
    "\n",
    "print(\"The speed is:\", speed, \"km/h\")"
   ]
  },
  {
   "cell_type": "code",
   "execution_count": 6,
   "id": "bd3a7c84-e34c-4232-b06d-8ab0ab096a21",
   "metadata": {},
   "outputs": [
    {
     "name": "stdin",
     "output_type": "stream",
     "text": [
      "Enter the original price:  120\n",
      "Enter the discount percentage:  10\n"
     ]
    },
    {
     "name": "stdout",
     "output_type": "stream",
     "text": [
      "Discount amount: 12.0\n",
      "Final price after discount: 108.0\n"
     ]
    }
   ],
   "source": [
    "# 19. Discount Calculator: Ask the user for the original price and the discount percentage. Calculate and print the discounted price.\n",
    "price = float(input(\"Enter the original price: \"))\n",
    "discount = float(input(\"Enter the discount percentage: \"))\n",
    "\n",
    "discount_amount = (price * discount) / 100\n",
    "final_price = price - discount_amount\n",
    "\n",
    "print(\"Discount amount:\", discount_amount)\n",
    "print(\"Final price after discount:\", final_price)"
   ]
  },
  {
   "cell_type": "code",
   "execution_count": 11,
   "id": "4a35bdb7-e73c-4cdb-a739-ec30caa2586f",
   "metadata": {},
   "outputs": [
    {
     "name": "stdin",
     "output_type": "stream",
     "text": [
      "Enter the number of tasks:  4\n",
      "Enter the time required per task (in minutes):  31\n"
     ]
    },
    {
     "name": "stdout",
     "output_type": "stream",
     "text": [
      "\n",
      "Total time required: 124.0 minutes\n",
      "Which is approximately 2 hours and 4 minutes.\n"
     ]
    }
   ],
   "source": [
    "# 20. Time Estimator: Create a program that asks the user for the number of tasks and the time per task. Estimate and print the total time required.\n",
    "tasks = int(input(\"Enter the number of tasks: \"))\n",
    "time_per_task = float(input(\"Enter the time required per task (in minutes): \"))\n",
    "total_time = tasks * time_per_task\n",
    "print(f\"\\nTotal time required: {total_time} minutes\")\n",
    "hours = int(total_time // 60)\n",
    "minutes = int(total_time % 60)\n",
    "print(f\"Which is approximately {hours} hours and {minutes} minutes.\")"
   ]
  },
  {
   "cell_type": "code",
   "execution_count": 7,
   "id": "1c23c2e0-0830-4a04-b158-ed2495f27b73",
   "metadata": {},
   "outputs": [
    {
     "name": "stdin",
     "output_type": "stream",
     "text": [
      "Enter distance traveled (in km):  120\n",
      "Enter fuel consumed (in liters):  45\n"
     ]
    },
    {
     "name": "stdout",
     "output_type": "stream",
     "text": [
      "Fuel efficiency is: 2.6666666666666665 km/l\n"
     ]
    }
   ],
   "source": [
    "# 21. Fuel Efficiency: Ask the user for the distance traveled and the fuel consumed. Calculate and print the fuel efficiency.\n",
    "distance = float(input(\"Enter distance traveled (in km): \"))\n",
    "fuel = float(input(\"Enter fuel consumed (in liters): \"))\n",
    "\n",
    "efficiency = distance / fuel\n",
    "\n",
    "print(\"Fuel efficiency is:\", efficiency, \"km/l\")"
   ]
  },
  {
   "cell_type": "code",
   "execution_count": 8,
   "id": "41a6283f-c192-4cd2-b397-4b14f8699a16",
   "metadata": {},
   "outputs": [
    {
     "name": "stdin",
     "output_type": "stream",
     "text": [
      "Enter the total bill amount:  120\n"
     ]
    },
    {
     "name": "stdout",
     "output_type": "stream",
     "text": [
      "The 15% tip is: 18.0\n",
      "The 10% tax is: 12.0\n",
      "Total amount to be paid (bill + tip + tax): 150.0\n"
     ]
    }
   ],
   "source": [
    "# 22. Tip and Tax Calculator: Create a program that asks the user for the total bill amount, calculates a 15% tip, and adds a 10% tax.\n",
    "bill = float(input(\"Enter the total bill amount: \"))\n",
    "\n",
    "tip = bill * 0.15\n",
    "tax = bill * 0.10\n",
    "\n",
    "print(\"The 15% tip is:\", tip)\n",
    "print(\"The 10% tax is:\", tax)\n",
    "print(\"Total amount to be paid (bill + tip + tax):\", bill + tip + tax)"
   ]
  },
  {
   "cell_type": "code",
   "execution_count": 15,
   "id": "2d38fd2f-d4b5-4a7a-a432-d01b9440517e",
   "metadata": {},
   "outputs": [
    {
     "name": "stdin",
     "output_type": "stream",
     "text": [
      "Your score out of 100:  32\n"
     ]
    },
    {
     "name": "stdout",
     "output_type": "stream",
     "text": [
      "Age group = adult\n"
     ]
    }
   ],
   "source": [
    "# 23. Age Group: Ask the user for their age and print their age group (e.g., child, teenager, adult).\n",
    "Age = int(input(\"Your score out of 100: \"))\n",
    "if Age >= 90:\n",
    "    print(\"Age group = old old man\")\n",
    "elif Age >= 60:\n",
    "    print(\"Age group = old man\")\n",
    "elif Age >= 30:\n",
    "    print(\"Age group = adult\")\n",
    "elif Age >= 15:\n",
    "    print(\"Age group = teenager\")\n",
    "else:\n",
    "    print(\"Age group = child\")"
   ]
  },
  {
   "cell_type": "code",
   "execution_count": 1,
   "id": "5bdca8f9-7ed3-401f-955a-1d6eb8eeeae2",
   "metadata": {},
   "outputs": [
    {
     "name": "stdin",
     "output_type": "stream",
     "text": [
      "Enter a string:  \"Mayank bHATT\"\n"
     ]
    },
    {
     "name": "stdout",
     "output_type": "stream",
     "text": [
      "\n",
      "Number of vowels: 3\n",
      "Number of consonants: 8\n",
      "Number of spaces: 1\n"
     ]
    }
   ],
   "source": [
    "# 24. String Analyzer: Create a program that asks the user for a string and prints the number of vowels, consonants, and spaces.\n",
    "text = input(\"Enter a string: \")\n",
    "\n",
    "vowels = 0\n",
    "consonants = 0\n",
    "spaces = 0\n",
    "\n",
    "vowel_list = \"aeiouAEIOU\"\n",
    "\n",
    "for char in text:\n",
    "    if char in vowel_list:\n",
    "        vowels += 1\n",
    "    elif char.isalpha(): \n",
    "        consonants += 1\n",
    "    elif char.isspace():\n",
    "        spaces += 1\n",
    "\n",
    "print(f\"\\nNumber of vowels: {vowels}\")\n",
    "print(f\"Number of consonants: {consonants}\")\n",
    "print(f\"Number of spaces: {spaces}\")"
   ]
  },
  {
   "cell_type": "code",
   "execution_count": 2,
   "id": "bb10686f-e8c9-4780-8fce-37ea6fe7d934",
   "metadata": {},
   "outputs": [
    {
     "name": "stdin",
     "output_type": "stream",
     "text": [
      "Enter the first number:  21\n",
      "Enter the second number:  23\n",
      "Enter an operation (+, -, *, /):  /\n"
     ]
    },
    {
     "name": "stdout",
     "output_type": "stream",
     "text": [
      "Result: 0.9130434782608695\n"
     ]
    }
   ],
   "source": [
    "# 25. Simple Calculator: Ask the user for two numbers and an operation (+, -, *, /). Perform the operation and print the result.\n",
    "num1 = float(input(\"Enter the first number: \"))\n",
    "num2 = float(input(\"Enter the second number: \"))\n",
    "\n",
    "operation = input(\"Enter an operation (+, -, *, /): \")\n",
    "\n",
    "if operation == \"+\":\n",
    "    result = num1 + num2\n",
    "elif operation == \"-\":\n",
    "    result = num1 - num2\n",
    "elif operation == \"*\":\n",
    "    result = num1 * num2\n",
    "elif operation == \"/\":\n",
    "    if num2 != 0:\n",
    "        result = num1 / num2\n",
    "    else:\n",
    "        result = \"Error! Division by zero.\"\n",
    "else:\n",
    "    result = \"Invalid operation.\"\n",
    "\n",
    "print(f\"Result: {result}\")"
   ]
  }
 ],
 "metadata": {
  "kernelspec": {
   "display_name": "Python 3 (ipykernel)",
   "language": "python",
   "name": "python3"
  },
  "language_info": {
   "codemirror_mode": {
    "name": "ipython",
    "version": 3
   },
   "file_extension": ".py",
   "mimetype": "text/x-python",
   "name": "python",
   "nbconvert_exporter": "python",
   "pygments_lexer": "ipython3",
   "version": "3.12.6"
  }
 },
 "nbformat": 4,
 "nbformat_minor": 5
}

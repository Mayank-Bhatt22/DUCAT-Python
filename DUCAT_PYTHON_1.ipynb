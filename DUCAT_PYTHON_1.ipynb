{
 "cells": [
  {
   "cell_type": "markdown",
   "id": "69263277-1543-403a-90a8-6a74a8b59f28",
   "metadata": {},
   "source": [
    "# Friday 15/08/2025"
   ]
  },
  {
   "cell_type": "markdown",
   "id": "900120f2-4465-4592-847f-3cd15ad1e666",
   "metadata": {},
   "source": [
    "* Intro of Python (Notes in Github)"
   ]
  },
  {
   "cell_type": "code",
   "execution_count": 3,
   "id": "37be3a63-cca6-4d25-928a-44286e10c4fe",
   "metadata": {},
   "outputs": [
    {
     "name": "stdout",
     "output_type": "stream",
     "text": [
      "mayank bhatt\n"
     ]
    }
   ],
   "source": [
    "print(\"mayank bhatt\")"
   ]
  },
  {
   "cell_type": "code",
   "execution_count": 2,
   "id": "7141d792-9d6e-4214-b3aa-5eb9956c3c43",
   "metadata": {},
   "outputs": [
    {
     "name": "stdout",
     "output_type": "stream",
     "text": [
      "8\n"
     ]
    }
   ],
   "source": [
    "print(3+5)"
   ]
  },
  {
   "cell_type": "code",
   "execution_count": 3,
   "id": "2feebc02-6d4e-435d-aca2-70b0da07eaca",
   "metadata": {},
   "outputs": [
    {
     "name": "stdout",
     "output_type": "stream",
     "text": [
      "2\n"
     ]
    }
   ],
   "source": [
    "print(3-1)"
   ]
  },
  {
   "cell_type": "markdown",
   "id": "26012c9b-8d7d-4d3e-8ba9-5fae828ce90f",
   "metadata": {},
   "source": [
    "# TUESDAY 19/08/2025"
   ]
  },
  {
   "cell_type": "code",
   "execution_count": 2,
   "id": "6de9619e-e0e9-4a7c-9e92-13b6df41f066",
   "metadata": {},
   "outputs": [
    {
     "name": "stdout",
     "output_type": "stream",
     "text": [
      "4\n",
      "140737034652184\n"
     ]
    }
   ],
   "source": [
    "a=4\n",
    "print(a)\n",
    "print(id(a))"
   ]
  },
  {
   "cell_type": "markdown",
   "id": "0adc9317-ac9d-4a86-9d7d-555d69810909",
   "metadata": {},
   "source": [
    "# Primitive Data Types:\n",
    " 1. Integer\n",
    " 2. Float\n",
    " 3. String\n",
    " 4. Boolean\n",
    " \n",
    "# Composite Data Types:\n",
    " 1. List\n",
    " 2. Tuple\n",
    " 3. Dictionary (Maping datatype)\n",
    " 4. Set\n",
    "\n",
    "# other data type\n",
    " 1. function/module\n",
    " 2. class\n",
    " 3. array\n",
    "\n",
    "# python built-in datatype\n",
    " 1. None"
   ]
  },
  {
   "cell_type": "markdown",
   "id": "03d7f171-9c5c-4fa8-8505-4bc6231b3e51",
   "metadata": {},
   "source": [
    "# WEDNESDAY 20/08/2025"
   ]
  },
  {
   "cell_type": "markdown",
   "id": "70e6621e-593c-413a-913b-d5c4d5926f3c",
   "metadata": {},
   "source": [
    "# Mayank This is how to write in bold "
   ]
  },
  {
   "cell_type": "markdown",
   "id": "abdca20f-270d-497e-967b-f4440545feef",
   "metadata": {},
   "source": [
    " *Mayank* this is how to write little smaller than bold one"
   ]
  },
  {
   "cell_type": "markdown",
   "id": "0b0e4be1-70a3-4dca-b08a-bcc08f72feac",
   "metadata": {},
   "source": [
    "**Mayank** to write little lighter than bold one you can use * * to make it bold and you can increase the number of stars to make it more bold"
   ]
  },
  {
   "cell_type": "markdown",
   "id": "5f19139c-1c57-4271-9f42-5a4081264500",
   "metadata": {},
   "source": [
    "**Sub heading** we use - to make sub heading\n",
    "- MAYANK\n",
    "- BHATT"
   ]
  },
  {
   "cell_type": "markdown",
   "id": "c8e4fac7-c37a-4cbc-a189-2a0eefc84ef9",
   "metadata": {},
   "source": [
    "**To make sub heading in number** by 1. to make points  \n",
    "1. Mayank\n",
    "2. Bhatt"
   ]
  },
  {
   "cell_type": "code",
   "execution_count": 5,
   "id": "172971ab-6116-4ec0-9174-c1878e96f112",
   "metadata": {},
   "outputs": [
    {
     "name": "stdout",
     "output_type": "stream",
     "text": [
      "10\n"
     ]
    }
   ],
   "source": [
    "a=10 #this is integer variavle\n",
    "print(a) "
   ]
  },
  {
   "cell_type": "code",
   "execution_count": 7,
   "id": "5ea26ac9-4055-4b33-988a-a052d7a8cf9c",
   "metadata": {},
   "outputs": [
    {
     "name": "stdout",
     "output_type": "stream",
     "text": [
      "5.34\n"
     ]
    }
   ],
   "source": [
    "b=5.34 #this is float value\n",
    "print(b)"
   ]
  },
  {
   "cell_type": "code",
   "execution_count": 8,
   "id": "4ade9a1f-37c2-44f5-ab80-b00ce049f4be",
   "metadata": {},
   "outputs": [
    {
     "name": "stdout",
     "output_type": "stream",
     "text": [
      "Hello python\n"
     ]
    }
   ],
   "source": [
    "c=\"Hello python\" # this is string values \n",
    "print(c)"
   ]
  },
  {
   "cell_type": "code",
   "execution_count": 9,
   "id": "fc66c6d9-cb52-4c84-9403-5ae46226546f",
   "metadata": {},
   "outputs": [
    {
     "name": "stdout",
     "output_type": "stream",
     "text": [
      "(4+6j)\n"
     ]
    }
   ],
   "source": [
    "d=4+6j # this is complex value\n",
    "print(d)"
   ]
  },
  {
   "cell_type": "code",
   "execution_count": 10,
   "id": "1527fae9-844c-4260-9ccc-25729a81cdfe",
   "metadata": {},
   "outputs": [
    {
     "name": "stdout",
     "output_type": "stream",
     "text": [
      "(10+5j)\n"
     ]
    }
   ],
   "source": [
    "x=4+3j\n",
    "y=6+2j\n",
    "print(x+y)"
   ]
  },
  {
   "cell_type": "code",
   "execution_count": 17,
   "id": "3f78c48e-257f-44f1-91bc-a3ad1a4ff909",
   "metadata": {},
   "outputs": [
    {
     "name": "stdout",
     "output_type": "stream",
     "text": [
      "(10+11j)\n",
      "(2+5j)\n",
      "50j\n"
     ]
    }
   ],
   "source": [
    "x=4+3j\n",
    "y=6+8j\n",
    "print(x+y)\n",
    "print(y-x)\n",
    "print(x*y)"
   ]
  },
  {
   "cell_type": "code",
   "execution_count": 2,
   "id": "9400061e-68c9-407d-b608-072a0496e4ee",
   "metadata": {},
   "outputs": [
    {
     "name": "stdout",
     "output_type": "stream",
     "text": [
      "10 <class 'int'>\n"
     ]
    }
   ],
   "source": [
    "a=10\n",
    "print(a,type(a))"
   ]
  },
  {
   "cell_type": "markdown",
   "id": "2de1b4cb-120c-4022-8a9c-65dfb8808ddb",
   "metadata": {},
   "source": [
    "# Thursday 21/08/2025"
   ]
  },
  {
   "cell_type": "markdown",
   "id": "89d492c5-1aca-418b-a564-abee1bd2790f",
   "metadata": {},
   "source": [
    "# Container datatypes"
   ]
  },
  {
   "cell_type": "markdown",
   "id": "fa315b2e-fbc8-4ad9-9627-316d7e8bbc2d",
   "metadata": {},
   "source": [
    "**List**"
   ]
  },
  {
   "cell_type": "code",
   "execution_count": 3,
   "id": "95b78305-fdd4-40cf-948c-544c49094853",
   "metadata": {},
   "outputs": [],
   "source": [
    "lst=[1,2,3,4,\"Hello\",None]"
   ]
  },
  {
   "cell_type": "code",
   "execution_count": 9,
   "id": "071e298f-7095-4ae8-ad28-730e15f0238c",
   "metadata": {},
   "outputs": [
    {
     "name": "stdout",
     "output_type": "stream",
     "text": [
      "[1, 2, 3, 4, 'Hello', None]\n",
      "<class 'list'>\n",
      "2364504203648\n"
     ]
    }
   ],
   "source": [
    "print(lst)\n",
    "print(type(lst))\n",
    "print(id(lst))"
   ]
  },
  {
   "cell_type": "markdown",
   "id": "2c122460-7b18-4499-9356-47b269290e1d",
   "metadata": {},
   "source": [
    "**Rules to List**\n",
    "1. List is created in [ ].\n",
    "2. List is order collect of data. \n",
    "3. List is hetrogenus type of data (hetrogenus for different data type and homogenus for sigle data type).\n",
    "4. List is a new table data type it can be changed.  "
   ]
  },
  {
   "cell_type": "markdown",
   "id": "c1d970c7-d7c5-4469-a5ff-ad5c2b37c41d",
   "metadata": {},
   "source": [
    "# Tuple"
   ]
  },
  {
   "cell_type": "code",
   "execution_count": 11,
   "id": "2a6ca3be-9f07-4220-aa29-5e5b99de72c9",
   "metadata": {},
   "outputs": [
    {
     "name": "stdout",
     "output_type": "stream",
     "text": [
      "(1, 2, 3, 4, 5, 4.5, 'Hello', None)\n"
     ]
    },
    {
     "data": {
      "text/plain": [
       "tuple"
      ]
     },
     "execution_count": 11,
     "metadata": {},
     "output_type": "execute_result"
    }
   ],
   "source": [
    "T1 = (1,2,3,4,5,4.5,\"Hello\",None)\n",
    "print(T1)\n",
    "type(T1)"
   ]
  },
  {
   "cell_type": "markdown",
   "id": "df18cbc0-2d76-4838-8a35-1f4e5dac22c4",
   "metadata": {},
   "source": [
    "**Rules to TUPLE**\n",
    "1. Tuple is create in round ( )\n",
    "2. Tuple is a ordered collection of datatype \n",
    "3. It is imuteable(unchange) datatype \n",
    "4. Hetrogenus type of data (hetrogenus for different data type and homogenus for sigle data type)\n",
    "5. Tuple is fast then list because it can't be changed "
   ]
  },
  {
   "cell_type": "markdown",
   "id": "17b48d7b-6e5e-468c-93ca-2a7c7d4dd0e7",
   "metadata": {},
   "source": [
    "# Set"
   ]
  },
  {
   "cell_type": "code",
   "execution_count": 12,
   "id": "0c05e306-096c-4460-9f58-4a19f22e4af2",
   "metadata": {},
   "outputs": [
    {
     "name": "stdout",
     "output_type": "stream",
     "text": [
      "{1, 2, 3, 3.444, 33, 'Hello', 44444}\n"
     ]
    },
    {
     "data": {
      "text/plain": [
       "set"
      ]
     },
     "execution_count": 12,
     "metadata": {},
     "output_type": "execute_result"
    }
   ],
   "source": [
    "s1 = {1,2,3,33,44444,3.444,\"Hello\",True}\n",
    "print(s1)\n",
    "type(s1)"
   ]
  },
  {
   "cell_type": "markdown",
   "id": "85b5fe13-fab2-4466-b441-074a8e6221a0",
   "metadata": {},
   "source": [
    "**Rules for Set**\n",
    "1. Set in culy { }\n",
    "2. Set is unorder collection type of data \n",
    "3. Set don't have duplicate item\n",
    "4. Set only have imuteable data type\n",
    "5. We don't able indexing in a set\n",
    "6. Set is muteable datatype"
   ]
  },
  {
   "cell_type": "code",
   "execution_count": 15,
   "id": "4a7b3ba8-38e5-40fa-a6b7-f21072ec06ed",
   "metadata": {},
   "outputs": [
    {
     "name": "stdout",
     "output_type": "stream",
     "text": [
      "{1, 2, 3, 3.444, 33, 'Hello', 44444}\n"
     ]
    },
    {
     "data": {
      "text/plain": [
       "set"
      ]
     },
     "execution_count": 15,
     "metadata": {},
     "output_type": "execute_result"
    }
   ],
   "source": [
    "s2 = {1,2,3,33,(1,2,3),44444,3.444,\"Hello\",True}\n",
    "print(s1)\n",
    "type(s1)"
   ]
  },
  {
   "cell_type": "markdown",
   "id": "5ac56e9f-4436-41ae-b7ac-14a65e6dcd2b",
   "metadata": {},
   "source": [
    "# Dictionary"
   ]
  },
  {
   "cell_type": "code",
   "execution_count": 17,
   "id": "d16db3b1-bf07-49fd-b257-e85314bd3438",
   "metadata": {},
   "outputs": [
    {
     "name": "stdout",
     "output_type": "stream",
     "text": [
      "{'Key': ' Value'}\n"
     ]
    },
    {
     "data": {
      "text/plain": [
       "dict"
      ]
     },
     "execution_count": 17,
     "metadata": {},
     "output_type": "execute_result"
    }
   ],
   "source": [
    "D1 = {\"Key\":\" Value\"}\n",
    "print(D1)\n",
    "type(D1)"
   ]
  },
  {
   "cell_type": "code",
   "execution_count": 18,
   "id": "ff96ffb2-f32b-48d1-8506-30676b3aef2d",
   "metadata": {},
   "outputs": [
    {
     "name": "stdout",
     "output_type": "stream",
     "text": [
      "{'Name': 'Mayank', 'Age': 20, 'Contact': 1234567890, 'Address': 'Delhi'}\n"
     ]
    }
   ],
   "source": [
    "D2={\n",
    "    \"Name\":\"Mayank\",\n",
    "    \"Age\":20,\n",
    "    \"Contact\":1234567890,\n",
    "    \"Address\":\"Delhi\"\n",
    "}\n",
    "print(D2)"
   ]
  },
  {
   "cell_type": "markdown",
   "id": "b9637370-1a80-47b9-b939-40a0a19ec1ba",
   "metadata": {},
   "source": [
    "**Rules for Dictionary**\n",
    "1. Dictionary is made in {}\n",
    "2. Dictionary is collection of key value pair, when each key is unique and maps to a specific values\n",
    "3. Dictionary is a order collection of data type\n",
    "4. keys are imuteable but value can mutable"
   ]
  },
  {
   "cell_type": "code",
   "execution_count": null,
   "id": "10947379-8d8c-4557-be49-1854978d20c0",
   "metadata": {},
   "outputs": [],
   "source": []
  }
 ],
 "metadata": {
  "kernelspec": {
   "display_name": "Python 3 (ipykernel)",
   "language": "python",
   "name": "python3"
  },
  "language_info": {
   "codemirror_mode": {
    "name": "ipython",
    "version": 3
   },
   "file_extension": ".py",
   "mimetype": "text/x-python",
   "name": "python",
   "nbconvert_exporter": "python",
   "pygments_lexer": "ipython3",
   "version": "3.12.6"
  }
 },
 "nbformat": 4,
 "nbformat_minor": 5
}

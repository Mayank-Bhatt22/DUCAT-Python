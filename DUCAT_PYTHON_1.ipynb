{
 "cells": [
  {
   "cell_type": "code",
   "execution_count": 1,
   "id": "341626f0-9f8c-4d73-b65d-00c4bae0242b",
   "metadata": {},
   "outputs": [
    {
     "name": "stdout",
     "output_type": "stream",
     "text": [
      "mayank bhatt\n"
     ]
    }
   ],
   "source": [
    "print(\"mayank bhatt\")"
   ]
  },
  {
   "cell_type": "code",
   "execution_count": 2,
   "id": "7141d792-9d6e-4214-b3aa-5eb9956c3c43",
   "metadata": {},
   "outputs": [
    {
     "name": "stdout",
     "output_type": "stream",
     "text": [
      "8\n"
     ]
    }
   ],
   "source": [
    "print(3+5)"
   ]
  },
  {
   "cell_type": "code",
   "execution_count": 3,
   "id": "2feebc02-6d4e-435d-aca2-70b0da07eaca",
   "metadata": {},
   "outputs": [
    {
     "name": "stdout",
     "output_type": "stream",
     "text": [
      "2\n"
     ]
    }
   ],
   "source": [
    "print(3-1)"
   ]
  },
  {
   "cell_type": "markdown",
   "id": "26012c9b-8d7d-4d3e-8ba9-5fae828ce90f",
   "metadata": {},
   "source": [
    "# TUESDAY 19/08/2025"
   ]
  },
  {
   "cell_type": "code",
   "execution_count": 2,
   "id": "6de9619e-e0e9-4a7c-9e92-13b6df41f066",
   "metadata": {},
   "outputs": [
    {
     "name": "stdout",
     "output_type": "stream",
     "text": [
      "4\n",
      "140737034652184\n"
     ]
    }
   ],
   "source": [
    "a=4\n",
    "print(a)\n",
    "print(id(a))"
   ]
  },
  {
   "cell_type": "code",
   "execution_count": null,
   "id": "ca578964-77fc-4dea-9d07-49941f3704c8",
   "metadata": {},
   "outputs": [],
   "source": [
    "# Primitive Data Types:\n",
    " • Integer\n",
    " • Float\n",
    " • String\n",
    " • Boolean\n",
    " \n",
    "# Composite Data Types:\n",
    " • List\n",
    " • Tuple\n",
    " • Dictionary (Maping datatype)\n",
    " • Set\n",
    "\n",
    "# other data type\n",
    "1. functionn/module\n",
    "2. class\n",
    "3. array\n",
    "\n",
    "# python built-in datatype\n",
    "None"
   ]
  },
  {
   "cell_type": "code",
   "execution_count": 3,
   "id": "74a334ba-39d8-40f1-87d6-2e1f1cd10cd8",
   "metadata": {},
   "outputs": [
    {
     "name": "stdout",
     "output_type": "stream",
     "text": [
      "4\n"
     ]
    }
   ],
   "source": [
    "print(a)"
   ]
  },
  {
   "cell_type": "markdown",
   "id": "03d7f171-9c5c-4fa8-8505-4bc6231b3e51",
   "metadata": {},
   "source": [
    "# WEDNESDAY 20/08/2025"
   ]
  },
  {
   "cell_type": "markdown",
   "id": "70e6621e-593c-413a-913b-d5c4d5926f3c",
   "metadata": {},
   "source": [
    "**Mayank**"
   ]
  },
  {
   "cell_type": "markdown",
   "id": "5f19139c-1c57-4271-9f42-5a4081264500",
   "metadata": {},
   "source": [
    "- MAYANK\n",
    "- BHATT"
   ]
  },
  {
   "cell_type": "markdown",
   "id": "c8e4fac7-c37a-4cbc-a189-2a0eefc84ef9",
   "metadata": {},
   "source": [
    "1. Mayank\n",
    "2. Bhatt"
   ]
  },
  {
   "cell_type": "code",
   "execution_count": 5,
   "id": "172971ab-6116-4ec0-9174-c1878e96f112",
   "metadata": {},
   "outputs": [
    {
     "name": "stdout",
     "output_type": "stream",
     "text": [
      "10\n"
     ]
    }
   ],
   "source": [
    "a=10 #this is integer variavle\n",
    "print(a) "
   ]
  },
  {
   "cell_type": "code",
   "execution_count": 7,
   "id": "5ea26ac9-4055-4b33-988a-a052d7a8cf9c",
   "metadata": {},
   "outputs": [
    {
     "name": "stdout",
     "output_type": "stream",
     "text": [
      "5.34\n"
     ]
    }
   ],
   "source": [
    "b=5.34 #this is float value\n",
    "print(b)"
   ]
  },
  {
   "cell_type": "code",
   "execution_count": 8,
   "id": "4ade9a1f-37c2-44f5-ab80-b00ce049f4be",
   "metadata": {},
   "outputs": [
    {
     "name": "stdout",
     "output_type": "stream",
     "text": [
      "Hello python\n"
     ]
    }
   ],
   "source": [
    "c=\"Hello python\" # this is string values \n",
    "print(c)"
   ]
  },
  {
   "cell_type": "code",
   "execution_count": 9,
   "id": "fc66c6d9-cb52-4c84-9403-5ae46226546f",
   "metadata": {},
   "outputs": [
    {
     "name": "stdout",
     "output_type": "stream",
     "text": [
      "(4+6j)\n"
     ]
    }
   ],
   "source": [
    "d=4+6j # this is complex value\n",
    "print(d)"
   ]
  },
  {
   "cell_type": "code",
   "execution_count": 10,
   "id": "1527fae9-844c-4260-9ccc-25729a81cdfe",
   "metadata": {},
   "outputs": [
    {
     "name": "stdout",
     "output_type": "stream",
     "text": [
      "(10+5j)\n"
     ]
    }
   ],
   "source": [
    "x=4+3j\n",
    "y=6+2j\n",
    "print(x+y)"
   ]
  },
  {
   "cell_type": "code",
   "execution_count": 17,
   "id": "3f78c48e-257f-44f1-91bc-a3ad1a4ff909",
   "metadata": {},
   "outputs": [
    {
     "name": "stdout",
     "output_type": "stream",
     "text": [
      "(10+11j)\n",
      "(2+5j)\n",
      "50j\n"
     ]
    }
   ],
   "source": [
    "x=4+3j\n",
    "y=6+8j\n",
    "print(x+y)\n",
    "print(y-x)\n",
    "print(x*y)"
   ]
  }
 ],
 "metadata": {
  "kernelspec": {
   "display_name": "Python 3 (ipykernel)",
   "language": "python",
   "name": "python3"
  },
  "language_info": {
   "codemirror_mode": {
    "name": "ipython",
    "version": 3
   },
   "file_extension": ".py",
   "mimetype": "text/x-python",
   "name": "python",
   "nbconvert_exporter": "python",
   "pygments_lexer": "ipython3",
   "version": "3.12.6"
  }
 },
 "nbformat": 4,
 "nbformat_minor": 5
}

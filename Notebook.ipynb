{
 "cells": [
  {
   "cell_type": "markdown",
   "id": "69263277-1543-403a-90a8-6a74a8b59f28",
   "metadata": {},
   "source": [
    "# Friday 15/08/2025"
   ]
  },
  {
   "cell_type": "markdown",
   "id": "900120f2-4465-4592-847f-3cd15ad1e666",
   "metadata": {},
   "source": [
    "* Intro of Python (Notes in Github)"
   ]
  },
  {
   "cell_type": "code",
   "execution_count": 3,
   "id": "37be3a63-cca6-4d25-928a-44286e10c4fe",
   "metadata": {},
   "outputs": [
    {
     "name": "stdout",
     "output_type": "stream",
     "text": [
      "mayank bhatt\n"
     ]
    }
   ],
   "source": [
    "print(\"mayank bhatt\")"
   ]
  },
  {
   "cell_type": "code",
   "execution_count": 2,
   "id": "7141d792-9d6e-4214-b3aa-5eb9956c3c43",
   "metadata": {},
   "outputs": [
    {
     "name": "stdout",
     "output_type": "stream",
     "text": [
      "8\n"
     ]
    }
   ],
   "source": [
    "print(3+5)"
   ]
  },
  {
   "cell_type": "code",
   "execution_count": 3,
   "id": "2feebc02-6d4e-435d-aca2-70b0da07eaca",
   "metadata": {},
   "outputs": [
    {
     "name": "stdout",
     "output_type": "stream",
     "text": [
      "2\n"
     ]
    }
   ],
   "source": [
    "print(3-1)"
   ]
  },
  {
   "cell_type": "markdown",
   "id": "26012c9b-8d7d-4d3e-8ba9-5fae828ce90f",
   "metadata": {},
   "source": [
    "# TUESDAY 19/08/2025"
   ]
  },
  {
   "cell_type": "code",
   "execution_count": 2,
   "id": "6de9619e-e0e9-4a7c-9e92-13b6df41f066",
   "metadata": {},
   "outputs": [
    {
     "name": "stdout",
     "output_type": "stream",
     "text": [
      "4\n",
      "140737034652184\n"
     ]
    }
   ],
   "source": [
    "a=4\n",
    "print(a)\n",
    "print(id(a))"
   ]
  },
  {
   "cell_type": "markdown",
   "id": "0adc9317-ac9d-4a86-9d7d-555d69810909",
   "metadata": {},
   "source": [
    "# Primitive Data Types:\n",
    " 1. Integer\n",
    " 2. Float\n",
    " 3. String\n",
    " 4. Boolean\n",
    " 5. Complex\n",
    " \n",
    "# Composite Data Types:\n",
    " 1. List\n",
    " 2. Tuple\n",
    " 3. Dictionary (Maping datatype)\n",
    " 4. Set\n",
    "\n",
    "# other data type\n",
    " 1. function/module\n",
    " 2. class\n",
    " 3. array\n",
    "\n",
    "# python built-in datatype\n",
    " 1. None"
   ]
  },
  {
   "cell_type": "markdown",
   "id": "03d7f171-9c5c-4fa8-8505-4bc6231b3e51",
   "metadata": {},
   "source": [
    "# WEDNESDAY 20/08/2025"
   ]
  },
  {
   "cell_type": "markdown",
   "id": "70e6621e-593c-413a-913b-d5c4d5926f3c",
   "metadata": {},
   "source": [
    "# Mayank This is how to write in bold "
   ]
  },
  {
   "cell_type": "markdown",
   "id": "abdca20f-270d-497e-967b-f4440545feef",
   "metadata": {},
   "source": [
    " *Mayank* this is how to write little smaller than bold one"
   ]
  },
  {
   "cell_type": "markdown",
   "id": "0b0e4be1-70a3-4dca-b08a-bcc08f72feac",
   "metadata": {},
   "source": [
    "**Mayank** to write little lighter than bold one you can use * * to make it bold and you can increase the number of stars to make it more bold"
   ]
  },
  {
   "cell_type": "markdown",
   "id": "5f19139c-1c57-4271-9f42-5a4081264500",
   "metadata": {},
   "source": [
    "**Sub heading** we use - to make sub heading\n",
    "- MAYANK\n",
    "- BHATT"
   ]
  },
  {
   "cell_type": "markdown",
   "id": "c8e4fac7-c37a-4cbc-a189-2a0eefc84ef9",
   "metadata": {},
   "source": [
    "**To make sub heading in number** by 1. to make points  \n",
    "1. Mayank\n",
    "2. Bhatt"
   ]
  },
  {
   "cell_type": "code",
   "execution_count": 5,
   "id": "172971ab-6116-4ec0-9174-c1878e96f112",
   "metadata": {},
   "outputs": [
    {
     "name": "stdout",
     "output_type": "stream",
     "text": [
      "10\n"
     ]
    }
   ],
   "source": [
    "a=10 #this is integer variavle\n",
    "print(a) "
   ]
  },
  {
   "cell_type": "code",
   "execution_count": 7,
   "id": "5ea26ac9-4055-4b33-988a-a052d7a8cf9c",
   "metadata": {},
   "outputs": [
    {
     "name": "stdout",
     "output_type": "stream",
     "text": [
      "5.34\n"
     ]
    }
   ],
   "source": [
    "b=5.34 #this is float value\n",
    "print(b)"
   ]
  },
  {
   "cell_type": "code",
   "execution_count": 8,
   "id": "4ade9a1f-37c2-44f5-ab80-b00ce049f4be",
   "metadata": {},
   "outputs": [
    {
     "name": "stdout",
     "output_type": "stream",
     "text": [
      "Hello python\n"
     ]
    }
   ],
   "source": [
    "c=\"Hello python\" # this is string values \n",
    "print(c)"
   ]
  },
  {
   "cell_type": "code",
   "execution_count": 9,
   "id": "fc66c6d9-cb52-4c84-9403-5ae46226546f",
   "metadata": {},
   "outputs": [
    {
     "name": "stdout",
     "output_type": "stream",
     "text": [
      "(4+6j)\n"
     ]
    }
   ],
   "source": [
    "d=4+6j # this is complex value\n",
    "print(d)"
   ]
  },
  {
   "cell_type": "code",
   "execution_count": 10,
   "id": "1527fae9-844c-4260-9ccc-25729a81cdfe",
   "metadata": {},
   "outputs": [
    {
     "name": "stdout",
     "output_type": "stream",
     "text": [
      "(10+5j)\n"
     ]
    }
   ],
   "source": [
    "x=4+3j\n",
    "y=6+2j\n",
    "print(x+y)"
   ]
  },
  {
   "cell_type": "code",
   "execution_count": 17,
   "id": "3f78c48e-257f-44f1-91bc-a3ad1a4ff909",
   "metadata": {},
   "outputs": [
    {
     "name": "stdout",
     "output_type": "stream",
     "text": [
      "(10+11j)\n",
      "(2+5j)\n",
      "50j\n"
     ]
    }
   ],
   "source": [
    "x=4+3j\n",
    "y=6+8j\n",
    "print(x+y)\n",
    "print(y-x)\n",
    "print(x*y)"
   ]
  },
  {
   "cell_type": "code",
   "execution_count": 2,
   "id": "9400061e-68c9-407d-b608-072a0496e4ee",
   "metadata": {},
   "outputs": [
    {
     "name": "stdout",
     "output_type": "stream",
     "text": [
      "10 <class 'int'>\n"
     ]
    }
   ],
   "source": [
    "a=10\n",
    "print(a,type(a))"
   ]
  },
  {
   "cell_type": "markdown",
   "id": "2de1b4cb-120c-4022-8a9c-65dfb8808ddb",
   "metadata": {},
   "source": [
    "# Thursday 21/08/2025"
   ]
  },
  {
   "cell_type": "markdown",
   "id": "89d492c5-1aca-418b-a564-abee1bd2790f",
   "metadata": {},
   "source": [
    "# Container datatypes"
   ]
  },
  {
   "cell_type": "markdown",
   "id": "fa315b2e-fbc8-4ad9-9627-316d7e8bbc2d",
   "metadata": {},
   "source": [
    "**List**"
   ]
  },
  {
   "cell_type": "code",
   "execution_count": 3,
   "id": "95b78305-fdd4-40cf-948c-544c49094853",
   "metadata": {},
   "outputs": [],
   "source": [
    "lst=[1,2,3,4,\"Hello\",None]"
   ]
  },
  {
   "cell_type": "code",
   "execution_count": 9,
   "id": "071e298f-7095-4ae8-ad28-730e15f0238c",
   "metadata": {},
   "outputs": [
    {
     "name": "stdout",
     "output_type": "stream",
     "text": [
      "[1, 2, 3, 4, 'Hello', None]\n",
      "<class 'list'>\n",
      "2364504203648\n"
     ]
    }
   ],
   "source": [
    "print(lst)\n",
    "print(type(lst))\n",
    "print(id(lst))"
   ]
  },
  {
   "cell_type": "markdown",
   "id": "2c122460-7b18-4499-9356-47b269290e1d",
   "metadata": {},
   "source": [
    "**Rules to List**\n",
    "1. List is created in [ ].\n",
    "2. List is order collect of data. \n",
    "3. List is hetrogenus type of data (hetrogenus for different data type and homogenus for sigle data type).\n",
    "4. List is a new table data type it can be changed.  "
   ]
  },
  {
   "cell_type": "markdown",
   "id": "c1d970c7-d7c5-4469-a5ff-ad5c2b37c41d",
   "metadata": {},
   "source": [
    "# Tuple"
   ]
  },
  {
   "cell_type": "code",
   "execution_count": 11,
   "id": "2a6ca3be-9f07-4220-aa29-5e5b99de72c9",
   "metadata": {},
   "outputs": [
    {
     "name": "stdout",
     "output_type": "stream",
     "text": [
      "(1, 2, 3, 4, 5, 4.5, 'Hello', None)\n"
     ]
    },
    {
     "data": {
      "text/plain": [
       "tuple"
      ]
     },
     "execution_count": 11,
     "metadata": {},
     "output_type": "execute_result"
    }
   ],
   "source": [
    "T1 = (1,2,3,4,5,4.5,\"Hello\",None)\n",
    "print(T1)\n",
    "type(T1)"
   ]
  },
  {
   "cell_type": "markdown",
   "id": "df18cbc0-2d76-4838-8a35-1f4e5dac22c4",
   "metadata": {},
   "source": [
    "**Rules to TUPLE**\n",
    "1. Tuple is create in round ( )\n",
    "2. Tuple is a ordered collection of datatype \n",
    "3. It is imuteable(unchange) datatype \n",
    "4. Hetrogenus type of data (hetrogenus for different data type and homogenus for sigle data type)\n",
    "5. Tuple is fast then list because it can't be changed "
   ]
  },
  {
   "cell_type": "markdown",
   "id": "17b48d7b-6e5e-468c-93ca-2a7c7d4dd0e7",
   "metadata": {},
   "source": [
    "# Set"
   ]
  },
  {
   "cell_type": "code",
   "execution_count": 12,
   "id": "0c05e306-096c-4460-9f58-4a19f22e4af2",
   "metadata": {},
   "outputs": [
    {
     "name": "stdout",
     "output_type": "stream",
     "text": [
      "{1, 2, 3, 3.444, 33, 'Hello', 44444}\n"
     ]
    },
    {
     "data": {
      "text/plain": [
       "set"
      ]
     },
     "execution_count": 12,
     "metadata": {},
     "output_type": "execute_result"
    }
   ],
   "source": [
    "s1 = {1,2,3,33,44444,3.444,\"Hello\",True}\n",
    "print(s1)\n",
    "type(s1)"
   ]
  },
  {
   "cell_type": "markdown",
   "id": "85b5fe13-fab2-4466-b441-074a8e6221a0",
   "metadata": {},
   "source": [
    "**Rules for Set**\n",
    "1. Set in culy { }\n",
    "2. Set is unorder collection type of data \n",
    "3. Set don't have duplicate item\n",
    "4. Set only have imuteable data type\n",
    "5. We don't able indexing in a set\n",
    "6. Set is muteable datatype"
   ]
  },
  {
   "cell_type": "code",
   "execution_count": 15,
   "id": "4a7b3ba8-38e5-40fa-a6b7-f21072ec06ed",
   "metadata": {},
   "outputs": [
    {
     "name": "stdout",
     "output_type": "stream",
     "text": [
      "{1, 2, 3, 3.444, 33, 'Hello', 44444}\n"
     ]
    },
    {
     "data": {
      "text/plain": [
       "set"
      ]
     },
     "execution_count": 15,
     "metadata": {},
     "output_type": "execute_result"
    }
   ],
   "source": [
    "s2 = {1,2,3,33,(1,2,3),44444,3.444,\"Hello\",True}\n",
    "print(s1)\n",
    "type(s1)"
   ]
  },
  {
   "cell_type": "markdown",
   "id": "5ac56e9f-4436-41ae-b7ac-14a65e6dcd2b",
   "metadata": {},
   "source": [
    "# Dictionary"
   ]
  },
  {
   "cell_type": "code",
   "execution_count": 17,
   "id": "d16db3b1-bf07-49fd-b257-e85314bd3438",
   "metadata": {},
   "outputs": [
    {
     "name": "stdout",
     "output_type": "stream",
     "text": [
      "{'Key': ' Value'}\n"
     ]
    },
    {
     "data": {
      "text/plain": [
       "dict"
      ]
     },
     "execution_count": 17,
     "metadata": {},
     "output_type": "execute_result"
    }
   ],
   "source": [
    "D1 = {\"Key\":\" Value\"}\n",
    "print(D1)\n",
    "type(D1)"
   ]
  },
  {
   "cell_type": "code",
   "execution_count": 18,
   "id": "ff96ffb2-f32b-48d1-8506-30676b3aef2d",
   "metadata": {},
   "outputs": [
    {
     "name": "stdout",
     "output_type": "stream",
     "text": [
      "{'Name': 'Mayank', 'Age': 20, 'Contact': 1234567890, 'Address': 'Delhi'}\n"
     ]
    }
   ],
   "source": [
    "D2={\n",
    "    \"Name\":\"Mayank\",\n",
    "    \"Age\":20,\n",
    "    \"Contact\":1234567890,\n",
    "    \"Address\":\"Delhi\"\n",
    "}\n",
    "print(D2)"
   ]
  },
  {
   "cell_type": "markdown",
   "id": "b9637370-1a80-47b9-b939-40a0a19ec1ba",
   "metadata": {},
   "source": [
    "**Rules for Dictionary**\n",
    "1. Dictionary is made in {}\n",
    "2. Dictionary is collection of key value pair, when each key is unique and maps to a specific values\n",
    "3. Dictionary is a order collection of data type\n",
    "4. keys are imuteable but value can mutable"
   ]
  },
  {
   "cell_type": "markdown",
   "id": "afa3842c-f09c-465c-923e-0d62d0c72448",
   "metadata": {},
   "source": [
    "# Friday 22/08/2025"
   ]
  },
  {
   "cell_type": "markdown",
   "id": "cb7e8d86-786d-4a1f-91d8-18646a496b8e",
   "metadata": {},
   "source": [
    "**List Vs Tuple**"
   ]
  },
  {
   "cell_type": "code",
   "execution_count": 1,
   "id": "21807ab0-e313-4ffc-a2a3-debc3cfbac39",
   "metadata": {},
   "outputs": [
    {
     "name": "stdout",
     "output_type": "stream",
     "text": [
      "[23, 34, 34, 34, 324, 33]\n",
      "(23, 23, 23, 23, 23)\n"
     ]
    }
   ],
   "source": [
    "L1 = [23,34,34,34,324,33]\n",
    "T1 = (23,23,23,23,23)\n",
    "print(L1)\n",
    "print(T1)"
   ]
  },
  {
   "cell_type": "code",
   "execution_count": 7,
   "id": "d5944652-7af3-4e54-8765-065ddf83c586",
   "metadata": {},
   "outputs": [
    {
     "data": {
      "text/plain": [
       "6"
      ]
     },
     "execution_count": 7,
     "metadata": {},
     "output_type": "execute_result"
    }
   ],
   "source": [
    "# Length \n",
    "len(L1)"
   ]
  },
  {
   "cell_type": "code",
   "execution_count": 5,
   "id": "8ea512fd-1eca-41ec-8f32-ef67d3446153",
   "metadata": {},
   "outputs": [
    {
     "data": {
      "text/plain": [
       "5"
      ]
     },
     "execution_count": 5,
     "metadata": {},
     "output_type": "execute_result"
    }
   ],
   "source": [
    "len(T1)"
   ]
  },
  {
   "cell_type": "markdown",
   "id": "2d779a4c-3897-4896-beda-6d09d8036b77",
   "metadata": {},
   "source": [
    "# Indexing\n",
    "1. Positive indexing left to right -[Start with 0 and end with n-1]\n",
    "2. Negative indexinng right to left -[Start with -1 and end with =-n]"
   ]
  },
  {
   "cell_type": "code",
   "execution_count": 10,
   "id": "bc5698cc-b295-4c06-b3ca-0da00cf13d91",
   "metadata": {},
   "outputs": [
    {
     "name": "stdout",
     "output_type": "stream",
     "text": [
      "34\n",
      "23\n"
     ]
    }
   ],
   "source": [
    "print(L1[3])  # Positive indexing\n",
    "print(T1[2])"
   ]
  },
  {
   "cell_type": "code",
   "execution_count": 11,
   "id": "1c2c3816-ad56-4cc5-a87a-7cac96c46a5e",
   "metadata": {},
   "outputs": [
    {
     "name": "stdout",
     "output_type": "stream",
     "text": [
      "34\n",
      "23\n"
     ]
    }
   ],
   "source": [
    "print(L1[-3])  # Negative indexing \n",
    "print(T1[-1])"
   ]
  },
  {
   "cell_type": "markdown",
   "id": "901d73e7-9ac8-412e-b563-ec3d281e3739",
   "metadata": {},
   "source": [
    "**To change index**"
   ]
  },
  {
   "cell_type": "code",
   "execution_count": 17,
   "id": "ca56aa89-c529-4380-b63b-df8337600526",
   "metadata": {},
   "outputs": [],
   "source": [
    "L1[2]=100\n",
    "L1[4]=\"Hello\"\n",
    "L1[-4]=\"Hello\""
   ]
  },
  {
   "cell_type": "code",
   "execution_count": 18,
   "id": "2863d8a5-ebc1-404c-984d-7479261366c2",
   "metadata": {},
   "outputs": [
    {
     "name": "stdout",
     "output_type": "stream",
     "text": [
      "[23, 34, 'Hello', 34, 'Hello', 33]\n"
     ]
    }
   ],
   "source": [
    "print(L1)"
   ]
  },
  {
   "cell_type": "markdown",
   "id": "dfba9240-f618-4310-b199-55cb68c3799e",
   "metadata": {},
   "source": [
    "**2D List**"
   ]
  },
  {
   "cell_type": "code",
   "execution_count": 22,
   "id": "6f7e5bb9-ddc2-46d0-a867-c72984a248b9",
   "metadata": {},
   "outputs": [
    {
     "name": "stdout",
     "output_type": "stream",
     "text": [
      "[[1, 2, 3, 4], [2, 3, 4, 5], [2, 4, 6, 8]]\n"
     ]
    },
    {
     "data": {
      "text/plain": [
       "list"
      ]
     },
     "execution_count": 22,
     "metadata": {},
     "output_type": "execute_result"
    }
   ],
   "source": [
    "L2=[[1,2,3,4],[2,3,4,5],[2,4,6,8]]\n",
    "print(L2)\n",
    "type(L2)\n"
   ]
  },
  {
   "cell_type": "code",
   "execution_count": 23,
   "id": "a91ff7da-041d-4b80-8c35-01d808c7f797",
   "metadata": {},
   "outputs": [
    {
     "data": {
      "text/plain": [
       "3"
      ]
     },
     "execution_count": 23,
     "metadata": {},
     "output_type": "execute_result"
    }
   ],
   "source": [
    "len(L2)"
   ]
  },
  {
   "cell_type": "markdown",
   "id": "36bd918c-99dd-48ef-8407-106eaa7a8e0d",
   "metadata": {},
   "source": [
    "**List**"
   ]
  },
  {
   "cell_type": "code",
   "execution_count": 24,
   "id": "5a5de3f1-3609-41c6-b98f-827594a09b67",
   "metadata": {},
   "outputs": [
    {
     "data": {
      "text/plain": [
       "[1, 2, 3, 4]"
      ]
     },
     "execution_count": 24,
     "metadata": {},
     "output_type": "execute_result"
    }
   ],
   "source": [
    "L2[0]"
   ]
  },
  {
   "cell_type": "code",
   "execution_count": 25,
   "id": "e80d180d-509b-49be-a6b0-0c5a5cabd0f1",
   "metadata": {},
   "outputs": [
    {
     "data": {
      "text/plain": [
       "8"
      ]
     },
     "execution_count": 25,
     "metadata": {},
     "output_type": "execute_result"
    }
   ],
   "source": [
    "L2[2][3]"
   ]
  },
  {
   "cell_type": "code",
   "execution_count": 26,
   "id": "4270edb4-cf98-4fd7-a787-e4119cd65275",
   "metadata": {},
   "outputs": [
    {
     "data": {
      "text/plain": [
       "3"
      ]
     },
     "execution_count": 26,
     "metadata": {},
     "output_type": "execute_result"
    }
   ],
   "source": [
    "L2[-2][-3]"
   ]
  },
  {
   "cell_type": "markdown",
   "id": "29f5cae0-23a0-4be2-b1f4-6437a753293b",
   "metadata": {},
   "source": [
    "**String**"
   ]
  },
  {
   "cell_type": "code",
   "execution_count": 27,
   "id": "cd0e0ec7-c978-4013-a100-f8299b44476d",
   "metadata": {},
   "outputs": [],
   "source": [
    "S1= 'Hello Python'\n",
    "S2= \"Hello Python\"\n",
    "S3= '''Hello Python'''\n",
    "S4= \"\"\"Hello Python\"\"\""
   ]
  },
  {
   "cell_type": "code",
   "execution_count": 28,
   "id": "c11a50f6-6d21-4545-b1b8-3b0aadec2ad3",
   "metadata": {},
   "outputs": [
    {
     "name": "stdout",
     "output_type": "stream",
     "text": [
      "Hello Python\n",
      "Hello Python\n",
      "Hello Python\n",
      "Hello Python\n"
     ]
    }
   ],
   "source": [
    "print(S1)\n",
    "print(S2)\n",
    "print(S3)\n",
    "print(S4)"
   ]
  },
  {
   "cell_type": "code",
   "execution_count": 32,
   "id": "a1e35863-f245-4f9b-b111-a90306af44c5",
   "metadata": {},
   "outputs": [],
   "source": [
    "S2= \"Hello Python\""
   ]
  },
  {
   "cell_type": "code",
   "execution_count": 34,
   "id": "1115d97e-9e89-4394-83ab-0c74c87dc9b9",
   "metadata": {},
   "outputs": [
    {
     "data": {
      "text/plain": [
       "'l'"
      ]
     },
     "execution_count": 34,
     "metadata": {},
     "output_type": "execute_result"
    }
   ],
   "source": [
    "S2[2]"
   ]
  },
  {
   "cell_type": "markdown",
   "id": "b043533c-a7d8-4fa6-ac4c-582b8e0d3433",
   "metadata": {},
   "source": [
    "**Set**"
   ]
  },
  {
   "cell_type": "code",
   "execution_count": 1,
   "id": "83224972-dcaa-4399-a0ad-fffbbf5c97c1",
   "metadata": {},
   "outputs": [],
   "source": [
    "S2= {1,22,3,4}"
   ]
  },
  {
   "cell_type": "code",
   "execution_count": null,
   "id": "6d59bddf-e926-4e08-aee7-443b0de8088c",
   "metadata": {},
   "outputs": [],
   "source": [
    "S2[2]"
   ]
  },
  {
   "cell_type": "markdown",
   "id": "d32be6ee-a55c-4af4-96e5-c0361cfa1add",
   "metadata": {},
   "source": [
    "**Dictionary**"
   ]
  },
  {
   "cell_type": "code",
   "execution_count": 38,
   "id": "f87a1599-8460-4d9c-89bc-0e35acb71c02",
   "metadata": {},
   "outputs": [],
   "source": [
    "D1={'A':10,'B':20,'C':30}"
   ]
  },
  {
   "cell_type": "code",
   "execution_count": 39,
   "id": "a71309cd-0e22-4105-aa0c-c46713bca225",
   "metadata": {},
   "outputs": [
    {
     "data": {
      "text/plain": [
       "20"
      ]
     },
     "execution_count": 39,
     "metadata": {},
     "output_type": "execute_result"
    }
   ],
   "source": [
    "D1['B']"
   ]
  },
  {
   "cell_type": "code",
   "execution_count": 40,
   "id": "79f3cbf7-2a79-475f-acf4-3fe7f396cc50",
   "metadata": {},
   "outputs": [],
   "source": [
    "D1['C']=40"
   ]
  },
  {
   "cell_type": "code",
   "execution_count": 41,
   "id": "728b2895-1924-40ff-9faa-bdef787bad91",
   "metadata": {},
   "outputs": [
    {
     "data": {
      "text/plain": [
       "40"
      ]
     },
     "execution_count": 41,
     "metadata": {},
     "output_type": "execute_result"
    }
   ],
   "source": [
    "D1['C']"
   ]
  },
  {
   "cell_type": "code",
   "execution_count": 42,
   "id": "c44d360e-bddd-47a3-b0eb-befa47f89241",
   "metadata": {},
   "outputs": [],
   "source": [
    "D2={'Name':[\"Anish\",\"Kumal\",\"Monika\"],\n",
    "    'Age':[20,21,22],\n",
    "    'Address':['Delhi','UP','UK']\n",
    "   }"
   ]
  },
  {
   "cell_type": "code",
   "execution_count": 44,
   "id": "5d66665d-125f-46e6-84e0-320bcd9735f5",
   "metadata": {},
   "outputs": [
    {
     "data": {
      "text/plain": [
       "['Anish', 'Kumal', 'Monika']"
      ]
     },
     "execution_count": 44,
     "metadata": {},
     "output_type": "execute_result"
    }
   ],
   "source": [
    "D2[\"Name\"]"
   ]
  },
  {
   "cell_type": "code",
   "execution_count": 45,
   "id": "6615a44b-c33a-4944-85c1-0194dcdf1625",
   "metadata": {},
   "outputs": [],
   "source": [
    "D2['Name'][1]=\"Mayank\""
   ]
  },
  {
   "cell_type": "code",
   "execution_count": 46,
   "id": "afcf41a9-877c-462e-ae6e-524bb4fb675c",
   "metadata": {},
   "outputs": [
    {
     "name": "stdout",
     "output_type": "stream",
     "text": [
      "{'Name': ['Anish', 'Mayank', 'Monika'], 'Age': [20, 21, 22], 'Address': ['Delhi', 'UP', 'UK']}\n"
     ]
    }
   ],
   "source": [
    "print(D2)"
   ]
  },
  {
   "cell_type": "markdown",
   "id": "fe3aa8f6-3978-49c3-9da3-438b05913e1c",
   "metadata": {},
   "source": [
    "# Wednesday 08/27/2025  "
   ]
  },
  {
   "cell_type": "markdown",
   "id": "f3d04a6b-5217-403a-9337-0ecc5a5710b9",
   "metadata": {},
   "source": [
    "**Literals**"
   ]
  },
  {
   "cell_type": "code",
   "execution_count": null,
   "id": "5186d957-dcf6-4cd2-ac6b-ec85eeb5d7b1",
   "metadata": {},
   "outputs": [],
   "source": [
    "A =10 #Integer literals\n",
    "S =20 #String literals"
   ]
  },
  {
   "cell_type": "markdown",
   "id": "8d8edaa0-c763-4e73-99bb-4561cb1ef158",
   "metadata": {},
   "source": [
    "****Number System****\n",
    "1. **Binary number System**  (0,1)     base-2\n",
    "2. **Octal number system** (0,1,2,3,4,5,6,7)    base-8\n",
    "3. **Decimal number System** (0,1,2,3,4,5,6,7,8,9)    base-10\n",
    "4. **Hexdecimal number System** (0,1,2,3,4,5,6,7,8,9,A,B,C,D,E,F)    base-16"
   ]
  },
  {
   "cell_type": "code",
   "execution_count": 3,
   "id": "9f0e6afa-3314-499b-8531-0f57885526a8",
   "metadata": {},
   "outputs": [],
   "source": [
    "Number={0,1,2,3,4,5,6,7,8,9}"
   ]
  },
  {
   "cell_type": "code",
   "execution_count": 2,
   "id": "99c6d20f-d1c1-43bb-97d2-ab4ccd81a007",
   "metadata": {},
   "outputs": [
    {
     "data": {
      "text/plain": [
       "'0b100100'"
      ]
     },
     "execution_count": 2,
     "metadata": {},
     "output_type": "execute_result"
    }
   ],
   "source": [
    "# DECIMAL TO BINARY\n",
    "N=36\n",
    "bin(N)"
   ]
  },
  {
   "cell_type": "code",
   "execution_count": 1,
   "id": "0879c37e-80ee-406e-b000-b05f651a05ee",
   "metadata": {},
   "outputs": [
    {
     "data": {
      "text/plain": [
       "21"
      ]
     },
     "execution_count": 1,
     "metadata": {},
     "output_type": "execute_result"
    }
   ],
   "source": [
    "# Binary to decimal\n",
    "n='10101'  \n",
    "int(n,2)"
   ]
  },
  {
   "cell_type": "code",
   "execution_count": 3,
   "id": "4874a29d-e0ad-455a-a8e4-5aecaa1173e2",
   "metadata": {},
   "outputs": [
    {
     "data": {
      "text/plain": [
       "27"
      ]
     },
     "execution_count": 3,
     "metadata": {},
     "output_type": "execute_result"
    }
   ],
   "source": [
    "n ='11011'\n",
    "int(n,2)"
   ]
  },
  {
   "cell_type": "code",
   "execution_count": 5,
   "id": "6479ed92-c181-4403-a1ec-23fae476638a",
   "metadata": {},
   "outputs": [
    {
     "data": {
      "text/plain": [
       "'0o712127'"
      ]
     },
     "execution_count": 5,
     "metadata": {},
     "output_type": "execute_result"
    }
   ],
   "source": [
    "# decimal to octal\n",
    "n= 234583\n",
    "oct(n)"
   ]
  },
  {
   "cell_type": "code",
   "execution_count": 6,
   "id": "06c31f2d-3468-46cc-9b9a-33ef79af0104",
   "metadata": {},
   "outputs": [
    {
     "data": {
      "text/plain": [
       "23483"
      ]
     },
     "execution_count": 6,
     "metadata": {},
     "output_type": "execute_result"
    }
   ],
   "source": [
    "# octual to binary\n",
    "v= '55673'\n",
    "int(v,8)"
   ]
  },
  {
   "cell_type": "code",
   "execution_count": 9,
   "id": "00e71676-75a3-440c-bb3f-02bc34251557",
   "metadata": {},
   "outputs": [
    {
     "data": {
      "text/plain": [
       "342242"
      ]
     },
     "execution_count": 9,
     "metadata": {},
     "output_type": "execute_result"
    }
   ],
   "source": [
    "0o1234342"
   ]
  },
  {
   "cell_type": "code",
   "execution_count": 14,
   "id": "892f258a-7837-47f7-ba8b-a221707e7ec0",
   "metadata": {},
   "outputs": [
    {
     "data": {
      "text/plain": [
       "'0x3957f'"
      ]
     },
     "execution_count": 14,
     "metadata": {},
     "output_type": "execute_result"
    }
   ],
   "source": [
    "# decimal to hexadecimal\n",
    "n= 234879\n",
    "hex(n)"
   ]
  },
  {
   "cell_type": "code",
   "execution_count": 15,
   "id": "c5e8454e-090d-48cb-9f1a-5e79d917c841",
   "metadata": {},
   "outputs": [
    {
     "data": {
      "text/plain": [
       "43981"
      ]
     },
     "execution_count": 15,
     "metadata": {},
     "output_type": "execute_result"
    }
   ],
   "source": [
    "# hexadecimal to decimal\n",
    "x='abcd'\n",
    "int(x,16)"
   ]
  },
  {
   "cell_type": "code",
   "execution_count": 16,
   "id": "bbaaace1-077c-421c-8dc4-9ca2de5fea2a",
   "metadata": {},
   "outputs": [
    {
     "data": {
      "text/plain": [
       "1193135"
      ]
     },
     "execution_count": 16,
     "metadata": {},
     "output_type": "execute_result"
    }
   ],
   "source": [
    "0x1234af"
   ]
  },
  {
   "cell_type": "code",
   "execution_count": 7,
   "id": "152be2e2-0967-4b15-a6e5-8bb2d56e5841",
   "metadata": {},
   "outputs": [
    {
     "name": "stdout",
     "output_type": "stream",
     "text": [
      "0xd68\n"
     ]
    }
   ],
   "source": [
    "pin=hex(3432)\n",
    "print(pin)"
   ]
  },
  {
   "cell_type": "markdown",
   "id": "4be54beb-1a0b-4170-91f0-2174d830d1dc",
   "metadata": {},
   "source": [
    "# Thursday 28/08/2025"
   ]
  },
  {
   "cell_type": "code",
   "execution_count": 2,
   "id": "da89fff8-5980-4803-a0f9-17b00791381d",
   "metadata": {},
   "outputs": [
    {
     "name": "stdout",
     "output_type": "stream",
     "text": [
      "[23, 24, 25, 66, 45, 'ABCD', True]\n",
      "<class 'list'>\n"
     ]
    },
    {
     "data": {
      "text/plain": [
       "7"
      ]
     },
     "execution_count": 2,
     "metadata": {},
     "output_type": "execute_result"
    }
   ],
   "source": [
    "# List\n",
    "L = [23,24,25,66,45,\"ABCD\",True]\n",
    "print(L)\n",
    "print(type(L))\n",
    "len(L)"
   ]
  },
  {
   "cell_type": "markdown",
   "id": "7d2506cc-415a-42b8-9d20-b32daf6e0527",
   "metadata": {},
   "source": [
    "**Operators**\n",
    "1. Arthematic Operatiors\n",
    "    - Addition `+`\n",
    "    - Subtraction `-`\n",
    "    - Multiply `*`\n",
    "    - Divide `/`\n",
    "    - Modulus `%`  (remainder calculator)\n",
    "    - Floor Division `//`  (Quotient calculator)\n",
    "    - Exponential `**`   (Use for power like root)"
   ]
  },
  {
   "cell_type": "code",
   "execution_count": 6,
   "id": "e80ecea1-c5a1-4478-b64a-c2f75621ba80",
   "metadata": {},
   "outputs": [
    {
     "name": "stdout",
     "output_type": "stream",
     "text": [
      "30\n",
      "-10\n",
      "200\n",
      "0.5\n",
      "10\n",
      "0\n",
      "100000000000000000000\n"
     ]
    }
   ],
   "source": [
    "a=10\n",
    "b=20\n",
    "print(a+b)\n",
    "print(a-b)\n",
    "print(a*b)\n",
    "print(a/b)\n",
    "print(a%b)\n",
    "print(a//b)\n",
    "print(a**b)"
   ]
  },
  {
   "cell_type": "markdown",
   "id": "9df76b42-cee6-489a-a0ab-766c16e1156d",
   "metadata": {},
   "source": [
    "# Friday 29/08/2025"
   ]
  },
  {
   "cell_type": "code",
   "execution_count": null,
   "id": "4a4fa8a4-f947-4765-8e22-2f73cf9415b4",
   "metadata": {},
   "outputs": [],
   "source": [
    "A=10"
   ]
  },
  {
   "cell_type": "markdown",
   "id": "e6c553a3-902b-4391-9a7c-1aaf2ffd654d",
   "metadata": {},
   "source": [
    "# Assignment Operators:\n",
    "1. `=`   *(Assignment)*\n",
    "2. `+=`  *(Add and assign)*\n",
    "3. `-=`  *(Subtract and assign)*\n",
    "4. `*=`  *(Multiply and assign)*\n",
    "5. `/=`  *(Divide and assign)*\n",
    "6. `%=`  *(Modulus and assign)*\n",
    "7. `//=` *(Floor divide and assign)*\n",
    "8. `**=` *(Exponent and assign)*"
   ]
  },
  {
   "cell_type": "code",
   "execution_count": 5,
   "id": "0ee22b8e-eb60-456d-b537-a47a0f0f1bed",
   "metadata": {},
   "outputs": [
    {
     "name": "stdout",
     "output_type": "stream",
     "text": [
      "10\n",
      "20\n",
      "10\n",
      "100\n",
      "10.0\n",
      "0.0\n",
      "0.0\n",
      "0.0\n"
     ]
    }
   ],
   "source": [
    "a=10 # (Assignment)\n",
    "print(a) \n",
    "a+=10 # (Add and assign)\n",
    "print(a)\n",
    "a-=10 # (Subtract and assign)\n",
    "print(a)\n",
    "a*=10 # (Multiply and assign)\n",
    "print(a)\n",
    "a/=10 # (Divide and assign)\n",
    "print(a)\n",
    "a%=10 # (Modulus and assign)\n",
    "print(a)\n",
    "a//=10 # (Floor divide and assign)\n",
    "print(a)\n",
    "a**=10 # (Exponent and assign)\n",
    "print(a)"
   ]
  },
  {
   "cell_type": "markdown",
   "id": "b0ddd581-df30-4b85-87de-34230cf61fb6",
   "metadata": {},
   "source": [
    "# Comparison Operators:\n",
    "- `==` (Equal to)\n",
    "- `!=` (Not equal to)\n",
    "- `<`  (Greater than)\n",
    "- `>`  (Less than) \n",
    "- `>=` (Greater than or equal to)\n",
    "- `<=` (Less than or equal to)"
   ]
  },
  {
   "cell_type": "code",
   "execution_count": 7,
   "id": "09bf73e8-9ec1-488e-819d-12b289adb3d3",
   "metadata": {},
   "outputs": [
    {
     "name": "stdout",
     "output_type": "stream",
     "text": [
      "False\n",
      "True\n",
      "True\n",
      "False\n",
      "False\n",
      "True\n"
     ]
    }
   ],
   "source": [
    "a=10\n",
    "b=20\n",
    "print (a==b)\n",
    "print (a!=b)\n",
    "print (a<b)\n",
    "print (a>b)\n",
    "print (a>=b)\n",
    "print (a<=b)"
   ]
  },
  {
   "cell_type": "markdown",
   "id": "a73dbf29-c333-44e8-b11a-fc274709a6cf",
   "metadata": {},
   "source": [
    "# Tuesday 02/09/2025"
   ]
  },
  {
   "cell_type": "markdown",
   "id": "356b9454-2943-416f-85b0-01eecec55062",
   "metadata": {},
   "source": [
    "# Homework\n",
    "1. Logical Operators in Python\n",
    "     - and, or ,not\n",
    "2. Membership Operators in Python\n",
    "     - not in , in\n",
    "3. Identity Operators in Python\n",
    "     - is, is not\n",
    "4. Bitwise Operators in Python"
   ]
  },
  {
   "cell_type": "code",
   "execution_count": 1,
   "id": "c2dc4530-e41c-4a39-bfcb-0a8fc8540871",
   "metadata": {},
   "outputs": [],
   "source": [
    "D={\n",
    "    \"Name\": [\"Mayank\",\"Satyma\",\"Rohan\",\"Dexant\"],\n",
    "    \"Age\": [27,23,24,25],\n",
    "    \"Address\": [\"Noida\",\"Ranchi\",\"Goa\",\"Delhi\"]\n",
    "}"
   ]
  },
  {
   "cell_type": "code",
   "execution_count": 2,
   "id": "12480a98-b4a6-48d3-8bc1-9be872c4c611",
   "metadata": {},
   "outputs": [],
   "source": [
    "D['Address'][1]=\"USA\""
   ]
  },
  {
   "cell_type": "code",
   "execution_count": 3,
   "id": "adcecccc-62e7-47ec-b120-5903fc32f8a5",
   "metadata": {},
   "outputs": [
    {
     "name": "stdout",
     "output_type": "stream",
     "text": [
      "{'Name': ['Mayank', 'Satyma', 'Rohan', 'Dexant'], 'Age': [27, 23, 24, 25], 'Address': ['Noida', 'USA', 'Goa', 'Delhi']}\n"
     ]
    }
   ],
   "source": [
    "print(D)"
   ]
  },
  {
   "cell_type": "markdown",
   "id": "1103c653-3f36-48eb-bcc8-aeb93d8705cc",
   "metadata": {},
   "source": [
    "# Logical Operation \n",
    "- And\n",
    "- or\n",
    "- not"
   ]
  },
  {
   "cell_type": "code",
   "execution_count": 4,
   "id": "30af967e-4795-4471-926d-77118496d418",
   "metadata": {},
   "outputs": [
    {
     "data": {
      "text/plain": [
       "False"
      ]
     },
     "execution_count": 4,
     "metadata": {},
     "output_type": "execute_result"
    }
   ],
   "source": [
    "a = 10\n",
    "b = 20\n",
    "c = 15\n",
    "a>b and a>c"
   ]
  },
  {
   "cell_type": "code",
   "execution_count": 6,
   "id": "28fa2975-fd42-4f32-92ae-7d15f5bdb763",
   "metadata": {},
   "outputs": [
    {
     "name": "stdout",
     "output_type": "stream",
     "text": [
      "True\n",
      "False\n",
      "False\n",
      "False\n"
     ]
    }
   ],
   "source": [
    "# And\n",
    "print (True and True)\n",
    "print (True and False)\n",
    "print (False and True)\n",
    "print (False and False)"
   ]
  },
  {
   "cell_type": "code",
   "execution_count": 13,
   "id": "5843e259-a465-4f51-bc40-14423c350202",
   "metadata": {},
   "outputs": [
    {
     "name": "stdout",
     "output_type": "stream",
     "text": [
      "True\n",
      "True\n",
      "True\n",
      "False\n"
     ]
    }
   ],
   "source": [
    "# Or\n",
    "print (True or True)\n",
    "print (True or False)\n",
    "print (False or True)\n",
    "print (False or False)"
   ]
  },
  {
   "cell_type": "code",
   "execution_count": 12,
   "id": "8bd10201-8e61-4465-9b6c-5e7f2ac45b21",
   "metadata": {},
   "outputs": [
    {
     "data": {
      "text/plain": [
       "False"
      ]
     },
     "execution_count": 12,
     "metadata": {},
     "output_type": "execute_result"
    }
   ],
   "source": [
    "# Not\n",
    "not True"
   ]
  },
  {
   "cell_type": "code",
   "execution_count": 11,
   "id": "ba3bd244-64be-4a93-ab64-b414534be02f",
   "metadata": {},
   "outputs": [
    {
     "data": {
      "text/plain": [
       "True"
      ]
     },
     "execution_count": 11,
     "metadata": {},
     "output_type": "execute_result"
    }
   ],
   "source": [
    "not False"
   ]
  },
  {
   "cell_type": "code",
   "execution_count": 15,
   "id": "fc6db50e-df0e-4beb-81f2-e9207fa40d9d",
   "metadata": {},
   "outputs": [
    {
     "data": {
      "text/plain": [
       "False"
      ]
     },
     "execution_count": 15,
     "metadata": {},
     "output_type": "execute_result"
    }
   ],
   "source": [
    "not(True or True and True or False and True and True and False or True)"
   ]
  },
  {
   "cell_type": "markdown",
   "id": "e28550da-1b2c-4b5e-83d9-0f6d39cb3f44",
   "metadata": {},
   "source": [
    "# Membership Operators \n",
    "- In\n",
    "- Not in"
   ]
  },
  {
   "cell_type": "code",
   "execution_count": 18,
   "id": "91c034ae-80fc-4f01-928f-3e7ef4bb37e6",
   "metadata": {},
   "outputs": [
    {
     "data": {
      "text/plain": [
       "True"
      ]
     },
     "execution_count": 18,
     "metadata": {},
     "output_type": "execute_result"
    }
   ],
   "source": [
    "name = \"Mayank Bhatt\"\n",
    "\"M\" in name"
   ]
  },
  {
   "cell_type": "code",
   "execution_count": 19,
   "id": "2db5c058-0906-47e1-95d4-0850ab4ff5f6",
   "metadata": {},
   "outputs": [
    {
     "data": {
      "text/plain": [
       "True"
      ]
     },
     "execution_count": 19,
     "metadata": {},
     "output_type": "execute_result"
    }
   ],
   "source": [
    "T = (212,45,2,23)\n",
    "23 in T"
   ]
  },
  {
   "cell_type": "code",
   "execution_count": 20,
   "id": "fcd1e5a1-193d-4aa3-bf03-5905613d1b06",
   "metadata": {},
   "outputs": [
    {
     "data": {
      "text/plain": [
       "True"
      ]
     },
     "execution_count": 20,
     "metadata": {},
     "output_type": "execute_result"
    }
   ],
   "source": [
    "T = [212,45,2,23]\n",
    "23 in T"
   ]
  },
  {
   "cell_type": "code",
   "execution_count": 21,
   "id": "0d48ede1-7805-47ab-95bc-f8e8ae14a986",
   "metadata": {},
   "outputs": [
    {
     "data": {
      "text/plain": [
       "True"
      ]
     },
     "execution_count": 21,
     "metadata": {},
     "output_type": "execute_result"
    }
   ],
   "source": [
    "T = {212,45,2,23}\n",
    "23 in T"
   ]
  },
  {
   "cell_type": "code",
   "execution_count": 22,
   "id": "1f1010f2-a723-4562-b9a3-8f780b42a45d",
   "metadata": {},
   "outputs": [
    {
     "data": {
      "text/plain": [
       "True"
      ]
     },
     "execution_count": 22,
     "metadata": {},
     "output_type": "execute_result"
    }
   ],
   "source": [
    "T = (212,45,2,23)\n",
    "23 in T"
   ]
  },
  {
   "cell_type": "code",
   "execution_count": 25,
   "id": "277da957-a77e-43b7-a57c-d6144ab26067",
   "metadata": {},
   "outputs": [
    {
     "name": "stdout",
     "output_type": "stream",
     "text": [
      "{1, 2, 22}\n"
     ]
    },
    {
     "data": {
      "text/plain": [
       "True"
      ]
     },
     "execution_count": 25,
     "metadata": {},
     "output_type": "execute_result"
    }
   ],
   "source": [
    "T = {1,2,1,2,1,22,1, True}\n",
    "print (T)\n",
    "1 in T"
   ]
  },
  {
   "cell_type": "code",
   "execution_count": 26,
   "id": "32ffc87e-80ac-47de-96df-2ce11a334767",
   "metadata": {},
   "outputs": [
    {
     "data": {
      "text/plain": [
       "True"
      ]
     },
     "execution_count": 26,
     "metadata": {},
     "output_type": "execute_result"
    }
   ],
   "source": [
    "True in T"
   ]
  },
  {
   "cell_type": "code",
   "execution_count": 1,
   "id": "90f32b8b-6a53-4d63-a54e-08821b258684",
   "metadata": {},
   "outputs": [],
   "source": [
    "D={\n",
    "    \"Name\": [\"Mayank\",\"Satyma\",\"Rohan\",\"Dexant\"],\n",
    "    \"Age\": [27,23,24,25],\n",
    "    \"Address\": [\"Noida\",\"Ranchi\",\"Goa\",\"Delhi\"]\n",
    "}"
   ]
  },
  {
   "cell_type": "code",
   "execution_count": 28,
   "id": "7fd7a3ff-3bc7-4016-aeee-e2452cc3a8dc",
   "metadata": {},
   "outputs": [
    {
     "data": {
      "text/plain": [
       "True"
      ]
     },
     "execution_count": 28,
     "metadata": {},
     "output_type": "execute_result"
    }
   ],
   "source": [
    "\"Age\" in D"
   ]
  },
  {
   "cell_type": "code",
   "execution_count": 2,
   "id": "13ccf227-4132-4544-b4d1-e420d824d3c8",
   "metadata": {},
   "outputs": [
    {
     "data": {
      "text/plain": [
       "True"
      ]
     },
     "execution_count": 2,
     "metadata": {},
     "output_type": "execute_result"
    }
   ],
   "source": [
    "\"Mayank\" in D['Name'] # to find name "
   ]
  },
  {
   "cell_type": "markdown",
   "id": "4de03288-a20d-4b1b-98ed-dbdd13e7b1b3",
   "metadata": {},
   "source": [
    "# Identity Operation \n",
    "- is \n",
    "- is not"
   ]
  },
  {
   "cell_type": "code",
   "execution_count": 33,
   "id": "6ac2b424-48ce-4a2f-a2eb-f22a7c21e3a8",
   "metadata": {},
   "outputs": [
    {
     "name": "stdout",
     "output_type": "stream",
     "text": [
      "140722283219672\n",
      "140722283219672\n",
      "True\n",
      "True\n"
     ]
    }
   ],
   "source": [
    "A = 10\n",
    "B = 10\n",
    "print(id(A))\n",
    "print(id(B))\n",
    "print(A==B)\n",
    "print(A is B)"
   ]
  },
  {
   "cell_type": "code",
   "execution_count": 34,
   "id": "c9ef6678-273b-46e7-a896-ff2153fc48a7",
   "metadata": {},
   "outputs": [
    {
     "name": "stdout",
     "output_type": "stream",
     "text": [
      "2192543398608\n",
      "2192543399536\n",
      "True\n",
      "False\n"
     ]
    }
   ],
   "source": [
    "A = 1000\n",
    "B = 1000\n",
    "print(id(A))\n",
    "print(id(B))\n",
    "print(A==B)\n",
    "print(A is B)"
   ]
  },
  {
   "cell_type": "code",
   "execution_count": 36,
   "id": "ac6c4274-82ab-4ca2-9af0-cdf85ee3ac5b",
   "metadata": {},
   "outputs": [
    {
     "name": "stdout",
     "output_type": "stream",
     "text": [
      "2192543670832\n",
      "2192543670960\n"
     ]
    }
   ],
   "source": [
    "X = \"Mayank Bhatt\"\n",
    "Y = \"Mayank Bhatt\"\n",
    "print(id(X))\n",
    "print(id(Y))"
   ]
  },
  {
   "cell_type": "markdown",
   "id": "1dc67978-d51c-4f6a-a402-db505d0f898a",
   "metadata": {},
   "source": [
    "# Thursday 04/09/2025"
   ]
  },
  {
   "cell_type": "code",
   "execution_count": 2,
   "id": "0b948607-006f-480f-ae33-e064b2973434",
   "metadata": {},
   "outputs": [
    {
     "name": "stdout",
     "output_type": "stream",
     "text": [
      "Person name: Mayank Bhatt and person age: 19\n"
     ]
    }
   ],
   "source": [
    "# To write something \n",
    "Name= \"Mayank Bhatt\"\n",
    "age= 19\n",
    "print(\"Person name:\",Name,\"and person age:\",age)"
   ]
  },
  {
   "cell_type": "code",
   "execution_count": 3,
   "id": "867378ee-5afb-4a24-b596-5ffabbeab3e7",
   "metadata": {},
   "outputs": [
    {
     "name": "stdout",
     "output_type": "stream",
     "text": [
      "Person name:Mayank Bhatt and person age:19\n"
     ]
    }
   ],
   "source": [
    "# use of .format() to write something \n",
    "Name= \"Mayank Bhatt\"\n",
    "age= 19\n",
    "print(\"Person name:{0} and person age:{1}\" .format(Name,age))"
   ]
  },
  {
   "cell_type": "code",
   "execution_count": 4,
   "id": "dd24fc4e-6867-4e6c-b138-4037958dd9e3",
   "metadata": {},
   "outputs": [
    {
     "name": "stdout",
     "output_type": "stream",
     "text": [
      "Person name:Mayank Bhattand person age:19\n"
     ]
    }
   ],
   "source": [
    "# use of f\"\" to write something \n",
    "Name= \"Mayank Bhatt\"\n",
    "age= 19\n",
    "print(f\"Person name:{Name}and person age:{age}\")"
   ]
  },
  {
   "cell_type": "markdown",
   "id": "eeac74de-b9cd-4e5e-a007-2a80567cc998",
   "metadata": {},
   "source": [
    "# Bitwise Operators"
   ]
  },
  {
   "cell_type": "markdown",
   "id": "d45c862c-d819-46f7-b79c-252a55150790",
   "metadata": {},
   "source": [
    "1.  `&`  and\n",
    "2.  `|`  or\n",
    "3.  `^`  xor\n",
    "4.  `~`  not\n",
    "5.  `>>` right shift\n",
    "6.  `<<` Left shift"
   ]
  },
  {
   "cell_type": "raw",
   "id": "3512351e-a57d-4adc-a117-e62a3a7c63f5",
   "metadata": {},
   "source": [
    "And\n",
    "A           B            And(&)\n",
    "0           0              0\n",
    "0           1              0\n",
    "1           0              0\n",
    "1           1              1"
   ]
  },
  {
   "cell_type": "raw",
   "id": "5b5d09ec-39df-4cb3-85e3-c7b3dab42e60",
   "metadata": {},
   "source": [
    "or\n",
    "A           B             or(|)\n",
    "0           0              0\n",
    "0           1              1\n",
    "1           0              1\n",
    "1           1              1"
   ]
  },
  {
   "cell_type": "raw",
   "id": "bf5ce53b-66b2-4b3e-b4d5-4f441318a34e",
   "metadata": {},
   "source": [
    "xor\n",
    "A           B            xor(^)\n",
    "0           0              0\n",
    "0           1              1\n",
    "1           0              1\n",
    "1           1              0"
   ]
  },
  {
   "cell_type": "code",
   "execution_count": 5,
   "id": "5bbbb9e6-ab2f-49af-b99c-2f34c76464a3",
   "metadata": {},
   "outputs": [
    {
     "data": {
      "text/plain": [
       "4"
      ]
     },
     "execution_count": 5,
     "metadata": {},
     "output_type": "execute_result"
    }
   ],
   "source": [
    "# this operators give answer in bit so not so important \n",
    "21 & 12"
   ]
  },
  {
   "cell_type": "code",
   "execution_count": 8,
   "id": "01ea2ec6-d411-412e-877b-be5712ce9719",
   "metadata": {},
   "outputs": [
    {
     "data": {
      "text/plain": [
       "'0b10101'"
      ]
     },
     "execution_count": 8,
     "metadata": {},
     "output_type": "execute_result"
    }
   ],
   "source": [
    "bin(21)"
   ]
  },
  {
   "cell_type": "code",
   "execution_count": 7,
   "id": "fb863e77-531b-434c-9ce5-06660227a7d6",
   "metadata": {},
   "outputs": [
    {
     "data": {
      "text/plain": [
       "'0b1100'"
      ]
     },
     "execution_count": 7,
     "metadata": {},
     "output_type": "execute_result"
    }
   ],
   "source": [
    "bin(12)"
   ]
  },
  {
   "cell_type": "raw",
   "id": "135e69ac-5719-4f74-ae30-15489f9776fb",
   "metadata": {},
   "source": [
    "10101 = 21\n",
    "01100 = 12\n",
    "00100 = answer"
   ]
  },
  {
   "cell_type": "code",
   "execution_count": 10,
   "id": "3d977e0c-d162-487e-85c7-c21cb40d819c",
   "metadata": {},
   "outputs": [
    {
     "data": {
      "text/plain": [
       "4"
      ]
     },
     "execution_count": 10,
     "metadata": {},
     "output_type": "execute_result"
    }
   ],
   "source": [
    "0b00100 # this is who we get 4 "
   ]
  },
  {
   "cell_type": "code",
   "execution_count": 11,
   "id": "d7a29d1a-f5a7-448e-82bd-ea700826a896",
   "metadata": {},
   "outputs": [
    {
     "data": {
      "text/plain": [
       "-11"
      ]
     },
     "execution_count": 11,
     "metadata": {},
     "output_type": "execute_result"
    }
   ],
   "source": [
    "~10 # make it negative and +1 "
   ]
  },
  {
   "cell_type": "code",
   "execution_count": 12,
   "id": "2ad822ac-47c8-4bbd-be48-6572b4c9280c",
   "metadata": {},
   "outputs": [
    {
     "data": {
      "text/plain": [
       "-22112006"
      ]
     },
     "execution_count": 12,
     "metadata": {},
     "output_type": "execute_result"
    }
   ],
   "source": [
    "~22112005"
   ]
  },
  {
   "cell_type": "code",
   "execution_count": 13,
   "id": "f9e14755-f3df-4587-a6db-b50c208f5989",
   "metadata": {},
   "outputs": [
    {
     "data": {
      "text/plain": [
       "5"
      ]
     },
     "execution_count": 13,
     "metadata": {},
     "output_type": "execute_result"
    }
   ],
   "source": [
    "23>>2  # it change 23 in bit and then minus 2  "
   ]
  },
  {
   "cell_type": "code",
   "execution_count": 14,
   "id": "53832858-e0dd-44fe-8c95-3b11980735f9",
   "metadata": {},
   "outputs": [
    {
     "data": {
      "text/plain": [
       "'0b10111'"
      ]
     },
     "execution_count": 14,
     "metadata": {},
     "output_type": "execute_result"
    }
   ],
   "source": [
    "bin(23)"
   ]
  },
  {
   "cell_type": "code",
   "execution_count": 15,
   "id": "edafbe58-047b-46ab-be8e-1a844abd4534",
   "metadata": {},
   "outputs": [
    {
     "data": {
      "text/plain": [
       "5"
      ]
     },
     "execution_count": 15,
     "metadata": {},
     "output_type": "execute_result"
    }
   ],
   "source": [
    "0b101"
   ]
  },
  {
   "cell_type": "code",
   "execution_count": 16,
   "id": "da1ac5fa-c06f-4464-bf22-6511fcc98e77",
   "metadata": {},
   "outputs": [
    {
     "data": {
      "text/plain": [
       "84"
      ]
     },
     "execution_count": 16,
     "metadata": {},
     "output_type": "execute_result"
    }
   ],
   "source": [
    "21<<2  # it change 21 in bit and then add 2 zero in last "
   ]
  },
  {
   "cell_type": "code",
   "execution_count": 17,
   "id": "50f0648e-b450-4fd0-905e-97cf5a90179c",
   "metadata": {},
   "outputs": [
    {
     "data": {
      "text/plain": [
       "'0b10101'"
      ]
     },
     "execution_count": 17,
     "metadata": {},
     "output_type": "execute_result"
    }
   ],
   "source": [
    "bin(21)"
   ]
  },
  {
   "cell_type": "code",
   "execution_count": 18,
   "id": "69265af3-7698-4f12-92a5-b013a3bf8414",
   "metadata": {},
   "outputs": [
    {
     "data": {
      "text/plain": [
       "84"
      ]
     },
     "execution_count": 18,
     "metadata": {},
     "output_type": "execute_result"
    }
   ],
   "source": [
    "0b1010100"
   ]
  },
  {
   "cell_type": "markdown",
   "id": "2690184c-7eef-4707-8800-4c5c5cf69f5d",
   "metadata": {},
   "source": [
    "# Friday 09/05/2025"
   ]
  },
  {
   "cell_type": "markdown",
   "id": "5700e331-07d4-46ef-a8e0-e5c2a9faa5b0",
   "metadata": {},
   "source": [
    "# Type Casting/Type Conversion\n",
    "1. Implicit\n",
    "2. Explicit"
   ]
  },
  {
   "cell_type": "code",
   "execution_count": null,
   "id": "f0e3351d-3dbc-4636-bf46-926b2a962462",
   "metadata": {},
   "outputs": [],
   "source": [
    "#  10+'10' "
   ]
  },
  {
   "cell_type": "code",
   "execution_count": 1,
   "id": "3e13cb5e-b9c9-42ae-a0b4-b12cc8105c77",
   "metadata": {},
   "outputs": [
    {
     "data": {
      "text/plain": [
       "20.5"
      ]
     },
     "execution_count": 1,
     "metadata": {},
     "output_type": "execute_result"
    }
   ],
   "source": [
    "10+10.5"
   ]
  },
  {
   "cell_type": "code",
   "execution_count": 3,
   "id": "febf4315-a40f-438b-9b65-4fe7503cb2c4",
   "metadata": {},
   "outputs": [
    {
     "data": {
      "text/plain": [
       "5.2"
      ]
     },
     "execution_count": 3,
     "metadata": {},
     "output_type": "execute_result"
    }
   ],
   "source": [
    "10-4.8"
   ]
  },
  {
   "cell_type": "markdown",
   "id": "62d9e437-b0f8-435b-82a7-46ab763d503c",
   "metadata": {},
   "source": [
    "# Explitcit\n",
    "1. `int()`\n",
    "2. `str()`\n",
    "3. `float()`\n",
    "4. `bool()`\n",
    "5. `complex()`\n",
    "6. `list()`\n",
    "7. `tuple()`\n",
    "8. `set()`\n",
    "9. `dict()`\n",
    "10. `bin()`\n",
    "11. `oct()`\n",
    "12. `hex()` "
   ]
  },
  {
   "cell_type": "markdown",
   "id": "ec9685f1-1658-4078-bff9-9a0698b8e232",
   "metadata": {},
   "source": [
    "# input() Fuction"
   ]
  },
  {
   "cell_type": "code",
   "execution_count": 5,
   "id": "6deb2d99-5be0-4820-859f-56cfae9073af",
   "metadata": {},
   "outputs": [
    {
     "name": "stdin",
     "output_type": "stream",
     "text": [
      " Hello\n"
     ]
    },
    {
     "name": "stdout",
     "output_type": "stream",
     "text": [
      "Hello\n"
     ]
    }
   ],
   "source": [
    "A = input()\n",
    "print(A)"
   ]
  },
  {
   "cell_type": "code",
   "execution_count": 7,
   "id": "3343ec05-4e70-4354-a757-96cfe8e2cbc4",
   "metadata": {},
   "outputs": [
    {
     "name": "stdin",
     "output_type": "stream",
     "text": [
      "Enter the number:  1\n"
     ]
    },
    {
     "name": "stdout",
     "output_type": "stream",
     "text": [
      "1\n"
     ]
    }
   ],
   "source": [
    "A = input(\"Enter the number: \")\n",
    "print(A)"
   ]
  },
  {
   "cell_type": "markdown",
   "id": "2171ad76-0833-46f2-9570-54985c544fba",
   "metadata": {},
   "source": [
    "*input is made in string only*"
   ]
  },
  {
   "cell_type": "code",
   "execution_count": 9,
   "id": "1b849df7-1068-492c-90c1-f9e039ea933f",
   "metadata": {},
   "outputs": [
    {
     "name": "stdin",
     "output_type": "stream",
     "text": [
      "Enter the 1st number:  1\n",
      "Enter the 2nd number:  1\n"
     ]
    },
    {
     "name": "stdout",
     "output_type": "stream",
     "text": [
      "1 <class 'int'>\n",
      "Addition of 1 and 1 is 2\n"
     ]
    }
   ],
   "source": [
    "x = int(input(\"Enter the 1st number: \"))\n",
    "y = int(input(\"Enter the 2nd number: \"))\n",
    "print(x,type(x))\n",
    "print(f\"Addition of {x} and {y} is {x+y}\")"
   ]
  },
  {
   "cell_type": "code",
   "execution_count": 10,
   "id": "5b90fa41-dfca-43ab-b79b-243ffff0ab10",
   "metadata": {},
   "outputs": [
    {
     "name": "stdin",
     "output_type": "stream",
     "text": [
      "Enter your name:  Mayank \n",
      "Enter your age:  19\n",
      "Enter your Address:  Delhi\n"
     ]
    },
    {
     "name": "stdout",
     "output_type": "stream",
     "text": [
      "Welcome! Your Name is Mayank . You are 19 year old. and you live in Delhi\n"
     ]
    }
   ],
   "source": [
    "x = input(\"Enter your name: \")\n",
    "y = input(\"Enter your age: \")\n",
    "z = input(\"Enter your Address: \")\n",
    "\n",
    "print(F\"Welcome! Your Name is {x}. You are {y} year old. and you live in {z}\")"
   ]
  },
  {
   "cell_type": "code",
   "execution_count": null,
   "id": "64f65ba1-ca2f-4ba9-94c3-d561b98cb9e4",
   "metadata": {},
   "outputs": [],
   "source": []
  }
 ],
 "metadata": {
  "kernelspec": {
   "display_name": "Python 3 (ipykernel)",
   "language": "python",
   "name": "python3"
  },
  "language_info": {
   "codemirror_mode": {
    "name": "ipython",
    "version": 3
   },
   "file_extension": ".py",
   "mimetype": "text/x-python",
   "name": "python",
   "nbconvert_exporter": "python",
   "pygments_lexer": "ipython3",
   "version": "3.12.6"
  }
 },
 "nbformat": 4,
 "nbformat_minor": 5
}

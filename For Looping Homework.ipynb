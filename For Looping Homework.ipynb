{
 "cells": [
  {
   "cell_type": "code",
   "execution_count": 9,
   "id": "b2660051-79be-4481-a4f1-a502e70bc350",
   "metadata": {},
   "outputs": [
    {
     "name": "stdout",
     "output_type": "stream",
     "text": [
      "0 1 2 3 4 5 6 7 8 9 10 "
     ]
    }
   ],
   "source": [
    "# 1. Print numbers from 1 to 10 using a for loop.\n",
    "for i in range(11):\n",
    "    print(i,end = ' ')"
   ]
  },
  {
   "cell_type": "code",
   "execution_count": 2,
   "id": "d86e1344-feb0-4357-bd2d-9911647ec4e3",
   "metadata": {},
   "outputs": [
    {
     "name": "stdout",
     "output_type": "stream",
     "text": [
      " 1 ka sq hai =  1\n",
      " 2 ka sq hai =  4\n",
      " 3 ka sq hai =  9\n",
      " 4 ka sq hai =  16\n",
      " 5 ka sq hai =  25\n",
      " 6 ka sq hai =  36\n",
      " 7 ka sq hai =  49\n",
      " 8 ka sq hai =  64\n",
      " 9 ka sq hai =  81\n",
      " 10 ka sq hai =  100\n"
     ]
    }
   ],
   "source": [
    "# 2. Print the squares of numbers from 1 to 10 using a for loop.\n",
    "for i in range(1,11):\n",
    "    print(f\" {i} ka sq hai = \",i**2)"
   ]
  },
  {
   "cell_type": "code",
   "execution_count": 3,
   "id": "b4ef96fb-2c41-45fa-aead-b70a271cc1d4",
   "metadata": {},
   "outputs": [
    {
     "name": "stdout",
     "output_type": "stream",
     "text": [
      " 1 ka cubes hai =  1\n",
      " 2 ka cubes hai =  8\n",
      " 3 ka cubes hai =  27\n",
      " 4 ka cubes hai =  64\n",
      " 5 ka cubes hai =  125\n",
      " 6 ka cubes hai =  216\n",
      " 7 ka cubes hai =  343\n",
      " 8 ka cubes hai =  512\n",
      " 9 ka cubes hai =  729\n",
      " 10 ka cubes hai =  1000\n"
     ]
    }
   ],
   "source": [
    "# 3. Print the cubes of numbers from 1 to 10 using a for loop.\n",
    "for i in range(1,11):\n",
    "    print(f\" {i} ka cubes hai = \",i**3)"
   ]
  },
  {
   "cell_type": "code",
   "execution_count": 10,
   "id": "568dc5cc-2943-48de-9528-296da1d687ab",
   "metadata": {},
   "outputs": [
    {
     "name": "stdout",
     "output_type": "stream",
     "text": [
      "55\n"
     ]
    }
   ],
   "source": [
    "# 4. Print the sum of numbers from 1 to 10 using a for loop.\n",
    "Sum = 0\n",
    "for i in range(1,11):\n",
    "    Sum +=i\n",
    "print(Sum)"
   ]
  },
  {
   "cell_type": "code",
   "execution_count": 5,
   "id": "47000165-e130-4fd7-8c57-1a9737e8df10",
   "metadata": {},
   "outputs": [
    {
     "name": "stdout",
     "output_type": "stream",
     "text": [
      "The product of numbers from 1 to 5 is: 120\n"
     ]
    }
   ],
   "source": [
    "# 5. Print the product of numbers from 1 to 5 using a for loop.\n",
    "product = 1\n",
    "for i in range(1, 6):\n",
    "    product *= i\n",
    "print(\"The product of numbers from 1 to 5 is:\", product)"
   ]
  },
  {
   "cell_type": "code",
   "execution_count": 10,
   "id": "d03460ca-5b9c-43c4-a084-852c0920be63",
   "metadata": {},
   "outputs": [
    {
     "name": "stdout",
     "output_type": "stream",
     "text": [
      "10,9,8,7,6,5,4,3,2,1,"
     ]
    }
   ],
   "source": [
    "# 6. Print the numbers from 10 to 1 in reverse order using a for loop.\n",
    "for i in range(10,0,-1):\n",
    "    print(i,end = ',')"
   ]
  },
  {
   "cell_type": "code",
   "execution_count": 11,
   "id": "6971b632-3d27-4531-90c3-0e507024b7d4",
   "metadata": {},
   "outputs": [
    {
     "name": "stdout",
     "output_type": "stream",
     "text": [
      "0,2,4,6,8,10,"
     ]
    }
   ],
   "source": [
    "# 7. Print the even numbers from 1 to 10 using a for loop.\n",
    "for i in range (0,11,2):\n",
    "    print(i,end = ',')"
   ]
  },
  {
   "cell_type": "code",
   "execution_count": 12,
   "id": "c166e2fa-3cca-4bdd-a140-c6d600975df7",
   "metadata": {},
   "outputs": [
    {
     "name": "stdout",
     "output_type": "stream",
     "text": [
      "1,3,5,7,9,"
     ]
    }
   ],
   "source": [
    "# 8. Print the odd numbers from 1 to 10 using a for loop.\n",
    "for i in range (11):\n",
    "    if i%2!=0:\n",
    "        print(i,end = ',')"
   ]
  },
  {
   "cell_type": "code",
   "execution_count": 13,
   "id": "c7090eaa-c76a-42f0-a52b-3ce8e23566f1",
   "metadata": {},
   "outputs": [
    {
     "name": "stdout",
     "output_type": "stream",
     "text": [
      "3,6,9,"
     ]
    }
   ],
   "source": [
    "# 9. Print the numbers from 1 to 10 that are divisible by 3 using a for loop.\n",
    "for i in range(1, 11):\n",
    "    if i % 3 == 0:\n",
    "        print(i,end = ',')"
   ]
  },
  {
   "cell_type": "code",
   "execution_count": 14,
   "id": "0202154e-b63f-448e-9db2-0545b4566089",
   "metadata": {},
   "outputs": [
    {
     "name": "stdout",
     "output_type": "stream",
     "text": [
      "1,5,7,"
     ]
    }
   ],
   "source": [
    "# 10. Print the numbers from 1 to 10 that are not divisible by 2 or 3 using a for loop.\n",
    "for i in range (11):\n",
    "    if i%2!=0 and i%3!=0:\n",
    "        print(i,end = ',')   "
   ]
  },
  {
   "cell_type": "code",
   "execution_count": 11,
   "id": "d5a2f7a2-e158-493e-922e-a48e9e3b87b6",
   "metadata": {},
   "outputs": [
    {
     "name": "stdout",
     "output_type": "stream",
     "text": [
      "15\n"
     ]
    }
   ],
   "source": [
    "# 11. Count how many numbers from 1 to 100 are divisible by 7.\n",
    "count=0\n",
    "for i in range (100):\n",
    "    if i%7==0:\n",
    "        count +=1\n",
    "print(count)"
   ]
  },
  {
   "cell_type": "code",
   "execution_count": 8,
   "id": "56d93041-f05f-47df-8544-d987af595b38",
   "metadata": {},
   "outputs": [
    {
     "name": "stdout",
     "output_type": "stream",
     "text": [
      "0,12,24,36,48,60,72,84,96,"
     ]
    }
   ],
   "source": [
    "# 12. Print numbers from 100 to 1 that are divisible by both 3 and 4.\n",
    "for i in range (101):\n",
    "    if i%3==0 and i%4==0:\n",
    "        print(i,end = ',')"
   ]
  },
  {
   "cell_type": "code",
   "execution_count": 13,
   "id": "6d411e06-f7a1-4985-a6be-b4faf28d18be",
   "metadata": {},
   "outputs": [
    {
     "name": "stdout",
     "output_type": "stream",
     "text": [
      "Factorial of  5 is:  120\n"
     ]
    }
   ],
   "source": [
    "# 13. Print the factorial of a number (e.g., 5!) using a loop.\n",
    "a = 1\n",
    "num = 5\n",
    "for i in range (1,num+1):\n",
    "    a *= i\n",
    "print(\"Factorial of \",num,\"is: \",a)"
   ]
  },
  {
   "cell_type": "code",
   "execution_count": 14,
   "id": "d48c28f0-74fe-4092-9a54-e50940a7f321",
   "metadata": {},
   "outputs": [
    {
     "name": "stdout",
     "output_type": "stream",
     "text": [
      "The sum of all even numbers from 1 to 50 is: 650\n"
     ]
    }
   ],
   "source": [
    "# 14. Print the sum of all even numbers from 1 to 50.\n",
    "total = 0\n",
    "for i in range(1, 51):\n",
    "    if i % 2 == 0:\n",
    "        total += i\n",
    "print(\"The sum of all even numbers from 1 to 50 is:\", total)"
   ]
  },
  {
   "cell_type": "code",
   "execution_count": 4,
   "id": "a12d19b0-d1a0-4867-8a95-e11b9522783e",
   "metadata": {},
   "outputs": [
    {
     "name": "stdout",
     "output_type": "stream",
     "text": [
      "Sum of even : 110\n",
      "Sum of odd : 100\n",
      "Diffrence : 10\n"
     ]
    }
   ],
   "source": [
    "# 15. Print the difference between the sum of odd and even numbers from 1 to 20.\n",
    "even = 0\n",
    "odd = 0\n",
    "for i in range(1,21):\n",
    "    if i%2 == 0:\n",
    "        even +=i\n",
    "    else:\n",
    "        odd +=i\n",
    "print(\"Sum of even :\",even)   \n",
    "print(\"Sum of odd :\",odd)\n",
    "print(\"Diffrence :\",even-odd)"
   ]
  },
  {
   "cell_type": "code",
   "execution_count": 15,
   "id": "ad8e1ba3-009b-44ac-9a75-e2e91894cc71",
   "metadata": {},
   "outputs": [
    {
     "name": "stdout",
     "output_type": "stream",
     "text": [
      "The product of numbers from 1 to 6 is: 720\n"
     ]
    }
   ],
   "source": [
    "# 16. Print the product of all numbers from 1 to 6.\n",
    "product = 1\n",
    "for i in range(1, 7): \n",
    "    product *= i\n",
    "print(\"The product of numbers from 1 to 6 is:\", product)"
   ]
  },
  {
   "cell_type": "code",
   "execution_count": 16,
   "id": "f7d88a0e-96b2-4731-a3ad-723e5f27c69e",
   "metadata": {},
   "outputs": [
    {
     "name": "stdout",
     "output_type": "stream",
     "text": [
      "A,B,C,D,E,F,G,H,I,J,K,L,M,N,O,P,Q,R,S,T,U,V,W,X,Y,Z,"
     ]
    }
   ],
   "source": [
    "# 17. Print the ASCII values of characters 'A' to 'Z'.\n",
    "for i in range (65,91):\n",
    "    print(chr(i),end=\",\")"
   ]
  },
  {
   "cell_type": "code",
   "execution_count": 17,
   "id": "21839e3f-cad3-4264-965d-f16e5c337b1d",
   "metadata": {},
   "outputs": [
    {
     "name": "stdout",
     "output_type": "stream",
     "text": [
      "1^2 = 1\n",
      "3^2 = 9\n",
      "5^2 = 25\n",
      "7^2 = 49\n",
      "9^2 = 81\n",
      "11^2 = 121\n",
      "13^2 = 169\n",
      "15^2 = 225\n"
     ]
    }
   ],
   "source": [
    "# 18. Program to print the squares of odd numbers from 1 to 15\n",
    "for i in range(1, 16):   \n",
    "    if i % 2 != 0:      \n",
    "        print(f\"{i}^2 = {i*i}\")"
   ]
  },
  {
   "cell_type": "code",
   "execution_count": 7,
   "id": "ff613b3f-2ffb-436c-934e-58b671f98451",
   "metadata": {},
   "outputs": [
    {
     "name": "stdin",
     "output_type": "stream",
     "text": [
      "Enter a number:  4\n"
     ]
    },
    {
     "name": "stdout",
     "output_type": "stream",
     "text": [
      "The first 10 multiples of 4 are:\n",
      "4,8,12,16,20,24,28,32,36,40,"
     ]
    }
   ],
   "source": [
    "# 19. Print the first 10 multiples of any number (e.g., 7).\n",
    "num = int(input(\"Enter a number: \"))\n",
    "print(f\"The first 10 multiples of {num} are:\")\n",
    "for i in range(1, 11):\n",
    "    print(num * i,end = ',')"
   ]
  },
  {
   "cell_type": "code",
   "execution_count": 19,
   "id": "4a816cb4-ed37-4f6a-9406-28cafcab7f7e",
   "metadata": {},
   "outputs": [
    {
     "name": "stdout",
     "output_type": "stream",
     "text": [
      "Sum = 3367\n"
     ]
    }
   ],
   "source": [
    "# 20. Sum of numbers from 1 to 100 that are not divisible by 3\n",
    "total = 0\n",
    "for i in range(1, 101):\n",
    "    if i % 3 != 0:\n",
    "        total += i\n",
    "print(\"Sum =\", total)"
   ]
  },
  {
   "cell_type": "code",
   "execution_count": 15,
   "id": "b4854db7-3241-49a9-9f5b-1553a769e3a9",
   "metadata": {},
   "outputs": [
    {
     "name": "stdout",
     "output_type": "stream",
     "text": [
      "7,17,27,37,47,57,67,77,87,97,"
     ]
    }
   ],
   "source": [
    "# 21. Numbers between 1 and 100 ending with 7\n",
    "for i in range(1, 101):\n",
    "    if i % 10 == 7:\n",
    "        print(i, end=\",\")"
   ]
  },
  {
   "cell_type": "code",
   "execution_count": 6,
   "id": "1df7a8d6-b0ef-41b6-a746-7ae21bb405d6",
   "metadata": {},
   "outputs": [
    {
     "name": "stdout",
     "output_type": "stream",
     "text": [
      "5,15,25,35,45,50,51,52,53,54,55,56,57,58,59,65,75,85,95,"
     ]
    }
   ],
   "source": [
    "# 22. Count how many numbers 1–100 have a digit 5\n",
    "for i in range(1, 101):\n",
    "    if \"5\" in str(i):\n",
    "        print(i,end = ',')"
   ]
  },
  {
   "cell_type": "code",
   "execution_count": 18,
   "id": "63e021f3-80f0-4cd9-b0ad-815728558ad8",
   "metadata": {},
   "outputs": [
    {
     "name": "stdin",
     "output_type": "stream",
     "text": [
      "Enter the no:  234\n"
     ]
    },
    {
     "name": "stdout",
     "output_type": "stream",
     "text": [
      "432\n"
     ]
    }
   ],
   "source": [
    "# 23. Reverse of a number using for-loop over string\n",
    "rev=\"\"\n",
    "No = int(input(\"Enter the no: \"))\n",
    "for i in str(No):\n",
    "    rev = i+ rev\n",
    "print(int(rev))"
   ]
  },
  {
   "cell_type": "code",
   "execution_count": 16,
   "id": "1c7ac3af-9d60-4501-b9ff-a19cb4607af3",
   "metadata": {},
   "outputs": [
    {
     "name": "stdout",
     "output_type": "stream",
     "text": [
      "1,6,11,16,21,26,31,36,41,46,"
     ]
    }
   ],
   "source": [
    "# 24. Numbers from 1 to 50 skipping every 5th\n",
    "for i in range(1, 51,5):\n",
    "    print(i, end=\",\")"
   ]
  },
  {
   "cell_type": "code",
   "execution_count": 27,
   "id": "d6cb050e-7605-4d2c-8f81-35c468548b58",
   "metadata": {},
   "outputs": [
    {
     "name": "stdout",
     "output_type": "stream",
     "text": [
      "Total digits used: 31\n"
     ]
    }
   ],
   "source": [
    "# 25. Total count of digits used from 1 to 20\n",
    "count = 0\n",
    "for i in range(1, 21):\n",
    "    count += len(str(i))\n",
    "print(\"Total digits used:\", count)"
   ]
  },
  {
   "cell_type": "code",
   "execution_count": 20,
   "id": "e2e0972e-d3cd-4ef1-854b-73ea9eacf958",
   "metadata": {},
   "outputs": [
    {
     "name": "stdout",
     "output_type": "stream",
     "text": [
      "knayam\n"
     ]
    }
   ],
   "source": [
    "name=\"mayank\"\n",
    "rev=\"\"\n",
    "for i in name:\n",
    "    rev=i+rev\n",
    "print(rev)"
   ]
  },
  {
   "cell_type": "code",
   "execution_count": 1,
   "id": "af2d09a7-c2ca-4ff4-82c1-85a4794d8b2f",
   "metadata": {},
   "outputs": [
    {
     "name": "stdout",
     "output_type": "stream",
     "text": [
      "1,2,3,4,5,6,7,8,9,10,"
     ]
    }
   ],
   "source": [
    "# 11. Print the elements of a list using a for loop.\n",
    "L1=[1,2,3,4,5,6,7,8,9,10]\n",
    "for i in L1:\n",
    "    print(i,end = ',')"
   ]
  },
  {
   "cell_type": "code",
   "execution_count": 2,
   "id": "1d646668-c9ef-4331-b048-04870c92c290",
   "metadata": {},
   "outputs": [
    {
     "name": "stdout",
     "output_type": "stream",
     "text": [
      "Index: 0 Value: apple\n",
      "Index: 1 Value: banana\n",
      "Index: 2 Value: cherry\n",
      "Index: 3 Value: date\n"
     ]
    }
   ],
   "source": [
    "# 12. Print the indices and values of a list using a for loop.\n",
    "# Way no 1\n",
    "my_list = [\"apple\", \"banana\", \"cherry\", \"date\"]\n",
    "for index in range(len(my_list)):\n",
    "    print(\"Index:\", index, \"Value:\", my_list[index])"
   ]
  },
  {
   "cell_type": "code",
   "execution_count": 16,
   "id": "af735051-0115-44a6-9285-e48e9ff74eb0",
   "metadata": {},
   "outputs": [
    {
     "name": "stdout",
     "output_type": "stream",
     "text": [
      "1 : apple\n",
      "2 : banana\n",
      "3 : cherry\n",
      "4 : date\n"
     ]
    }
   ],
   "source": [
    "# way no 2 \n",
    "my_list = [\"apple\", \"banana\", \"cherry\", \"date\"]\n",
    "for index,i in enumerate(my_list,start=1):\n",
    "    print(index,i,sep=\" : \")"
   ]
  },
  {
   "cell_type": "code",
   "execution_count": 20,
   "id": "e7b487f0-6830-4ee6-9d35-e7c1cd615866",
   "metadata": {},
   "outputs": [
    {
     "name": "stdout",
     "output_type": "stream",
     "text": [
      "1 : apple\n",
      "2 : banana\n",
      "3 : cherry\n",
      "4 : date\n"
     ]
    }
   ],
   "source": [
    "# way no 3 \n",
    "my_list = [\"apple\", \"banana\", \"cherry\", \"date\"]\n",
    "count=1\n",
    "for i in my_list:\n",
    "    print(count,i,sep=\" : \")\n",
    "    count+=1"
   ]
  },
  {
   "cell_type": "code",
   "execution_count": 3,
   "id": "142030b6-2ae3-40f4-973c-90f30c680ede",
   "metadata": {},
   "outputs": [
    {
     "name": "stdout",
     "output_type": "stream",
     "text": [
      "Sum of elements: 150\n"
     ]
    }
   ],
   "source": [
    "# 13. Calculate the sum of the elements of a list using a for loop.\n",
    "numbers = [10, 20, 30, 40, 50]\n",
    "total = 0\n",
    "for num in numbers:\n",
    "    total += num\n",
    "print(\"Sum of elements:\", total)"
   ]
  },
  {
   "cell_type": "code",
   "execution_count": 3,
   "id": "f10922fc-50e5-4920-8375-d3eb25829e21",
   "metadata": {},
   "outputs": [
    {
     "name": "stdout",
     "output_type": "stream",
     "text": [
      "The maximum element is: 10\n"
     ]
    }
   ],
   "source": [
    "# 14. Find the maximum element in a list using a for loop.\n",
    "numbers = [5, 8, 2, 10, 3, 7]\n",
    "max_num = numbers[0]\n",
    "for num in numbers:\n",
    "    if num > max_num:\n",
    "        max_num = num\n",
    "print(\"The maximum element is:\", max_num)"
   ]
  },
  {
   "cell_type": "code",
   "execution_count": 4,
   "id": "4a37c628-1831-4ec9-b11f-e687d5639d8c",
   "metadata": {},
   "outputs": [
    {
     "name": "stdout",
     "output_type": "stream",
     "text": [
      "The min element is: 2\n"
     ]
    }
   ],
   "source": [
    "# 15. Find the minimum element in a list using a for loop.\n",
    "numbers = [5, 8, 2, 10, 3, 7]\n",
    "min_num = numbers[0]\n",
    "for num in numbers:\n",
    "    if num < min_num:\n",
    "        min_num = num\n",
    "print(\"The min element is:\", min_num)"
   ]
  },
  {
   "cell_type": "code",
   "execution_count": 5,
   "id": "d52c5ba8-d0de-4939-8b6d-cd7b8300660a",
   "metadata": {},
   "outputs": [
    {
     "name": "stdout",
     "output_type": "stream",
     "text": [
      "{1: 1, 2: 1, 3: 1, 4: 3, 5: 3, 6: 3, 7: 3, 8: 3, 9: 3, 0: 2}\n"
     ]
    }
   ],
   "source": [
    "# 16. Count the number of occurrences of a specific element in a list using a for loop.\n",
    "# Way no 1 with count\n",
    "L1 = [1,2,3,4,5,6,7,8,9,0,4,5,6,7,8,9,0,9,8,7,6,5,4]\n",
    "count={}\n",
    "for i in L1:\n",
    "    count[i]=L1.count(i)\n",
    "print(count)"
   ]
  },
  {
   "cell_type": "code",
   "execution_count": 14,
   "id": "983af25f-c5fe-4071-b05d-8b264859c687",
   "metadata": {},
   "outputs": [
    {
     "name": "stdout",
     "output_type": "stream",
     "text": [
      "{1: 1, 2: 1, 3: 1, 4: 3, 5: 3, 6: 3, 7: 3, 8: 3, 9: 3, 0: 2}\n"
     ]
    }
   ],
   "source": [
    "# way no 2 without count \n",
    "L1 = [1,2,3,4,5,6,7,8,9,0,4,5,6,7,8,9,0,9,8,7,6,5,4]\n",
    "count={}\n",
    "for i in L1:\n",
    "    if i not in count:\n",
    "        count[i]= 1\n",
    "    else:\n",
    "        count[i] += 1\n",
    "print(count)"
   ]
  },
  {
   "cell_type": "code",
   "execution_count": 7,
   "id": "d06f7918-bc90-4a11-b585-18d9092285cf",
   "metadata": {},
   "outputs": [
    {
     "name": "stdout",
     "output_type": "stream",
     "text": [
      "Original list: [1, 2, 3, 4, 5]\n",
      "List of squares: [1, 4, 9, 16, 25]\n"
     ]
    }
   ],
   "source": [
    "# 17. Create a new list with the squares of the elements of another list using a for loop.\n",
    "numbers = [1, 2, 3, 4, 5]\n",
    "squares = []\n",
    "for num in numbers:\n",
    "    squares.append(num ** 2)\n",
    "print(\"Original list:\", numbers)\n",
    "print(\"List of squares:\", squares)"
   ]
  },
  {
   "cell_type": "code",
   "execution_count": 27,
   "id": "34951865-8ff5-4dee-8e5b-033ab0e3e47e",
   "metadata": {},
   "outputs": [
    {
     "name": "stdout",
     "output_type": "stream",
     "text": [
      "['date', 'cherry', 'banana', 'apple']\n"
     ]
    }
   ],
   "source": [
    "# 18. Create a new list with the elements of another list in reverse order using a for loop.\n",
    "# way no 1\n",
    "L2 = [\"apple\", \"banana\", \"cherry\", \"date\"]\n",
    "for i in L2[::-1]:\n",
    "    print([i])"
   ]
  },
  {
   "cell_type": "code",
   "execution_count": 31,
   "id": "c749f8db-4da2-462d-9643-0eb0c782dbf5",
   "metadata": {},
   "outputs": [
    {
     "name": "stdout",
     "output_type": "stream",
     "text": [
      "date\n",
      "cherry\n",
      "banana\n",
      "apple\n"
     ]
    }
   ],
   "source": [
    "# way no 2\n",
    "L2 = [\"apple\", \"banana\", \"cherry\", \"date\"]\n",
    "for i in range (len(L2)-1,-1,-1):\n",
    "    print(L2[i])"
   ]
  },
  {
   "cell_type": "code",
   "execution_count": 37,
   "id": "3861173c-8070-4c31-b610-aca5b1bc43bf",
   "metadata": {},
   "outputs": [
    {
     "name": "stdout",
     "output_type": "stream",
     "text": [
      "['date', 'cherry', 'banana', 'apple']\n"
     ]
    }
   ],
   "source": [
    "# way no 3\n",
    "new_list=[]\n",
    "for i in range(len(L2)-1,-1,-1):\n",
    "    new_list.append(L2[i])\n",
    "print(new_list)"
   ]
  },
  {
   "cell_type": "code",
   "execution_count": 38,
   "id": "834fa0e8-a4ab-4f6d-b8a1-8d9406333025",
   "metadata": {},
   "outputs": [
    {
     "name": "stdout",
     "output_type": "stream",
     "text": [
      "['date', 'cherry', 'banana', 'apple']\n"
     ]
    }
   ],
   "source": [
    "# way no 4\n",
    "new_list=[]\n",
    "for i in range(1,len(L2)+1):\n",
    "    new_list.append(L2[-i])\n",
    "print(new_list)"
   ]
  },
  {
   "cell_type": "code",
   "execution_count": 52,
   "id": "0c28bd52-e740-4c74-93a9-eb6e87bf9984",
   "metadata": {},
   "outputs": [
    {
     "name": "stdout",
     "output_type": "stream",
     "text": [
      "['date', 'cherry', 'banana', 'apple']\n"
     ]
    }
   ],
   "source": [
    "# way no 5\n",
    "L2 = [\"apple\", \"banana\", \"cherry\", \"date\"]\n",
    "new_list=[]\n",
    "for i,v in enumerate(L2,1):\n",
    "    new_list.append(L2[-i])\n",
    "print(new_list)"
   ]
  },
  {
   "cell_type": "code",
   "execution_count": 3,
   "id": "0af47c2e-4845-4630-a3eb-160e15253803",
   "metadata": {},
   "outputs": [
    {
     "name": "stdout",
     "output_type": "stream",
     "text": [
      "['date', 'cherry', 'banana', 'apple']\n"
     ]
    }
   ],
   "source": [
    "# way no 6 \n",
    "L2 = [\"apple\", \"banana\", \"cherry\", \"date\"]\n",
    "length=len(L2)\n",
    "rev_list=[]\n",
    "for i in range(length):\n",
    "    rev_list.append(L2.pop())\n",
    "print(rev_list)"
   ]
  },
  {
   "cell_type": "code",
   "execution_count": 8,
   "id": "66024f29-4230-47a4-8bb1-c205677d288a",
   "metadata": {},
   "outputs": [
    {
     "name": "stdout",
     "output_type": "stream",
     "text": [
      "Average of elements: 30.0\n"
     ]
    }
   ],
   "source": [
    "# 19. Find the average of the elements of a list using a for loop.\n",
    "numbers = [10, 20, 30, 40, 50]\n",
    "total = 0\n",
    "for num in numbers:\n",
    "    total += num\n",
    "average = total / len(numbers)\n",
    "print(\"Average of elements:\", average)"
   ]
  },
  {
   "cell_type": "code",
   "execution_count": 9,
   "id": "a0f462d8-e98c-4509-bb29-817c70cf3a35",
   "metadata": {},
   "outputs": [],
   "source": [
    "# 20. Check if a specific element exists in a list using a for loop.\n"
   ]
  },
  {
   "cell_type": "code",
   "execution_count": 10,
   "id": "7bc04d39-0e9f-426e-8886-0d391ab72633",
   "metadata": {},
   "outputs": [
    {
     "name": "stdout",
     "output_type": "stream",
     "text": [
      "0, 1, 1, 2, 3, 5, 8, 13, 21, 34, "
     ]
    }
   ],
   "source": [
    "# 21. Print the Fibonacci sequence up to the 10th term using a for loop.\n",
    "# Fibonacci series:0,1,1,2,3,5,8,13,21,34,55,89\n",
    "# Way no 1\n",
    "a,b=0,1\n",
    "for i in range (10):\n",
    "    print(a,end=\", \")\n",
    "    a,b=b,a+b"
   ]
  },
  {
   "cell_type": "code",
   "execution_count": 11,
   "id": "f9f5d8d6-fc01-446b-952a-2c39a1cbd220",
   "metadata": {},
   "outputs": [
    {
     "name": "stdout",
     "output_type": "stream",
     "text": [
      "0, 1, 1, 2, 3, 5, 8, 13, 21, 34, "
     ]
    }
   ],
   "source": [
    "# way no 2 \n",
    "a,b=0,1\n",
    "for i in range (10):\n",
    "    print(a,end=\", \")\n",
    "    temp=a\n",
    "    a=b\n",
    "    b=temp+b"
   ]
  },
  {
   "cell_type": "code",
   "execution_count": 4,
   "id": "c3019aa0-4941-41de-bf4f-5d09aea8844d",
   "metadata": {},
   "outputs": [
    {
     "name": "stdin",
     "output_type": "stream",
     "text": [
      "Enter a number:  10\n"
     ]
    },
    {
     "name": "stdout",
     "output_type": "stream",
     "text": [
      "Factorial of 10 is: 3628800\n"
     ]
    }
   ],
   "source": [
    "# 22. Calculate the factorial of a number using a for loop.\n",
    "n = int(input(\"Enter a number: \"))\n",
    "f = 1\n",
    "for i in range(1, n + 1):\n",
    "    f *= i\n",
    "print(f\"Factorial of {n} is: {f}\")"
   ]
  },
  {
   "cell_type": "code",
   "execution_count": 5,
   "id": "5769f045-51bb-42e1-aa42-4fe4c9061e3c",
   "metadata": {},
   "outputs": [
    {
     "name": "stdout",
     "output_type": "stream",
     "text": [
      "1, 2, 6, 24, 120, 720, 5040, 40320, 362880, "
     ]
    }
   ],
   "source": [
    "# factorial pattern\n",
    "f = 1\n",
    "for i in range(1,10):\n",
    "    f*=i\n",
    "    print(f,end=\", \")"
   ]
  },
  {
   "cell_type": "code",
   "execution_count": 8,
   "id": "b8cbc2af-88c4-4d43-8885-578b96946894",
   "metadata": {},
   "outputs": [
    {
     "name": "stdout",
     "output_type": "stream",
     "text": [
      "[2, 3, 5, 7, 11, 13, 17, 19, 23, 29, 31, 37, 41, 43, 47, 53, 59, 61, 67, 71, 73, 79, 83, 89, 97]\n"
     ]
    }
   ],
   "source": [
    "# 23. Print the prime numbers from 1 to 100 using a for loop.\n",
    "x = []\n",
    "for a in range(2, 101): \n",
    "    for i in range(2, a):\n",
    "        if a % i == 0:\n",
    "            break\n",
    "    else:\n",
    "        x.append(a)\n",
    "print(x)"
   ]
  },
  {
   "cell_type": "code",
   "execution_count": 11,
   "id": "ac323f38-ed2a-4ef1-8205-dff796fca07c",
   "metadata": {},
   "outputs": [],
   "source": [
    "# 24. Find the greatest common divisor (GCD) of two numbers using a for loop.\n"
   ]
  },
  {
   "cell_type": "code",
   "execution_count": null,
   "id": "e3b62a42-7740-403f-b016-811894315b06",
   "metadata": {},
   "outputs": [],
   "source": [
    "# 25. Create a new list with the elements of another list that satisfy a certain condition using a for loop.\n",
    "                                                                                              "
   ]
  },
  {
   "cell_type": "code",
   "execution_count": 14,
   "id": "623b7c7b-ab70-4b89-a25f-5144fb71f663",
   "metadata": {},
   "outputs": [
    {
     "name": "stdout",
     "output_type": "stream",
     "text": [
      "1x1=1\t2x1=2\t3x1=3\t4x1=4\t5x1=5\t6x1=6\t7x1=7\t8x1=8\t9x1=9\t10x1=10\t\n",
      "1x2=2\t2x2=4\t3x2=6\t4x2=8\t5x2=10\t6x2=12\t7x2=14\t8x2=16\t9x2=18\t10x2=20\t\n",
      "1x3=3\t2x3=6\t3x3=9\t4x3=12\t5x3=15\t6x3=18\t7x3=21\t8x3=24\t9x3=27\t10x3=30\t\n",
      "1x4=4\t2x4=8\t3x4=12\t4x4=16\t5x4=20\t6x4=24\t7x4=28\t8x4=32\t9x4=36\t10x4=40\t\n",
      "1x5=5\t2x5=10\t3x5=15\t4x5=20\t5x5=25\t6x5=30\t7x5=35\t8x5=40\t9x5=45\t10x5=50\t\n",
      "1x6=6\t2x6=12\t3x6=18\t4x6=24\t5x6=30\t6x6=36\t7x6=42\t8x6=48\t9x6=54\t10x6=60\t\n",
      "1x7=7\t2x7=14\t3x7=21\t4x7=28\t5x7=35\t6x7=42\t7x7=49\t8x7=56\t9x7=63\t10x7=70\t\n",
      "1x8=8\t2x8=16\t3x8=24\t4x8=32\t5x8=40\t6x8=48\t7x8=56\t8x8=64\t9x8=72\t10x8=80\t\n",
      "1x9=9\t2x9=18\t3x9=27\t4x9=36\t5x9=45\t6x9=54\t7x9=63\t8x9=72\t9x9=81\t10x9=90\t\n",
      "1x10=10\t2x10=20\t3x10=30\t4x10=40\t5x10=50\t6x10=60\t7x10=70\t8x10=80\t9x10=90\t10x10=100\t\n"
     ]
    }
   ],
   "source": [
    "# 26. Print the multiplication table of a number using a for loop.\n",
    "for n in range(1,11):\n",
    "    for i in range(1,11):\n",
    "        print(f\"{i}x{n}={n*i}\",end=\"\\t\")\n",
    "    print()                                                "
   ]
  },
  {
   "cell_type": "code",
   "execution_count": 24,
   "id": "5bf9c1f1-ffe8-4bda-a792-2c5f591c1d53",
   "metadata": {},
   "outputs": [
    {
     "name": "stdout",
     "output_type": "stream",
     "text": [
      "Sum of sq: 385\n"
     ]
    }
   ],
   "source": [
    "# 27. Calculate the sum of the squares of the elements of a list using a for loop.\n",
    "a = []\n",
    "for i in range(1, 11):\n",
    "    a.append(i**2)\n",
    "print(\"Sum of sq:\",sum(a))"
   ]
  },
  {
   "cell_type": "code",
   "execution_count": 33,
   "id": "a50f7ccf-4deb-4b21-9a9e-075fa4bfc107",
   "metadata": {},
   "outputs": [
    {
     "name": "stdout",
     "output_type": "stream",
     "text": [
      "Max no: 9\n",
      "Min no: 1\n"
     ]
    }
   ],
   "source": [
    "# 28. Find the maximum and minimum elements in a list using a for loop.\n",
    "new_list = []\n",
    "L1=[[1,2,3],[4,5,6],[7,8,9]]\n",
    "for i in L1:\n",
    "    for j in i:\n",
    "        new_list.append(j)\n",
    "print(\"Max no:\",max(new_list))\n",
    "print(\"Min no:\",min(new_list))"
   ]
  },
  {
   "cell_type": "code",
   "execution_count": 36,
   "id": "9e1e6c05-41fa-4f0c-a710-abcacd9b39a5",
   "metadata": {},
   "outputs": [
    {
     "name": "stdout",
     "output_type": "stream",
     "text": [
      "[1, 2, 3, 4, 5, 6, 7]\n"
     ]
    }
   ],
   "source": [
    "# 29. Create a new list with the elements of another list that are not duplicates using a for loop.\n",
    "L1 = [1, 2, 2, 3, 4, 4, 5, 6, 6, 7]\n",
    "new_list= []\n",
    "for n in L1:\n",
    "    if n not in new_list:\n",
    "        new_list.append(n)\n",
    "print(new_list)"
   ]
  },
  {
   "cell_type": "code",
   "execution_count": 3,
   "id": "6ee5fa51-fb97-4f5f-8f29-474cbbe63e56",
   "metadata": {},
   "outputs": [
    {
     "name": "stdout",
     "output_type": "stream",
     "text": [
      "7,14,21,28,35,42,49,56,63,70,77,84,91,98,"
     ]
    }
   ],
   "source": [
    "# 30. Print the numbers from 1 to 100 that are divisible by 7 using a for loop.\n",
    "for i in range(7,101,7):\n",
    "    print(i,end=\",\")"
   ]
  },
  {
   "cell_type": "code",
   "execution_count": 6,
   "id": "adc7015f-fb44-409c-bf83-0592ff44a9b8",
   "metadata": {},
   "outputs": [
    {
     "name": "stdout",
     "output_type": "stream",
     "text": [
      "Numbers: [1, 2, 3, 4, 5]\n",
      "Product of elements: 120\n"
     ]
    }
   ],
   "source": [
    "# 31. Calculate the product of the elements of a list using a for loop.\n",
    "n = [1, 2, 3, 4, 5]\n",
    "p = 1\n",
    "for i in n:\n",
    "    p *= i \n",
    "print(\"Numbers:\", n)\n",
    "print(\"Product of elements:\", p)"
   ]
  },
  {
   "cell_type": "code",
   "execution_count": 17,
   "id": "fc53b367-99af-4707-a895-e75190e16c89",
   "metadata": {},
   "outputs": [
    {
     "name": "stdout",
     "output_type": "stream",
     "text": [
      "Numbers: [1, 2, 3, 4, 5]\n",
      "Squares: [1, 4, 9, 16, 25]\n",
      "Average of squares: 11.0\n"
     ]
    }
   ],
   "source": [
    "# 32. Find the average of the squares of the elements of a list using a for loop.\n",
    "n = [1, 2, 3, 4, 5]\n",
    "L1 = []\n",
    "t = 0\n",
    "\n",
    "for i in n:\n",
    "    sq = i ** 2\n",
    "    L1.append(sq)\n",
    "    t += sq\n",
    "\n",
    "a = t / len(n)\n",
    "\n",
    "print(\"Numbers:\", n)\n",
    "print(\"Squares:\", L1)\n",
    "print(\"Average of squares:\", a)"
   ]
  },
  {
   "cell_type": "code",
   "execution_count": 21,
   "id": "ca5ac104-aaec-4a5e-bce5-ed19d7ba02c2",
   "metadata": {},
   "outputs": [
    {
     "name": "stdout",
     "output_type": "stream",
     "text": [
      "HELLO\n",
      "WORLD\n",
      "PYTHON\n",
      "DATA\n"
     ]
    }
   ],
   "source": [
    "# 33. Print the elements of a list in uppercase using a for loop.\n",
    "words = [\"hello\", \"world\", \"python\", \"data\"]\n",
    "\n",
    "for word in words:\n",
    "    print(word.upper())"
   ]
  },
  {
   "cell_type": "code",
   "execution_count": 30,
   "id": "b282696d-3aba-49fd-a583-74cef3879f61",
   "metadata": {},
   "outputs": [
    {
     "name": "stdout",
     "output_type": "stream",
     "text": [
      "Original list: [5, 12, 25, 40, 55, 70, 33, 18]\n",
      "Filtered list (10–50): [12, 25, 40, 33, 18]\n"
     ]
    }
   ],
   "source": [
    "# 34. Create a new list with the elements of another list that are in a certain range using a for loop.\n",
    "numbers = [5, 12, 25, 40, 55, 70, 33, 18]\n",
    "new_list = []\n",
    "\n",
    "for num in numbers:\n",
    "    if 10 <= num <= 50: \n",
    "        new_list.append(num)\n",
    "\n",
    "print(\"Original list:\", numbers)\n",
    "print(\"Filtered list (10–50):\", new_list)"
   ]
  },
  {
   "cell_type": "code",
   "execution_count": 25,
   "id": "91c7eeaa-4337-4c09-9460-9e4fe5a2fce5",
   "metadata": {},
   "outputs": [
    {
     "name": "stdout",
     "output_type": "stream",
     "text": [
      "Numbers: [1, 2, 3, 4, 5]\n",
      "Cubes: 225\n"
     ]
    }
   ],
   "source": [
    "# 35. Find the sum of the cubes of the elements of a list using a for loop.\n",
    "n = [1, 2, 3, 4, 5]\n",
    "L1 = []\n",
    "t = 0\n",
    "\n",
    "for i in n:\n",
    "    sq = i ** 3\n",
    "    L1.append(sq)\n",
    "    t += sq\n",
    "\n",
    "print(\"Numbers:\", n)\n",
    "print(\"Cubes:\", sum(L1))"
   ]
  },
  {
   "cell_type": "code",
   "execution_count": 29,
   "id": "e2b19bcf-6eae-4f30-a0c7-0d4ce674614d",
   "metadata": {},
   "outputs": [
    {
     "name": "stdout",
     "output_type": "stream",
     "text": [
      "1,2,4,7,8,11,13,14,16,17,19,22,23,26,28,29,31,32,34,37,38,41,43,44,46,47,49,52,53,56,58,59,61,62,64,67,68,71,73,74,76,77,79,82,83,86,88,89,91,92,94,97,98,"
     ]
    }
   ],
   "source": [
    "# 36. Print the numbers from 1 to 100 that are not divisible by 3 or 5 using a for loop.\n",
    "for num in range(1, 101):\n",
    "    if num % 3 != 0 and num % 5 != 0: \n",
    "        print(num, end=\",\")     "
   ]
  },
  {
   "cell_type": "code",
   "execution_count": 33,
   "id": "8b642b6d-6b84-4508-a6b9-89865206d7dd",
   "metadata": {},
   "outputs": [
    {
     "name": "stdout",
     "output_type": "stream",
     "text": [
      "223\n"
     ]
    }
   ],
   "source": [
    "# 37. Calculate the sum of the elements of a list that satisfy a certain condition using a for loop.\n",
    "numbers = [5, 12, 25, 40, 55, 70, 33, 18]\n",
    "new_list = []\n",
    "\n",
    "for num in numbers:\n",
    "    if 25 <= num: \n",
    "        new_list.append(num)\n",
    "\n",
    "print(sum(new_list))"
   ]
  },
  {
   "cell_type": "code",
   "execution_count": 40,
   "id": "e4d7179e-e21d-4d7b-af9b-91ee049bb396",
   "metadata": {},
   "outputs": [
    {
     "name": "stdout",
     "output_type": "stream",
     "text": [
      "Bhatt\n",
      "Mayank\n"
     ]
    }
   ],
   "source": [
    "# 38. Create a new list with the elements of another list that are in reverse alphabetical order using a for loop.\n",
    "L1 = [\"Mayank\",\"Bhatt\"]\n",
    "\n",
    "for i in range(len(L1)-1, -1, -1):\n",
    "    print(L1[i])"
   ]
  },
  {
   "cell_type": "code",
   "execution_count": 6,
   "id": "e3e01c03-7743-48e5-b962-b707c507ba96",
   "metadata": {},
   "outputs": [
    {
     "name": "stdout",
     "output_type": "stream",
     "text": [
      "Maximum string length: 15\n"
     ]
    }
   ],
   "source": [
    "# 39. Find the maximum length of a string in a list using a for loop.\n",
    "words = [\"python\", \"data\", \"analytics\", \"AI\", \"machinelearning\"]\n",
    "max_length = 0\n",
    "for word in words:\n",
    "    if len(word) >= max_length:\n",
    "        max_length = len(word)\n",
    "print(\"Maximum string length:\", max_length)"
   ]
  },
  {
   "cell_type": "code",
   "execution_count": 50,
   "id": "704c1b28-7d5d-4e6a-b0fb-65a97e37af0c",
   "metadata": {},
   "outputs": [
    {
     "name": "stdout",
     "output_type": "stream",
     "text": [
      "apple\n",
      "grape\n",
      "pineapple\n",
      "apricot\n"
     ]
    }
   ],
   "source": [
    "# 40. Print the elements of a list that contain a certain substring using a for loop.\n",
    "words = [\"apple\", \"banana\", \"grape\", \"pineapple\", \"apricot\", \"mango\"]\n",
    "\n",
    "substring = \"ap\"\n",
    "\n",
    "for word in words:\n",
    "    if substring in word:   \n",
    "        print(word)                                                                       "
   ]
  },
  {
   "cell_type": "code",
   "execution_count": 51,
   "id": "c9942b07-b6f3-4c60-8026-d0b16b21861b",
   "metadata": {},
   "outputs": [
    {
     "name": "stdout",
     "output_type": "stream",
     "text": [
      "Total length: 25\n"
     ]
    }
   ],
   "source": [
    "# 41. Calculate the sum of the lengths of the strings in a list using a for loop.\n",
    "words = [\"apple\", \"banana\", \"kiwi\", \"grapefruit\"]\n",
    "total_length = 0\n",
    "\n",
    "for word in words:\n",
    "    total_length += len(word) \n",
    "\n",
    "print(\"Total length:\", total_length)                                                        "
   ]
  },
  {
   "cell_type": "code",
   "execution_count": null,
   "id": "ff840a6d-ae19-4b77-bcf1-167a8f9e6c56",
   "metadata": {},
   "outputs": [],
   "source": [
    "# 42. Create a new list with the elements of another list that are sorted in alphabetical order using a for loop.\n",
    "                                                                                                     "
   ]
  },
  {
   "cell_type": "code",
   "execution_count": 8,
   "id": "53b14e5d-c50a-4591-be8d-00dd6ec5a8b6",
   "metadata": {},
   "outputs": [
    {
     "name": "stdout",
     "output_type": "stream",
     "text": [
      "90\n"
     ]
    }
   ],
   "source": [
    "# 43. Find the minimum value in a dictionary using a for loop.\n",
    "scores = {\"Alice\": 85, \"Bob\": 72, \"Charlie\": 90, \"Diana\": 68}\n",
    "a = []\n",
    "for value in scores.values():\n",
    "    a.append(value)\n",
    "print(max(a))"
   ]
  },
  {
   "cell_type": "code",
   "execution_count": 22,
   "id": "97729af5-a377-4a8c-bc4d-5cfef5daab4b",
   "metadata": {},
   "outputs": [
    {
     "name": "stdout",
     "output_type": "stream",
     "text": [
      "Alice Bob Charlie Diana 85 72 90 68 "
     ]
    }
   ],
   "source": [
    "# 44. Print the keys and values of a dictionary using a for loop.\n",
    "scores = {\"Alice\": 85, \"Bob\": 72, \"Charlie\": 90, \"Diana\": 68}\n",
    "for key,value in scores.items():\n",
    "    print(key,end=\" \")\n",
    "for key,value in scores.items():\n",
    "    print(value,end=\" \")"
   ]
  },
  {
   "cell_type": "code",
   "execution_count": 10,
   "id": "b8b5853b-a48e-48ce-9461-a7b3ed618cea",
   "metadata": {},
   "outputs": [
    {
     "name": "stdout",
     "output_type": "stream",
     "text": [
      "Sum of values: 315\n"
     ]
    }
   ],
   "source": [
    "# 45. Calculate the sum of the values in a dictionary using a for loop.\n",
    "scores = {\"Alice\": 85, \"Bob\": 72, \"Charlie\": 90, \"Diana\": 68}\n",
    "total = 0\n",
    "\n",
    "for value in scores.values():\n",
    "    total += value\n",
    "    \n",
    "print(\"Sum of values:\", total)"
   ]
  },
  {
   "cell_type": "code",
   "execution_count": 13,
   "id": "72307224-4571-4afa-aae0-db5efaaed2f6",
   "metadata": {},
   "outputs": [
    {
     "name": "stdout",
     "output_type": "stream",
     "text": [
      "Keys ['Alice', 'Bob', 'Charlie', 'Diana'] \n",
      "Values [85, 72, 90, 68] "
     ]
    }
   ],
   "source": [
    "# 46. Create a new dictionary with the keys and values of another dictionary that satisfy a certain condition using a for loop.\n",
    "keys = []\n",
    "value = []\n",
    "scores = {\"Alice\": 85, \"Bob\": 72, \"Charlie\": 90, \"Diana\": 68}\n",
    "\n",
    "for k in scores.keys():\n",
    "    keys.append(k)\n",
    "for v in scores.values():\n",
    "    value.append(v)\n",
    "\n",
    "print(\"Keys\",keys,end=\" \"\"\\n\")\n",
    "print(\"Values\",value,end=\" \")"
   ]
  },
  {
   "cell_type": "code",
   "execution_count": 14,
   "id": "f4c1cc07-9095-4391-80b9-eed67bf8806c",
   "metadata": {},
   "outputs": [
    {
     "name": "stdout",
     "output_type": "stream",
     "text": [
      "Sum of Values 90 "
     ]
    }
   ],
   "source": [
    "# 47. Find the maximum value in a dictionary using a for loop.\n",
    "value = []\n",
    "scores = {\"Alice\": 85, \"Bob\": 72, \"Charlie\": 90, \"Diana\": 68}\n",
    "for v in scores.values():\n",
    "    value.append(v)\n",
    "print(\"Sum of Values\",max(value),end=\" \")"
   ]
  },
  {
   "cell_type": "code",
   "execution_count": null,
   "id": "a1206cf9-0424-41f5-8de4-7ebb79406c4f",
   "metadata": {},
   "outputs": [],
   "source": [
    "# 48. Print the elements of a set using a for loop.\n",
    "                                       "
   ]
  },
  {
   "cell_type": "code",
   "execution_count": null,
   "id": "768d3bef-6ce3-4d32-afec-23b24d4c1b15",
   "metadata": {},
   "outputs": [],
   "source": [
    "# 49. Calculate the sum of the elements of a set using a for loop.\n"
   ]
  },
  {
   "cell_type": "code",
   "execution_count": null,
   "id": "316f5605-0c56-47ba-8720-ec36c216ed27",
   "metadata": {},
   "outputs": [],
   "source": [
    "# 50. Create a new set with the elements of another set that satisfy a certain condition using a for loop.\n",
    "                                                                                              "
   ]
  }
 ],
 "metadata": {
  "kernelspec": {
   "display_name": "Python 3 (ipykernel)",
   "language": "python",
   "name": "python3"
  },
  "language_info": {
   "codemirror_mode": {
    "name": "ipython",
    "version": 3
   },
   "file_extension": ".py",
   "mimetype": "text/x-python",
   "name": "python",
   "nbconvert_exporter": "python",
   "pygments_lexer": "ipython3",
   "version": "3.12.6"
  }
 },
 "nbformat": 4,
 "nbformat_minor": 5
}

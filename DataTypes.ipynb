{
 "cells": [
  {
   "cell_type": "markdown",
   "id": "fc1774a8-6262-4aa5-8f21-03cfb968a9e5",
   "metadata": {},
   "source": [
    "# Data Types"
   ]
  },
  {
   "cell_type": "markdown",
   "id": "4fbf5c49-b493-400f-81b1-6ae612a803ea",
   "metadata": {},
   "source": [
    "# Primitive Data Types:\n",
    " 1. Integer\n",
    " 2. Float\n",
    " 3. String\n",
    " 4. Boolean\n",
    " 5. Complex\n",
    " \n",
    "# Composite Data Types:\n",
    " 1. List\n",
    " 2. Tuple\n",
    " 3. Dictionary (Maping datatype)\n",
    " 4. Set\n",
    "\n",
    "# Other data type\n",
    " 1. function/module\n",
    " 2. class\n",
    " 3. array\n",
    "\n",
    "# Python built-in datatype\n",
    " 1. None"
   ]
  },
  {
   "cell_type": "code",
   "execution_count": 5,
   "id": "3c7130f8-66ef-46f0-a45a-89d23eb861c7",
   "metadata": {},
   "outputs": [
    {
     "name": "stdout",
     "output_type": "stream",
     "text": [
      "10\n"
     ]
    }
   ],
   "source": [
    "a=10 #this is integer variavle\n",
    "print(a) "
   ]
  },
  {
   "cell_type": "code",
   "execution_count": 6,
   "id": "3f655f94-c39a-4858-af88-fc5d5ce3d315",
   "metadata": {},
   "outputs": [
    {
     "name": "stdout",
     "output_type": "stream",
     "text": [
      "5.34\n"
     ]
    }
   ],
   "source": [
    "b=5.34 #this is float value\n",
    "print(b)"
   ]
  },
  {
   "cell_type": "code",
   "execution_count": 7,
   "id": "383704bb-0ce3-4c2d-ba40-4f45c1ecc5ce",
   "metadata": {},
   "outputs": [
    {
     "name": "stdout",
     "output_type": "stream",
     "text": [
      "Hello python\n"
     ]
    }
   ],
   "source": [
    "c=\"Hello python\" # this is string values \n",
    "print(c)"
   ]
  },
  {
   "cell_type": "code",
   "execution_count": 8,
   "id": "6e2862bb-1783-40d4-b962-b7a133025472",
   "metadata": {},
   "outputs": [
    {
     "name": "stdout",
     "output_type": "stream",
     "text": [
      "(4+6j)\n"
     ]
    }
   ],
   "source": [
    "d=4+6j # this is complex value\n",
    "print(d)"
   ]
  },
  {
   "cell_type": "markdown",
   "id": "807e66f1-e838-46d3-95d3-a9078a8991f8",
   "metadata": {},
   "source": [
    "# Container datatypes"
   ]
  },
  {
   "cell_type": "markdown",
   "id": "e49a1a7a-3ad1-4558-a8e2-f7d593887e4b",
   "metadata": {},
   "source": [
    "# List"
   ]
  },
  {
   "cell_type": "code",
   "execution_count": 9,
   "id": "cfc931a3-74eb-4e03-9fac-1b4734460b3c",
   "metadata": {},
   "outputs": [
    {
     "name": "stdout",
     "output_type": "stream",
     "text": [
      "[1, 2, 3, 4, 'Hello', None]\n",
      "<class 'list'>\n",
      "2666246408256\n"
     ]
    }
   ],
   "source": [
    "lst=[1,2,3,4,\"Hello\",None]\n",
    "print(lst)\n",
    "print(type(lst))\n",
    "print(id(lst))"
   ]
  },
  {
   "cell_type": "markdown",
   "id": "41c54efa-a3b3-4f91-8668-bfaae3e822a2",
   "metadata": {},
   "source": [
    "**Rules to List**\n",
    "1. List is created in `[ ]`.\n",
    "2. List is order collect of data. \n",
    "3. List is hetrogenus type of data (hetrogenus for different data type and homogenus for sigle data type).\n",
    "4. List is a new table data type it can be changed.  "
   ]
  },
  {
   "cell_type": "markdown",
   "id": "273adc63-fc86-4e6a-abb3-c15037a267d2",
   "metadata": {},
   "source": [
    "# Tuple"
   ]
  },
  {
   "cell_type": "code",
   "execution_count": 10,
   "id": "1826329f-31e4-4057-8607-19c911e4c865",
   "metadata": {},
   "outputs": [
    {
     "name": "stdout",
     "output_type": "stream",
     "text": [
      "(1, 2, 3, 4, 5, 4.5, 'Hello', None)\n"
     ]
    },
    {
     "data": {
      "text/plain": [
       "tuple"
      ]
     },
     "execution_count": 10,
     "metadata": {},
     "output_type": "execute_result"
    }
   ],
   "source": [
    "T1 = (1,2,3,4,5,4.5,\"Hello\",None)\n",
    "print(T1)\n",
    "type(T1)"
   ]
  },
  {
   "cell_type": "markdown",
   "id": "635d211d-4793-4d1e-b81e-aadfc669c95c",
   "metadata": {},
   "source": [
    "**Rules to TUPLE**\n",
    "1. Tuple is create in round `( )`\n",
    "2. Tuple is a ordered collection of datatype \n",
    "3. It is imuteable(unchange) datatype \n",
    "4. Hetrogenus type of data (hetrogenus for different data type and homogenus for sigle data type)\n",
    "5. Tuple is fast then list because it can't be changed "
   ]
  },
  {
   "cell_type": "markdown",
   "id": "2c70e34a-803c-4900-afb7-3bed9bb20cb1",
   "metadata": {},
   "source": [
    "# Set"
   ]
  },
  {
   "cell_type": "code",
   "execution_count": 11,
   "id": "de76caf2-1ccb-4373-a9fa-87052dfd2420",
   "metadata": {},
   "outputs": [
    {
     "name": "stdout",
     "output_type": "stream",
     "text": [
      "{1, 2, 3, 3.444, 33, 'Hello', 44444}\n"
     ]
    },
    {
     "data": {
      "text/plain": [
       "set"
      ]
     },
     "execution_count": 11,
     "metadata": {},
     "output_type": "execute_result"
    }
   ],
   "source": [
    "s1 = {1,2,3,33,44444,3.444,\"Hello\",True}\n",
    "print(s1)\n",
    "type(s1)"
   ]
  },
  {
   "cell_type": "markdown",
   "id": "cf5766ed-b2e1-4e9d-a657-a925e8fc555e",
   "metadata": {},
   "source": [
    "**Rules for Set**\n",
    "1. Set in culy `{ }`\n",
    "2. Set is unorder collection type of data \n",
    "3. Set don't have duplicate item\n",
    "4. Set only have imuteable data type\n",
    "5. We don't able indexing in a set\n",
    "6. Set is muteable datatype"
   ]
  },
  {
   "cell_type": "markdown",
   "id": "a7f64d64-d4bb-4b27-b954-853f0ab20cf5",
   "metadata": {},
   "source": [
    "# Dictionary"
   ]
  },
  {
   "cell_type": "code",
   "execution_count": 12,
   "id": "c90bf4da-5cb2-4501-8c54-3cbf64810c15",
   "metadata": {},
   "outputs": [
    {
     "name": "stdout",
     "output_type": "stream",
     "text": [
      "{'Name': 'Mayank', 'Age': 20, 'Contact': 1234567890, 'Address': 'Delhi'}\n"
     ]
    }
   ],
   "source": [
    "D2={\n",
    "    \"Name\":\"Mayank\",\n",
    "    \"Age\":20,\n",
    "    \"Contact\":1234567890,\n",
    "    \"Address\":\"Delhi\"\n",
    "}\n",
    "print(D2)"
   ]
  },
  {
   "cell_type": "markdown",
   "id": "d6de5899-5594-43b1-a403-c5601c3b8fbb",
   "metadata": {},
   "source": [
    "**Rules for Dictionary**\n",
    "1. Dictionary is made in `{}`\n",
    "2. Dictionary is collection of key value pair, when each key is unique and maps to a specific values\n",
    "3. Dictionary is a order collection of data type\n",
    "4. keys are imuteable but value can mutable"
   ]
  },
  {
   "cell_type": "markdown",
   "id": "3f117923-56fd-4b4e-afc8-c5b8fa433fd5",
   "metadata": {},
   "source": [
    "# Indexing\n",
    "1. Positive indexing left to right\n",
    "   - Start with 0 and end with n-1\n",
    "3. Negative indexinng right to left\n",
    "   - Start with -1 and end with =-n"
   ]
  },
  {
   "cell_type": "code",
   "execution_count": 15,
   "id": "72710861-6f1a-47ee-9aa5-6b144169a10a",
   "metadata": {},
   "outputs": [
    {
     "name": "stdout",
     "output_type": "stream",
     "text": [
      "[23, 34, 34, 34, 324, 33]\n",
      "(23, 23, 23, 23, 23)\n"
     ]
    }
   ],
   "source": [
    "L1 = [23,34,34,34,324,33]\n",
    "T1 = (23,23,23,23,23)\n",
    "print(L1)\n",
    "print(T1)"
   ]
  },
  {
   "cell_type": "code",
   "execution_count": 16,
   "id": "f81c6d4e-5fee-4f5f-b315-13723568bab8",
   "metadata": {},
   "outputs": [
    {
     "name": "stdout",
     "output_type": "stream",
     "text": [
      "34\n",
      "23\n"
     ]
    }
   ],
   "source": [
    "print(L1[3])  # Positive indexing\n",
    "print(T1[2])"
   ]
  },
  {
   "cell_type": "code",
   "execution_count": 17,
   "id": "608b5942-7728-4b27-869e-8404d23f1460",
   "metadata": {},
   "outputs": [
    {
     "name": "stdout",
     "output_type": "stream",
     "text": [
      "34\n",
      "23\n"
     ]
    }
   ],
   "source": [
    "print(L1[-3])  # Negative indexing \n",
    "print(T1[-1])"
   ]
  },
  {
   "cell_type": "markdown",
   "id": "46a6941a-0f84-4d39-8f9a-ca8e2607f8fe",
   "metadata": {},
   "source": [
    "# To change index"
   ]
  },
  {
   "cell_type": "code",
   "execution_count": 19,
   "id": "d106af04-917e-4fb1-b712-f4a04d9647b7",
   "metadata": {},
   "outputs": [],
   "source": [
    "L1[2]=100\n",
    "L1[4]=\"Hello\"\n",
    "L1[-4]=\"Hello\""
   ]
  },
  {
   "cell_type": "code",
   "execution_count": 20,
   "id": "3eec67e3-e9c0-470f-9bc1-242690b5ee32",
   "metadata": {},
   "outputs": [
    {
     "name": "stdout",
     "output_type": "stream",
     "text": [
      "[23, 34, 'Hello', 34, 'Hello', 33]\n"
     ]
    }
   ],
   "source": [
    "print(L1)"
   ]
  },
  {
   "cell_type": "markdown",
   "id": "cb407998-c0af-477d-a04a-28d6ea7b3dca",
   "metadata": {},
   "source": [
    "# 2D List"
   ]
  },
  {
   "cell_type": "code",
   "execution_count": 21,
   "id": "62ee7f65-a3f1-484d-a564-90015cf52468",
   "metadata": {},
   "outputs": [
    {
     "name": "stdout",
     "output_type": "stream",
     "text": [
      "[[1, 2, 3, 4], [2, 3, 4, 5], [2, 4, 6, 8]]\n"
     ]
    },
    {
     "data": {
      "text/plain": [
       "list"
      ]
     },
     "execution_count": 21,
     "metadata": {},
     "output_type": "execute_result"
    }
   ],
   "source": [
    "L2=[[1,2,3,4],[2,3,4,5],[2,4,6,8]]\n",
    "print(L2)\n",
    "type(L2)"
   ]
  },
  {
   "cell_type": "code",
   "execution_count": 22,
   "id": "b0c627c8-612b-41e4-8d3f-b594d396f6c5",
   "metadata": {},
   "outputs": [
    {
     "data": {
      "text/plain": [
       "3"
      ]
     },
     "execution_count": 22,
     "metadata": {},
     "output_type": "execute_result"
    }
   ],
   "source": [
    "len(L2)"
   ]
  },
  {
   "cell_type": "markdown",
   "id": "4fbc8bbb-7c57-4fb7-93a7-ffa5984bda58",
   "metadata": {},
   "source": [
    "# String"
   ]
  },
  {
   "cell_type": "code",
   "execution_count": 23,
   "id": "f5233863-fabd-4d55-bcc6-212d7994d5e7",
   "metadata": {},
   "outputs": [],
   "source": [
    "S1= 'Hello Python'\n",
    "S2= \"Hello Python\"\n",
    "S3= '''Hello Python'''\n",
    "S4= \"\"\"Hello Python\"\"\""
   ]
  },
  {
   "cell_type": "code",
   "execution_count": 24,
   "id": "9db0b7b9-01ef-46d7-951a-94ba7a907714",
   "metadata": {},
   "outputs": [
    {
     "name": "stdout",
     "output_type": "stream",
     "text": [
      "Hello Python\n",
      "Hello Python\n",
      "Hello Python\n",
      "Hello Python\n"
     ]
    }
   ],
   "source": [
    "print(S1)\n",
    "print(S2)\n",
    "print(S3)\n",
    "print(S4)"
   ]
  },
  {
   "cell_type": "code",
   "execution_count": 25,
   "id": "959e792c-41c0-4c42-bb34-8310fb112933",
   "metadata": {},
   "outputs": [],
   "source": [
    "S2= \"Hello Python\""
   ]
  },
  {
   "cell_type": "code",
   "execution_count": 26,
   "id": "8b584ad6-ebce-469e-8da8-6a973a7e1547",
   "metadata": {},
   "outputs": [
    {
     "data": {
      "text/plain": [
       "'l'"
      ]
     },
     "execution_count": 26,
     "metadata": {},
     "output_type": "execute_result"
    }
   ],
   "source": [
    "S2[2]"
   ]
  },
  {
   "cell_type": "markdown",
   "id": "aa980881-651d-4863-8786-0efc95b1bee7",
   "metadata": {},
   "source": [
    "# Set"
   ]
  },
  {
   "cell_type": "code",
   "execution_count": 29,
   "id": "ce5cc38b-cd8b-4321-af40-b8a9627ca58a",
   "metadata": {},
   "outputs": [],
   "source": [
    "S2= {1,22,3,4}"
   ]
  },
  {
   "cell_type": "code",
   "execution_count": null,
   "id": "a44dba23-84d7-4e81-992b-3fb4c2e74190",
   "metadata": {},
   "outputs": [],
   "source": [
    "S2[2] # Not working in set"
   ]
  },
  {
   "cell_type": "markdown",
   "id": "fd5688c6-2632-47e9-b905-84b03874799d",
   "metadata": {},
   "source": [
    "# Dictionary"
   ]
  },
  {
   "cell_type": "code",
   "execution_count": 31,
   "id": "1e3049d8-ae29-4581-bfe9-556a5dcdc2ba",
   "metadata": {},
   "outputs": [],
   "source": [
    "D1={'A':10,'B':20,'C':30}"
   ]
  },
  {
   "cell_type": "code",
   "execution_count": 32,
   "id": "777c3d56-9802-4754-b71f-b51eca4dd34b",
   "metadata": {},
   "outputs": [
    {
     "data": {
      "text/plain": [
       "20"
      ]
     },
     "execution_count": 32,
     "metadata": {},
     "output_type": "execute_result"
    }
   ],
   "source": [
    "D1['B']"
   ]
  }
 ],
 "metadata": {
  "kernelspec": {
   "display_name": "Python 3 (ipykernel)",
   "language": "python",
   "name": "python3"
  },
  "language_info": {
   "codemirror_mode": {
    "name": "ipython",
    "version": 3
   },
   "file_extension": ".py",
   "mimetype": "text/x-python",
   "name": "python",
   "nbconvert_exporter": "python",
   "pygments_lexer": "ipython3",
   "version": "3.12.6"
  }
 },
 "nbformat": 4,
 "nbformat_minor": 5
}

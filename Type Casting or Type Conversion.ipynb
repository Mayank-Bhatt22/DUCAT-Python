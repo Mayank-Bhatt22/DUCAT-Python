{
 "cells": [
  {
   "cell_type": "markdown",
   "id": "8fa5bd1c-a745-4c5f-9d68-b6f2a81844f1",
   "metadata": {},
   "source": [
    "# Type Casting/Type Conversion\n",
    "1. Implicit\n",
    "2. Explicit"
   ]
  },
  {
   "cell_type": "code",
   "execution_count": null,
   "id": "fc206642-9cd0-44ae-99c5-990aee9794e8",
   "metadata": {},
   "outputs": [],
   "source": [
    "#  10+'10' "
   ]
  },
  {
   "cell_type": "markdown",
   "id": "1a7ba430-f8dc-4f6f-b5af-a1299d7d49b8",
   "metadata": {},
   "source": [
    "# Implicit"
   ]
  },
  {
   "cell_type": "code",
   "execution_count": 2,
   "id": "19521442-96cf-41f6-a665-9fdc8580889a",
   "metadata": {},
   "outputs": [
    {
     "data": {
      "text/plain": [
       "20.5"
      ]
     },
     "execution_count": 2,
     "metadata": {},
     "output_type": "execute_result"
    }
   ],
   "source": [
    "10+10.5"
   ]
  },
  {
   "cell_type": "code",
   "execution_count": 3,
   "id": "60c1711b-ff6a-498d-926b-3c75ccb7fa7b",
   "metadata": {},
   "outputs": [
    {
     "data": {
      "text/plain": [
       "5.2"
      ]
     },
     "execution_count": 3,
     "metadata": {},
     "output_type": "execute_result"
    }
   ],
   "source": [
    "10-4.8"
   ]
  },
  {
   "cell_type": "markdown",
   "id": "87f81ca5-3751-4a54-9a16-9c1e60e7b407",
   "metadata": {},
   "source": [
    "# Explitcit\n",
    "1. `int()`\n",
    "2. `str()`\n",
    "3. `float()`\n",
    "4. `bool()`\n",
    "5. `complex()`\n",
    "6. `list()`\n",
    "7. `tuple()`\n",
    "8. `set()`\n",
    "9. `dict()`\n",
    "10. `bin()`\n",
    "11. `oct()`\n",
    "12. `hex()` "
   ]
  },
  {
   "cell_type": "code",
   "execution_count": 4,
   "id": "1dab6234-292e-4c05-b294-157baa538ee6",
   "metadata": {},
   "outputs": [
    {
     "name": "stdout",
     "output_type": "stream",
     "text": [
      "100 <class 'str'>\n"
     ]
    }
   ],
   "source": [
    "s=str(100)\n",
    "print(s,type(s))"
   ]
  },
  {
   "cell_type": "code",
   "execution_count": 5,
   "id": "5bfd7f38-b75e-4e15-85ca-a6abde20fe53",
   "metadata": {},
   "outputs": [
    {
     "data": {
      "text/plain": [
       "str"
      ]
     },
     "execution_count": 5,
     "metadata": {},
     "output_type": "execute_result"
    }
   ],
   "source": [
    "d=str([1,3,5,7,])\n",
    "type(d)"
   ]
  },
  {
   "cell_type": "code",
   "execution_count": 1,
   "id": "a4e96a08-0fbe-4e8f-ab8d-3801ad9d63f3",
   "metadata": {},
   "outputs": [
    {
     "data": {
      "text/plain": [
       "34.0"
      ]
     },
     "execution_count": 1,
     "metadata": {},
     "output_type": "execute_result"
    }
   ],
   "source": [
    "float(34)"
   ]
  },
  {
   "cell_type": "code",
   "execution_count": 2,
   "id": "90ef0694-2642-48c0-a069-a7a44fadd66d",
   "metadata": {},
   "outputs": [
    {
     "data": {
      "text/plain": [
       "False"
      ]
     },
     "execution_count": 2,
     "metadata": {},
     "output_type": "execute_result"
    }
   ],
   "source": [
    "bool(0)"
   ]
  },
  {
   "cell_type": "code",
   "execution_count": 3,
   "id": "d321ffdb-d0ee-46dd-93f7-d276aa40b7aa",
   "metadata": {},
   "outputs": [
    {
     "data": {
      "text/plain": [
       "True"
      ]
     },
     "execution_count": 3,
     "metadata": {},
     "output_type": "execute_result"
    }
   ],
   "source": [
    "bool([0,0,0,0,0,0,0,0])"
   ]
  },
  {
   "cell_type": "code",
   "execution_count": 4,
   "id": "e69bba5c-389e-4d74-b3d9-70bb5b8bedc3",
   "metadata": {},
   "outputs": [
    {
     "data": {
      "text/plain": [
       "(43+0j)"
      ]
     },
     "execution_count": 4,
     "metadata": {},
     "output_type": "execute_result"
    }
   ],
   "source": [
    "complex(43)"
   ]
  },
  {
   "cell_type": "code",
   "execution_count": 5,
   "id": "ae958d89-2978-4c32-9f3e-67564d93893f",
   "metadata": {},
   "outputs": [
    {
     "data": {
      "text/plain": [
       "['s', 'a', 'n', 'd', 'e', 'e', 'p']"
      ]
     },
     "execution_count": 5,
     "metadata": {},
     "output_type": "execute_result"
    }
   ],
   "source": [
    "s='sandeep'\n",
    "list(s)"
   ]
  },
  {
   "cell_type": "code",
   "execution_count": 6,
   "id": "af302dcc-4600-4ce7-8550-97b5ef04f4a7",
   "metadata": {},
   "outputs": [
    {
     "data": {
      "text/plain": [
       "('s', 'a', 'n', 'd', 'e', 'e', 'p')"
      ]
     },
     "execution_count": 6,
     "metadata": {},
     "output_type": "execute_result"
    }
   ],
   "source": [
    "L=['s', 'a', 'n', 'd', 'e', 'e', 'p']\n",
    "tuple(L)"
   ]
  },
  {
   "cell_type": "code",
   "execution_count": 7,
   "id": "cf64e71c-c24b-492e-9f19-aed0cf6a3220",
   "metadata": {},
   "outputs": [
    {
     "data": {
      "text/plain": [
       "{'a', 'd', 'e', 'n', 'p', 's'}"
      ]
     },
     "execution_count": 7,
     "metadata": {},
     "output_type": "execute_result"
    }
   ],
   "source": [
    "set(L)"
   ]
  },
  {
   "cell_type": "code",
   "execution_count": 8,
   "id": "7b10edab-8026-4df4-b0c0-997c7e9ccc41",
   "metadata": {},
   "outputs": [
    {
     "data": {
      "text/plain": [
       "{'name': 'sandeep'}"
      ]
     },
     "execution_count": 8,
     "metadata": {},
     "output_type": "execute_result"
    }
   ],
   "source": [
    "dict(name=\"sandeep\")"
   ]
  },
  {
   "cell_type": "code",
   "execution_count": 9,
   "id": "dd7dcfe7-8853-44c3-a829-4cb3640c66bc",
   "metadata": {},
   "outputs": [
    {
     "data": {
      "text/plain": [
       "{'string': ['s', 'a', 'n', 'd', 'e', 'e', 'p']}"
      ]
     },
     "execution_count": 9,
     "metadata": {},
     "output_type": "execute_result"
    }
   ],
   "source": [
    "dict(string=L)"
   ]
  }
 ],
 "metadata": {
  "kernelspec": {
   "display_name": "Python 3 (ipykernel)",
   "language": "python",
   "name": "python3"
  },
  "language_info": {
   "codemirror_mode": {
    "name": "ipython",
    "version": 3
   },
   "file_extension": ".py",
   "mimetype": "text/x-python",
   "name": "python",
   "nbconvert_exporter": "python",
   "pygments_lexer": "ipython3",
   "version": "3.12.6"
  }
 },
 "nbformat": 4,
 "nbformat_minor": 5
}
